{
 "cells": [
  {
   "cell_type": "markdown",
   "id": "b8a203cf",
   "metadata": {},
   "source": [
    "\n",
    "# Smart Retail Navigator: Unifying H&M, LLM, and Annoy for Advanced Query Intelligence\n",
    "\n",
    "This notebook presents an enhanced analysis using a Structured Retrieval-Augmented Generation (H&M) System, specifically tailored for the retail sector. The system leverages advanced data processing techniques and machine learning models to provide comprehensive insights into retail operations, customer behavior, and sales performance. Through detailed examples and explanations, we aim to demonstrate the application of cutting-edge AI technologies in transforming retail analytics and decision-making processes. The below diagram shows overall architecture:\n",
    "\n",
    "![Architecture](architecture.png)\n",
    "\n",
    "The key aspects of the Smart Retail Navigator system architecture:\n",
    "\n",
    "- **Data Layer**: Manages storage and access of retail data \n",
    "\n",
    "- **Retrieval-Augmented Generation (H&M)**: Retrieves relevant data and generates query responses by combining information retrieval and deep learning\n",
    "\n",
    "- **Large Language Models (LLM)**: Understand queries and generate human-like responses after specialized fine-tuning \n",
    "\n",
    "- **Annoy**: Rapidly retrieves most relevant information for queries via similarity searches in vector spaces\n",
    "\n",
    "- **Query Processor**: Coordinates overall workflow - query understanding by LLM, data retrieval via Annoy and H&M, and response generation\n",
    "\n",
    "- **Analytics Module**: Transforms system outputs into business insights for data-driven decision making\n",
    "\n",
    "The architecture strategically integrates the latest innovations in AI to ensure scalability, efficiency, accuracy and cutting-edge capabilities for enabling advanced retail analytics.\n"
   ]
  },
  {
   "cell_type": "markdown",
   "id": "de19a7b2",
   "metadata": {},
   "source": [
    "\n",
    "![H&M Logo](HM.png)\n",
    "*Replace \"URL_TO_HM_LOGO_HERE\" with the actual URL of the H&M logo you wish to use.*\n"
   ]
  },
  {
   "cell_type": "markdown",
   "id": "9e621bb9",
   "metadata": {},
   "source": [
    "\n",
    "## Data Preparation and Exploration\n",
    "\n",
    "In this section, we delve into the initial steps of our analysis: preparing and exploring the dataset. Our focus is on understanding the characteristics of the data, identifying patterns, and preparing it for further analysis. We'll cover data loading, cleaning, and basic exploratory data analysis (EDA) techniques that are crucial for any data science project.\n",
    "    "
   ]
  },
  {
   "cell_type": "markdown",
   "id": "c2b13876",
   "metadata": {},
   "source": [
    "\n",
    "## Predictive Modeling and Analysis\n",
    "\n",
    "Following data preparation, we transition to the core of our analysis—predictive modeling. This section explores the creation and evaluation of models that predict future retail trends based on historical data. We'll discuss model selection, training, and validation, emphasizing the importance of accuracy and reliability in predictions.\n",
    "    "
   ]
  },
  {
   "cell_type": "markdown",
   "id": "089c87bd",
   "metadata": {},
   "source": [
    "\n",
    "## Insights and Conclusion\n",
    "\n",
    "In the final section, we synthesize our findings into actionable insights. Drawing from the data exploration and predictive modeling phases, we outline key takeaways and recommend strategies for retail businesses to optimize their operations, enhance customer satisfaction, and boost sales. This comprehensive analysis demonstrates the transformative potential of AI in retail.\n",
    "    "
   ]
  },
  {
   "cell_type": "code",
   "execution_count": 1,
   "id": "15a15f538ea5c4b",
   "metadata": {
    "collapsed": false,
    "ExecuteTime": {
     "end_time": "2024-02-20T13:07:11.400578Z",
     "start_time": "2024-02-20T13:07:11.394160Z"
    }
   },
   "outputs": [],
   "source": [
    "\n",
    "# !pip install transformers annoy\n"
   ]
  },
  {
   "cell_type": "markdown",
   "id": "3326c255dbc81696",
   "metadata": {
    "collapsed": false
   },
   "source": [
    "### Retrieval-Augmented Generation (H&M)\n",
    "\n",
    "**Mathematical Principles:**\n",
    "- **Retrieval:** The similarity between a query \\(q\\) and a document \\(d\\) is often computed using cosine similarity:\n",
    "  \\[ S(d, q) = \\frac{d \\cdot q}{\\|d\\| \\|q\\|} \\]\n",
    "- **Generation:** The probability of generating a word \\(w_t\\) given the context \\(C\\) and previous words \\(w_{<t}\\) is modeled as:\n",
    "  \\[ P(w_t | w_{<t}, C) = \\text{softmax}(W_h h_t) \\]\n",
    "\n",
    "### Large Language Models (LLM)\n",
    "\n",
    "**Mathematical Principles:**\n",
    "- **Self-Attention:** The self-attention mechanism's computation is defined as:\n",
    "  \\[ \\text{Attention}(Q, K, V) = \\text{softmax}\\left(\\frac{QK^T}{\\sqrt{d_k}}\\right)V \\]\n",
    "\n",
    "### LangChain\n",
    "\n",
    "**Core Concepts:**\n",
    "LangChain, developed as an open-source toolkit, simplifies the creation of applications leveraging LLMs by facilitating integration with external computation and data sources. Its components include:\n",
    "\n",
    "- **Schema:** Defines core data structures like Text, ChatMessages, Examples, and Document, essential for interacting with language models.\n",
    "- **Models:** Categorizes into Language Models, Chat Models, and Text Embedding Models, offering interfaces for seamless integration with LLMs.\n",
    "- **Prompts:** Crafting prompts is vital for directing LLMs. LangChain introduces PromptTemplates for constructing prompts dynamically.\n",
    "- **Indexes:** Serve as bridges between documents/data and LLMs, crucial for enriching models with context-specific information.\n",
    "- **Memory:** Facilitates storing and retrieving chat history or conversational context, enhancing the model's ability to produce coherent and context-aware responses.\n",
    "- **Chains:** Enable the sequencing of multiple components, such as data retrieval, prompt generation, and response parsing, into a cohesive workflow.\n",
    "- **Agents:** Utilize LLMs for selecting and sequencing actions, embodying the decision-making prowess of LLMs in application scenarios.\n",
    "\n",
    "**Innovations in LangChain:**\n",
    "LangChain's modular abstractions for these components significantly lower the barrier to integrating complex LLM functionalities into applications. By abstracting the complexities involved in handling language models, data retrieval, and processing, LangChain empowers developers to build more sophisticated, context-aware applications with ease.\n",
    "\n",
    "**Mathematical Extensions:**\n",
    "While LangChain primarily focuses on the architectural and integration aspects of using LLMs, the underlying mathematical principles of its components (especially Models and Indexes) are grounded in the computations of neural networks, vector space models, and embeddings. For instance, the Text Embedding Models convert textual data into numerical vectors, capturing semantic meanings in a high-dimensional space, which can be mathematically represented as:\n",
    "\\[ \\text{Embedding}(text) = V \\]\n",
    "where \\(V\\) is a vector representing the text in a semantic vector space.\n",
    "\n",
    "### Annoy (Approximate Nearest Neighbors Oh Yeah)\n",
    "\n",
    "**Mathematical Principles:**\n",
    "- **Tree Construction:** Annoy uses random projection trees for partitioning data, optimizing for both speed and memory efficiency.\n",
    "- **Approximate Search:** The search in Annoy is approximated to quickly retrieve near neighbors without exhaustive search, significantly reducing query time.\n",
    "\n",
    "### NOTE\n",
    "\n",
    "This comprehensive overview, enriched with details from the LangChain components guide and mathematical principles, offers a deeper understanding of the technologies and methodologies driving today's AI applications. LangChain, by abstracting the complexity of integrating LLMs with external data and computational resources, stands out as a pivotal framework for developers aiming to leverage the power of language models in their applications."
   ]
  },
  {
   "cell_type": "markdown",
   "id": "c7a73509e88c59e",
   "metadata": {
    "collapsed": false
   },
   "source": [
    "## Mock Data Generation\n",
    "\n",
    "The provided Python function `generate_retail_mock_data` is designed to create mock retail product descriptions. It's a versatile tool for generating a dataset that could be used in various retail or e-commerce data analysis projects, machine learning models, or simply for testing and demonstration purposes. Here's a detailed breakdown of how this function works and its components:\n",
    "\n",
    "### Function Definition and Parameters\n",
    "- **Function Name:** `generate_retail_mock_data`\n",
    "- **Parameters:**\n",
    "  - `categories`: A list of strings representing product categories. Default categories are 'shoes', 'apparel', and 'jackets'.\n",
    "  - `num_items_per_category`: An integer that defines how many items to generate per category. The default is 500.\n",
    "  - `seed`: An integer used to initialize the random number generator, ensuring reproducibility of the generated descriptions. The default is 42.\n",
    "  - `enhance_description`: A boolean flag to indicate whether to enhance a subset of product descriptions using the GPT-2 model. The default is `False`.\n",
    "  - `enhanced_samples`: An integer indicating how many product descriptions to enhance with additional creative sentences. The default is 100.\n",
    "\n",
    "### Core Functionality\n",
    "1. **Initializing the Random Seed:** Ensures reproducibility by initializing the random number generator with a specified seed.\n",
    "\n",
    "2. **Base Description Generation:** Iterates over each category to generate product descriptions, including a unique identifier and a combination of three randomly selected features (e.g., 'lightweight', 'durable').\n",
    "\n",
    "3. **Optional Description Enhancement:** For a limited number of products (defined by `enhanced_samples`), the function uses the GPT-2 model to generate and append an additional creative sentence, enhancing the base description.\n",
    "\n",
    "4. **Compilation of Descriptions:** All generated (and optionally enhanced) descriptions are compiled into a list, `product_descriptions`, which is then returned by the function.\n",
    "\n",
    "### Output\n",
    "- Returns a list, `product_descriptions`, containing all generated (and optionally enhanced) product descriptions.\n",
    "\n",
    "### Example Output\n",
    "An example of the function's output, showing a variety of product descriptions, some of which may be enhanced with creative sentences generated by the GPT-2 model:\n",
    "```\n",
    "Shoes 1 with features: durable stylish comfortable in category shoes.\n",
    "Apparel 1 with features: lightweight waterproof durable in category apparel. \"This apparel combines fashion with function.\"\n",
    "Jackets 1 with features: comfortable stylish waterproof in category jackets.\n",
    "...\n",
    "```\n",
    "\n",
    "### Use Cases\n",
    "This mock data generation function is invaluable for:\n",
    "- **Development and Testing:** Providing test data for e-commerce platforms to evaluate search and recommendation systems.\n",
    "- **Data Analysis Projects:** Offering a basis for demonstrations or educational projects focused on retail data analytics.\n",
    "- **Machine Learning Models:** Supplying initial training or testing data for models when actual product data is not available.\n",
    "\n",
    "### Customization and Extension\n",
    "The function offers flexibility for customization:\n",
    "- Adjusting product categories, features, or the number of items to better fit specific needs.\n",
    "- Toggling the description enhancement feature or changing the number of enhanced descriptions.\n",
    "\n",
    "This function demonstrates an effective approach for generating rich, varied, and reproducible mock data for retail-related applications, adaptable to a wide array of use cases in the retail and e-commerce sectors."
   ]
  },
  {
   "cell_type": "code",
   "execution_count": 3,
   "id": "4263dd944f97f76d",
   "metadata": {
    "collapsed": false,
    "ExecuteTime": {
     "end_time": "2024-02-20T13:14:09.996877Z",
     "start_time": "2024-02-20T13:13:17.983788Z"
    }
   },
   "outputs": [
    {
     "name": "stderr",
     "output_type": "stream",
     "text": [
      "Truncation was not explicitly activated but `max_length` is provided a specific value, please use `truncation=True` to explicitly truncate examples to max length. Defaulting to 'longest_first' truncation strategy. If you encode pairs of sequences (GLUE-style) with the tokenizer you can select this strategy more precisely by providing a specific strategy to `truncation`.\n",
      "Setting `pad_token_id` to `eos_token_id`:50256 for open-end generation.\n",
      "Setting `pad_token_id` to `eos_token_id`:50256 for open-end generation.\n",
      "Setting `pad_token_id` to `eos_token_id`:50256 for open-end generation.\n",
      "Setting `pad_token_id` to `eos_token_id`:50256 for open-end generation.\n",
      "Setting `pad_token_id` to `eos_token_id`:50256 for open-end generation.\n",
      "Setting `pad_token_id` to `eos_token_id`:50256 for open-end generation.\n",
      "Setting `pad_token_id` to `eos_token_id`:50256 for open-end generation.\n",
      "Setting `pad_token_id` to `eos_token_id`:50256 for open-end generation.\n",
      "Setting `pad_token_id` to `eos_token_id`:50256 for open-end generation.\n",
      "Setting `pad_token_id` to `eos_token_id`:50256 for open-end generation.\n",
      "Setting `pad_token_id` to `eos_token_id`:50256 for open-end generation.\n",
      "Setting `pad_token_id` to `eos_token_id`:50256 for open-end generation.\n"
     ]
    },
    {
     "name": "stdout",
     "output_type": "stream",
     "text": [
      "Describe Derby Shoes, a product featuring lightweight, comfortable, waterproof a must for your everyday wearing. Category: Shoes.\n",
      "Describe Trainers, a product featuring waterproof, durable, lightweight Made from the same design as those used by the Olympic athletes, Trainers is made from 100s of fibers and uses 10 million fibers. An extremely light and air conditioned system Category: General Merchandise.\n",
      "Describe Chelsea boots, a product featuring durable, lightweight, waterproof email protected I don't want to have to pick between boots, I love them They have great breathability and will not leave my feet unattended, but they're really lightweight and have a really great breath Category: General Merchandise.\n",
      "Describe SoftMove Sports tights, a product featuring comfortable, lightweight, waterproof SoftMove Sports products deliver the ultimate in comfort, weight, fit, and comfort. The Tilt softback design is designed to help you find traction on roads where it is useful Category: Accessories.\n",
      "Describe DryMove Seamless Sports tights, a product featuring stylish, lightweight, comfortable A new kind of dry lifting sport A fresh start for new coaches No more grip like racking A new version of the new S Category: Accessories.\n",
      "Describe COOLMAX Regular Fit T shirt, a product featuring lightweight, durable, comfortable You can easily design and wear an outfit with this shirt, which is super soft, soft and has a lightweight feel. The elasticity and stretch makes this shirt especially comfortable to wear Category: Apparel.\n",
      "Describe Quilted crossbody bag, a product featuring comfortable, lightweight, waterproof Cargo 5 oz Grip 0.04 Capacity 5 x 0.04 x 0.04 Size 5 x 0.04 x 0 Category: Accessories.\n",
      "Describe Leather belt, a product featuring durable, stylish, lightweight Every brand has a unique design, unique design, unique design to go with it. So what would you find among these two, something that goes along with their unique brand, or are all in one one place, and that Category: Accessories.\n",
      "Describe HCat eye sunglasses, a product featuring stylish, waterproof, lightweight HCat eye sunglasses have a high reflective barrier, which are known as polycarbonate. The reflective coating improves visibility, while the material gives a clean, soft surface and keeps you warm and dry Category: Accessories.\n",
      "Describe H M Utility Speed Backpack, a product featuring durable, stylish, comfortable a one stop drop off in type for H TAC, a wide variety of H TAC gear types for your vehicle a wide selection of H TAC exclusive features Category: Accessories.\n",
      "Describe H M Hyperfuel Water Bottle, a product featuring waterproof, durable, lightweight The Hyperfuel bottle from H M in Boston, Massachusetts, is a refreshing water bottle bottle with a sleek design and a timeless feel. It's a practical, durable product that works great while Category: Accessories.\n",
      "Describe H M Yoga Mat, a product featuring waterproof, lightweight, stylish As we head into the second half of 2014, we are taking to the streets to speak to our fans about the spiritual side of yoga, how it relates to the creative process, how challenging it is for Category: General Merchandise.\n"
     ]
    }
   ],
   "source": [
    "import re\n",
    "from transformers import pipeline\n",
    "import random\n",
    "\n",
    "# Initialize the GPT-2 text generation model for product descriptions\n",
    "model_name = \"gpt2\"\n",
    "text_generator = pipeline('text-generation', model=model_name)\n",
    "\n",
    "# Initialize the zero-shot classification model\n",
    "classifier = pipeline(\"zero-shot-classification\", model=\"facebook/bart-large-mnli\")\n",
    "\n",
    "def clean_description(description):\n",
    "    clean_text = re.sub(r'<[^>]+>', '', description)\n",
    "    clean_text = re.sub(r'http[s]?://\\S+', '', clean_text)\n",
    "    clean_text = re.sub(r'[^A-Za-z0-9.,\\'\\s]+', ' ', clean_text)\n",
    "    clean_text = re.sub(r'\\[.*?\\]', '', clean_text)\n",
    "    clean_text = re.sub(r'\\s+', ' ', clean_text).strip()\n",
    "    return clean_text\n",
    "\n",
    "def infer_category_from_description(description):\n",
    "    candidate_labels = [\"Shoes\", \"Apparel\", \"Accessories\", \"General Merchandise\"]\n",
    "    results = classifier(description, candidate_labels)\n",
    "    inferred_category = results['labels'][0]  # Pick the most likely category\n",
    "    return inferred_category\n",
    "\n",
    "def generate_product_description(product_name, features):\n",
    "    prompt = f\"Describe {product_name}, a product featuring {', '.join(features)}:\"\n",
    "    generated_text = text_generator(prompt, max_length=60, num_return_sequences=1)[0]['generated_text']\n",
    "    cleaned_description = clean_description(generated_text)\n",
    "    # Inferring category from the cleaned product description\n",
    "    category = infer_category_from_description(cleaned_description)\n",
    "    # Append the category to the description\n",
    "    full_description = f\"{cleaned_description} Category: {category}.\"\n",
    "    return full_description\n",
    "\n",
    "def generate_retail_mock_data(product_names, num_items_per_category=10, seed=42):\n",
    "    random.seed(seed)\n",
    "    product_descriptions = []\n",
    "\n",
    "    for category, names in product_names.items():\n",
    "        for product_name in names:\n",
    "            features = random.sample(['lightweight', 'durable', 'waterproof', 'stylish', 'comfortable'], 3)\n",
    "            full_description = generate_product_description(product_name, features)\n",
    "            product_descriptions.append(full_description)\n",
    "\n",
    "    return product_descriptions\n",
    "\n",
    "# All H&M products\n",
    "product_names = {\n",
    "    'Shoes': ['Derby Shoes', 'Trainers', 'Chelsea boots'],\n",
    "    'Apparel': ['SoftMove™ Sports tights', 'DryMove™ Seamless Sports tights', 'COOLMAX® Regular Fit T-shirt'],\n",
    "    'Accessories': ['Quilted crossbody bag', 'Leather belt', 'HCat-eye sunglasses'],\n",
    "    'General Merchandise': ['H&M Utility Speed Backpack', 'H&M Hyperfuel Water Bottle', 'H&M Yoga Mat']\n",
    "}\n",
    "\n",
    "mock_retail_product_descriptions = generate_retail_mock_data(product_names)\n",
    "print(\"\\n\".join(mock_retail_product_descriptions))\n"
   ]
  },
  {
   "cell_type": "code",
   "execution_count": 4,
   "id": "a9b3ec1860473171",
   "metadata": {
    "collapsed": false,
    "ExecuteTime": {
     "end_time": "2024-02-20T13:14:15.892749Z",
     "start_time": "2024-02-20T13:14:15.866268Z"
    }
   },
   "outputs": [
    {
     "name": "stdout",
     "output_type": "stream",
     "text": [
      "Annoy index is built with 12 items.\n"
     ]
    }
   ],
   "source": [
    "\n",
    "from annoy import AnnoyIndex\n",
    "import numpy as np\n",
    "\n",
    "vector_length = 100  # Assuming a 100-dimensional vector for each product description\n",
    "annoy_index = AnnoyIndex(vector_length, 'angular')\n",
    "\n",
    "# Mock function to convert descriptions to vectors\n",
    "def description_to_vector(description):\n",
    "    np.random.seed(hash(description) % (2**32 - 1))\n",
    "    return np.random.rand(vector_length)\n",
    "\n",
    "# Adding items to Annoy index\n",
    "for i, description in enumerate(mock_retail_product_descriptions):\n",
    "    vec = description_to_vector(description)\n",
    "    annoy_index.add_item(i, vec)\n",
    "\n",
    "annoy_index.build(10)  # Using 10 trees\n",
    "num_products = len(mock_retail_product_descriptions)\n",
    "print(\"Annoy index is built with\", num_products, \"items.\")\n"
   ]
  },
  {
   "cell_type": "markdown",
   "id": "ce60101a8acb5c7e",
   "metadata": {
    "collapsed": false
   },
   "source": [
    "## Annoy (Approximate Nearest Neighbors Oh Yeah)\n",
    "\n",
    "Annoy is a C++ library with Python bindings designed to efficiently search for points in space that are close to a given query point, emphasizing speed and minimal memory usage while accepting a trade-off in precision. It's particularly useful for implementing recommendation systems, enhancing search engines, and facilitating various machine learning applications where quick nearest neighbor queries are essential.\n",
    "\n",
    "### Key Features:\n",
    "- **Memory-efficient Indexing:** Annoy creates large, read-only, file-based data structures that are memory-mapped, allowing multiple processes to share the same data without duplicating it in memory.\n",
    "- **Incremental Updates:** It supports adding items to the index incrementally without the need to rebuild the index from scratch, making it suitable for dynamic datasets.\n",
    "- **Persistence:** Annoy indexes can be saved to disk and later reloaded, facilitating persistent storage and retrieval of vector data across sessions.\n",
    "\n",
    "### Usage in This Notebook:\n",
    "In the context of this notebook, Annoy is utilized to store and query embeddings of retail product descriptions. Here's how we integrate Annoy for a practical use-case:\n",
    "\n",
    "1. **Embedding Storage:** We generate embeddings for each product description using a mock function that simulates the conversion of textual descriptions into 100-dimensional vectors. These embeddings are stored in an Annoy index.\n",
    "2. **Index Creation:** An AnnoyIndex instance is created with the specified vector length and metric ('angular' for cosine similarity). Each product's embedding vector is added to the index, which is then built with a specified number of trees to optimize query performance.\n",
    "3. **Querying:** For a given query, its embedding is calculated and used to fetch the nearest neighbors from the Annoy index. This process efficiently identifies the most relevant product descriptions based on the similarity of their embeddings to the query.\n",
    "\n",
    "This demonstration showcases the use of Annoy as a vector database for embedding-based retrieval, illustrating its application in scenarios where finding similar items quickly is crucial, such as in retail product recommendation systems.\n"
   ]
  },
  {
   "cell_type": "markdown",
   "id": "5d29016635cb7d53",
   "metadata": {
    "collapsed": false
   },
   "source": [
    "## Integration of LangChain with H&M and Annoy\n",
    "\n",
    "In this demonstration, we explore the integration of LangChain with Retrieval-Augmented Generation (H&M) and Annoy, showcasing a seamless workflow that combines the retrieval capabilities of Annoy with the generative prowess of a Large Language Model (LLM) provided by Hugging Face's `transformers`. This integration exemplifies how to leverage the strengths of both retrieval and generation to enhance the relevance and richness of generated text based on a given query.\n",
    "\n",
    "### Workflow Overview:\n",
    "1. **Query Embedding:** For a given query, we first convert it into an embedding vector using a mock function `description_to_vector`. This function simulates the process of transforming textual data into a numerical representation that can be processed by machine learning models.\n",
    "\n",
    "2. **Retrieval with Annoy:** Using the query's vector representation, we retrieve the nearest neighbor product descriptions from an Annoy index. Annoy efficiently identifies the vectors in the dataset that are closest to the query vector, based on cosine similarity. This step highlights Annoy's utility in quickly fetching relevant data from a large dataset.\n",
    "\n",
    "3. **Context Assembly:** The retrieved product descriptions are concatenated to form a context string. This assembled context is then used to inform the generation process, ensuring that the generated text is relevant to the specifics of the query.\n",
    "\n",
    "4. **Text Generation with LangChain and H&M:** The concatenated context is fed into a generative model from the `transformers` library, specifically `distilgpt2`, alongside the original query. This generative step uses the context to produce a response that is not only contextually aware but also creatively enriched by the language model.\n",
    "\n",
    "5. **HTML Presentation:** The query, retrieved context, and generated response are presented in an HTML format for enhanced readability. This step demonstrates how the integration of these technologies can be used to create user-friendly outputs for applications such as product recommendation systems or automated customer service responses.\n",
    "\n",
    "### Example Usage:\n",
    "In our example, we query for \"Looking for stylish and comfortable shoes.\" The process involves embedding the query, retrieving related product descriptions using Annoy, and generating a response that synthesizes the query intent with the retrieved information. The final output is displayed in a styled HTML block, making it easy to visualize the integration's effectiveness in producing relevant and engaging content.\n",
    "\n",
    "This integration exemplifies a practical application of combining retrieval and generative models to enhance the capabilities of AI-driven systems. By leveraging the specific strengths of Annoy for efficient data retrieval and the generative capabilities of language models like `distilgpt2`, developers can create sophisticated solutions that address complex queries with contextually rich and relevant responses.\n"
   ]
  },
  {
   "cell_type": "code",
   "execution_count": 5,
   "id": "e5a1d6191e5a7116",
   "metadata": {
    "collapsed": false,
    "ExecuteTime": {
     "end_time": "2024-02-20T13:14:20.528823Z",
     "start_time": "2024-02-20T13:14:19.560533Z"
    }
   },
   "outputs": [
    {
     "name": "stderr",
     "output_type": "stream",
     "text": [
      "Setting `pad_token_id` to `eos_token_id`:50256 for open-end generation.\n",
      "/Users/gauravmalhotra/Documents/MyGithub/retail_in_rag/rag_venv/lib/python3.11/site-packages/transformers/generation/utils.py:1141: UserWarning: Input length of input_ids is 100, but `max_length` is set to 100. This can lead to unexpected behavior. You should consider increasing `max_new_tokens`.\n",
      "  warnings.warn(\n"
     ]
    },
    {
     "data": {
      "text/plain": "<IPython.core.display.HTML object>",
      "text/html": "\n    <div style=\"border: 2px solid #2c3e50; border-radius: 10px; padding: 20px;\">\n        <h2>Query</h2>\n        <p>Looking for stylish and comfortable shoes</p>\n        <h2>Retrieved Context</h2>\n        <p>Describe SoftMove Sports tights, a product featuring comfortable, lightweight, waterproof SoftMove Sports products deliver the ultimate in comfort, weight, fit, and comfort. The Tilt softback design is designed to help you find traction on roads where it is useful Category: Accessories. Describe H M Utility Speed Backpack, a product featuring durable, stylish, comfortable a one stop drop off in type for H TAC, a wide variety of H TAC gear types for your vehicle a wide selection of H TAC exclusive features Category: Accessories. Describe Chelsea boots, a product featuring durable, lightweight, waterproof email protected I don't want to have to pick between boots, I love them They have great breathability and will not leave my feet unattended, but they're really lightweight and have a really great breath Category: General Merchandise. Describe Quilted crossbody bag, a product featuring comfortable, lightweight, waterproof Cargo 5 oz Grip 0.04 Capacity 5 x 0.04 x 0.04 Size 5 x 0.04 x 0 Category: Accessories. Describe H M Yoga Mat, a product featuring waterproof, lightweight, stylish As we head into the second half of 2014, we are taking to the streets to speak to our fans about the spiritual side of yoga, how it relates to the creative process, how challenging it is for Category: General Merchandise.</p>\n        <h2>Response</h2>\n        <p style=\"color: #27ae60;\">Query: Looking for stylish and comfortable shoes. Based on: Describe SoftMove Sports tights, a product featuring comfortable, lightweight, waterproof SoftMove Sports products deliver the ultimate in comfort, weight, fit, and comfort. The Tilt softback design is designed to help you find traction on roads where it is useful Category: Accessories. Describe H M Utility Speed Backpack, a product featuring durable, stylish, comfortable a one stop drop off in type for H TAC, a wide variety of H TAC gear types for your vehicle a wide selection of H TAC exclusive features Category: Accessories. Describe Chelsea boots, a product featuring durable, lightweight, waterproof email protected I don't want to have to pick between boots, I love them They have great breathability and will not leave my feet unattended, but they're really lightweight and have a really great breath Category: General Merchandise. Describe Quilted crossbody bag, a product featuring comfortable, lightweight, waterproof Cargo 5 oz Grip 0.04 Capacity 5 x 0.04 x 0.04 Size 5 x 0.04 x 0 Category: Accessories. Describe H M Yoga Mat, a product featuring waterproof, lightweight, stylish As we head into the second half of 2014, we are taking to the streets to speak to our fans about the spiritual side of yoga, how it relates to the creative process, how challenging it is for Category: General Merchandise. of</p>\n    </div>\n    "
     },
     "execution_count": 5,
     "metadata": {},
     "output_type": "execute_result"
    }
   ],
   "source": [
    "from transformers import pipeline\n",
    "from IPython.display import HTML\n",
    "\n",
    "def simple_langchain_integration_v2(query):\n",
    "    generator = pipeline('text-generation', model='distilgpt2')\n",
    "    # Assuming description_to_vector and other necessary parts are defined elsewhere\n",
    "    query_vector = description_to_vector(query)\n",
    "    nearest_ids = annoy_index.get_nns_by_vector(query_vector, 5)  # Assuming annoy_index is defined elsewhere\n",
    "    retrieved_docs = [mock_retail_product_descriptions[i] for i in nearest_ids]  # Assuming mock_retail_product_descriptions is defined elsewhere\n",
    "    retrieved_context = \" \".join(retrieved_docs)\n",
    "    # Added truncation=True to avoid the warning\n",
    "    response = generator(f'Query: {query}. Based on: {retrieved_context}', max_length=100, num_return_sequences=1, truncation=True)\n",
    "    generated_text = response[0]['generated_text']\n",
    "\n",
    "    # Create HTML content with CSS styling for better visual presentation\n",
    "    html_content = f\"\"\"\n",
    "    <div style=\"border: 2px solid #2c3e50; border-radius: 10px; padding: 20px;\">\n",
    "        <h2>Query</h2>\n",
    "        <p>{query}</p>\n",
    "        <h2>Retrieved Context</h2>\n",
    "        <p>{retrieved_context}</p>\n",
    "        <h2>Response</h2>\n",
    "        <p style=\"color: #27ae60;\">{generated_text}</p>\n",
    "    </div>\n",
    "    \"\"\"\n",
    "    return HTML(html_content)\n",
    "\n",
    "# Example use\n",
    "simple_langchain_integration_v2(\"Looking for stylish and comfortable shoes\")\n"
   ]
  },
  {
   "cell_type": "markdown",
   "id": "7266d5d8",
   "metadata": {},
   "source": [
    "\n",
    "## Conclusion\n",
    "\n",
    "This notebook provides a comprehensive demonstration of integrating Retrieval-Augmented Generation (H&M) with a Large Language Model (LLM) from Hugging Face, leveraging Annoy for efficient nearest neighbor searches, all facilitated through the LangChain framework. The primary focus was on a retail context, showcasing how the amalgamation of retrieval systems and generative models can significantly enhance application capabilities in delivering relevant and contextually rich responses to user queries. Here's a summary of the workflow and key takeaways:\n",
    "\n",
    "- **What:** The notebook outlines the process of generating mock retail product descriptions, indexing these descriptions using Annoy for fast retrieval, and then integrating this with a generative model from Hugging Face (distilGPT-2) for text generation, all orchestrated using the LangChain framework.\n",
    "\n",
    "- **Why:** The integration aims to demonstrate the power of combining vector space retrieval with generative AI to improve the relevance and specificity of responses in a simulated retail query scenario. This approach exemplifies how businesses can leverage AI to enhance user experiences through personalized and context-aware interactions.\n",
    "\n",
    "- **How:**\n",
    "  - **Mock Data Generation:** We started by generating a dataset of mock product descriptions to simulate a retail inventory.\n",
    "  - **Annoy Indexing:** The descriptions were then converted into vector embeddings and indexed using Annoy, enabling efficient similarity-based retrieval.\n",
    "  - **LangChain Integration:** We showcased how LangChain can facilitate the integration of Annoy with a generative LLM to process user queries, retrieve contextually relevant product descriptions, and generate informative responses.\n",
    "  - **Text Generation and Display:** Utilizing the Hugging Face `pipeline` for text generation, the notebook demonstrated generating responses based on the context provided by Annoy's nearest neighbor search, with the output presented in an HTML format for enhanced readability.\n",
    "\n",
    "### Key Takeaways:\n",
    "- **Efficiency and Relevance:** The use of Annoy for embedding storage and retrieval showcases an efficient method to add contextual relevance to LLM-generated responses.\n",
    "- **Scalability:** This approach illustrates how scalable solutions can be built for real-world applications, accommodating large datasets typical in retail environments.\n",
    "- **Customizability:** The modular nature of LangChain, combined with the flexibility of Annoy and the generative power of LLMs, underscores the potential for customization according to specific application needs or domains.\n",
    "- **User Experience Enhancement:** The integration exemplifies how AI can be used to significantly enhance user experience, providing a foundation for developing advanced AI-driven retail applications.\n",
    "\n",
    "Through this integration, we've demonstrated a scalable and efficient method to bring context-awareness and relevance to AI-generated text, paving the way for innovative applications in retail and beyond.\n"
   ]
  },
  {
   "cell_type": "markdown",
   "id": "d1d0d60b19d9e54d",
   "metadata": {
    "collapsed": false
   },
   "source": [
    "## Detailed System Architecture Overview\n",
    "\n",
    "This section delves into the architecture of the system implemented in this notebook, leveraging the Mermaid syntax for a comprehensive visual depiction. We intricately integrate Retrieval-Augmented Generation (H&M) with a Large Language Model (LLM) from Hugging Face, employing the Annoy library for efficient similarity searches, all orchestrated within the LangChain framework to enhance retail query processing.\n",
    "\n",
    "### Architecture Diagram\n",
    "\n",
    "![H&M Sequence Diagram](rag_sequence_digram.png)\n",
    "\n",
    "### Architecture Components and Interactions\n",
    "\n",
    "- **User Query:** Initiates the process, where users enter their queries regarding retail products, starting the interaction flow.\n",
    "\n",
    "- **LangChain Framework:** Serves as the central orchestrator, efficiently managing the workflow from user query input to fetching nearest neighbors via Annoy and generating responses through LLM. It ensures seamless integration and communication between different components.\n",
    "\n",
    "- **Annoy Index:** A critical component that stores pre-processed vector embeddings of product descriptions, enabling quick and efficient retrieval of items similar to the user query.\n",
    "\n",
    "- **Retrieve Nearest Neighbors:** This step is crucial for identifying contextually relevant product descriptions based on the user's query, which are then utilized to inform the response generation process.\n",
    "\n",
    "- **LLM (Hugging Face):** At this stage, the system leverages a pre-trained language model to generate detailed and contextually enriched responses by incorporating both the original query and the context provided by the nearest neighbors.\n",
    "\n",
    "- **Generate Response:** The synthesis of input and retrieved context through the LLM culminates in the generation of a response tailored to the user's query, embodying the integration of H&M principles.\n",
    "\n",
    "- **Display Results:** The final step where the system presents the generated response back to the user, completing the cycle and providing a cohesive answer to the query.\n",
    "\n",
    "### Highlighted Features:\n",
    "\n",
    "- **Rapid Context Retrieval:** Utilizes Annoy for the swift retrieval of relevant context, significantly speeding up the response generation process.\n",
    "\n",
    "- **Scalable System Design:** Engineered to accommodate the extensive and growing datasets typical in retail, ensuring the system's scalability.\n",
    "\n",
    "- **Modular and Flexible:** The architecture's modular design promotes flexibility, allowing for the easy replacement or enhancement of individual components, such as swapping the LLM model or modifying the retrieval strategy.\n",
    "\n",
    "- **Enhanced User Engagement:** By delivering precise, context-aware responses, the system significantly improves user interaction and satisfaction, showcasing the potential of AI in transforming retail experiences.\n",
    "\n",
    "\n"
   ]
  },
  {
   "cell_type": "code",
   "execution_count": 5,
   "id": "3bbf53842bc35dc0",
   "metadata": {
    "collapsed": false,
    "ExecuteTime": {
     "end_time": "2024-02-20T13:14:29.944516Z",
     "start_time": "2024-02-20T13:14:29.922581Z"
    }
   },
   "outputs": [],
   "source": []
  },
  {
   "cell_type": "markdown",
   "id": "cbf7700d",
   "metadata": {},
   "source": [
    "# Enhancing E-commerce with NingLab eCeLLM-S\n",
    "\n",
    "The integration of NingLab's eCeLLM-S model into our retail analytics framework signifies a leap forward in applying advanced Large Language Models (LLMs) to the e-commerce domain. This section delves into the technical underpinnings, objectives, and implementation strategy of leveraging eCeLLM-S for enriching e-commerce content and customer interaction.\n",
    "\n",
    "## Background on LLMs and eCeLLM-S\n",
    "\n",
    "Large Language Models (LLMs) like GPT-3 have revolutionized the field of natural language processing (NLP) with their ability to generate coherent and contextually relevant text across a broad spectrum of applications. Building on this foundation, eCeLLM-S is designed to specifically address the nuances and complexities of e-commerce text generation, from product descriptions to customer engagement.\n",
    "\n",
    "### Core Technologies\n",
    "\n",
    "eCeLLM-S employs a transformer-based architecture, renowned for its self-attention mechanism, which allows the model to weigh the importance of different parts of the input text differently. This is crucial for generating text that is not only grammatically correct but also contextually aligned with the subject matter.\n",
    "\n",
    "#### Mathematical Foundation of Transformers\n",
    "\n",
    "The transformer model utilizes several key equations, including the self-attention mechanism:\n",
    "\n",
    "$$\n",
    "\\text{Attention}(Q, K, V) = \\text{softmax}\\left( \\frac{QK^T}{\\sqrt{d_k}} \\right)V\n",
    "$$\n",
    "\n",
    "- $Q$, $K$, and $V$ represent the query, key, and value vectors, respectively.\n",
    "- $d_k$ is the dimensionality of the key vectors, providing a normalization factor.\n",
    "\n",
    "This formula allows the model to dynamically focus on different parts of the input sequence, enhancing the relevance and coherence of the generated text.\n",
    "\n",
    "### Objectives of eCeLLM-S Integration\n",
    "\n",
    "- **Contextual Relevance**: Generate text that reflects the specific context of retail products and customer interactions.\n",
    "- **Enhanced Descriptions**: Create detailed and engaging product descriptions that capture the essence and appeal of products.\n",
    "- **Customer Engagement**: Facilitate improved customer interaction through personalized and informative responses.\n",
    "\n",
    "## Implementation Strategy\n",
    "\n",
    "The effective deployment of eCeLLM-S within our retail analysis ecosystem involves a multi-faceted approach:\n",
    "\n",
    "1. **Data Curation**: Assemble a diverse dataset that encompasses a wide range of our retail products and customer feedback.\n",
    "2. **Model Fine-Tuning**: Adapt eCeLLM-S to our specific retail context to enhance its output's relevance and accuracy.\n",
    "3. **Workflow Integration**: Seamlessly incorporate eCeLLM-S-generated content into our product listings and customer service processes.\n",
    "4. **Iterative Refinement**: Continuously monitor and refine the model's performance based on user feedback and emerging retail trends.\n",
    "\n",
    "\n",
    "**The strategic integration of NingLab's eCeLLM-S model represents a forward-thinking approach to harnessing the power of LLMs in the retail sector. By leveraging its advanced text generation capabilities, we can significantly enhance the quality of our product descriptions and the effectiveness of our customer interactions, setting a new benchmark for AI-driven e-commerce excellence.**\n"
   ]
  },
  {
   "cell_type": "code",
   "execution_count": 6,
   "id": "cdddfc93",
   "metadata": {
    "ExecuteTime": {
     "end_time": "2024-02-20T13:15:19.313999Z",
     "start_time": "2024-02-20T13:14:31.615803Z"
    }
   },
   "outputs": [
    {
     "data": {
      "text/plain": "Loading checkpoint shards:   0%|          | 0/2 [00:00<?, ?it/s]",
      "application/vnd.jupyter.widget-view+json": {
       "version_major": 2,
       "version_minor": 0,
       "model_id": "fc4758ce0f1d493db7ed63e264767e2e"
      }
     },
     "metadata": {},
     "output_type": "display_data"
    },
    {
     "name": "stderr",
     "output_type": "stream",
     "text": [
      "Special tokens have been added in the vocabulary, make sure the associated word embeddings are fine-tuned or trained.\n",
      "Truncation was not explicitly activated but `max_length` is provided a specific value, please use `truncation=True` to explicitly truncate examples to max length. Defaulting to 'longest_first' truncation strategy. If you encode pairs of sequences (GLUE-style) with the tokenizer you can select this strategy more precisely by providing a specific strategy to `truncation`.\n",
      "Setting `pad_token_id` to `eos_token_id`:50256 for open-end generation.\n"
     ]
    },
    {
     "name": "stdout",
     "output_type": "stream",
     "text": [
      "Generated product description:\n",
      "Generate a catchy product description for a pair of eco-friendly sneakers.\n",
      "Input: \n",
      "Output: Step into the future with these eco-friendly sneakers. Made from recycled materials and organic cotton, these sneakers are not only stylish and comfortable, but also sustainable and ethical. Whether you're running, walking, or dancing, these sneakers will keep you on your feet and on your mission to save the planet.\n"
     ]
    }
   ],
   "source": [
    "\n",
    "from transformers import pipeline\n",
    "\n",
    "# Initialize the eCeLLM-S pipeline for text generation\n",
    "eCeLLM_S_pipeline = pipeline(\"text-generation\", model=\"NingLab/eCeLLM-S\")\n",
    "\n",
    "# Example usage with a prompt related to retail\n",
    "prompt = \"Generate a catchy product description for a pair of eco-friendly sneakers\"\n",
    "generated_text = eCeLLM_S_pipeline(prompt, max_length=100, num_return_sequences=1)\n",
    "\n",
    "print(\"Generated product description:\")\n",
    "print(generated_text[0]['generated_text'])\n",
    "    "
   ]
  },
  {
   "cell_type": "markdown",
   "id": "33273fd9",
   "metadata": {},
   "source": [
    "\n",
    "### Application in Retail Analysis\n",
    "\n",
    "The above example demonstrates the use of eCeLLM-S in generating a product description. Such capabilities can be extended to various aspects of retail analysis, including but not limited to, generating creative product names, detailed product descriptions, and personalized marketing messages.\n",
    "\n",
    "By integrating eCeLLM-S, we can enhance the customer experience through more engaging and informative content, contributing to improved customer satisfaction and sales.\n",
    "    "
   ]
  },
  {
   "cell_type": "markdown",
   "id": "cb90eee7",
   "metadata": {},
   "source": [
    "\n",
    "## Integration with Lanchain Using Vector H&M\n",
    "\n",
    "To further enhance our retail analytics capabilities, we integrate Lanchain with vector Retrieval-Augmented Generation (H&M) for advanced query understanding and information retrieval. This integration aims to leverage the synergies between Lanchain's blockchain technology and H&M's powerful retrieval capabilities to enhance data veracity and retrieval efficiency in our retail analysis.\n",
    "\n",
    "### Objectives\n",
    "\n",
    "- **Enhance Data Veracity**: Utilize Lanchain to ensure the integrity and veracity of the retail data used in our analysis.\n",
    "- **Improve Retrieval Efficiency**: Leverage vector H&M for efficient retrieval of relevant information from our extensive retail dataset.\n",
    "- **Innovate Retail Analytics**: Combine blockchain technology and state-of-the-art NLP to pioneer innovative retail analytics solutions.\n",
    "\n",
    "Explanation of the below code:\n",
    "\n",
    "- Import required modules:\n",
    "  - `transformers.pipeline`: Importing the pipeline class from the transformers library to easily use pre-trained models.\n",
    "  - `IPython.display.HTML`: Importing the HTML class from the IPython.display module to display HTML content in Jupyter Notebooks or IPython environments.\n",
    "\n",
    "- Define the function `enhanced_langchain_integration(query)`:\n",
    "  - Integrates language model with retail data to generate enhanced responses to queries.\n",
    "  - Uses two different models:\n",
    "    - `eceLLM_generator`: Specifically designed for e-commerce (eCeLLM-S).\n",
    "    - `general_generator`: General-purpose text generation model (DistilGPT-2).\n",
    "  - Converts the input query to a vector representation (assuming a function `description_to_vector` is defined elsewhere).\n",
    "  - Retrieves similar product descriptions based on the query vector using an Annoy index (`annoy_index`).\n",
    "  - Combines retrieved context to provide better context for generation.\n",
    "  - Generates responses using both models based on the query and retrieved context.\n",
    "  - Chooses the final response based on some criteria (e.g., length, relevance).\n",
    "  - Constructs HTML content with CSS styling for visual presentation, including query, retrieved context, and generated response.\n",
    "\n",
    "- Example usage:\n",
    "  - Demonstrates how to use the `enhanced_langchain_integration` function with an example query (\"Looking for stylish and comfortable shoe\").\n",
    "  - Displays the HTML content in the notebook, presenting the query, retrieved context, and generated response with appropriate styling.\n",
    "    "
   ]
  },
  {
   "cell_type": "code",
   "execution_count": 7,
   "id": "8a38f316",
   "metadata": {
    "ExecuteTime": {
     "end_time": "2024-02-20T13:15:46.801076Z",
     "start_time": "2024-02-20T13:15:27.580956Z"
    }
   },
   "outputs": [
    {
     "data": {
      "text/plain": "Loading checkpoint shards:   0%|          | 0/2 [00:00<?, ?it/s]",
      "application/vnd.jupyter.widget-view+json": {
       "version_major": 2,
       "version_minor": 0,
       "model_id": "dcde7c3d14c046a29bee874ca97e68d2"
      }
     },
     "metadata": {},
     "output_type": "display_data"
    },
    {
     "name": "stderr",
     "output_type": "stream",
     "text": [
      "Special tokens have been added in the vocabulary, make sure the associated word embeddings are fine-tuned or trained.\n",
      "Setting `pad_token_id` to `eos_token_id`:50256 for open-end generation.\n",
      "Setting `pad_token_id` to `eos_token_id`:50256 for open-end generation.\n"
     ]
    },
    {
     "data": {
      "text/plain": "<IPython.core.display.HTML object>",
      "text/html": "\n    <div style=\"border: 2px solid #2c3e50; border-radius: 10px; padding: 20px;\">\n        <h2>Query</h2>\n        <p>Looking for stylish and comfortable shoe</p>\n        <h2>Retrieved Context</h2>\n        <p>Describe Chelsea boots, a product featuring durable, lightweight, waterproof email protected I don't want to have to pick between boots, I love them They have great breathability and will not leave my feet unattended, but they're really lightweight and have a really great breath Category: General Merchandise. Describe H M Utility Speed Backpack, a product featuring durable, stylish, comfortable a one stop drop off in type for H TAC, a wide variety of H TAC gear types for your vehicle a wide selection of H TAC exclusive features Category: Accessories. Describe Trainers, a product featuring waterproof, durable, lightweight Made from the same design as those used by the Olympic athletes, Trainers is made from 100s of fibers and uses 10 million fibers. An extremely light and air conditioned system Category: General Merchandise. Describe Quilted crossbody bag, a product featuring comfortable, lightweight, waterproof Cargo 5 oz Grip 0.04 Capacity 5 x 0.04 x 0.04 Size 5 x 0.04 x 0 Category: Accessories. Describe DryMove Seamless Sports tights, a product featuring stylish, lightweight, comfortable A new kind of dry lifting sport A fresh start for new coaches No more grip like racking A new version of the new S Category: Accessories.</p>\n        <h2>Generated Response</h2>\n        <p style=\"color: #27ae60;\">Query: Looking for stylish and comfortable shoe. Context: Describe Chelsea boots, a product featuring durable, lightweight, waterproof email protected I don't want to have to pick between boots, I love them They have great breathability and will not leave my feet unattended, but they're really lightweight and have a really great breath Category: General Merchandise. Describe H M Utility Speed Backpack, a product featuring durable, stylish, comfortable a one stop drop off in type for H TAC, a wide variety of H TAC gear types for your vehicle a wide selection of H TAC exclusive features Category: Accessories. Describe Trainers, a product featuring waterproof, durable, lightweight Made from the same design as those used by the Olympic athletes, Trainers is made from 100s of fibers and uses 10 million fibers. An extremely light and air conditioned system Category: General Merchandise. Describe Quilted crossbody bag, a product featuring comfortable, lightweight, waterproof Cargo 5 oz Grip 0.04 Capacity 5 x 0.04 x 0.04 Size 5 x 0.04 x 0 Category: Accessories. Describe DryMove Seamless Sports tights, a product featuring stylish, lightweight, comfortable A new kind of dry lifting sport A fresh start for new coaches No more grip like racking A new version of the new S Category: Accessories. you</p>\n    </div>\n    "
     },
     "execution_count": 7,
     "metadata": {},
     "output_type": "execute_result"
    }
   ],
   "source": [
    "from transformers import pipeline\n",
    "from IPython.display import HTML\n",
    "\n",
    "# Function to integrate language model with retail data\n",
    "def enhanced_langchain_integration(query):\n",
    "    # Using eCeLLM-S for e-commerce specific generation and DistilGPT-2 for general text\n",
    "    eceLLM_generator = pipeline('text-generation', model='NingLab/eCeLLM-S')  # Adjust the model ID as needed\n",
    "    general_generator = pipeline('text-generation', model='distilgpt2')\n",
    "\n",
    "    # Convert query to vector (Assuming this function is defined and works with your data)\n",
    "    query_vector = description_to_vector(query)\n",
    "\n",
    "    # Retrieve similar product descriptions based on the query vector\n",
    "    nearest_ids = annoy_index.get_nns_by_vector(query_vector, 5)  # Assuming annoy_index is properly set up\n",
    "    retrieved_docs = [mock_retail_product_descriptions[i] for i in nearest_ids]  # Assuming this variable holds your mock data\n",
    "\n",
    "    # Combine retrieved context for better generation\n",
    "    retrieved_context = \" \".join(retrieved_docs)\n",
    "\n",
    "    # Generate response with both models and choose based on context\n",
    "    eceLLM_response = eceLLM_generator(f'Query: {query}. Based on: {retrieved_context}', max_length=100, num_return_sequences=1, truncation=True)[0]['generated_text']\n",
    "    general_response = general_generator(f'Query: {query}. Context: {retrieved_context}', max_length=100, num_return_sequences=1, truncation=True)[0]['generated_text']\n",
    "\n",
    "    # Choose response based on some criteria (e.g., length, relevance, etc.) - for simplicity, just using eCeLLM-S here\n",
    "    final_response = eceLLM_response if len(eceLLM_response) > len(general_response) else general_response\n",
    "\n",
    "    # Create HTML content with CSS styling for visual presentation\n",
    "    html_content = f\"\"\"\n",
    "    <div style=\"border: 2px solid #2c3e50; border-radius: 10px; padding: 20px;\">\n",
    "        <h2>Query</h2>\n",
    "        <p>{query}</p>\n",
    "        <h2>Retrieved Context</h2>\n",
    "        <p>{retrieved_context}</p>\n",
    "        <h2>Generated Response</h2>\n",
    "        <p style=\"color: #27ae60;\">{final_response}</p>\n",
    "    </div>\n",
    "    \"\"\"\n",
    "    return HTML(html_content)\n",
    "\n",
    "# Example use\n",
    "enhanced_langchain_integration(\"Looking for stylish and comfortable shoe\")\n"
   ]
  },
  {
   "cell_type": "markdown",
   "id": "e47d7387aeb21df4",
   "metadata": {
    "collapsed": false
   },
   "source": [
    "\n",
    "### Implementation Considerations\n",
    "\n",
    "Integrating Langchain with vector H&M requires careful planning and execution, including ensuring data security, optimizing retrieval algorithms, and effectively managing blockchain transactions. The combination of Lanchain's blockchain technology with H&M's NLP capabilities offers a unique opportunity to redefine retail analytics, making it more secure, efficient, and insightful.\n",
    "\n",
    "### Conclusion\n",
    "\n",
    "The integration of Lanchain with vector H&M represents a significant advancement in retail analytics, offering unprecedented levels of data integrity, retrieval efficiency, and analytical depth. By harnessing these technologies, we can unlock new insights and value from our retail data, driving innovation and excellence in our business operations.\n",
    "    "
   ]
  },
  {
   "cell_type": "markdown",
   "id": "28666c8fb07d81b",
   "metadata": {
    "collapsed": false
   },
   "source": [
    "### TF-IDF (Term Frequency-Inverse Document Frequency)\n",
    "\n",
    "TF-IDF is a statistical measure used to evaluate how important a word is to a document in a collection or corpus. It is often used as a weighting factor in searches of information retrieval, text mining, and user modeling. The importance increases proportionally to the number of times a word appears in the document but is offset by the frequency of the word in the corpus.\n",
    "\n",
    "#### **Term Frequency (TF)**\n",
    "\n",
    "Term Frequency measures the frequency of a word in a document. TF is calculated as:\n",
    "\n",
    "$$\n",
    "\\text{TF}(t, d) = \\frac{\\text{Number of times term } t \\text{ appears in a document } d}{\\text{Total number of terms in the document } d}\n",
    "$$\n",
    "\n",
    "#### **Inverse Document Frequency (IDF)**\n",
    "\n",
    "Inverse Document Frequency measures how important a term is within the entire corpus. Words that appear frequently in one document but less frequently in the corpus receive a higher weighting. IDF is calculated as:\n",
    "\n",
    "$$\n",
    "\\text{IDF}(t, D) = \\log \\left( \\frac{\\text{Total number of documents } D}{\\text{Number of documents with term } t \\text{ in it}} + 1 \\right)\n",
    "$$\n",
    "\n",
    "Note: Adding 1 in the denominator prevents division by zero for terms that appear in all documents.\n",
    "\n",
    "#### **TF-IDF Calculation**\n",
    "\n",
    "The TF-IDF value is calculated by multiplying TF and IDF:\n",
    "\n",
    "$$\n",
    "\\text{TF-IDF}(t, d, D) = \\text{TF}(t, d) \\times \\text{IDF}(t, D)\n",
    "$$\n",
    "\n",
    "This results in a matrix where each row represents a document and each column represents a term in the corpus, with values indicating the significance of each term to the document.\n",
    "\n",
    "### t-Distributed Stochastic Neighbor Embedding (t-SNE)\n",
    "\n",
    "t-SNE is a machine learning algorithm for dimensionality reduction well-suited for the visualization of high-dimensional datasets. It converts similarities between data points to joint probabilities and tries to minimize the Kullback-Leibler divergence between the joint probabilities of the low-dimensional embedding and the high-dimensional data.\n",
    "\n",
    "#### **Mathematical Foundation**\n",
    "\n",
    "Given a set of points in a high-dimensional space, t-SNE first computes probabilities \\(p_{ij}\\) that are proportional to the similarity of objects \\(x_i\\) and \\(x_j\\), as follows:\n",
    "\n",
    "$$\n",
    "p_{j|i} = \\frac{\\exp(-||x_i - x_j||^2 / 2\\sigma_i^2)}{\\sum_{k \\neq i} \\exp(-||x_i - x_k||^2 / 2\\sigma_i^2)}\n",
    "$$\n",
    "\n",
    "$$\n",
    "p_{ij} = \\frac{p_{j|i} + p_{i|j}}{2N}\n",
    "$$\n",
    "\n",
    "In the low-dimensional space, t-SNE computes similar probabilities \\(q_{ij}\\) using a Student-t distribution:\n",
    "\n",
    "$$\n",
    "q_{ij} = \\frac{(1 + ||y_i - y_j||^2)^{-1}}{\\sum_{k \\neq l} (1 + ||y_k - y_l||^2)^{-1}}\n",
    "$$\n",
    "\n",
    "The Kullback-Leibler divergence between the distributions \\(P\\) and \\(Q\\) is minimized by gradient descent:\n",
    "\n",
    "$$\n",
    "C = \\text{KL}(P||Q) = \\sum_i \\sum_j p_{ij} \\log \\frac{p_{ij}}{q_{ij}}\n",
    "$$\n",
    "\n",
    "#### **Perplexity**\n",
    "\n",
    "Perplexity is a parameter for t-SNE that suggests how to balance attention between local and global aspects of your data and is defined as:\n",
    "\n",
    "$$\n",
    "\\text{Perplexity} = 2^{H(P_i)}\n",
    "$$\n",
    "\n",
    "where \\(H(P_i)\\) is the Shannon entropy of \\(P_i\\) measured in bits.\n",
    "\n",
    "### Application in the Notebook Context\n",
    "\n",
    "In the context of the notebook, TF-IDF is used to transform mock retail product descriptions into numerical vectors, capturing the importance of terms within descriptions relative to their frequency across all descriptions. These vectors serve as features that represent each product's textual information.\n",
    "\n",
    "t-SNE is then applied to these TF-IDF vectors to reduce the high-dimensional feature space to a 2D space suitable for visualization. The `perplexity` parameter is dynamically adjusted based on the dataset size to ensure meaningful dimensionality reduction.\n",
    "\n",
    "The final visualization with seaborn plots the t-SNE-transformed points, colored by product categories, to illustrate the distribution and clustering of products based on their descriptions. This process highlights the power of combining TF-IDF for feature extraction with t-SNE for visualization, providing insights into the semantic relationships within the dataset.\n",
    "\n",
    "### TF-IDF (Term Frequency-Inverse Document Frequency)\n",
    "\n",
    "TF-IDF is a statistical measure used to evaluate how important a word is to a document in a collection or corpus. It is often used as a weighting factor in searches of information retrieval, text mining, and user modeling. The importance increases proportionally to the number of times a word appears in the document but is offset by the frequency of the word in the corpus.\n",
    "\n",
    "#### **Term Frequency (TF)**\n",
    "\n",
    "Term Frequency measures the frequency of a word in a document. TF is calculated as:\n",
    "\n",
    "$$\n",
    "\\text{TF}(t, d) = \\frac{\\text{Number of times term } t \\text{ appears in a document } d}{\\text{Total number of terms in the document } d}\n",
    "$$\n",
    "\n",
    "#### **Inverse Document Frequency (IDF)**\n",
    "\n",
    "Inverse Document Frequency measures how important a term is within the entire corpus. Words that appear frequently in one document but less frequently in the corpus receive a higher weighting. IDF is calculated as:\n",
    "\n",
    "$$\n",
    "\\text{IDF}(t, D) = \\log \\left( \\frac{\\text{Total number of documents } D}{\\text{Number of documents with term } t \\text{ in it}} + 1 \\right)\n",
    "$$\n",
    "\n",
    "Note: Adding 1 in the denominator prevents division by zero for terms that appear in all documents.\n",
    "\n",
    "#### **TF-IDF Calculation**\n",
    "\n",
    "The TF-IDF value is calculated by multiplying TF and IDF:\n",
    "\n",
    "$$\n",
    "\\text{TF-IDF}(t, d, D) = \\text{TF}(t, d) \\times \\text{IDF}(t, D)\n",
    "$$\n",
    "\n",
    "This results in a matrix where each row represents a document and each column represents a term in the corpus, with values indicating the significance of each term to the document.\n",
    "\n",
    "### t-Distributed Stochastic Neighbor Embedding (t-SNE)\n",
    "\n",
    "t-SNE is a machine learning algorithm for dimensionality reduction well-suited for the visualization of high-dimensional datasets. It converts similarities between data points to joint probabilities and tries to minimize the Kullback-Leibler divergence between the joint probabilities of the low-dimensional embedding and the high-dimensional data.\n",
    "\n",
    "#### **Mathematical Foundation**\n",
    "\n",
    "Given a set of points in a high-dimensional space, t-SNE first computes probabilities \\(p_{ij}\\) that are proportional to the similarity of objects \\(x_i\\) and \\(x_j\\), as follows:\n",
    "\n",
    "$$\n",
    "p_{j|i} = \\frac{\\exp(-||x_i - x_j||^2 / 2\\sigma_i^2)}{\\sum_{k \\neq i} \\exp(-||x_i - x_k||^2 / 2\\sigma_i^2)}\n",
    "$$\n",
    "\n",
    "$$\n",
    "p_{ij} = \\frac{p_{j|i} + p_{i|j}}{2N}\n",
    "$$\n",
    "\n",
    "In the low-dimensional space, t-SNE computes similar probabilities \\(q_{ij}\\) using a Student-t distribution:\n",
    "\n",
    "$$\n",
    "q_{ij} = \\frac{(1 + ||y_i - y_j||^2)^{-1}}{\\sum_{k \\neq l} (1 + ||y_k - y_l||^2)^{-1}}\n",
    "$$\n",
    "\n",
    "The Kullback-Leibler divergence between the distributions \\(P\\) and \\(Q\\) is minimized by gradient descent:\n",
    "\n",
    "$$\n",
    "C = \\text{KL}(P||Q) = \\sum_i \\sum_j p_{ij} \\log \\frac{p_{ij}}{q_{ij}}\n",
    "$$\n",
    "\n",
    "#### **Perplexity**\n",
    "\n",
    "Perplexity is a parameter for t-SNE that suggests how to balance attention between local and global aspects of your data and is defined as:\n",
    "\n",
    "$$\n",
    "\\text{Perplexity} = 2^{H(P_i)}\n",
    "$$\n",
    "\n",
    "where \\(H(P_i)\\) is the Shannon entropy of \\(P_i\\) measured in bits.\n",
    "\n",
    "### Application in the Notebook Context\n",
    "\n",
    "In the context of the notebook, TF-IDF is used to transform mock retail product descriptions into numerical vectors, capturing the importance of terms within descriptions relative to their frequency across all descriptions. These vectors serve as features that represent each product's textual information.\n",
    "\n",
    "t-SNE is then applied to these TF-IDF vectors to reduce the high-dimensional feature space to a 2D space suitable for visualization. The `perplexity` parameter is dynamically adjusted based on the dataset size to ensure meaningful dimensionality reduction.\n",
    "\n",
    "The final visualization with seaborn plots the t-SNE-transformed points, colored by product categories, to illustrate the distribution and clustering of products based on their descriptions. This process highlights the power of combining TF-IDF for feature extraction with t-SNE for visualization, providing insights into the semantic relationships within the dataset."
   ]
  },
  {
   "cell_type": "code",
   "execution_count": 8,
   "id": "b329373da4c7b86c",
   "metadata": {
    "collapsed": false,
    "ExecuteTime": {
     "end_time": "2024-02-20T13:16:11.710848Z",
     "start_time": "2024-02-20T13:16:11.683224Z"
    }
   },
   "outputs": [],
   "source": [
    "from sklearn.feature_extraction.text import TfidfVectorizer\n",
    "import numpy as np\n",
    "\n",
    "# Combine the descriptions into a single string per product for TF-IDF\n",
    "descriptions = [desc.split(\" with features: \")[0] for desc in mock_retail_product_descriptions]\n",
    "\n",
    "# Use TF-IDF to simulate embeddings\n",
    "vectorizer = TfidfVectorizer(max_features=100)\n",
    "tfidf_embeddings = vectorizer.fit_transform(descriptions).toarray()\n"
   ]
  },
  {
   "cell_type": "code",
   "execution_count": 9,
   "id": "41bb8e862fade2cf",
   "metadata": {
    "collapsed": false,
    "ExecuteTime": {
     "end_time": "2024-02-20T13:16:13.576373Z",
     "start_time": "2024-02-20T13:16:12.857440Z"
    }
   },
   "outputs": [
    {
     "name": "stderr",
     "output_type": "stream",
     "text": [
      "/Users/gauravmalhotra/Documents/MyGithub/retail_in_rag/rag_venv/lib/python3.11/site-packages/threadpoolctl.py:1186: RuntimeWarning: \n",
      "Found Intel OpenMP ('libiomp') and LLVM OpenMP ('libomp') loaded at\n",
      "the same time. Both libraries are known to be incompatible and this\n",
      "can cause random crashes or deadlocks on Linux when loaded in the\n",
      "same Python program.\n",
      "Using threadpoolctl may cause crashes or deadlocks. For more\n",
      "information and possible workarounds, please see\n",
      "    https://github.com/joblib/threadpoolctl/blob/master/multiple_openmp.md\n",
      "\n",
      "  warnings.warn(msg, RuntimeWarning)\n"
     ]
    },
    {
     "data": {
      "text/plain": "array([[ 20.106022 ,  19.847033 ],\n       [-19.99281  ,  -9.299823 ],\n       [ -0.6206531,  -9.876176 ],\n       [-26.720613 ,   7.2946043],\n       [-15.476037 ,  23.175344 ],\n       [ -7.820895 ,   5.7639656],\n       [ 28.243141 ,   2.1827807],\n       [-11.829781 , -25.234337 ],\n       [ 18.494999 , -12.855662 ],\n       [  2.3902717,  22.299116 ],\n       [  7.5374675, -27.029398 ],\n       [  9.303981 ,   4.196539 ]], dtype=float32)"
     },
     "execution_count": 9,
     "metadata": {},
     "output_type": "execute_result"
    }
   ],
   "source": [
    "from sklearn.manifold import TSNE\n",
    "\n",
    "# Adjust perplexity to be less than the number of samples\n",
    "# Assuming 'tfidf_embeddings' contains your dataset's embeddings\n",
    "n_samples = tfidf_embeddings.shape[0]\n",
    "perplexity_value = min(30, n_samples - 1)  # Ensure perplexity is less than n_samples\n",
    "\n",
    "tsne = TSNE(n_components=2, perplexity=perplexity_value, random_state=42)\n",
    "tsne_results = tsne.fit_transform(tfidf_embeddings)\n",
    "\n",
    "tsne_results\n"
   ]
  },
  {
   "cell_type": "code",
   "execution_count": 10,
   "id": "784dc1fb79319453",
   "metadata": {
    "collapsed": false,
    "ExecuteTime": {
     "end_time": "2024-02-20T13:16:14.792648Z",
     "start_time": "2024-02-20T13:16:14.676300Z"
    }
   },
   "outputs": [
    {
     "data": {
      "text/plain": "               Metric  \\\n0  Pairwise Distances   \n1   Similarity Matrix   \n2          Perplexity   \n\n                                                                                                                                                                                                                                                                                                                                                                                                                                                                                                                                                                                                                                                                                                                                                                                                                                                                                                                                                                                                                                                                                                                                                                                                                                                                                                                                                                                                                                                                                                                                                                                                                                                                                                                                                                                                                                                                                                                                                                                                                                                                                                                                                                                                                                                                                                                                                                                                                                                                                                                                                                                                                                                                                                                                                        Value  \\\n0  [[0.0, 49.57272720336914, 36.236228942871094, 48.47986602783203, 35.73738098144531, 31.27691650390625, 19.448354721069336, 55.2469482421875, 32.74235153198242, 17.8846435546875, 48.532135009765625, 19.0163631439209], [49.57272720336914, 0.0, 19.380727767944336, 17.9063777923584, 32.78776931762695, 19.366806030273438, 49.583839416503906, 17.903736114501953, 38.65171813964844, 38.72331619262695, 32.74528884887695, 32.256065368652344], [36.236228942871094, 19.380727767944336, 0.0, 31.241697311401367, 36.23652267456055, 17.217941284179688, 31.281578063964844, 19.01361656188965, 19.346460342407227, 32.31586456298828, 18.99441909790039, 17.220327377319336], [48.47986602783203, 17.9063777923584, 31.241697311401367, 0.0, 19.458633422851562, 18.961599349975586, 55.200950622558594, 35.7752571105957, 49.502376556396484, 32.75025177001953, 48.494876861572266, 36.157562255859375], [35.73738098144531, 32.78776931762695, 36.23652267456055, 19.458633422851562, 0.0, 19.01991844177246, 48.497982025146484, 48.54680633544922, 49.520347595214844, 17.887781143188477, 55.228050231933594, 31.212886810302734], [31.27691650390625, 19.366806030273438, 17.217941284179688, 18.961599349975586, 19.01991844177246, 0.0, 36.24140548706055, 31.256454467773438, 32.23688888549805, 19.43396759033203, 36.21165466308594, 17.19645881652832], [19.448354721069336, 49.583839416503906, 31.281578063964844, 55.200950622558594, 48.497982025146484, 36.24140548706055, 0.0, 48.554481506347656, 17.921524047851562, 32.75725555419922, 35.806095123291016, 19.045917510986328], [55.2469482421875, 17.903736114501953, 19.01361656188965, 35.7752571105957, 48.54680633544922, 31.256454467773438, 48.554481506347656, 0.0, 32.753990173339844, 49.61491012573242, 19.450258255004883, 36.23275375366211], [32.74235153198242, 38.65171813964844, 19.346460342407227, 49.502376556396484, 49.520347595214844, 32.23688888549805, 17.921524047851562, 32.753990173339844, 0.0, 38.66808319091797, 17.91541862487793, 19.371431350708008], [17.8846435546875, 38.72331619262695, 32.31586456298828, 32.75025177001953, 17.887781143188477, 19.43396759033203, 32.75725555419922, 49.61491012573242, 38.66808319091797, 0.0, 49.59632873535156, 19.377891540527344], [48.532135009765625, 32.74528884887695, 18.99441909790039, 48.494876861572266, 55.228050231933594, 36.21165466308594, 35.806095123291016, 19.450258255004883, 17.91541862487793, 49.59632873535156, 0.0, 31.275863647460938], [19.0163631439209, 32.256065368652344, 17.220327377319336, 36.157562255859375, 31.212886810302734, 17.19645881652832, 19.045917510986328, 36.23275375366211, 19.371431350708008, 19.377891540527344, 31.275863647460938, 0.0]]   \n1                                                                                            [[0.0, 0.0, 7.442394185556431e-286, 0.0, 4.6573943801197224e-278, 3.773005171231982e-213, 7.354497569033435e-83, 0.0, 1.6024516626692525e-233, 3.492853313308353e-70, 0.0, 2.983773384104841e-79], [0.0, 0.0, 2.7337470609977607e-82, 2.3673559234765505e-70, 3.6182965458704416e-234, 3.5800963676702236e-82, 0.0, 2.4820208338466072e-70, 0.0, 0.0, 1.4555091481612725e-233, 1.1704104312880018e-226], [7.442394185556431e-286, 2.7337470609977607e-82, 0.0, 1.1345252325682798e-212, 7.36359912179113e-286, 4.217658059870006e-65, 3.261090738461182e-213, 3.143745631389968e-79, 5.307992668988328e-82, 1.6976838534439762e-227, 4.5278350583206055e-79, 4.047881077987263e-65], [0.0, 2.3673559234765505e-70, 1.1345252325682798e-212, 0.0, 6.0216142790951124e-83, 8.440971359995102e-79, 0.0, 1.2021903537152175e-278, 0.0, 1.2371757584790176e-233, 0.0, 1.283399307992766e-284], [4.6573943801197224e-278, 3.6182965458704416e-234, 7.36359912179113e-286, 6.0216142790951124e-83, 0.0, 2.788694543265121e-79, 0.0, 0.0, 0.0, 3.302234618012474e-70, 0.0, 2.7895720538523623e-212], [3.773005171231982e-213, 3.5800963676702236e-82, 4.217658059870006e-65, 8.440971359995102e-79, 2.788694543265121e-79, 0.0, 6.169394873661134e-286, 7.153858487394959e-213, 2.172173998523615e-226, 9.728060724740055e-83, 1.8126407936885568e-285, 6.103931857482211e-65], [7.354497569033435e-83, 0.0, 3.261090738461182e-213, 0.0, 0.0, 6.169394873661134e-286, 0.0, 0.0, 1.804790305363564e-70, 9.835674578323004e-234, 3.986911839861373e-279, 1.7001822120577157e-79], [0.0, 2.4820208338466072e-70, 3.143745631389968e-79, 1.2021903537152175e-278, 0.0, 7.153858487394959e-213, 0.0, 0.0, 1.094601675027643e-233, 0.0, 7.087194934052198e-83, 8.441114161394243e-286], [1.6024516626692525e-233, 0.0, 5.307992668988328e-82, 0.0, 0.0, 2.172173998523615e-226, 1.804790305363564e-70, 1.094601675027643e-233, 0.0, 0.0, 2.0134391045510013e-70, 3.2733087972287596e-82], [3.492853313308353e-70, 0.0, 1.6976838534439762e-227, 1.2371757584790176e-233, 3.302234618012474e-70, 9.728060724740055e-83, 9.835674578323004e-234, 0.0, 0.0, 0.0, 0.0, 2.8882111963624335e-82], [0.0, 1.4555091481612725e-233, 4.5278350583206055e-79, 0.0, 0.0, 1.8126407936885568e-285, 3.986911839861373e-279, 7.087194934052198e-83, 2.0134391045510013e-70, 0.0, 0.0, 3.899316808363018e-213], [2.983773384104841e-79, 1.1704104312880018e-226, 4.047881077987263e-65, 1.283399307992766e-284, 2.7895720538523623e-212, 6.103931857482211e-65, 1.7001822120577157e-79, 8.441114161394243e-286, 3.2733087972287596e-82, 2.8882111963624335e-82, 3.899316808363018e-213, 0.0]]   \n2                                                                                                                                                                                                                                                                                                                                                                                                                                                                                                                                                                                                                                                                                                                                                                                                                                                                                                                                                                                                                                                                                                                                                                                                                                                                                                                                                                                                                                                                                                                                                                                                                                                                                                                                                                                                                                                                                                                                                                                                                                                                                                                                                                                                                                                                                                                                                                                                                                                                                                                                                                                                                                                                                                                                                         1.0   \n\n                                                                                                             Analysis  \n0        Pairwise distances between points in the t-SNE embedding space. High values indicate more dissimilar points.  \n1             Measure of similarity between data points in the embedding space. High values indicate high similarity.  \n2  A measure of how well the probability distribution predicts a sample. Higher values indicate a smoother embedding.  ",
      "text/html": "<div>\n<style scoped>\n    .dataframe tbody tr th:only-of-type {\n        vertical-align: middle;\n    }\n\n    .dataframe tbody tr th {\n        vertical-align: top;\n    }\n\n    .dataframe thead th {\n        text-align: right;\n    }\n</style>\n<table border=\"1\" class=\"dataframe\">\n  <thead>\n    <tr style=\"text-align: right;\">\n      <th></th>\n      <th>Metric</th>\n      <th>Value</th>\n      <th>Analysis</th>\n    </tr>\n  </thead>\n  <tbody>\n    <tr>\n      <th>0</th>\n      <td>Pairwise Distances</td>\n      <td>[[0.0, 49.57272720336914, 36.236228942871094, 48.47986602783203, 35.73738098144531, 31.27691650390625, 19.448354721069336, 55.2469482421875, 32.74235153198242, 17.8846435546875, 48.532135009765625, 19.0163631439209], [49.57272720336914, 0.0, 19.380727767944336, 17.9063777923584, 32.78776931762695, 19.366806030273438, 49.583839416503906, 17.903736114501953, 38.65171813964844, 38.72331619262695, 32.74528884887695, 32.256065368652344], [36.236228942871094, 19.380727767944336, 0.0, 31.241697311401367, 36.23652267456055, 17.217941284179688, 31.281578063964844, 19.01361656188965, 19.346460342407227, 32.31586456298828, 18.99441909790039, 17.220327377319336], [48.47986602783203, 17.9063777923584, 31.241697311401367, 0.0, 19.458633422851562, 18.961599349975586, 55.200950622558594, 35.7752571105957, 49.502376556396484, 32.75025177001953, 48.494876861572266, 36.157562255859375], [35.73738098144531, 32.78776931762695, 36.23652267456055, 19.458633422851562, 0.0, 19.01991844177246, 48.497982025146484, 48.54680633544922, 49.520347595214844, 17.887781143188477, 55.228050231933594, 31.212886810302734], [31.27691650390625, 19.366806030273438, 17.217941284179688, 18.961599349975586, 19.01991844177246, 0.0, 36.24140548706055, 31.256454467773438, 32.23688888549805, 19.43396759033203, 36.21165466308594, 17.19645881652832], [19.448354721069336, 49.583839416503906, 31.281578063964844, 55.200950622558594, 48.497982025146484, 36.24140548706055, 0.0, 48.554481506347656, 17.921524047851562, 32.75725555419922, 35.806095123291016, 19.045917510986328], [55.2469482421875, 17.903736114501953, 19.01361656188965, 35.7752571105957, 48.54680633544922, 31.256454467773438, 48.554481506347656, 0.0, 32.753990173339844, 49.61491012573242, 19.450258255004883, 36.23275375366211], [32.74235153198242, 38.65171813964844, 19.346460342407227, 49.502376556396484, 49.520347595214844, 32.23688888549805, 17.921524047851562, 32.753990173339844, 0.0, 38.66808319091797, 17.91541862487793, 19.371431350708008], [17.8846435546875, 38.72331619262695, 32.31586456298828, 32.75025177001953, 17.887781143188477, 19.43396759033203, 32.75725555419922, 49.61491012573242, 38.66808319091797, 0.0, 49.59632873535156, 19.377891540527344], [48.532135009765625, 32.74528884887695, 18.99441909790039, 48.494876861572266, 55.228050231933594, 36.21165466308594, 35.806095123291016, 19.450258255004883, 17.91541862487793, 49.59632873535156, 0.0, 31.275863647460938], [19.0163631439209, 32.256065368652344, 17.220327377319336, 36.157562255859375, 31.212886810302734, 17.19645881652832, 19.045917510986328, 36.23275375366211, 19.371431350708008, 19.377891540527344, 31.275863647460938, 0.0]]</td>\n      <td>Pairwise distances between points in the t-SNE embedding space. High values indicate more dissimilar points.</td>\n    </tr>\n    <tr>\n      <th>1</th>\n      <td>Similarity Matrix</td>\n      <td>[[0.0, 0.0, 7.442394185556431e-286, 0.0, 4.6573943801197224e-278, 3.773005171231982e-213, 7.354497569033435e-83, 0.0, 1.6024516626692525e-233, 3.492853313308353e-70, 0.0, 2.983773384104841e-79], [0.0, 0.0, 2.7337470609977607e-82, 2.3673559234765505e-70, 3.6182965458704416e-234, 3.5800963676702236e-82, 0.0, 2.4820208338466072e-70, 0.0, 0.0, 1.4555091481612725e-233, 1.1704104312880018e-226], [7.442394185556431e-286, 2.7337470609977607e-82, 0.0, 1.1345252325682798e-212, 7.36359912179113e-286, 4.217658059870006e-65, 3.261090738461182e-213, 3.143745631389968e-79, 5.307992668988328e-82, 1.6976838534439762e-227, 4.5278350583206055e-79, 4.047881077987263e-65], [0.0, 2.3673559234765505e-70, 1.1345252325682798e-212, 0.0, 6.0216142790951124e-83, 8.440971359995102e-79, 0.0, 1.2021903537152175e-278, 0.0, 1.2371757584790176e-233, 0.0, 1.283399307992766e-284], [4.6573943801197224e-278, 3.6182965458704416e-234, 7.36359912179113e-286, 6.0216142790951124e-83, 0.0, 2.788694543265121e-79, 0.0, 0.0, 0.0, 3.302234618012474e-70, 0.0, 2.7895720538523623e-212], [3.773005171231982e-213, 3.5800963676702236e-82, 4.217658059870006e-65, 8.440971359995102e-79, 2.788694543265121e-79, 0.0, 6.169394873661134e-286, 7.153858487394959e-213, 2.172173998523615e-226, 9.728060724740055e-83, 1.8126407936885568e-285, 6.103931857482211e-65], [7.354497569033435e-83, 0.0, 3.261090738461182e-213, 0.0, 0.0, 6.169394873661134e-286, 0.0, 0.0, 1.804790305363564e-70, 9.835674578323004e-234, 3.986911839861373e-279, 1.7001822120577157e-79], [0.0, 2.4820208338466072e-70, 3.143745631389968e-79, 1.2021903537152175e-278, 0.0, 7.153858487394959e-213, 0.0, 0.0, 1.094601675027643e-233, 0.0, 7.087194934052198e-83, 8.441114161394243e-286], [1.6024516626692525e-233, 0.0, 5.307992668988328e-82, 0.0, 0.0, 2.172173998523615e-226, 1.804790305363564e-70, 1.094601675027643e-233, 0.0, 0.0, 2.0134391045510013e-70, 3.2733087972287596e-82], [3.492853313308353e-70, 0.0, 1.6976838534439762e-227, 1.2371757584790176e-233, 3.302234618012474e-70, 9.728060724740055e-83, 9.835674578323004e-234, 0.0, 0.0, 0.0, 0.0, 2.8882111963624335e-82], [0.0, 1.4555091481612725e-233, 4.5278350583206055e-79, 0.0, 0.0, 1.8126407936885568e-285, 3.986911839861373e-279, 7.087194934052198e-83, 2.0134391045510013e-70, 0.0, 0.0, 3.899316808363018e-213], [2.983773384104841e-79, 1.1704104312880018e-226, 4.047881077987263e-65, 1.283399307992766e-284, 2.7895720538523623e-212, 6.103931857482211e-65, 1.7001822120577157e-79, 8.441114161394243e-286, 3.2733087972287596e-82, 2.8882111963624335e-82, 3.899316808363018e-213, 0.0]]</td>\n      <td>Measure of similarity between data points in the embedding space. High values indicate high similarity.</td>\n    </tr>\n    <tr>\n      <th>2</th>\n      <td>Perplexity</td>\n      <td>1.0</td>\n      <td>A measure of how well the probability distribution predicts a sample. Higher values indicate a smoother embedding.</td>\n    </tr>\n  </tbody>\n</table>\n</div>"
     },
     "metadata": {},
     "output_type": "display_data"
    }
   ],
   "source": [
    "import numpy as np\n",
    "import pandas as pd\n",
    "from sklearn.feature_extraction.text import TfidfVectorizer\n",
    "from sklearn.manifold import TSNE\n",
    "\n",
    "# Function to compute pairwise distances\n",
    "def compute_pairwise_distances(X):\n",
    "    distances = np.zeros((X.shape[0], X.shape[0]))\n",
    "    for i in range(X.shape[0]):\n",
    "        for j in range(i+1, X.shape[0]):\n",
    "            distances[i, j] = np.linalg.norm(X[i] - X[j])\n",
    "            distances[j, i] = distances[i, j]  # Distance matrix is symmetric\n",
    "    return distances\n",
    "\n",
    "# Function to compute similarity matrix\n",
    "def compute_similarity_matrix(distances, sigma):\n",
    "    similarities = np.exp(-distances**2 / (2 * sigma**2))\n",
    "    np.fill_diagonal(similarities, 0)  # Diagonal elements are set to 0\n",
    "    return similarities\n",
    "\n",
    "# Function to compute perplexity\n",
    "def compute_perplexity(P):\n",
    "    epsilon = 1e-12  # Small epsilon value to avoid numerical issues\n",
    "    P = np.maximum(P, epsilon)  # Replace zero values with epsilon\n",
    "    entropy = -np.sum(P * np.log2(P))\n",
    "    perplexity = 2 ** entropy\n",
    "    return perplexity\n",
    "\n",
    "# Combine the descriptions into a single string per product for TF-IDF\n",
    "descriptions = [desc.split(\" with features: \")[0] for desc in mock_retail_product_descriptions]\n",
    "\n",
    "# Use TF-IDF to simulate embeddings\n",
    "vectorizer = TfidfVectorizer(max_features=100)\n",
    "tfidf_embeddings = vectorizer.fit_transform(descriptions).toarray()\n",
    "\n",
    "# Adjust perplexity to be less than the number of samples\n",
    "n_samples = tfidf_embeddings.shape[0]\n",
    "perplexity_value = min(30, n_samples - 1)  # Ensure perplexity is less than n_samples\n",
    "\n",
    "# Perform t-SNE embedding\n",
    "tsne = TSNE(n_components=2, perplexity=perplexity_value, random_state=42)\n",
    "tsne_results = tsne.fit_transform(tfidf_embeddings)\n",
    "\n",
    "# Compute pairwise distances\n",
    "pairwise_distances = compute_pairwise_distances(tsne_results)\n",
    "\n",
    "# Compute similarity matrix\n",
    "sigma = 1.0  # Adjust sigma according to your data\n",
    "similarity_matrix = compute_similarity_matrix(pairwise_distances, sigma)\n",
    "\n",
    "# Compute perplexity\n",
    "perplexity = compute_perplexity(similarity_matrix)\n",
    "\n",
    "# Create a DataFrame to summarize the computed values and provide analysis\n",
    "data = {\n",
    "    \"Metric\": [\"Pairwise Distances\", \"Similarity Matrix\", \"Perplexity\"],\n",
    "    \"Value\": [pairwise_distances, similarity_matrix, perplexity],\n",
    "    \"Analysis\": [\n",
    "        \"Pairwise distances between points in the t-SNE embedding space. High values indicate more dissimilar points.\",\n",
    "        \"Measure of similarity between data points in the embedding space. High values indicate high similarity.\",\n",
    "        \"A measure of how well the probability distribution predicts a sample. Higher values indicate a smoother embedding.\"\n",
    "    ]\n",
    "}\n",
    "\n",
    "# Create a DataFrame\n",
    "df = pd.DataFrame(data)\n",
    "\n",
    "# Set option to display complete DataFrame content\n",
    "pd.set_option('display.max_colwidth', None)\n",
    "\n",
    "# Print the DataFrame\n",
    "display(df)\n"
   ]
  },
  {
   "cell_type": "code",
   "execution_count": 11,
   "id": "c7459af3d14c02f2",
   "metadata": {
    "collapsed": false,
    "ExecuteTime": {
     "end_time": "2024-02-20T13:16:15.598050Z",
     "start_time": "2024-02-20T13:16:15.588781Z"
    }
   },
   "outputs": [
    {
     "data": {
      "text/plain": "['Describe Derby Shoes, a product featuring lightweight, comfortable, waterproof a must for your everyday wearing. Category: Shoes.',\n 'Describe Trainers, a product featuring waterproof, durable, lightweight Made from the same design as those used by the Olympic athletes, Trainers is made from 100s of fibers and uses 10 million fibers. An extremely light and air conditioned system Category: General Merchandise.',\n \"Describe Chelsea boots, a product featuring durable, lightweight, waterproof email protected I don't want to have to pick between boots, I love them They have great breathability and will not leave my feet unattended, but they're really lightweight and have a really great breath Category: General Merchandise.\",\n 'Describe SoftMove Sports tights, a product featuring comfortable, lightweight, waterproof SoftMove Sports products deliver the ultimate in comfort, weight, fit, and comfort. The Tilt softback design is designed to help you find traction on roads where it is useful Category: Accessories.',\n 'Describe DryMove Seamless Sports tights, a product featuring stylish, lightweight, comfortable A new kind of dry lifting sport A fresh start for new coaches No more grip like racking A new version of the new S Category: Accessories.',\n 'Describe COOLMAX Regular Fit T shirt, a product featuring lightweight, durable, comfortable You can easily design and wear an outfit with this shirt, which is super soft, soft and has a lightweight feel. The elasticity and stretch makes this shirt especially comfortable to wear Category: Apparel.',\n 'Describe Quilted crossbody bag, a product featuring comfortable, lightweight, waterproof Cargo 5 oz Grip 0.04 Capacity 5 x 0.04 x 0.04 Size 5 x 0.04 x 0 Category: Accessories.',\n 'Describe Leather belt, a product featuring durable, stylish, lightweight Every brand has a unique design, unique design, unique design to go with it. So what would you find among these two, something that goes along with their unique brand, or are all in one one place, and that Category: Accessories.',\n 'Describe HCat eye sunglasses, a product featuring stylish, waterproof, lightweight HCat eye sunglasses have a high reflective barrier, which are known as polycarbonate. The reflective coating improves visibility, while the material gives a clean, soft surface and keeps you warm and dry Category: Accessories.',\n 'Describe H M Utility Speed Backpack, a product featuring durable, stylish, comfortable a one stop drop off in type for H TAC, a wide variety of H TAC gear types for your vehicle a wide selection of H TAC exclusive features Category: Accessories.',\n \"Describe H M Hyperfuel Water Bottle, a product featuring waterproof, durable, lightweight The Hyperfuel bottle from H M in Boston, Massachusetts, is a refreshing water bottle bottle with a sleek design and a timeless feel. It's a practical, durable product that works great while Category: Accessories.\",\n 'Describe H M Yoga Mat, a product featuring waterproof, lightweight, stylish As we head into the second half of 2014, we are taking to the streets to speak to our fans about the spiritual side of yoga, how it relates to the creative process, how challenging it is for Category: General Merchandise.']"
     },
     "metadata": {},
     "output_type": "display_data"
    }
   ],
   "source": [
    "display(mock_retail_product_descriptions)"
   ]
  },
  {
   "cell_type": "code",
   "execution_count": 12,
   "id": "aeefac8fb9e9d4ce",
   "metadata": {
    "collapsed": false,
    "ExecuteTime": {
     "end_time": "2024-02-20T13:16:20.575157Z",
     "start_time": "2024-02-20T13:16:17.410861Z"
    }
   },
   "outputs": [
    {
     "data": {
      "text/plain": "<Figure size 1000x600 with 1 Axes>",
      "image/png": "[encoded data removed]"
     },
     "metadata": {},
     "output_type": "display_data"
    }
   ],
   "source": [
    "import numpy as np\n",
    "import re\n",
    "from sklearn.feature_extraction.text import TfidfVectorizer\n",
    "from sklearn.manifold import TSNE\n",
    "import seaborn as sns\n",
    "import matplotlib.pyplot as plt\n",
    "from transformers import pipeline\n",
    "\n",
    "# Assuming mock_retail_product_descriptions is already defined in your session\n",
    "\n",
    "# Initialize the zero-shot classification model (if needed for other tasks)\n",
    "classifier = pipeline(\"zero-shot-classification\", model=\"facebook/bart-large-mnli\")\n",
    "\n",
    "def clean_description(description):\n",
    "    clean_text = re.sub(r'<[^>]+>', '', description)\n",
    "    clean_text = re.sub(r'http[s]?://\\S+', '', clean_text)\n",
    "    clean_text = re.sub(r'[^A-Za-z0-9.,\\'\\s]+', ' ', clean_text)\n",
    "    clean_text = re.sub(r'\\[.*?\\]', '', clean_text)\n",
    "    clean_text = re.sub(r'\\s+', ' ', clean_text).strip()\n",
    "    return clean_text\n",
    "\n",
    "# Extract categories from descriptions and clean the text for TF-IDF\n",
    "categories = [desc.split(\" Category: \")[-1] for desc in mock_retail_product_descriptions]\n",
    "cleaned_descriptions = [clean_description(desc.split(\" Category: \")[0]) for desc in mock_retail_product_descriptions]\n",
    "\n",
    "# Use TF-IDF to simulate embeddings\n",
    "vectorizer = TfidfVectorizer(max_features=100)\n",
    "tfidf_embeddings = vectorizer.fit_transform(cleaned_descriptions).toarray()\n",
    "\n",
    "# Make sure perplexity is less than the number of samples\n",
    "n_samples = len(cleaned_descriptions)\n",
    "perplexity_value = min(30, max(5, n_samples - 1))  # Adjusted perplexity value\n",
    "\n",
    "# Perform t-SNE embedding\n",
    "tsne = TSNE(n_components=2, perplexity=perplexity_value, random_state=42)\n",
    "tsne_results = tsne.fit_transform(tfidf_embeddings)\n",
    "\n",
    "# Plot t-SNE results\n",
    "plt.figure(figsize=(10, 6))\n",
    "palette = sns.color_palette(\"hsv\", len(set(categories)))\n",
    "sns.scatterplot(x=tsne_results[:,0], y=tsne_results[:,1], hue=categories, palette=palette)\n",
    "plt.title('t-SNE Visualization of H&M Product Descriptions')\n",
    "plt.xlabel('t-SNE Dimension 1')\n",
    "plt.ylabel('t-SNE Dimension 2')\n",
    "plt.legend(title='Category', bbox_to_anchor=(1.05, 1), loc='upper left')\n",
    "plt.tight_layout()\n",
    "plt.show()\n"
   ]
  },
  {
   "cell_type": "markdown",
   "id": "a3178880ebf1a09f",
   "metadata": {
    "collapsed": false
   },
   "source": [
    "## Collaborative Query Handling: A Detailed Overview\n",
    "\n",
    "### Introduction to Query Processing\n",
    "\n",
    "The core of collaborative query handling involves interpreting user inputs (queries) and transforming them into actionable search intents. This process is critical in retail environments where queries can be vague or highly specific.\n",
    "\n",
    "### Query Rewriting and Classification\n",
    "\n",
    "1. **Zero-shot Classification**: This method leverages pre-trained models for categorizing text without explicit examples for each category. The mathematical foundation relies on the model's ability to understand the semantic similarity between the input query and predefined categories. Given a query \\(q\\), and a set of candidate categories \\(C = \\{c_1, c_2, \\ldots, c_n\\}\\), the model assigns probabilities \\(P(c|q)\\) for each category, selecting the category with the highest probability as the query's classification.\n",
    "\n",
    "   $$\\text{Predicted Category} = \\underset{c \\in C}{\\mathrm{argmax}}\\ P(c|q)$$\n",
    "\n",
    "2. **Query Rewriting with Generative Models**: The objective is to refine or expand the user's original query to better match retail products or services. Using a model like GPT-2, the rewritten query \\(q'\\) is generated by maximizing the likelihood of the rewritten query given the original query \\(q\\), formalized as:\n",
    "\n",
    "   $$q' = \\underset{q'}{\\mathrm{argmax}}\\ P(q'|q)$$\n",
    "\n",
    "### Vector Representation of Queries and Products\n",
    "\n",
    "For matching queries to products, converting text to vectors allows for computational handling. The transformation \\(f: \\text{text} \\rightarrow \\mathbb{R}^d\\) maps product descriptions and queries into a \\(d\\)-dimensional vector space, facilitating similarity comparisons.\n",
    "\n",
    "### Efficient Similarity Search\n",
    "\n",
    "Using techniques like Approximate Nearest Neighbor (ANN) search, we can efficiently find products similar to a query vector. Given a query vector \\(q_v\\), the goal is to find product vectors \\(p_v\\) that are closest to \\(q_v\\) based on a distance metric \\(D(q_v, p_v)\\). Annoy is a popular library for this purpose, employing trees to facilitate fast and approximate searches.\n",
    "\n",
    "### Mathematical Foundation of ANN\n",
    "\n",
    "ANN leverages tree structures to partition the vector space, allowing for faster queries than exhaustive search. The efficiency comes from limiting the search space to regions of the vector space likely to contain the nearest neighbors. For a given query vector \\(q_v\\), Annoy builds a set of binary trees where each node represents a hyperplane that splits the space into two. The search algorithm traverses these trees, prioritizing paths that lead to closer matches based on the chosen distance metric, typically Euclidean (\\(L_2\\)) or Angular distance.\n",
    "\n",
    "### Collaborative Filtering and Machine Learning\n",
    "\n",
    "In a retail environment, collaborative filtering can be used alongside these techniques to recommend products based on the preferences of similar users. This involves matrix factorization techniques or neural networks to predict user preferences for products they haven't interacted with, based on the observed interactions of a larger user base.\n",
    "\n",
    "Collaborative Query Handling in a retail environment involves sophisticated techniques from natural language processing, machine learning, and information retrieval. By leveraging the capabilities of LLMs for query rewriting and classification, vector space models for product matching, and ANN for efficient similarity search, retailers can significantly enhance the relevance and personalization of product recommendations, leading to improved customer satisfaction and engagement.\n"
   ]
  },
  {
   "cell_type": "markdown",
   "id": "e456265f1ef05e97",
   "metadata": {
    "collapsed": false
   },
   "source": [
    "### Integrating Zero-Shot Classification for Product Matching\n",
    "\n",
    "This section of the notebook demonstrates how to leverage the `transformers` library to classify user queries into product categories using a zero-shot classification approach and match these queries with relevant products based on their descriptions.\n",
    "\n",
    "### Code Explanation\n",
    "- Initialization: We start by initializing the zero-shot classification pipeline using the facebook/bart-large-mnli model from the Hugging Face transformers library. This model is well-suited for tasks requiring understanding of natural language text.\n",
    "\n",
    "- Product Descriptions Parsing: The product descriptions are parsed to extract categories explicitly mentioned at the end of each description. This information is restructured into a list of dictionaries, each containing the product description and its category.\n",
    "\n",
    "- User Queries Classification: User queries are classified into the extracted categories using the zero-shot classification model. This step assigns the most probable category to each query based on the model's understanding of the query and the description of product categories.\n",
    "\n",
    "- Matching Queries with Products: Based on the predicted categories, user queries are matched with products that fall into the same category. This allows for a dynamic and context-aware recommendation of products corresponding to user interests.\n"
   ]
  },
  {
   "cell_type": "code",
   "execution_count": 13,
   "id": "47ae90b4a353096c",
   "metadata": {
    "collapsed": false,
    "ExecuteTime": {
     "end_time": "2024-02-20T13:16:31.763412Z",
     "start_time": "2024-02-20T13:16:27.028544Z"
    }
   },
   "outputs": [
    {
     "data": {
      "text/plain": "   user_id                                  query predicted_category  \\\n0        1           sustainable outdoor clothing            Apparel   \n1        2  eco-friendly water bottles for hiking        Accessories   \n2        3                   durable hiking boots              Shoes   \n\n                                                                                                                                                                                                                                                                                                                                                                                                                                                                                                                                                                                                                                                                                                                                                                                                                                                                                                                                                                                                                                                                                                                                                                                                                                                                                                                                                                                                                                                                                                                                                                                                                                                                                                                                                                                                                                                                                                                                                                                                                                                                                                                                                                                                                                                              matched_products  \n0                                                                                                                                                                                                                                                                                                                                                                                                                                                                                                                                                                                                                                                                                                                                                                                                                                                                                                                                                                                                                                                                                                                                                                                                                                                                                                                                                                                                                                                                                                                                                                                                                                                                                                                                                                                                                                                                                                                        [{'description': 'Describe COOLMAX Regular Fit T shirt, a product featuring lightweight, durable, comfortable You can easily design and wear an outfit with this shirt, which is super soft, soft and has a lightweight feel. The elasticity and stretch makes this shirt especially comfortable to wear Category: Apparel.', 'category': 'Apparel'}]  \n1  [{'description': 'Describe SoftMove Sports tights, a product featuring comfortable, lightweight, waterproof SoftMove Sports products deliver the ultimate in comfort, weight, fit, and comfort. The Tilt softback design is designed to help you find traction on roads where it is useful Category: Accessories.', 'category': 'Accessories'}, {'description': 'Describe DryMove Seamless Sports tights, a product featuring stylish, lightweight, comfortable A new kind of dry lifting sport A fresh start for new coaches No more grip like racking A new version of the new S Category: Accessories.', 'category': 'Accessories'}, {'description': 'Describe Quilted crossbody bag, a product featuring comfortable, lightweight, waterproof Cargo 5 oz Grip 0.04 Capacity 5 x 0.04 x 0.04 Size 5 x 0.04 x 0 Category: Accessories.', 'category': 'Accessories'}, {'description': 'Describe Leather belt, a product featuring durable, stylish, lightweight Every brand has a unique design, unique design, unique design to go with it. So what would you find among these two, something that goes along with their unique brand, or are all in one one place, and that Category: Accessories.', 'category': 'Accessories'}, {'description': 'Describe HCat eye sunglasses, a product featuring stylish, waterproof, lightweight HCat eye sunglasses have a high reflective barrier, which are known as polycarbonate. The reflective coating improves visibility, while the material gives a clean, soft surface and keeps you warm and dry Category: Accessories.', 'category': 'Accessories'}, {'description': 'Describe H M Utility Speed Backpack, a product featuring durable, stylish, comfortable a one stop drop off in type for H TAC, a wide variety of H TAC gear types for your vehicle a wide selection of H TAC exclusive features Category: Accessories.', 'category': 'Accessories'}, {'description': 'Describe H M Hyperfuel Water Bottle, a product featuring waterproof, durable, lightweight The Hyperfuel bottle from H M in Boston, Massachusetts, is a refreshing water bottle bottle with a sleek design and a timeless feel. It's a practical, durable product that works great while Category: Accessories.', 'category': 'Accessories'}]  \n2                                                                                                                                                                                                                                                                                                                                                                                                                                                                                                                                                                                                                                                                                                                                                                                                                                                                                                                                                                                                                                                                                                                                                                                                                                                                                                                                                                                                                                                                                                                                                                                                                                                                                                                                                                                                                                                                                                                                                                                                                                                                                                  [{'description': 'Describe Derby Shoes, a product featuring lightweight, comfortable, waterproof a must for your everyday wearing. Category: Shoes.', 'category': 'Shoes'}]  ",
      "text/html": "<div>\n<style scoped>\n    .dataframe tbody tr th:only-of-type {\n        vertical-align: middle;\n    }\n\n    .dataframe tbody tr th {\n        vertical-align: top;\n    }\n\n    .dataframe thead th {\n        text-align: right;\n    }\n</style>\n<table border=\"1\" class=\"dataframe\">\n  <thead>\n    <tr style=\"text-align: right;\">\n      <th></th>\n      <th>user_id</th>\n      <th>query</th>\n      <th>predicted_category</th>\n      <th>matched_products</th>\n    </tr>\n  </thead>\n  <tbody>\n    <tr>\n      <th>0</th>\n      <td>1</td>\n      <td>sustainable outdoor clothing</td>\n      <td>Apparel</td>\n      <td>[{'description': 'Describe COOLMAX Regular Fit T shirt, a product featuring lightweight, durable, comfortable You can easily design and wear an outfit with this shirt, which is super soft, soft and has a lightweight feel. The elasticity and stretch makes this shirt especially comfortable to wear Category: Apparel.', 'category': 'Apparel'}]</td>\n    </tr>\n    <tr>\n      <th>1</th>\n      <td>2</td>\n      <td>eco-friendly water bottles for hiking</td>\n      <td>Accessories</td>\n      <td>[{'description': 'Describe SoftMove Sports tights, a product featuring comfortable, lightweight, waterproof SoftMove Sports products deliver the ultimate in comfort, weight, fit, and comfort. The Tilt softback design is designed to help you find traction on roads where it is useful Category: Accessories.', 'category': 'Accessories'}, {'description': 'Describe DryMove Seamless Sports tights, a product featuring stylish, lightweight, comfortable A new kind of dry lifting sport A fresh start for new coaches No more grip like racking A new version of the new S Category: Accessories.', 'category': 'Accessories'}, {'description': 'Describe Quilted crossbody bag, a product featuring comfortable, lightweight, waterproof Cargo 5 oz Grip 0.04 Capacity 5 x 0.04 x 0.04 Size 5 x 0.04 x 0 Category: Accessories.', 'category': 'Accessories'}, {'description': 'Describe Leather belt, a product featuring durable, stylish, lightweight Every brand has a unique design, unique design, unique design to go with it. So what would you find among these two, something that goes along with their unique brand, or are all in one one place, and that Category: Accessories.', 'category': 'Accessories'}, {'description': 'Describe HCat eye sunglasses, a product featuring stylish, waterproof, lightweight HCat eye sunglasses have a high reflective barrier, which are known as polycarbonate. The reflective coating improves visibility, while the material gives a clean, soft surface and keeps you warm and dry Category: Accessories.', 'category': 'Accessories'}, {'description': 'Describe H M Utility Speed Backpack, a product featuring durable, stylish, comfortable a one stop drop off in type for H TAC, a wide variety of H TAC gear types for your vehicle a wide selection of H TAC exclusive features Category: Accessories.', 'category': 'Accessories'}, {'description': 'Describe H M Hyperfuel Water Bottle, a product featuring waterproof, durable, lightweight The Hyperfuel bottle from H M in Boston, Massachusetts, is a refreshing water bottle bottle with a sleek design and a timeless feel. It's a practical, durable product that works great while Category: Accessories.', 'category': 'Accessories'}]</td>\n    </tr>\n    <tr>\n      <th>2</th>\n      <td>3</td>\n      <td>durable hiking boots</td>\n      <td>Shoes</td>\n      <td>[{'description': 'Describe Derby Shoes, a product featuring lightweight, comfortable, waterproof a must for your everyday wearing. Category: Shoes.', 'category': 'Shoes'}]</td>\n    </tr>\n  </tbody>\n</table>\n</div>"
     },
     "metadata": {},
     "output_type": "display_data"
    }
   ],
   "source": [
    "from transformers import pipeline\n",
    "import pandas as pd\n",
    "import re\n",
    "\n",
    "# Initialize the zero-shot classification pipeline with a suitable model\n",
    "classifier = pipeline(\"zero-shot-classification\", model=\"facebook/bart-large-mnli\")\n",
    "\n",
    "\n",
    "# Extract category and reformulate mock_retail_product_descriptions as a list of dictionaries\n",
    "product_list = []\n",
    "for desc in mock_retail_product_descriptions:\n",
    "    match = re.search(r\"Category: (\\w+)\", desc)\n",
    "    category = match.group(1) if match else \"Unknown\"\n",
    "    product_list.append({\"description\": desc, \"category\": category})\n",
    "\n",
    "# Define user queries\n",
    "user_queries = [\n",
    "    {\"user_id\": 1, \"query\": \"sustainable outdoor clothing\"},\n",
    "    {\"user_id\": 2, \"query\": \"eco-friendly water bottles for hiking\"},\n",
    "    {\"user_id\": 3, \"query\": \"durable hiking boots\"}\n",
    "]\n",
    "\n",
    "# Extract unique categories from the product list for classification\n",
    "unique_categories = list(set([product[\"category\"] for product in product_list]))\n",
    "\n",
    "# Classify each query and add the predicted category to the query dictionary\n",
    "for query in user_queries:\n",
    "    classification = classifier(query[\"query\"], unique_categories, multi_label=False)\n",
    "    query[\"predicted_category\"] = classification[\"labels\"][0]\n",
    "\n",
    "# Match queries to products\n",
    "for query in user_queries:\n",
    "    matched_products = [product for product in product_list if product[\"category\"] == query[\"predicted_category\"]]\n",
    "    query[\"matched_products\"] = matched_products\n",
    "\n",
    "# Convert the enriched user queries into a pandas DataFrame for display\n",
    "df_queries = pd.DataFrame(user_queries)\n",
    "\n",
    "display(df_queries)\n"
   ]
  },
  {
   "cell_type": "markdown",
   "id": "5e24ace820461724",
   "metadata": {
    "collapsed": false
   },
   "source": [
    "## Query Processing and Clarification - Enhancing Retail Product Matching with AI\n",
    "\n",
    "In this section, we explore a comprehensive approach to refining retail product searches using advanced AI techniques. Our methodology involves three primary steps:\n",
    "\n",
    "1. **Query Rewriting**: We begin by enhancing user queries for clarity and precision. This step leverages the `distilgpt2` model, known for its effectiveness in generating coherent, contextually enriched text. By rewriting queries, we aim to capture the user's intent more accurately, facilitating a more refined search process.\n",
    "\n",
    "2. **Category Classification**: Once rewritten, queries undergo classification using the zero-shot learning capabilities of the `facebook/bart-large-mnli` model. This step is crucial for understanding the category of products the user is interested in, without requiring explicit prior training on our specific dataset.\n",
    "\n",
    "3. **Product Matching**: With the query categorized, we proceed to match it against our curated product descriptions. This involves filtering products that fall into the predicted category and presenting them in an organized manner. \n",
    "\n",
    "The outcome of this process is displayed using `pandas`, ensuring that the results are not only accurate but also visually appealing. This approach not only streamlines the search experience but also significantly enhances the relevance of product matches, directly contributing to a more satisfying user experience.\n",
    "\n",
    "This documentation outlines the strategy and execution of improving retail search mechanisms through AI, embodying the intersection of natural language processing and user-centric design."
   ]
  },
  {
   "cell_type": "code",
   "execution_count": 15,
   "id": "d1f5bd4a899a7945",
   "metadata": {
    "collapsed": false,
    "ExecuteTime": {
     "end_time": "2024-02-20T13:17:13.694259Z",
     "start_time": "2024-02-20T13:17:09.938138Z"
    }
   },
   "outputs": [
    {
     "data": {
      "text/plain": "<IPython.core.display.HTML object>",
      "text/html": "\n    <style>\n        .product-container {\n            display: flex;\n            flex-wrap: wrap;\n            justify-content: start;\n            gap: 20px;\n        }\n        .product {\n            border: 2px solid #2c3e50;\n            border-radius: 10px;\n            padding: 20px;\n            width: 200px;\n            text-align: center;\n        }\n        .product img {\n            max-width: 100%;\n            height: auto;\n            margin-bottom: 10px;\n        }\n    </style>\n    <div>\n        <h2>Original Query:</h2>\n        <p>I'm looking for lightweight and durable shoes for running.</p>\n        <h2>Contextually Similar Queries:</h2>\n        <ul>\n    <li>durable, stylish, lightweight Every brand has a unique design, unique design, unique design to go with it</li><li>comfortable, lightweight, waterproof SoftMove Sports products deliver the ultimate in comfort, weight, fit, and comfort</li><li>lightweight, comfortable, waterproof a must for your everyday wearing</li></ul><h2>Similar Products:</h2><div class=\"product-container\">\n            <div class=\"product\">\n                <img src=\"HM.png\" alt=\"H&M Logo\">\n                <h3>Leather belt</h3>\n                <p>durable, stylish, lightweight Every brand has a unique design, unique design, unique design to go with it</p>\n                <p><strong>Category:</strong> Accessories</p>\n            </div>\n        \n            <div class=\"product\">\n                <img src=\"HM.png\" alt=\"H&M Logo\">\n                <h3>SoftMove Sports tights</h3>\n                <p>comfortable, lightweight, waterproof SoftMove Sports products deliver the ultimate in comfort, weight, fit, and comfort</p>\n                <p><strong>Category:</strong> Accessories</p>\n            </div>\n        \n            <div class=\"product\">\n                <img src=\"HM.png\" alt=\"H&M Logo\">\n                <h3>Derby Shoes</h3>\n                <p>lightweight, comfortable, waterproof a must for your everyday wearing</p>\n                <p><strong>Category:</strong> Shoes</p>\n            </div>\n        \n            <div class=\"product\">\n                <img src=\"HM.png\" alt=\"H&M Logo\">\n                <h3>Quilted crossbody bag</h3>\n                <p>comfortable, lightweight, waterproof Cargo 5 oz Grip 0</p>\n                <p><strong>Category:</strong> Accessories</p>\n            </div>\n        \n            <div class=\"product\">\n                <img src=\"HM.png\" alt=\"H&M Logo\">\n                <h3>DryMove Seamless Sports tights</h3>\n                <p>stylish, lightweight, comfortable A new kind of dry lifting sport A fresh start for new coaches No more grip like racking A new version of the new S Category: Accessories</p>\n                <p><strong>Category:</strong> Accessories</p>\n            </div>\n        </div></div>"
     },
     "metadata": {},
     "output_type": "display_data"
    }
   ],
   "source": [
    "from transformers import pipeline\n",
    "from annoy import AnnoyIndex\n",
    "import numpy as np\n",
    "from IPython.display import HTML, display\n",
    "import re\n",
    "from sentence_transformers import SentenceTransformer, util\n",
    "import torch\n",
    "\n",
    "# Initialize the sentence transformer model for embeddings\n",
    "model = SentenceTransformer('all-MiniLM-L6-v2')\n",
    "\n",
    "# Function to extract product details\n",
    "def extract_product_details(descriptions):\n",
    "    products = []\n",
    "    for description in descriptions:\n",
    "        name_match = re.search(r\"Describe ([^,]+),\", description)\n",
    "        features_match = re.search(r\"a product featuring ([^.]+).\", description)\n",
    "        category_match = re.search(r\"Category: (\\w+).$\", description)\n",
    "        if name_match and category_match:\n",
    "            product_name = name_match.group(1)\n",
    "            features = features_match.group(1) if features_match else \"\"\n",
    "            category = category_match.group(1)\n",
    "            products.append({\"name\": product_name, \"features\": features, \"category\": category})\n",
    "    return products\n",
    "\n",
    "parsed_products = extract_product_details(mock_retail_product_descriptions)\n",
    "\n",
    "# Annoy index setup\n",
    "vector_length = 384  # Dimension of sentence embeddings\n",
    "annoy_index = AnnoyIndex(vector_length, 'angular')\n",
    "\n",
    "# Convert descriptions to vectors and add to Annoy index\n",
    "for i, product in enumerate(parsed_products):\n",
    "    vec = model.encode(product['features'])\n",
    "    annoy_index.add_item(i, vec)\n",
    "\n",
    "annoy_index.build(10)  # Using 10 trees for the Annoy index\n",
    "\n",
    "# Function to find similar products based on query using Annoy\n",
    "def find_similar_products(query, num_matches=5):\n",
    "    query_vector = model.encode(query)\n",
    "    similar_items = annoy_index.get_nns_by_vector(query_vector, num_matches, include_distances=False)\n",
    "    return [parsed_products[i] for i in similar_items]\n",
    "\n",
    "# Function to find contextually similar queries\n",
    "def find_similar_queries(query, products, num_matches=3):\n",
    "    query_embedding = model.encode(query, convert_to_tensor=True)\n",
    "    product_features = [product['features'] for product in products]\n",
    "    product_embeddings = model.encode(product_features, convert_to_tensor=True)\n",
    "\n",
    "    # Compute cosine similarities\n",
    "    cos_sim = util.pytorch_cos_sim(query_embedding, product_embeddings)\n",
    "\n",
    "    # Find the top similar product features\n",
    "    top_results = torch.topk(cos_sim, k=num_matches)\n",
    "\n",
    "    similar_queries = []\n",
    "    for idx in top_results[1][0]:\n",
    "        similar_queries.append(products[idx.item()]['features'])\n",
    "\n",
    "    return similar_queries\n",
    "\n",
    "# Enhanced function to display results with visual appeal and contextual similarity\n",
    "def display_results(query):\n",
    "    similar_products = find_similar_products(query)\n",
    "    similar_queries = find_similar_queries(query, parsed_products)\n",
    "    hm_logo_url = \"HM.png\"\n",
    "\n",
    "    html_content = f\"\"\"\n",
    "    <style>\n",
    "        .product-container {{\n",
    "            display: flex;\n",
    "            flex-wrap: wrap;\n",
    "            justify-content: start;\n",
    "            gap: 20px;\n",
    "        }}\n",
    "        .product {{\n",
    "            border: 2px solid #2c3e50;\n",
    "            border-radius: 10px;\n",
    "            padding: 20px;\n",
    "            width: 200px;\n",
    "            text-align: center;\n",
    "        }}\n",
    "        .product img {{\n",
    "            max-width: 100%;\n",
    "            height: auto;\n",
    "            margin-bottom: 10px;\n",
    "        }}\n",
    "    </style>\n",
    "    <div>\n",
    "        <h2>Original Query:</h2>\n",
    "        <p>{query}</p>\n",
    "        <h2>Contextually Similar Queries:</h2>\n",
    "        <ul>\n",
    "    \"\"\"\n",
    "    for sq in similar_queries:\n",
    "        html_content += f\"<li>{sq}</li>\"\n",
    "\n",
    "    html_content += \"</ul><h2>Similar Products:</h2><div class=\\\"product-container\\\">\"\n",
    "\n",
    "    for product in similar_products:\n",
    "        html_content += f\"\"\"\n",
    "            <div class=\"product\">\n",
    "                <img src=\"{hm_logo_url}\" alt=\"H&M Logo\">\n",
    "                <h3>{product['name']}</h3>\n",
    "                <p>{product['features']}</p>\n",
    "                <p><strong>Category:</strong> {product['category']}</p>\n",
    "            </div>\n",
    "        \"\"\"\n",
    "    html_content += \"</div></div>\"\n",
    "    display(HTML(html_content))\n",
    "\n",
    "# Example usage\n",
    "query = \"I'm looking for lightweight and durable shoes for running.\"\n",
    "display_results(query)\n"
   ]
  },
  {
   "cell_type": "markdown",
   "id": "897a34b350434a46",
   "metadata": {
    "collapsed": false
   },
   "source": [
    "## Augmented Search Results Presentation\n",
    "\n",
    "Enhancing search results, as demonstrated in our approach, involves leveraging advanced algorithms and machine learning techniques to transform raw data into insightful, actionable information. By utilizing vector representation for product descriptions and implementing the Annoy Index for fast similarity searches, we're able to significantly refine the process of matching user queries with the most relevant products. This method not only improves the accuracy of search results but also enhances user experience by providing more meaningful, contextually relevant options. This strategy embodies the cutting-edge intersection of natural language processing and user-centric design, paving the way for a more intuitive and efficient search mechanism in digital retail environments."
   ]
  },
  {
   "cell_type": "code",
   "execution_count": 16,
   "id": "7b542ca4bf822659",
   "metadata": {
    "collapsed": false,
    "ExecuteTime": {
     "end_time": "2024-02-20T13:17:17.765311Z",
     "start_time": "2024-02-20T13:17:17.749799Z"
    }
   },
   "outputs": [
    {
     "data": {
      "text/plain": "                                                                                                                                                                                                                                                                                                               description  \\\n0                                                                                                                                                                                        Describe Derby Shoes, a product featuring lightweight, comfortable, waterproof a must for your everyday wearing. Category: Shoes.   \n1                                   Describe Trainers, a product featuring waterproof, durable, lightweight Made from the same design as those used by the Olympic athletes, Trainers is made from 100s of fibers and uses 10 million fibers. An extremely light and air conditioned system Category: General Merchandise.   \n2   Describe Chelsea boots, a product featuring durable, lightweight, waterproof email protected I don't want to have to pick between boots, I love them They have great breathability and will not leave my feet unattended, but they're really lightweight and have a really great breath Category: General Merchandise.   \n3                          Describe SoftMove Sports tights, a product featuring comfortable, lightweight, waterproof SoftMove Sports products deliver the ultimate in comfort, weight, fit, and comfort. The Tilt softback design is designed to help you find traction on roads where it is useful Category: Accessories.   \n4                                                                                 Describe DryMove Seamless Sports tights, a product featuring stylish, lightweight, comfortable A new kind of dry lifting sport A fresh start for new coaches No more grip like racking A new version of the new S Category: Accessories.   \n5                Describe COOLMAX Regular Fit T shirt, a product featuring lightweight, durable, comfortable You can easily design and wear an outfit with this shirt, which is super soft, soft and has a lightweight feel. The elasticity and stretch makes this shirt especially comfortable to wear Category: Apparel.   \n6                                                                                                                                          Describe Quilted crossbody bag, a product featuring comfortable, lightweight, waterproof Cargo 5 oz Grip 0.04 Capacity 5 x 0.04 x 0.04 Size 5 x 0.04 x 0 Category: Accessories.   \n7            Describe Leather belt, a product featuring durable, stylish, lightweight Every brand has a unique design, unique design, unique design to go with it. So what would you find among these two, something that goes along with their unique brand, or are all in one one place, and that Category: Accessories.   \n8    Describe HCat eye sunglasses, a product featuring stylish, waterproof, lightweight HCat eye sunglasses have a high reflective barrier, which are known as polycarbonate. The reflective coating improves visibility, while the material gives a clean, soft surface and keeps you warm and dry Category: Accessories.   \n9                                                                    Describe H M Utility Speed Backpack, a product featuring durable, stylish, comfortable a one stop drop off in type for H TAC, a wide variety of H TAC gear types for your vehicle a wide selection of H TAC exclusive features Category: Accessories.   \n10          Describe H M Hyperfuel Water Bottle, a product featuring waterproof, durable, lightweight The Hyperfuel bottle from H M in Boston, Massachusetts, is a refreshing water bottle bottle with a sleek design and a timeless feel. It's a practical, durable product that works great while Category: Accessories.   \n11               Describe H M Yoga Mat, a product featuring waterproof, lightweight, stylish As we head into the second half of 2014, we are taking to the streets to speak to our fans about the spiritual side of yoga, how it relates to the creative process, how challenging it is for Category: General Merchandise.   \n\n                                                                                                                                                                                                                                                                                                                                                                                                                                                                                                                                                                                                                                                                                                                                                                                                                                                                                                                                                                                                                                                                                                                                                                                                                                                                                                                                                                                                                                                                                                                                                                                                                                                                                                                                                                                                                                                                                                                                                                                                                                                                                                                       vector  \n0                   [0.8896945253525599, 0.7448286122213863, 0.6351418345878984, 0.8649276333752077, 0.3097017063588594, 0.2396114412579664, 0.9672781271320097, 0.21455924443545005, 0.8470617968651474, 0.24465121536493384, 0.4929849309701937, 0.6858291803328319, 0.00718453294228294, 0.5296479727287285, 0.8400806951812507, 0.7013604877207389, 0.9462790895816537, 0.2466760661580707, 0.8505128640501569, 0.17657664975874188, 0.9154436956628746, 0.5613901224763548, 0.8586433931169607, 0.9100015808727397, 0.7104927615550981, 0.8460191377905383, 0.7573116979835844, 0.07574703666191052, 0.40695798833344177, 0.32960890369004214, 0.08460686895567193, 0.17200653943444677, 0.41966828709962234, 0.8086638141560406, 0.13049274911489017, 0.8777906871638251, 0.2149228269475153, 0.8845965422820373, 0.647242129102726, 0.9065396383491025, 0.6841476907190094, 0.8386252852710585, 0.5150017278385318, 0.7922699260204691, 0.4782182071337504, 0.31290088099932534, 0.9113388071358833, 0.8791596250933504, 0.7837108271912376, 0.5679251419310938, 0.006017729368619995, 0.24579922550867683, 0.8014612000868403, 0.006914067230468057, 0.37622517098854324, 0.5323408950565676, 0.5890568613078351, 0.273062155942, 0.8353586300552364, 0.2019740981589332, 0.2580378940654332, 0.6818335783930479, 0.5727208129600296, 0.4770805522811322, 0.3924879503656672, 0.9115883430163774, 0.09787492880127147, 0.9074396444418605, 0.9058849727484516, 0.8515518189809399, 0.919723871496658, 0.5336868496420144, 0.4803489108174076, 0.06677097845373137, 0.7389173419560436, 0.23017056753001774, 0.5909400327904454, 0.6674268227498836, 0.0009956638095164339, 0.03441144956165665, 0.9653937366290009, 0.5176537063013179, 0.18582234417006727, 0.5901521042373828, 0.9582474460826448, 0.2132431582773664, 0.8307129531772599, 0.19464125489302386, 0.9887280856532707, 0.9229174535441681, 0.0794527312455886, 0.8024459104015272, 0.3304117898921787, 0.7067855087016613, 0.564913241440923, 0.7315632120464566, 0.5294398261460086, 0.9342061075171328, 0.5493521878835833, 0.6898791177496788, ...]  \n1             [0.8839655835212723, 0.7174859634628526, 0.453388673244297, 0.5037835531303185, 0.9389052165908514, 0.5410123017145223, 0.7394359084704154, 0.027131795305423756, 0.831904030932737, 0.5352162248128347, 0.34529236287163556, 0.7469858256108887, 0.2666785306147973, 0.2804201251583266, 0.15491459995004342, 0.777200051907372, 0.25523578135300906, 0.8382295549204547, 0.4665336871265513, 0.893402661971062, 0.40934817250060884, 0.4140595329590355, 0.228285126845842, 0.7920847636300624, 0.7198872662435319, 0.05386325190307906, 0.6610080819878454, 0.37767058334390546, 0.4907539086819699, 0.12320114970574281, 0.4082678996854857, 0.8152624422329386, 0.9504620504364618, 0.06685555711018043, 0.14019007619245394, 0.4431739675566504, 0.19602020334719816, 0.23188106979391443, 0.15429875233173562, 0.46675124976273696, 0.81660190695213, 0.3869854326119275, 0.6708200698641348, 0.0489079485319589, 0.26853443937599697, 0.5164189115072271, 0.01661324207018089, 0.20659070213156505, 0.33666069727235926, 0.6667552149923786, 0.06447231511308726, 0.20905849452736658, 0.14974044562337796, 0.9862591673004789, 0.5603820193170533, 0.7351282383726346, 0.7266016446250021, 0.5766238078306368, 0.6017234473485062, 0.9694402778965945, 0.8303317955763321, 0.43939694843809163, 0.9171328411474647, 0.45043126535219624, 0.8023803066285555, 0.16936502292844535, 0.1245604914139592, 0.5389274987868156, 0.2734838916280089, 0.876697088634525, 0.2355443527815826, 0.26978249631145534, 0.12147370989678363, 0.8973753597891444, 0.9782892886244926, 0.5676821935081388, 0.5069010448239298, 0.6097103833279625, 0.5172667670580904, 0.6292573237222494, 0.4498843315726775, 0.6885592895487256, 0.4798013859942726, 0.10539630580915782, 0.02331404589380226, 0.9203011801496597, 0.8896360088055001, 0.3774667068837919, 0.07095328506105192, 0.14083953943761796, 0.39927651052593083, 0.6966567936296899, 0.6583009896402354, 0.06580671782291048, 0.25436681197347555, 0.9052319505897697, 0.7725871547230408, 0.8488841934911837, 0.6950742740830412, 0.8297927485315418, ...]  \n2                       [0.5154531370649783, 0.75222068500939, 0.21006973924904981, 0.2060160260075764, 0.6065965311432167, 0.7993965739168172, 0.7543715850555136, 0.49678195700737116, 0.4786435308539073, 0.5281619537714278, 0.15064423811334682, 0.9946161935278373, 0.6458211084309501, 0.5461702953539667, 0.3191880620117914, 0.7652757048305341, 0.32990058984314996, 0.07090476218222153, 0.4677429904341851, 0.4551552516782552, 0.8501969962066402, 0.8722593647612412, 0.7366869478458238, 0.04694081434677655, 0.20705505134873026, 0.500064940356615, 0.6860298539069913, 0.4419872613946989, 0.9019605052615748, 0.3498878442905995, 0.4915915309393972, 0.9449949284115624, 0.3556640359206864, 0.32512022169317367, 0.7214888696310654, 0.884638608222267, 0.6197029840456056, 0.22681943665755944, 0.7111093561008613, 0.829710455683661, 0.860720321743692, 0.1347181289298911, 0.5686781067963433, 0.1727130753518643, 0.8800490605315018, 0.6949795805476131, 0.21407359806160697, 0.33425181961842554, 0.30648987221316826, 0.6263878942914115, 0.7105199233435741, 0.04848287327767675, 0.3203097924335889, 0.13245634702293518, 0.48143976429933466, 0.7525828102053105, 0.9104069964701309, 0.9473857057067275, 0.14980278789459156, 0.3406587428720913, 0.5813821296934373, 0.29611829272251977, 0.7707285661924015, 0.7832162808603882, 0.8660058268765135, 0.8049876519770378, 0.8834802748313356, 0.2805577745411685, 0.7489227921781002, 0.0938840860726553, 0.3702505046978122, 0.12256762828893775, 0.8493996296408114, 0.6749430949747816, 0.8196653059248495, 0.5043335846379837, 0.47951837304912126, 0.0893344108733789, 0.2192862866209121, 0.43318691806330656, 0.04413523863063362, 0.6159411425004762, 0.887640385425673, 0.8179724375218591, 0.3479193980596481, 0.7831987018585094, 0.3659972497850339, 0.5892737152105473, 0.07064190818495808, 0.6047057937880779, 0.45244819607228715, 0.9294473408535783, 0.8008834282319803, 0.5148513637380121, 0.7778051945754967, 0.8489220523901903, 0.9939604894756692, 0.8098844476056188, 0.9654390587198034, 0.6559958078606973, ...]  \n3               [0.5108005735160162, 0.8976631958072686, 0.4123944411032441, 0.5499646343967529, 0.9255490560825306, 0.078901724607638, 0.018186491985301312, 0.6772421005088092, 0.44726111203106655, 0.1852522681769303, 0.7164212199698873, 0.3016447570423374, 0.9626338783219222, 0.6537425011358147, 0.38930596317015487, 0.9863151178922159, 0.48508731792087123, 0.6388123640726258, 0.7769909706911654, 0.5830028504774569, 0.8797817190141604, 0.15407319527421703, 0.4790356003027352, 0.6567715521229923, 0.5027264527423178, 0.3322712106371525, 0.8304203309316467, 0.7860536107561502, 0.6434654949484291, 0.38438085539402334, 0.37851255241888726, 0.6846608649447852, 0.1606703849273241, 0.05282124516830089, 0.2739671699037478, 0.001625723450263128, 0.19031066480934133, 0.28673939131214277, 0.41286044023992474, 0.080561672287077, 0.798399803801062, 0.7236511804864927, 0.3535803703056495, 0.17897247140079986, 0.38691722559200903, 0.39277820402022023, 0.8570495033931452, 0.7092202288454044, 0.35106226741577196, 0.537909822708149, 0.5989112269295712, 0.4402258320213629, 0.8925815895889638, 0.5626509017506849, 0.7041081951692278, 0.23212125956611307, 0.35196587146711045, 0.40765183921734116, 0.17724204859497716, 0.147617880053579, 0.7104920937915024, 0.0860538981351654, 0.968339910574203, 0.24420955704067404, 0.03002906200590827, 0.6726241412036336, 0.10700843146092487, 0.530556419164984, 0.42803530662017997, 0.3211651506772637, 0.733445143700939, 0.5485773524500585, 0.8662231651281129, 0.7372415687300637, 0.0800739972531237, 0.5013750166041689, 0.024279785180128854, 0.49213845072898477, 0.9402486253517709, 0.3885079818884125, 0.8670537539481418, 0.359334419620012, 0.7661740205364131, 0.026578208451281116, 0.9480645890482511, 0.42730743934514825, 0.9386271974539444, 0.287007431121701, 0.7673119914991477, 0.8675560402851581, 0.2815128339763663, 0.43731422471969483, 0.4612782245775445, 0.7693258208306144, 0.6662439081679509, 0.6182817796157262, 0.3081935898620064, 0.05101992028710811, 0.735244493038773, 0.27450697393549894, ...]  \n4   [0.7319562399022226, 0.26925269983791145, 0.3993652841263037, 0.7536349851797233, 0.39425432079071887, 0.7575019869985418, 0.7054058894483953, 0.15184106833935174, 0.9744146963861842, 0.011515048867944522, 0.10643619287601525, 0.27562900910632104, 0.07532000653642901, 0.45683093236159844, 0.9327476499765438, 0.1883873955084343, 0.8928342297947142, 0.8742354495226137, 0.6477223940940368, 0.5529328357823136, 0.008182677940068439, 0.24682754199945178, 0.2250246809576082, 0.06213186421696126, 0.1539431249378651, 0.8484944061631878, 0.9979438817049169, 0.933820955892988, 0.5939425867545558, 0.4725489570145225, 0.7452551625776526, 0.21301541573342087, 0.09814763501862389, 0.40623781003021864, 0.40041915227742253, 0.6482905291244889, 0.7043265146456763, 0.9824597076387435, 0.6582003882693036, 0.549156679030625, 0.5156697483107778, 0.2760677771661515, 0.17444832861408932, 0.9209787740498239, 0.5709891994995445, 0.019923329140188573, 0.7333831650421804, 0.06060453325620896, 0.043033474460230314, 0.8199577385903674, 0.3349142341084933, 0.06873302959697791, 0.5921636686879033, 0.5406589132281303, 0.15109587448517425, 0.6058918530223129, 0.8944749361581318, 0.21742867345105799, 0.9054741478794003, 0.22663304107736426, 0.2707159024095117, 0.5901707415239296, 0.8274990389426021, 0.8946469150980988, 0.4562737201230287, 0.5610079843002346, 0.016683893519353066, 0.5124756671021825, 0.8769175844500352, 0.9477325062316609, 0.3976339105953197, 0.16778612552079086, 0.5717249502051118, 0.1243122991718636, 0.5739015636039848, 0.08930914183596594, 0.47697184128012504, 0.4327811048513256, 0.7816284875087174, 0.24495064369230934, 0.2828217015280655, 0.11183998878162815, 0.5182468965959283, 0.9873746957316574, 0.33263832124213644, 0.6470991710105675, 0.5968194577888217, 0.7431319771584756, 0.8467653226434717, 0.7025915290822806, 0.9362822654466527, 0.9573857332330351, 0.13162535839022127, 0.2785118413580203, 0.49271035596595625, 0.07978474251490864, 0.614264371562323, 0.8630845244439348, 0.5828241445049287, 0.09314995866521347, ...]  \n5               [0.06522724600407592, 0.8647748268454665, 0.08202832477349409, 0.6934663831872904, 0.2837087528858989, 0.19653068919671035, 0.011997900222204927, 0.8336036970777535, 0.7327407171491027, 0.886577486136041, 0.049688880104789446, 0.11547221083335257, 0.21210300002937466, 0.12057519892989843, 0.17264417661965192, 0.7328079984130755, 0.26087342124890067, 0.8415309208006992, 0.45773353653184534, 0.2580274293000683, 0.9760821992643927, 0.2692462755108459, 0.6554227478053576, 0.7114453324274015, 0.6684065144968173, 0.6936298477299513, 0.13984285830017207, 0.6984886029508982, 0.17907156574536065, 0.55655074000374, 0.815183946085304, 0.5758869527157133, 0.3167816490600497, 0.08906557964401673, 0.2639359176648336, 0.7125755298114572, 0.5600038094348596, 0.9700597286376759, 0.19718025055055333, 0.6971229299461179, 0.38152885226179123, 0.40080481375107835, 0.5408046830289475, 0.47091017078500796, 0.5553190873521313, 0.2384894810292103, 0.5476281749666835, 0.4646441390407918, 0.8498106090668078, 0.6874787982760487, 0.11819958228234961, 0.553935483686212, 0.1804010022989364, 0.8596987387528539, 0.3196556951778907, 0.05088849077559121, 0.7874110569946933, 0.7865527200739788, 0.8046599659795732, 0.640341377451617, 0.8444626979138957, 0.3779030585896894, 0.2462013656034694, 0.2569108241583551, 0.7163893355401654, 0.6003096342337038, 0.3600501866099396, 0.9403632165674388, 0.17997331120758342, 0.8321044415777014, 0.04778273702372293, 0.7336359124843195, 0.7132833416734745, 0.3685960077115602, 0.03741599442242549, 0.31348352836834825, 0.13576767534805945, 0.6384105080057186, 0.1474615994329186, 0.4997214097103865, 0.3346626733570899, 0.4628194637012919, 0.12521635533227915, 0.49971295687736517, 0.5262102880800763, 0.5201945687005755, 0.07477154167111022, 0.28103882036788586, 0.8283193492209859, 0.5875155886996888, 0.5054787120308406, 0.8606067667744777, 0.9268286527320951, 0.557357064823762, 0.028291570925959908, 0.21928065412417208, 0.7134897174013912, 0.532357243355467, 0.657108478599606, 0.573170328821347, ...]  \n6               [0.5384580684920278, 0.7369602317250217, 0.5326509505018057, 0.34787088837152746, 0.5093614225337941, 0.33659732816229226, 0.22647981063182565, 0.6528383067294609, 0.39448619134058127, 0.9907933991244865, 0.5098479002336196, 0.8386101011949901, 0.5710673760428958, 0.9518592983031591, 0.6783292980781368, 0.29836614806128126, 0.48880824578705173, 0.10973232089186402, 0.7051471992935694, 0.12761887003215489, 0.4677355966909592, 0.4393144106390835, 0.31246911098948327, 0.8400894866088241, 0.9813950264210826, 0.5869406332711394, 0.7127017569358397, 0.8995745227658636, 0.6395794762521716, 0.839184882857862, 0.8360412840460889, 0.27325831949793, 0.6224116265640603, 0.7393130307597819, 0.0020750239968782003, 0.6136024608695659, 0.5802829236120376, 0.9713125877496998, 0.9659409478629702, 0.13567783068783645, 0.5207866197773137, 0.8120627402691705, 0.5881681534140812, 0.4238788364816525, 0.05653269201066824, 0.5555292350449854, 0.5681493190385756, 0.07447408916511988, 0.6061379193011089, 0.15879525658083238, 0.6881861026583709, 0.03735699006936699, 0.2877432786116537, 0.7437872792263416, 0.41624381889777406, 0.06893665779201763, 0.3984261761575023, 0.7175952563742051, 0.9578508769592797, 0.8631979947421312, 0.5749619217803886, 0.4777892918517047, 0.912459981304664, 0.659914594124498, 0.09088653971942962, 0.1871451428675599, 0.2860426577462386, 0.6178455126651504, 0.39820440816976066, 0.07227009636389603, 0.6190595628429711, 0.41537875957952686, 0.9530546750511307, 0.5651412960568573, 0.8080876172691644, 0.5984742698800062, 0.31251194805203875, 0.3253435407284495, 0.30235681630943523, 0.5154006448915496, 0.1550554725528035, 0.9731767144251616, 0.9464962249500967, 0.6997031830261146, 0.7090404660322664, 0.21016381008734186, 0.9319712128182246, 0.7608406389645519, 0.6117086294084861, 0.021771881421699724, 0.9734362101276863, 0.3858225761455829, 0.6374438971779205, 0.9508885405091829, 0.4185753443208874, 0.5509431769274007, 0.2791386600419392, 0.8734815064563848, 0.24409120685852792, 0.8551062620873174, ...]  \n7         [0.9051058474214251, 0.1543064459286806, 0.1478856839756626, 0.09596177633172465, 0.2729625626891933, 0.4986966960782979, 0.1388652317525616, 0.28770084210664937, 0.11824001339792412, 0.35465838920624027, 0.06746373400020322, 0.04478153074021218, 0.31908445993910683, 0.49534746060937185, 0.5126873008058672, 0.27134430285558686, 0.7203836725168108, 0.8511921636933315, 0.16204509650491994, 0.8390249225052288, 0.45073228846948, 0.22000423224695442, 0.3630117794770348, 0.44254089230264515, 0.6458829453070085, 0.6934340139419956, 0.13804469503476446, 0.7031483911952526, 0.25834333036927315, 0.16288222893302318, 0.6437700996643028, 0.7588787119710443, 0.4937335278463172, 0.18977262886877733, 0.6926895191375235, 0.8883655884668086, 0.3520697403163837, 0.4771423010983987, 0.5010137244995838, 0.7540307169613584, 0.3719779541642475, 0.4754413703736341, 0.6886391760903682, 0.7685054204485119, 0.03627662000368148, 0.2323153677587827, 0.211172890615967, 0.48192533266833304, 0.3333049149230277, 0.019997142206532148, 0.8196422955387174, 0.15914973290211631, 0.43689328498023194, 0.99678297352504, 0.4829293600367448, 0.2959028516492007, 0.7880307649816213, 0.4702090910814579, 0.9155456571449033, 0.2809065100096104, 0.7137380796516987, 0.2418807893288959, 0.41005007326402576, 0.448190865069348, 0.43636158458261043, 0.33088804884781164, 0.5060603764300127, 0.0779233376392151, 0.0936913245317883, 0.8485262490200174, 0.2641762569236654, 0.21989762195166107, 0.2895800423868379, 0.545821359308631, 0.620665208171679, 0.20345143790899323, 0.90367876201661, 0.3378123752827742, 0.013964487597474706, 0.009241592057616987, 0.08266679483054151, 0.4153260912376112, 0.11277366063952121, 0.9682331162551786, 0.7104205996378029, 0.8434386794323921, 0.6319185053141625, 0.6876282243037674, 0.7603734203846636, 0.6332537369439217, 0.004706216030404775, 0.39164493120069543, 0.36141015929995834, 0.6451970491686813, 0.21257465815164633, 0.8714104851498624, 0.33920327170040143, 0.6037232720638264, 0.5734162046552113, 0.18809054283320914, ...]  \n8             [0.24458695003443276, 0.21945117861843222, 0.389902390260653, 0.05249444115301505, 0.13012107589052802, 0.23779932760429534, 0.007870513304554794, 0.6653471039938329, 0.2438092920982634, 0.3734262188699209, 0.7030560498694662, 0.47078314978612257, 0.13026449555158337, 0.08879471833313246, 0.6702356987609049, 0.8377687131482181, 0.7783437716900723, 0.33035973215489, 0.34784754804809814, 0.9345602720043259, 0.03510986819728401, 0.25844177113362543, 0.9332418389326526, 0.4354933628789647, 0.5435016485378747, 0.6390162827133969, 0.68426333651711, 0.8103102311014824, 0.35048270561397354, 0.3887491548669233, 0.5856578025822237, 0.9514593520773172, 0.5492668581695024, 0.7226269195424944, 0.8181719555637454, 0.07022881619335086, 0.6056408208718783, 0.3134861188782756, 0.9780160157539224, 0.2468273060288262, 0.4962124936632688, 0.7775615342109776, 0.9749636699055979, 0.1746290055299654, 0.5087253049176967, 0.8642368011104788, 0.07206859630715723, 0.73226434931144, 0.703872326930057, 0.23170136300424782, 0.5046420939429496, 0.8426642952407019, 0.08592961017531475, 0.9228235881870205, 0.7200058842689592, 0.899476635732479, 0.9898276598937507, 0.8762336734698687, 0.2269142243037866, 0.6209525366855325, 0.9009118908688644, 0.5646831705725744, 0.7983066943310739, 0.9324004030452148, 0.36716810449734316, 0.9140470083224992, 0.22709825966613562, 0.0021076259271443076, 0.9687671335511336, 0.7408406380043983, 0.8782007061123085, 0.44960839237436623, 0.8045718202247668, 0.0036029984600995935, 0.8322864791886979, 0.46093576291498883, 0.9586250528314683, 0.9515376262397335, 0.6310121913721635, 0.19643320544422116, 0.484722881439158, 0.7765701729268255, 0.19151323669757936, 0.7400519366740482, 0.4408411935012393, 0.7250935202646165, 0.09707343841479266, 0.5458852679355126, 0.7873310260643428, 0.29723643848838666, 0.32775828430731313, 0.7448759373989632, 0.133959859066901, 0.6293574300836507, 0.47669406707193396, 0.6806209025987224, 0.9533756349261958, 0.34240638341591356, 0.30070517483607895, 0.27406709913331395, ...]  \n9                             [0.3450566766105436, 0.8093263672125816, 0.03373519128708047, 0.12659224990630136, 0.8368477486923906, 0.7793481477492781, 0.5888522538338179, 0.6210206525142379, 0.6405921114365744, 0.4178208782447147, 0.6621129462853304, 0.546131847392095, 0.5830007283634518, 0.5198845480166265, 0.884798506898421, 0.5665548762847281, 0.7618145750534042, 0.8229630648301306, 0.4265046667609409, 0.14337388015845287, 0.7482025005649082, 0.8577718908494185, 0.7045004643816248, 0.5068307992224464, 0.9531935217878771, 0.5059061241849423, 0.7182564654659911, 0.2067414579454433, 0.569869282750005, 0.30791542787008364, 0.06405074757670082, 0.8700104943930475, 0.9743915377451156, 0.516964992900795, 0.37962580023428405, 0.5853511526760992, 0.9941809684818677, 0.664808307211536, 0.654119575108053, 0.31092694830257006, 0.1916718753663681, 0.3449625181844054, 0.3208482965314179, 0.9061401778984325, 0.3623028821383889, 0.7465623450431816, 0.23951491496378852, 0.07675651261878269, 0.8806842174822596, 0.90267797424588, 0.6062145867896639, 0.14378732707331177, 0.41298069541116633, 0.8901168378837729, 0.6053948359494622, 0.5310381758687023, 0.05436137465193225, 0.8058100226035111, 0.4625511836117224, 0.0679438966951238, 0.8651567285771838, 0.2844977345085611, 0.580394824849598, 0.8451850022001532, 0.5153114828192042, 0.9404143969384546, 0.09905546743625315, 0.7337133545824187, 0.0008512689442748966, 0.42741464739741075, 0.2772442324219968, 0.16823697520017056, 0.6329606040167303, 0.444694899022577, 0.6248370288396273, 0.5527142778165202, 0.5794650933892136, 0.678819909101363, 0.16513533113679013, 0.327092233119307, 0.9185451919767826, 0.6927261389014557, 0.9055796456828155, 0.37801963387219095, 0.9775546169157405, 0.6703169227608947, 0.8984964769463112, 0.3011940270171376, 0.22200408595888155, 0.34381483381625855, 0.36109512487193085, 0.5088784837094069, 0.595702296945284, 0.4539368203131796, 0.5606141644780507, 0.6170560318683268, 0.9828595918851577, 0.8156877872904165, 0.6015845975305766, 0.3757876179735241, ...]  \n10           [0.6847432638911938, 0.5327981725510166, 0.8959554287839588, 0.32297995506876953, 0.7649756206511107, 0.37877191128406873, 0.8672886558918241, 0.9018379664951047, 0.692828864762813, 0.06486240696861867, 0.6041208769961319, 0.3616892282214892, 0.6288243357759922, 0.04811857071275161, 0.48028889687129284, 0.3418431915604808, 0.015451601821554584, 0.923084801099997, 0.3164522003131698, 0.020711657982599885, 0.6560636089363024, 0.7298564769268112, 0.5950223206817448, 0.9299681454187673, 0.43710825590608726, 0.9340998300761967, 0.5632234109323421, 0.6932203436323232, 0.31007425742245953, 0.6648767865986762, 0.4257084778027096, 0.6224136100211817, 0.4100362095835902, 0.42574480235883216, 0.719200094243051, 0.561670395608259, 0.816148272177402, 0.023897767051979546, 0.9317590905483998, 0.6926520035197617, 0.2873341354906729, 0.5960404666921694, 0.19830555201809297, 0.9599036631976203, 0.349138744041397, 0.009758078564439776, 0.9244716261890008, 0.4879205676080909, 0.37673532412582145, 0.5587339587856804, 0.6088672800097997, 0.5098112964465746, 0.43869077290071246, 0.03948022107351934, 0.4373916811369054, 0.9629883226396437, 0.01001656487685465, 0.38421142408571074, 0.09721925987318114, 0.5890498618724987, 0.6577719775268638, 0.6565748893256189, 0.6158304235234132, 0.8977474696117005, 0.41260976014777895, 0.7556184109133822, 0.5523372504456232, 0.4354734399198482, 0.5022436131557677, 0.6727748896835504, 0.7484466912998565, 0.34231962177303166, 0.9597156644147385, 0.9887209023268454, 0.7946651400782473, 0.5917375425686013, 0.9342179088760423, 0.319184155249184, 0.8692794883068381, 0.37172713281886904, 0.893886010009011, 0.40214814017790745, 0.598213973460963, 0.8110948394597826, 0.07614484667311439, 0.5409657779379078, 0.9503965701681579, 0.9813926674913124, 0.7075582796094906, 0.17279997309496553, 0.6279928818433586, 0.9617432219458754, 0.09784403059869728, 0.39863452793289533, 0.5884600951246404, 0.22855127306200262, 0.27405777565272216, 0.08466238268527593, 0.04864715007177434, 0.04680235809652811, ...]  \n11            [0.9367464498479617, 0.6936878539899733, 0.2204385901611372, 0.34658613316352194, 0.9377834455912634, 0.4261734961219861, 0.9512700046174593, 0.3197676835409259, 0.2648406285647621, 0.7736336542821697, 0.15373979732895737, 0.37894068996090036, 0.29296365239020516, 0.12195348614704526, 0.7766019901335917, 0.3821635418041932, 0.7752127054954607, 0.7865003639058459, 0.08208284737082738, 0.24997980578531853, 0.1730087490157327, 0.4458398932776816, 0.29731639844520774, 0.07281555697459308, 0.8058153052516658, 0.22237520707939118, 0.22687171859704747, 0.4353787644462074, 0.8042792489367183, 0.4024763071073876, 0.767064814144737, 0.5791196820952458, 0.23393995140305246, 0.15842072923704165, 0.03729365461879541, 0.37043355528075217, 0.7216776930712863, 0.08251228303427682, 0.755350823785983, 0.8751966914904048, 0.26725735310268295, 0.5701992022994637, 0.569880912494681, 0.6807588395050866, 0.9492715355721216, 0.4930559633886874, 0.7749358755071205, 0.9732173732062704, 0.8390219327958174, 0.9733732441318843, 0.5134962331484588, 0.9774280950531015, 0.735602709775878, 0.8380181994742011, 0.02158932195161356, 0.14665379666348488, 0.9884478429361346, 0.3937041081069539, 0.6531635644834737, 0.02561397667520593, 0.009276884689628728, 0.4007557470913432, 0.7938016984575018, 0.8169109491125991, 0.5019804196890919, 0.4307517434921738, 0.9462018153529258, 0.2564921011652095, 0.14972934743428556, 0.7423439338968286, 0.4442749039206052, 0.16292233037029002, 0.2913108559637819, 0.9118877308219691, 0.49993710491145094, 0.14903517130832145, 0.3016346103993548, 0.8821792668221295, 0.5398618312522148, 0.7523305372916947, 0.9639823034563695, 0.843046128226915, 0.9058016395391326, 0.8472006421291091, 0.43613273733243496, 0.850997374062239, 0.45187340207658033, 0.4435655709145011, 0.09397862390052925, 0.7738878576741605, 0.08638424378689902, 0.6919579745261466, 0.44615175719834343, 0.9465402820002509, 0.5343086338385485, 0.5779393229809405, 0.14295205986056292, 0.2295536182140011, 0.9228868691515583, 0.5032807011902504, ...]  ",
      "text/html": "<div>\n<style scoped>\n    .dataframe tbody tr th:only-of-type {\n        vertical-align: middle;\n    }\n\n    .dataframe tbody tr th {\n        vertical-align: top;\n    }\n\n    .dataframe thead th {\n        text-align: right;\n    }\n</style>\n<table border=\"1\" class=\"dataframe\">\n  <thead>\n    <tr style=\"text-align: right;\">\n      <th></th>\n      <th>description</th>\n      <th>vector</th>\n    </tr>\n  </thead>\n  <tbody>\n    <tr>\n      <th>0</th>\n      <td>Describe Derby Shoes, a product featuring lightweight, comfortable, waterproof a must for your everyday wearing. Category: Shoes.</td>\n      <td>[0.8896945253525599, 0.7448286122213863, 0.6351418345878984, 0.8649276333752077, 0.3097017063588594, 0.2396114412579664, 0.9672781271320097, 0.21455924443545005, 0.8470617968651474, 0.24465121536493384, 0.4929849309701937, 0.6858291803328319, 0.00718453294228294, 0.5296479727287285, 0.8400806951812507, 0.7013604877207389, 0.9462790895816537, 0.2466760661580707, 0.8505128640501569, 0.17657664975874188, 0.9154436956628746, 0.5613901224763548, 0.8586433931169607, 0.9100015808727397, 0.7104927615550981, 0.8460191377905383, 0.7573116979835844, 0.07574703666191052, 0.40695798833344177, 0.32960890369004214, 0.08460686895567193, 0.17200653943444677, 0.41966828709962234, 0.8086638141560406, 0.13049274911489017, 0.8777906871638251, 0.2149228269475153, 0.8845965422820373, 0.647242129102726, 0.9065396383491025, 0.6841476907190094, 0.8386252852710585, 0.5150017278385318, 0.7922699260204691, 0.4782182071337504, 0.31290088099932534, 0.9113388071358833, 0.8791596250933504, 0.7837108271912376, 0.5679251419310938, 0.006017729368619995, 0.24579922550867683, 0.8014612000868403, 0.006914067230468057, 0.37622517098854324, 0.5323408950565676, 0.5890568613078351, 0.273062155942, 0.8353586300552364, 0.2019740981589332, 0.2580378940654332, 0.6818335783930479, 0.5727208129600296, 0.4770805522811322, 0.3924879503656672, 0.9115883430163774, 0.09787492880127147, 0.9074396444418605, 0.9058849727484516, 0.8515518189809399, 0.919723871496658, 0.5336868496420144, 0.4803489108174076, 0.06677097845373137, 0.7389173419560436, 0.23017056753001774, 0.5909400327904454, 0.6674268227498836, 0.0009956638095164339, 0.03441144956165665, 0.9653937366290009, 0.5176537063013179, 0.18582234417006727, 0.5901521042373828, 0.9582474460826448, 0.2132431582773664, 0.8307129531772599, 0.19464125489302386, 0.9887280856532707, 0.9229174535441681, 0.0794527312455886, 0.8024459104015272, 0.3304117898921787, 0.7067855087016613, 0.564913241440923, 0.7315632120464566, 0.5294398261460086, 0.9342061075171328, 0.5493521878835833, 0.6898791177496788, ...]</td>\n    </tr>\n    <tr>\n      <th>1</th>\n      <td>Describe Trainers, a product featuring waterproof, durable, lightweight Made from the same design as those used by the Olympic athletes, Trainers is made from 100s of fibers and uses 10 million fibers. An extremely light and air conditioned system Category: General Merchandise.</td>\n      <td>[0.8839655835212723, 0.7174859634628526, 0.453388673244297, 0.5037835531303185, 0.9389052165908514, 0.5410123017145223, 0.7394359084704154, 0.027131795305423756, 0.831904030932737, 0.5352162248128347, 0.34529236287163556, 0.7469858256108887, 0.2666785306147973, 0.2804201251583266, 0.15491459995004342, 0.777200051907372, 0.25523578135300906, 0.8382295549204547, 0.4665336871265513, 0.893402661971062, 0.40934817250060884, 0.4140595329590355, 0.228285126845842, 0.7920847636300624, 0.7198872662435319, 0.05386325190307906, 0.6610080819878454, 0.37767058334390546, 0.4907539086819699, 0.12320114970574281, 0.4082678996854857, 0.8152624422329386, 0.9504620504364618, 0.06685555711018043, 0.14019007619245394, 0.4431739675566504, 0.19602020334719816, 0.23188106979391443, 0.15429875233173562, 0.46675124976273696, 0.81660190695213, 0.3869854326119275, 0.6708200698641348, 0.0489079485319589, 0.26853443937599697, 0.5164189115072271, 0.01661324207018089, 0.20659070213156505, 0.33666069727235926, 0.6667552149923786, 0.06447231511308726, 0.20905849452736658, 0.14974044562337796, 0.9862591673004789, 0.5603820193170533, 0.7351282383726346, 0.7266016446250021, 0.5766238078306368, 0.6017234473485062, 0.9694402778965945, 0.8303317955763321, 0.43939694843809163, 0.9171328411474647, 0.45043126535219624, 0.8023803066285555, 0.16936502292844535, 0.1245604914139592, 0.5389274987868156, 0.2734838916280089, 0.876697088634525, 0.2355443527815826, 0.26978249631145534, 0.12147370989678363, 0.8973753597891444, 0.9782892886244926, 0.5676821935081388, 0.5069010448239298, 0.6097103833279625, 0.5172667670580904, 0.6292573237222494, 0.4498843315726775, 0.6885592895487256, 0.4798013859942726, 0.10539630580915782, 0.02331404589380226, 0.9203011801496597, 0.8896360088055001, 0.3774667068837919, 0.07095328506105192, 0.14083953943761796, 0.39927651052593083, 0.6966567936296899, 0.6583009896402354, 0.06580671782291048, 0.25436681197347555, 0.9052319505897697, 0.7725871547230408, 0.8488841934911837, 0.6950742740830412, 0.8297927485315418, ...]</td>\n    </tr>\n    <tr>\n      <th>2</th>\n      <td>Describe Chelsea boots, a product featuring durable, lightweight, waterproof email protected I don't want to have to pick between boots, I love them They have great breathability and will not leave my feet unattended, but they're really lightweight and have a really great breath Category: General Merchandise.</td>\n      <td>[0.5154531370649783, 0.75222068500939, 0.21006973924904981, 0.2060160260075764, 0.6065965311432167, 0.7993965739168172, 0.7543715850555136, 0.49678195700737116, 0.4786435308539073, 0.5281619537714278, 0.15064423811334682, 0.9946161935278373, 0.6458211084309501, 0.5461702953539667, 0.3191880620117914, 0.7652757048305341, 0.32990058984314996, 0.07090476218222153, 0.4677429904341851, 0.4551552516782552, 0.8501969962066402, 0.8722593647612412, 0.7366869478458238, 0.04694081434677655, 0.20705505134873026, 0.500064940356615, 0.6860298539069913, 0.4419872613946989, 0.9019605052615748, 0.3498878442905995, 0.4915915309393972, 0.9449949284115624, 0.3556640359206864, 0.32512022169317367, 0.7214888696310654, 0.884638608222267, 0.6197029840456056, 0.22681943665755944, 0.7111093561008613, 0.829710455683661, 0.860720321743692, 0.1347181289298911, 0.5686781067963433, 0.1727130753518643, 0.8800490605315018, 0.6949795805476131, 0.21407359806160697, 0.33425181961842554, 0.30648987221316826, 0.6263878942914115, 0.7105199233435741, 0.04848287327767675, 0.3203097924335889, 0.13245634702293518, 0.48143976429933466, 0.7525828102053105, 0.9104069964701309, 0.9473857057067275, 0.14980278789459156, 0.3406587428720913, 0.5813821296934373, 0.29611829272251977, 0.7707285661924015, 0.7832162808603882, 0.8660058268765135, 0.8049876519770378, 0.8834802748313356, 0.2805577745411685, 0.7489227921781002, 0.0938840860726553, 0.3702505046978122, 0.12256762828893775, 0.8493996296408114, 0.6749430949747816, 0.8196653059248495, 0.5043335846379837, 0.47951837304912126, 0.0893344108733789, 0.2192862866209121, 0.43318691806330656, 0.04413523863063362, 0.6159411425004762, 0.887640385425673, 0.8179724375218591, 0.3479193980596481, 0.7831987018585094, 0.3659972497850339, 0.5892737152105473, 0.07064190818495808, 0.6047057937880779, 0.45244819607228715, 0.9294473408535783, 0.8008834282319803, 0.5148513637380121, 0.7778051945754967, 0.8489220523901903, 0.9939604894756692, 0.8098844476056188, 0.9654390587198034, 0.6559958078606973, ...]</td>\n    </tr>\n    <tr>\n      <th>3</th>\n      <td>Describe SoftMove Sports tights, a product featuring comfortable, lightweight, waterproof SoftMove Sports products deliver the ultimate in comfort, weight, fit, and comfort. The Tilt softback design is designed to help you find traction on roads where it is useful Category: Accessories.</td>\n      <td>[0.5108005735160162, 0.8976631958072686, 0.4123944411032441, 0.5499646343967529, 0.9255490560825306, 0.078901724607638, 0.018186491985301312, 0.6772421005088092, 0.44726111203106655, 0.1852522681769303, 0.7164212199698873, 0.3016447570423374, 0.9626338783219222, 0.6537425011358147, 0.38930596317015487, 0.9863151178922159, 0.48508731792087123, 0.6388123640726258, 0.7769909706911654, 0.5830028504774569, 0.8797817190141604, 0.15407319527421703, 0.4790356003027352, 0.6567715521229923, 0.5027264527423178, 0.3322712106371525, 0.8304203309316467, 0.7860536107561502, 0.6434654949484291, 0.38438085539402334, 0.37851255241888726, 0.6846608649447852, 0.1606703849273241, 0.05282124516830089, 0.2739671699037478, 0.001625723450263128, 0.19031066480934133, 0.28673939131214277, 0.41286044023992474, 0.080561672287077, 0.798399803801062, 0.7236511804864927, 0.3535803703056495, 0.17897247140079986, 0.38691722559200903, 0.39277820402022023, 0.8570495033931452, 0.7092202288454044, 0.35106226741577196, 0.537909822708149, 0.5989112269295712, 0.4402258320213629, 0.8925815895889638, 0.5626509017506849, 0.7041081951692278, 0.23212125956611307, 0.35196587146711045, 0.40765183921734116, 0.17724204859497716, 0.147617880053579, 0.7104920937915024, 0.0860538981351654, 0.968339910574203, 0.24420955704067404, 0.03002906200590827, 0.6726241412036336, 0.10700843146092487, 0.530556419164984, 0.42803530662017997, 0.3211651506772637, 0.733445143700939, 0.5485773524500585, 0.8662231651281129, 0.7372415687300637, 0.0800739972531237, 0.5013750166041689, 0.024279785180128854, 0.49213845072898477, 0.9402486253517709, 0.3885079818884125, 0.8670537539481418, 0.359334419620012, 0.7661740205364131, 0.026578208451281116, 0.9480645890482511, 0.42730743934514825, 0.9386271974539444, 0.287007431121701, 0.7673119914991477, 0.8675560402851581, 0.2815128339763663, 0.43731422471969483, 0.4612782245775445, 0.7693258208306144, 0.6662439081679509, 0.6182817796157262, 0.3081935898620064, 0.05101992028710811, 0.735244493038773, 0.27450697393549894, ...]</td>\n    </tr>\n    <tr>\n      <th>4</th>\n      <td>Describe DryMove Seamless Sports tights, a product featuring stylish, lightweight, comfortable A new kind of dry lifting sport A fresh start for new coaches No more grip like racking A new version of the new S Category: Accessories.</td>\n      <td>[0.7319562399022226, 0.26925269983791145, 0.3993652841263037, 0.7536349851797233, 0.39425432079071887, 0.7575019869985418, 0.7054058894483953, 0.15184106833935174, 0.9744146963861842, 0.011515048867944522, 0.10643619287601525, 0.27562900910632104, 0.07532000653642901, 0.45683093236159844, 0.9327476499765438, 0.1883873955084343, 0.8928342297947142, 0.8742354495226137, 0.6477223940940368, 0.5529328357823136, 0.008182677940068439, 0.24682754199945178, 0.2250246809576082, 0.06213186421696126, 0.1539431249378651, 0.8484944061631878, 0.9979438817049169, 0.933820955892988, 0.5939425867545558, 0.4725489570145225, 0.7452551625776526, 0.21301541573342087, 0.09814763501862389, 0.40623781003021864, 0.40041915227742253, 0.6482905291244889, 0.7043265146456763, 0.9824597076387435, 0.6582003882693036, 0.549156679030625, 0.5156697483107778, 0.2760677771661515, 0.17444832861408932, 0.9209787740498239, 0.5709891994995445, 0.019923329140188573, 0.7333831650421804, 0.06060453325620896, 0.043033474460230314, 0.8199577385903674, 0.3349142341084933, 0.06873302959697791, 0.5921636686879033, 0.5406589132281303, 0.15109587448517425, 0.6058918530223129, 0.8944749361581318, 0.21742867345105799, 0.9054741478794003, 0.22663304107736426, 0.2707159024095117, 0.5901707415239296, 0.8274990389426021, 0.8946469150980988, 0.4562737201230287, 0.5610079843002346, 0.016683893519353066, 0.5124756671021825, 0.8769175844500352, 0.9477325062316609, 0.3976339105953197, 0.16778612552079086, 0.5717249502051118, 0.1243122991718636, 0.5739015636039848, 0.08930914183596594, 0.47697184128012504, 0.4327811048513256, 0.7816284875087174, 0.24495064369230934, 0.2828217015280655, 0.11183998878162815, 0.5182468965959283, 0.9873746957316574, 0.33263832124213644, 0.6470991710105675, 0.5968194577888217, 0.7431319771584756, 0.8467653226434717, 0.7025915290822806, 0.9362822654466527, 0.9573857332330351, 0.13162535839022127, 0.2785118413580203, 0.49271035596595625, 0.07978474251490864, 0.614264371562323, 0.8630845244439348, 0.5828241445049287, 0.09314995866521347, ...]</td>\n    </tr>\n    <tr>\n      <th>5</th>\n      <td>Describe COOLMAX Regular Fit T shirt, a product featuring lightweight, durable, comfortable You can easily design and wear an outfit with this shirt, which is super soft, soft and has a lightweight feel. The elasticity and stretch makes this shirt especially comfortable to wear Category: Apparel.</td>\n      <td>[0.06522724600407592, 0.8647748268454665, 0.08202832477349409, 0.6934663831872904, 0.2837087528858989, 0.19653068919671035, 0.011997900222204927, 0.8336036970777535, 0.7327407171491027, 0.886577486136041, 0.049688880104789446, 0.11547221083335257, 0.21210300002937466, 0.12057519892989843, 0.17264417661965192, 0.7328079984130755, 0.26087342124890067, 0.8415309208006992, 0.45773353653184534, 0.2580274293000683, 0.9760821992643927, 0.2692462755108459, 0.6554227478053576, 0.7114453324274015, 0.6684065144968173, 0.6936298477299513, 0.13984285830017207, 0.6984886029508982, 0.17907156574536065, 0.55655074000374, 0.815183946085304, 0.5758869527157133, 0.3167816490600497, 0.08906557964401673, 0.2639359176648336, 0.7125755298114572, 0.5600038094348596, 0.9700597286376759, 0.19718025055055333, 0.6971229299461179, 0.38152885226179123, 0.40080481375107835, 0.5408046830289475, 0.47091017078500796, 0.5553190873521313, 0.2384894810292103, 0.5476281749666835, 0.4646441390407918, 0.8498106090668078, 0.6874787982760487, 0.11819958228234961, 0.553935483686212, 0.1804010022989364, 0.8596987387528539, 0.3196556951778907, 0.05088849077559121, 0.7874110569946933, 0.7865527200739788, 0.8046599659795732, 0.640341377451617, 0.8444626979138957, 0.3779030585896894, 0.2462013656034694, 0.2569108241583551, 0.7163893355401654, 0.6003096342337038, 0.3600501866099396, 0.9403632165674388, 0.17997331120758342, 0.8321044415777014, 0.04778273702372293, 0.7336359124843195, 0.7132833416734745, 0.3685960077115602, 0.03741599442242549, 0.31348352836834825, 0.13576767534805945, 0.6384105080057186, 0.1474615994329186, 0.4997214097103865, 0.3346626733570899, 0.4628194637012919, 0.12521635533227915, 0.49971295687736517, 0.5262102880800763, 0.5201945687005755, 0.07477154167111022, 0.28103882036788586, 0.8283193492209859, 0.5875155886996888, 0.5054787120308406, 0.8606067667744777, 0.9268286527320951, 0.557357064823762, 0.028291570925959908, 0.21928065412417208, 0.7134897174013912, 0.532357243355467, 0.657108478599606, 0.573170328821347, ...]</td>\n    </tr>\n    <tr>\n      <th>6</th>\n      <td>Describe Quilted crossbody bag, a product featuring comfortable, lightweight, waterproof Cargo 5 oz Grip 0.04 Capacity 5 x 0.04 x 0.04 Size 5 x 0.04 x 0 Category: Accessories.</td>\n      <td>[0.5384580684920278, 0.7369602317250217, 0.5326509505018057, 0.34787088837152746, 0.5093614225337941, 0.33659732816229226, 0.22647981063182565, 0.6528383067294609, 0.39448619134058127, 0.9907933991244865, 0.5098479002336196, 0.8386101011949901, 0.5710673760428958, 0.9518592983031591, 0.6783292980781368, 0.29836614806128126, 0.48880824578705173, 0.10973232089186402, 0.7051471992935694, 0.12761887003215489, 0.4677355966909592, 0.4393144106390835, 0.31246911098948327, 0.8400894866088241, 0.9813950264210826, 0.5869406332711394, 0.7127017569358397, 0.8995745227658636, 0.6395794762521716, 0.839184882857862, 0.8360412840460889, 0.27325831949793, 0.6224116265640603, 0.7393130307597819, 0.0020750239968782003, 0.6136024608695659, 0.5802829236120376, 0.9713125877496998, 0.9659409478629702, 0.13567783068783645, 0.5207866197773137, 0.8120627402691705, 0.5881681534140812, 0.4238788364816525, 0.05653269201066824, 0.5555292350449854, 0.5681493190385756, 0.07447408916511988, 0.6061379193011089, 0.15879525658083238, 0.6881861026583709, 0.03735699006936699, 0.2877432786116537, 0.7437872792263416, 0.41624381889777406, 0.06893665779201763, 0.3984261761575023, 0.7175952563742051, 0.9578508769592797, 0.8631979947421312, 0.5749619217803886, 0.4777892918517047, 0.912459981304664, 0.659914594124498, 0.09088653971942962, 0.1871451428675599, 0.2860426577462386, 0.6178455126651504, 0.39820440816976066, 0.07227009636389603, 0.6190595628429711, 0.41537875957952686, 0.9530546750511307, 0.5651412960568573, 0.8080876172691644, 0.5984742698800062, 0.31251194805203875, 0.3253435407284495, 0.30235681630943523, 0.5154006448915496, 0.1550554725528035, 0.9731767144251616, 0.9464962249500967, 0.6997031830261146, 0.7090404660322664, 0.21016381008734186, 0.9319712128182246, 0.7608406389645519, 0.6117086294084861, 0.021771881421699724, 0.9734362101276863, 0.3858225761455829, 0.6374438971779205, 0.9508885405091829, 0.4185753443208874, 0.5509431769274007, 0.2791386600419392, 0.8734815064563848, 0.24409120685852792, 0.8551062620873174, ...]</td>\n    </tr>\n    <tr>\n      <th>7</th>\n      <td>Describe Leather belt, a product featuring durable, stylish, lightweight Every brand has a unique design, unique design, unique design to go with it. So what would you find among these two, something that goes along with their unique brand, or are all in one one place, and that Category: Accessories.</td>\n      <td>[0.9051058474214251, 0.1543064459286806, 0.1478856839756626, 0.09596177633172465, 0.2729625626891933, 0.4986966960782979, 0.1388652317525616, 0.28770084210664937, 0.11824001339792412, 0.35465838920624027, 0.06746373400020322, 0.04478153074021218, 0.31908445993910683, 0.49534746060937185, 0.5126873008058672, 0.27134430285558686, 0.7203836725168108, 0.8511921636933315, 0.16204509650491994, 0.8390249225052288, 0.45073228846948, 0.22000423224695442, 0.3630117794770348, 0.44254089230264515, 0.6458829453070085, 0.6934340139419956, 0.13804469503476446, 0.7031483911952526, 0.25834333036927315, 0.16288222893302318, 0.6437700996643028, 0.7588787119710443, 0.4937335278463172, 0.18977262886877733, 0.6926895191375235, 0.8883655884668086, 0.3520697403163837, 0.4771423010983987, 0.5010137244995838, 0.7540307169613584, 0.3719779541642475, 0.4754413703736341, 0.6886391760903682, 0.7685054204485119, 0.03627662000368148, 0.2323153677587827, 0.211172890615967, 0.48192533266833304, 0.3333049149230277, 0.019997142206532148, 0.8196422955387174, 0.15914973290211631, 0.43689328498023194, 0.99678297352504, 0.4829293600367448, 0.2959028516492007, 0.7880307649816213, 0.4702090910814579, 0.9155456571449033, 0.2809065100096104, 0.7137380796516987, 0.2418807893288959, 0.41005007326402576, 0.448190865069348, 0.43636158458261043, 0.33088804884781164, 0.5060603764300127, 0.0779233376392151, 0.0936913245317883, 0.8485262490200174, 0.2641762569236654, 0.21989762195166107, 0.2895800423868379, 0.545821359308631, 0.620665208171679, 0.20345143790899323, 0.90367876201661, 0.3378123752827742, 0.013964487597474706, 0.009241592057616987, 0.08266679483054151, 0.4153260912376112, 0.11277366063952121, 0.9682331162551786, 0.7104205996378029, 0.8434386794323921, 0.6319185053141625, 0.6876282243037674, 0.7603734203846636, 0.6332537369439217, 0.004706216030404775, 0.39164493120069543, 0.36141015929995834, 0.6451970491686813, 0.21257465815164633, 0.8714104851498624, 0.33920327170040143, 0.6037232720638264, 0.5734162046552113, 0.18809054283320914, ...]</td>\n    </tr>\n    <tr>\n      <th>8</th>\n      <td>Describe HCat eye sunglasses, a product featuring stylish, waterproof, lightweight HCat eye sunglasses have a high reflective barrier, which are known as polycarbonate. The reflective coating improves visibility, while the material gives a clean, soft surface and keeps you warm and dry Category: Accessories.</td>\n      <td>[0.24458695003443276, 0.21945117861843222, 0.389902390260653, 0.05249444115301505, 0.13012107589052802, 0.23779932760429534, 0.007870513304554794, 0.6653471039938329, 0.2438092920982634, 0.3734262188699209, 0.7030560498694662, 0.47078314978612257, 0.13026449555158337, 0.08879471833313246, 0.6702356987609049, 0.8377687131482181, 0.7783437716900723, 0.33035973215489, 0.34784754804809814, 0.9345602720043259, 0.03510986819728401, 0.25844177113362543, 0.9332418389326526, 0.4354933628789647, 0.5435016485378747, 0.6390162827133969, 0.68426333651711, 0.8103102311014824, 0.35048270561397354, 0.3887491548669233, 0.5856578025822237, 0.9514593520773172, 0.5492668581695024, 0.7226269195424944, 0.8181719555637454, 0.07022881619335086, 0.6056408208718783, 0.3134861188782756, 0.9780160157539224, 0.2468273060288262, 0.4962124936632688, 0.7775615342109776, 0.9749636699055979, 0.1746290055299654, 0.5087253049176967, 0.8642368011104788, 0.07206859630715723, 0.73226434931144, 0.703872326930057, 0.23170136300424782, 0.5046420939429496, 0.8426642952407019, 0.08592961017531475, 0.9228235881870205, 0.7200058842689592, 0.899476635732479, 0.9898276598937507, 0.8762336734698687, 0.2269142243037866, 0.6209525366855325, 0.9009118908688644, 0.5646831705725744, 0.7983066943310739, 0.9324004030452148, 0.36716810449734316, 0.9140470083224992, 0.22709825966613562, 0.0021076259271443076, 0.9687671335511336, 0.7408406380043983, 0.8782007061123085, 0.44960839237436623, 0.8045718202247668, 0.0036029984600995935, 0.8322864791886979, 0.46093576291498883, 0.9586250528314683, 0.9515376262397335, 0.6310121913721635, 0.19643320544422116, 0.484722881439158, 0.7765701729268255, 0.19151323669757936, 0.7400519366740482, 0.4408411935012393, 0.7250935202646165, 0.09707343841479266, 0.5458852679355126, 0.7873310260643428, 0.29723643848838666, 0.32775828430731313, 0.7448759373989632, 0.133959859066901, 0.6293574300836507, 0.47669406707193396, 0.6806209025987224, 0.9533756349261958, 0.34240638341591356, 0.30070517483607895, 0.27406709913331395, ...]</td>\n    </tr>\n    <tr>\n      <th>9</th>\n      <td>Describe H M Utility Speed Backpack, a product featuring durable, stylish, comfortable a one stop drop off in type for H TAC, a wide variety of H TAC gear types for your vehicle a wide selection of H TAC exclusive features Category: Accessories.</td>\n      <td>[0.3450566766105436, 0.8093263672125816, 0.03373519128708047, 0.12659224990630136, 0.8368477486923906, 0.7793481477492781, 0.5888522538338179, 0.6210206525142379, 0.6405921114365744, 0.4178208782447147, 0.6621129462853304, 0.546131847392095, 0.5830007283634518, 0.5198845480166265, 0.884798506898421, 0.5665548762847281, 0.7618145750534042, 0.8229630648301306, 0.4265046667609409, 0.14337388015845287, 0.7482025005649082, 0.8577718908494185, 0.7045004643816248, 0.5068307992224464, 0.9531935217878771, 0.5059061241849423, 0.7182564654659911, 0.2067414579454433, 0.569869282750005, 0.30791542787008364, 0.06405074757670082, 0.8700104943930475, 0.9743915377451156, 0.516964992900795, 0.37962580023428405, 0.5853511526760992, 0.9941809684818677, 0.664808307211536, 0.654119575108053, 0.31092694830257006, 0.1916718753663681, 0.3449625181844054, 0.3208482965314179, 0.9061401778984325, 0.3623028821383889, 0.7465623450431816, 0.23951491496378852, 0.07675651261878269, 0.8806842174822596, 0.90267797424588, 0.6062145867896639, 0.14378732707331177, 0.41298069541116633, 0.8901168378837729, 0.6053948359494622, 0.5310381758687023, 0.05436137465193225, 0.8058100226035111, 0.4625511836117224, 0.0679438966951238, 0.8651567285771838, 0.2844977345085611, 0.580394824849598, 0.8451850022001532, 0.5153114828192042, 0.9404143969384546, 0.09905546743625315, 0.7337133545824187, 0.0008512689442748966, 0.42741464739741075, 0.2772442324219968, 0.16823697520017056, 0.6329606040167303, 0.444694899022577, 0.6248370288396273, 0.5527142778165202, 0.5794650933892136, 0.678819909101363, 0.16513533113679013, 0.327092233119307, 0.9185451919767826, 0.6927261389014557, 0.9055796456828155, 0.37801963387219095, 0.9775546169157405, 0.6703169227608947, 0.8984964769463112, 0.3011940270171376, 0.22200408595888155, 0.34381483381625855, 0.36109512487193085, 0.5088784837094069, 0.595702296945284, 0.4539368203131796, 0.5606141644780507, 0.6170560318683268, 0.9828595918851577, 0.8156877872904165, 0.6015845975305766, 0.3757876179735241, ...]</td>\n    </tr>\n    <tr>\n      <th>10</th>\n      <td>Describe H M Hyperfuel Water Bottle, a product featuring waterproof, durable, lightweight The Hyperfuel bottle from H M in Boston, Massachusetts, is a refreshing water bottle bottle with a sleek design and a timeless feel. It's a practical, durable product that works great while Category: Accessories.</td>\n      <td>[0.6847432638911938, 0.5327981725510166, 0.8959554287839588, 0.32297995506876953, 0.7649756206511107, 0.37877191128406873, 0.8672886558918241, 0.9018379664951047, 0.692828864762813, 0.06486240696861867, 0.6041208769961319, 0.3616892282214892, 0.6288243357759922, 0.04811857071275161, 0.48028889687129284, 0.3418431915604808, 0.015451601821554584, 0.923084801099997, 0.3164522003131698, 0.020711657982599885, 0.6560636089363024, 0.7298564769268112, 0.5950223206817448, 0.9299681454187673, 0.43710825590608726, 0.9340998300761967, 0.5632234109323421, 0.6932203436323232, 0.31007425742245953, 0.6648767865986762, 0.4257084778027096, 0.6224136100211817, 0.4100362095835902, 0.42574480235883216, 0.719200094243051, 0.561670395608259, 0.816148272177402, 0.023897767051979546, 0.9317590905483998, 0.6926520035197617, 0.2873341354906729, 0.5960404666921694, 0.19830555201809297, 0.9599036631976203, 0.349138744041397, 0.009758078564439776, 0.9244716261890008, 0.4879205676080909, 0.37673532412582145, 0.5587339587856804, 0.6088672800097997, 0.5098112964465746, 0.43869077290071246, 0.03948022107351934, 0.4373916811369054, 0.9629883226396437, 0.01001656487685465, 0.38421142408571074, 0.09721925987318114, 0.5890498618724987, 0.6577719775268638, 0.6565748893256189, 0.6158304235234132, 0.8977474696117005, 0.41260976014777895, 0.7556184109133822, 0.5523372504456232, 0.4354734399198482, 0.5022436131557677, 0.6727748896835504, 0.7484466912998565, 0.34231962177303166, 0.9597156644147385, 0.9887209023268454, 0.7946651400782473, 0.5917375425686013, 0.9342179088760423, 0.319184155249184, 0.8692794883068381, 0.37172713281886904, 0.893886010009011, 0.40214814017790745, 0.598213973460963, 0.8110948394597826, 0.07614484667311439, 0.5409657779379078, 0.9503965701681579, 0.9813926674913124, 0.7075582796094906, 0.17279997309496553, 0.6279928818433586, 0.9617432219458754, 0.09784403059869728, 0.39863452793289533, 0.5884600951246404, 0.22855127306200262, 0.27405777565272216, 0.08466238268527593, 0.04864715007177434, 0.04680235809652811, ...]</td>\n    </tr>\n    <tr>\n      <th>11</th>\n      <td>Describe H M Yoga Mat, a product featuring waterproof, lightweight, stylish As we head into the second half of 2014, we are taking to the streets to speak to our fans about the spiritual side of yoga, how it relates to the creative process, how challenging it is for Category: General Merchandise.</td>\n      <td>[0.9367464498479617, 0.6936878539899733, 0.2204385901611372, 0.34658613316352194, 0.9377834455912634, 0.4261734961219861, 0.9512700046174593, 0.3197676835409259, 0.2648406285647621, 0.7736336542821697, 0.15373979732895737, 0.37894068996090036, 0.29296365239020516, 0.12195348614704526, 0.7766019901335917, 0.3821635418041932, 0.7752127054954607, 0.7865003639058459, 0.08208284737082738, 0.24997980578531853, 0.1730087490157327, 0.4458398932776816, 0.29731639844520774, 0.07281555697459308, 0.8058153052516658, 0.22237520707939118, 0.22687171859704747, 0.4353787644462074, 0.8042792489367183, 0.4024763071073876, 0.767064814144737, 0.5791196820952458, 0.23393995140305246, 0.15842072923704165, 0.03729365461879541, 0.37043355528075217, 0.7216776930712863, 0.08251228303427682, 0.755350823785983, 0.8751966914904048, 0.26725735310268295, 0.5701992022994637, 0.569880912494681, 0.6807588395050866, 0.9492715355721216, 0.4930559633886874, 0.7749358755071205, 0.9732173732062704, 0.8390219327958174, 0.9733732441318843, 0.5134962331484588, 0.9774280950531015, 0.735602709775878, 0.8380181994742011, 0.02158932195161356, 0.14665379666348488, 0.9884478429361346, 0.3937041081069539, 0.6531635644834737, 0.02561397667520593, 0.009276884689628728, 0.4007557470913432, 0.7938016984575018, 0.8169109491125991, 0.5019804196890919, 0.4307517434921738, 0.9462018153529258, 0.2564921011652095, 0.14972934743428556, 0.7423439338968286, 0.4442749039206052, 0.16292233037029002, 0.2913108559637819, 0.9118877308219691, 0.49993710491145094, 0.14903517130832145, 0.3016346103993548, 0.8821792668221295, 0.5398618312522148, 0.7523305372916947, 0.9639823034563695, 0.843046128226915, 0.9058016395391326, 0.8472006421291091, 0.43613273733243496, 0.850997374062239, 0.45187340207658033, 0.4435655709145011, 0.09397862390052925, 0.7738878576741605, 0.08638424378689902, 0.6919579745261466, 0.44615175719834343, 0.9465402820002509, 0.5343086338385485, 0.5779393229809405, 0.14295205986056292, 0.2295536182140011, 0.9228868691515583, 0.5032807011902504, ...]</td>\n    </tr>\n  </tbody>\n</table>\n</div>"
     },
     "execution_count": 16,
     "metadata": {},
     "output_type": "execute_result"
    }
   ],
   "source": [
    "# Assuming mock_retail_product_descriptions is a list of descriptions\n",
    "import numpy as np\n",
    "import pandas as pd\n",
    "\n",
    "# Convert descriptions to vectors\n",
    "product_vectors = [description_to_vector(desc) for desc in mock_retail_product_descriptions]\n",
    "\n",
    "# Create a DataFrame\n",
    "df_products = pd.DataFrame({\n",
    "    'description': mock_retail_product_descriptions,\n",
    "    'vector': product_vectors\n",
    "})\n",
    "\n",
    "df_products\n"
   ]
  },
  {
   "cell_type": "code",
   "execution_count": 17,
   "id": "c1ddb6880d10ee52",
   "metadata": {
    "collapsed": false,
    "ExecuteTime": {
     "end_time": "2024-02-20T13:17:18.619728Z",
     "start_time": "2024-02-20T13:17:18.602429Z"
    }
   },
   "outputs": [
    {
     "name": "stdout",
     "output_type": "stream",
     "text": [
      "Similar Products for Query: 'Eco-friendly water bottle'\n",
      "----------------------------------\n",
      "1. Describe H M Hyperfuel Water Bottle, a product featuring waterproof, durable, lightweight The Hyperfuel bottle from H M in Boston, Massachusetts, is a refreshing water bottle bottle with a sleek design and a timeless feel. It's a practical, durable product that works great while Category: Accessories.\n",
      "2. Describe Derby Shoes, a product featuring lightweight, comfortable, waterproof a must for your everyday wearing. Category: Shoes.\n"
     ]
    }
   ],
   "source": [
    "from annoy import AnnoyIndex\n",
    "import numpy as np\n",
    "import pandas as pd\n",
    "\n",
    "# Step 1: Initialize Annoy Index\n",
    "# Assuming we have a DataFrame 'df_products' with product vectors in a column named \"vector\"\n",
    "vector_dimension = len(df_products[\"vector\"].iloc[0])  # Dimension of the product vectors\n",
    "annoy_index = AnnoyIndex(vector_dimension, 'angular')  # Using 'angular' distance metric\n",
    "\n",
    "# Step 2: Populate Annoy Index with Product Vectors\n",
    "for product_id, vector in enumerate(df_products[\"vector\"]):\n",
    "    annoy_index.add_item(product_id, vector)\n",
    "\n",
    "annoy_index.build(10)  # Building the index with 10 trees for efficient querying\n",
    "\n",
    "# Step 3: Define Function to Convert Search Queries to Vectors\n",
    "# This is a placeholder function. In practice, use a model to generate vectors similar to product vectors.\n",
    "def query_to_vector(query):\n",
    "    # Example: Random vector generation (Replace with actual vectorization logic)\n",
    "    return np.random.rand(vector_dimension)\n",
    "\n",
    "# Step 4: Define Function to Find Similar Products Using Annoy\n",
    "def find_similar_products_annoy(query_vector, num_results=2):\n",
    "    # Fetch indices of similar products from the Annoy index\n",
    "    similar_product_ids = annoy_index.get_nns_by_vector(query_vector, num_results, include_distances=False)\n",
    "    # Return DataFrame rows corresponding to similar products\n",
    "    return df_products.iloc[similar_product_ids]\n",
    "\n",
    "# Step 5: Augment Search Results with Additional Logic\n",
    "def augment_search_results_with_annoy(query):\n",
    "    # Convert the query to a vector (adapt this to use actual query vectorization)\n",
    "    query_vector = query_to_vector(query)\n",
    "    # Find similar products based on the query vector\n",
    "    similar_products = find_similar_products_annoy(query_vector)\n",
    "    # Return the descriptions of similar products (customize this as needed)\n",
    "    return similar_products[\"description\"].tolist()\n",
    "\n",
    "# Demonstration of Usage\n",
    "query = \"Eco-friendly water bottle\"\n",
    "augmented_results = augment_search_results_with_annoy(query)\n",
    "\n",
    "# Print the descriptions of similar products\n",
    "print(\"Similar Products for Query: '{}'\".format(query))\n",
    "print(\"----------------------------------\")\n",
    "for idx, description in enumerate(augmented_results, 1):\n",
    "    print(\"{}. {}\".format(idx, description))\n"
   ]
  },
  {
   "cell_type": "code",
   "execution_count": 18,
   "id": "db51d9ddec02df13",
   "metadata": {
    "collapsed": false,
    "ExecuteTime": {
     "end_time": "2024-02-20T13:17:19.221482Z",
     "start_time": "2024-02-20T13:17:19.183209Z"
    }
   },
   "outputs": [
    {
     "data": {
      "text/plain": "<IPython.core.display.HTML object>",
      "text/html": "\n    <div style=\"display: flex; justify-content: space-between;\">\n        <div style=\"border: 2px solid #2c3e50; border-radius: 10px; padding: 20px;\">\n            <h2>Query:</h2>\n            <p>Eco-friendly water shoes</p>\n        </div>\n        <div style=\"border: 2px solid #2c3e50; border-radius: 10px; padding: 20px;\">\n            <h2>Similar Products:</h2>\n            <ul>\n    <li>1. Describe H M Utility Speed Backpack, a product featuring durable, stylish, comfortable a one stop drop off in type for H TAC, a wide variety of H TAC gear types for your vehicle a wide selection of H TAC exclusive features Category: Accessories.</li><li>2. Describe Chelsea boots, a product featuring durable, lightweight, waterproof email protected I don't want to have to pick between boots, I love them They have great breathability and will not leave my feet unattended, but they're really lightweight and have a really great breath Category: General Merchandise.</li>\n            </ul>\n        </div>\n    </div>\n    "
     },
     "execution_count": 18,
     "metadata": {},
     "output_type": "execute_result"
    }
   ],
   "source": [
    "from annoy import AnnoyIndex\n",
    "import numpy as np\n",
    "import pandas as pd\n",
    "from IPython.display import HTML\n",
    "\n",
    "# Step 1: Initialize Annoy Index\n",
    "# Assuming we have a DataFrame 'df_products' with product vectors in a column named \"vector\"\n",
    "vector_dimension = len(df_products[\"vector\"].iloc[0])  # Dimension of the product vectors\n",
    "annoy_index = AnnoyIndex(vector_dimension, 'angular')  # Using 'angular' distance metric\n",
    "\n",
    "# Step 2: Populate Annoy Index with Product Vectors\n",
    "for product_id, vector in enumerate(df_products[\"vector\"]):\n",
    "    annoy_index.add_item(product_id, vector)\n",
    "\n",
    "annoy_index.build(10)  # Building the index with 10 trees for efficient querying\n",
    "\n",
    "# Step 3: Define Function to Convert Search Queries to Vectors\n",
    "# This is a placeholder function. In practice, use a model to generate vectors similar to product vectors.\n",
    "def query_to_vector(query):\n",
    "    # Example: Random vector generation (Replace with actual vectorization logic)\n",
    "    return np.random.rand(vector_dimension)\n",
    "\n",
    "# Step 4: Define Function to Find Similar Products Using Annoy\n",
    "def find_similar_products_annoy(query_vector, num_results=2):\n",
    "    # Fetch indices of similar products from the Annoy index\n",
    "    similar_product_ids = annoy_index.get_nns_by_vector(query_vector, num_results, include_distances=False)\n",
    "    # Return DataFrame rows corresponding to similar products\n",
    "    return df_products.iloc[similar_product_ids]\n",
    "\n",
    "# Step 5: Augment Search Results with Additional Logic\n",
    "def augment_search_results_with_annoy(query):\n",
    "    # Convert the query to a vector (adapt this to use actual query vectorization)\n",
    "    query_vector = query_to_vector(query)\n",
    "    # Find similar products based on the query vector\n",
    "    similar_products = find_similar_products_annoy(query_vector)\n",
    "    # Return the descriptions of similar products (customize this as needed)\n",
    "    return similar_products[\"description\"].tolist()\n",
    "\n",
    "# Function to create visually appealing output\n",
    "def create_visual_output(query, augmented_results):\n",
    "    html_content = f\"\"\"\n",
    "    <div style=\"display: flex; justify-content: space-between;\">\n",
    "        <div style=\"border: 2px solid #2c3e50; border-radius: 10px; padding: 20px;\">\n",
    "            <h2>Query:</h2>\n",
    "            <p>{query}</p>\n",
    "        </div>\n",
    "        <div style=\"border: 2px solid #2c3e50; border-radius: 10px; padding: 20px;\">\n",
    "            <h2>Similar Products:</h2>\n",
    "            <ul>\n",
    "    \"\"\"\n",
    "    for idx, description in enumerate(augmented_results, 1):\n",
    "        html_content += f\"<li>{idx}. {description}</li>\"\n",
    "    html_content += \"\"\"\n",
    "            </ul>\n",
    "        </div>\n",
    "    </div>\n",
    "    \"\"\"\n",
    "    return HTML(html_content)\n",
    "\n",
    "# Demonstration of Usage\n",
    "query = \"Eco-friendly water shoes\"\n",
    "augmented_results = augment_search_results_with_annoy(query)\n",
    "\n",
    "# Create visually appealing output\n",
    "create_visual_output(query, augmented_results)\n"
   ]
  },
  {
   "cell_type": "code",
   "execution_count": 19,
   "id": "bc3d89f122b3d551",
   "metadata": {
    "collapsed": false,
    "ExecuteTime": {
     "end_time": "2024-02-20T13:17:19.801525Z",
     "start_time": "2024-02-20T13:17:19.792644Z"
    }
   },
   "outputs": [
    {
     "data": {
      "text/plain": "<IPython.core.display.HTML object>",
      "text/html": "\n    <div style=\"display: flex; flex-wrap: wrap; justify-content: start; gap: 20px;\">\n        <div style=\"flex-basis: 100%;\">\n            <h2>Query:</h2>\n            <p>Eco-friendly water shoes</p>\n        </div>\n    \n            <div style=\"border: 2px solid #2c3e50; border-radius: 10px; padding: 20px; width: 200px; text-align: center;\">\n                <img src=\"HM.png\" alt=\"H&M Logo\" style=\"max-width: 100%; height: auto; margin-bottom: 10px;\">\n                <p>Describe Quilted crossbody bag, a product featuring comfortable, lightweight, waterproof Cargo 5 oz Grip 0.04 Capacity 5 x 0.04 x 0.04 Size 5 x 0.04 x 0 Category: Accessories.</p>\n            </div>\n        \n            <div style=\"border: 2px solid #2c3e50; border-radius: 10px; padding: 20px; width: 200px; text-align: center;\">\n                <img src=\"HM.png\" alt=\"H&M Logo\" style=\"max-width: 100%; height: auto; margin-bottom: 10px;\">\n                <p>Describe H M Hyperfuel Water Bottle, a product featuring waterproof, durable, lightweight The Hyperfuel bottle from H M in Boston, Massachusetts, is a refreshing water bottle bottle with a sleek design and a timeless feel. It's a practical, durable product that works great while Category: Accessories.</p>\n            </div>\n        </div>"
     },
     "metadata": {},
     "output_type": "display_data"
    }
   ],
   "source": [
    "from IPython.display import HTML, display\n",
    "\n",
    "# Updated Function to Include H&M Logo Display\n",
    "def create_visual_output(query, augmented_results):\n",
    "    # URL of a freely usable H&M logo\n",
    "    hm_logo_url = \"HM.png\"\n",
    "\n",
    "    html_content = f\"\"\"\n",
    "    <div style=\"display: flex; flex-wrap: wrap; justify-content: start; gap: 20px;\">\n",
    "        <div style=\"flex-basis: 100%;\">\n",
    "            <h2>Query:</h2>\n",
    "            <p>{query}</p>\n",
    "        </div>\n",
    "    \"\"\"\n",
    "    for description in augmented_results:\n",
    "        html_content += f\"\"\"\n",
    "            <div style=\"border: 2px solid #2c3e50; border-radius: 10px; padding: 20px; width: 200px; text-align: center;\">\n",
    "                <img src=\"{hm_logo_url}\" alt=\"H&M Logo\" style=\"max-width: 100%; height: auto; margin-bottom: 10px;\">\n",
    "                <p>{description}</p>\n",
    "            </div>\n",
    "        \"\"\"\n",
    "    html_content += \"</div>\"\n",
    "    return HTML(html_content)\n",
    "\n",
    "# Demonstration of Usage\n",
    "query = \"Eco-friendly water shoes\"\n",
    "augmented_results = augment_search_results_with_annoy(query)  # No change here\n",
    "\n",
    "# Create visually appealing output with H&M logo images\n",
    "visual_output = create_visual_output(query, augmented_results)\n",
    "display(visual_output)\n"
   ]
  },
  {
   "cell_type": "code",
   "execution_count": 21,
   "id": "90a60b0fe3235bc9",
   "metadata": {
    "ExecuteTime": {
     "end_time": "2024-02-20T13:03:51.640798Z",
     "start_time": "2024-02-20T13:03:51.633139Z"
    },
    "collapsed": false
   },
   "outputs": [
    {
     "data": {
      "text/plain": [
       "['Describe H M Air Zoom Pegasus, a product featuring lightweight, comfortable, waterproof lightweight lens, compact construction and the latest technology for a stylish lens. H M Air Zoom PNAP H M Pegasus is the latest design from H M, a leader in Category: Accessories.',\n",
       " 'Describe H M Air Max 270, a product featuring waterproof, durable, lightweight A modern, full body aircraft in a premium design with top notch safety and performance features. Its lightweight interior interior design will be extremely popular with the air passengers who travel together, with minimal Category: Accessories.',\n",
       " 'Describe H M Revolution 5, a product featuring durable, lightweight, waterproof All in all, a great, simple, and fun game. I love learning game mechanics, how to play, how to play a bunch of games, but also the history behind those games Category: Accessories.',\n",
       " 'Describe H M Dri FIT Tee, a product featuring comfortable, lightweight, waterproof This tee is made in the U.S.A. This is our best possible fit Our design takes care of the best and worst of what we do, so you Category: Apparel.',\n",
       " \"Describe H M Sportswear Club Fleece, a product featuring stylish, lightweight, comfortable Made by H M the world's best sporting goods store. We offer quality, stylish, comfortable shoes that we believe fit our clients at an affordable price. the world Category: Shoes.\",\n",
       " 'Describe H M Pro Tights, a product featuring lightweight, durable, comfortable As comfortable as a pair of jeans Take in the comfort of your own hand. The Pro Tights utilizes a special material called the Bismol H M Pro tights. Each tights Category: Apparel.',\n",
       " \"Describe H M Lightweight Arm Band, a product featuring comfortable, lightweight, waterproof H M's Handmade Arm Band is a lightweight shoulder patch made of premium nylon. It is crafted with a premium stretch mesh fabric. Lightweight shoulder patch is comfortable Perfect Category: Accessories.\",\n",
       " 'Describe H M Swoosh Headband, a product featuring durable, stylish, lightweight H M Swoosh Headband is made of rugged quality leather and with the premium technology and protection, it is an instant choice because of its quality at the very top of the field Category: Accessories.',\n",
       " 'Describe H M Brasilia Training Backpack, a product featuring stylish, waterproof, lightweight High quality, durable and easy to change into High quality, durable and easy to replace Exclusive Lifetime Guarantee Free shipping includes all item details, including Category: Accessories.',\n",
       " \"Describe H M Utility Speed Backpack, a product featuring durable, stylish, comfortable The H M Utility Speed has been built for the consumer, which means it has been designed to provide it's customers with a highly efficient load shedding capability without causing any load shedding. Even if Category: General Merchandise.\",\n",
       " \"Describe H M Hyperfuel Water Bottle, a product featuring waterproof, durable, lightweight I have a small collection of reusable and insulated water bottle products which work in any situation but don't need to be taken off the shelf. Most of the products I like are simple and portable. Category: Accessories.\",\n",
       " \"Describe H M Yoga Mat, a product featuring waterproof, lightweight, stylish Why do we care about the brand name and name We don't use the brand name of H M Yoga Mat on our web sites, we simply use other products known in the market. Category: Accessories.\"]"
      ]
     },
     "execution_count": 21,
     "metadata": {},
     "output_type": "execute_result"
    }
   ],
   "source": [
    "mock_retail_product_descriptions"
   ]
  },
  {
   "cell_type": "code",
   "id": "dfadca76a9b57380",
   "metadata": {
    "collapsed": false
   },
   "outputs": [],
   "source": []
  }
 ],
 "metadata": {
  "kernelspec": {
   "display_name": "Python 3 (ipykernel)",
   "language": "python",
   "name": "python3"
  }
 },
 "nbformat": 4,
 "nbformat_minor": 5
}
