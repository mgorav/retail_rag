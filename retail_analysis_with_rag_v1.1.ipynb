{
 "cells": [
  {
   "cell_type": "markdown",
   "id": "b8a203cf",
   "metadata": {},
   "source": [
    "\n",
    "# Smart Retail Navigator: Unifying RAG, LLM, and Annoy for Advanced Query Intelligence\n",
    "\n",
    "This notebook presents an enhanced analysis using a Structured Retrieval-Augmented Generation (RAG) System, specifically tailored for the retail sector. The system leverages advanced data processing techniques and machine learning models to provide comprehensive insights into retail operations, customer behavior, and sales performance. Through detailed examples and explanations, we aim to demonstrate the application of cutting-edge AI technologies in transforming retail analytics and decision-making processes. The below diagram shows overall architecture:\n",
    "\n",
    "![Architecture](architecture.png)\n",
    "\n",
    "The key aspects of the Smart Retail Navigator system architecture:\n",
    "\n",
    "- **Data Layer**: Manages storage and access of retail data \n",
    "\n",
    "- **Retrieval-Augmented Generation (RAG)**: Retrieves relevant data and generates query responses by combining information retrieval and deep learning\n",
    "\n",
    "- **Large Language Models (LLM)**: Understand queries and generate human-like responses after specialized fine-tuning \n",
    "\n",
    "- **Annoy**: Rapidly retrieves most relevant information for queries via similarity searches in vector spaces\n",
    "\n",
    "- **Query Processor**: Coordinates overall workflow - query understanding by LLM, data retrieval via Annoy and RAG, and response generation\n",
    "\n",
    "- **Analytics Module**: Transforms system outputs into business insights for data-driven decision making\n",
    "\n",
    "The architecture strategically integrates the latest innovations in AI to ensure scalability, efficiency, accuracy and cutting-edge capabilities for enabling advanced retail analytics.\n"
   ]
  },
  {
   "cell_type": "markdown",
   "id": "9e621bb9",
   "metadata": {},
   "source": [
    "\n",
    "## Data Preparation and Exploration\n",
    "\n",
    "In this section, we delve into the initial steps of our analysis: preparing and exploring the dataset. Our focus is on understanding the characteristics of the data, identifying patterns, and preparing it for further analysis. We'll cover data loading, cleaning, and basic exploratory data analysis (EDA) techniques that are crucial for any data science project.\n",
    "    "
   ]
  },
  {
   "cell_type": "markdown",
   "id": "c2b13876",
   "metadata": {},
   "source": [
    "\n",
    "## Predictive Modeling and Analysis\n",
    "\n",
    "Following data preparation, we transition to the core of our analysis—predictive modeling. This section explores the creation and evaluation of models that predict future retail trends based on historical data. We'll discuss model selection, training, and validation, emphasizing the importance of accuracy and reliability in predictions.\n",
    "    "
   ]
  },
  {
   "cell_type": "markdown",
   "id": "089c87bd",
   "metadata": {},
   "source": [
    "\n",
    "## Insights and Conclusion\n",
    "\n",
    "In the final section, we synthesize our findings into actionable insights. Drawing from the data exploration and predictive modeling phases, we outline key takeaways and recommend strategies for retail businesses to optimize their operations, enhance customer satisfaction, and boost sales. This comprehensive analysis demonstrates the transformative potential of AI in retail.\n",
    "    "
   ]
  },
  {
   "cell_type": "code",
   "execution_count": 108,
   "id": "15a15f538ea5c4b",
   "metadata": {
    "collapsed": false,
    "ExecuteTime": {
     "end_time": "2024-02-20T12:22:57.250695Z",
     "start_time": "2024-02-20T12:22:57.223455Z"
    }
   },
   "outputs": [],
   "source": [
    "\n",
    "# !pip install transformers annoy\n"
   ]
  },
  {
   "cell_type": "markdown",
   "id": "3326c255dbc81696",
   "metadata": {
    "collapsed": false
   },
   "source": [
    "### Retrieval-Augmented Generation (RAG)\n",
    "\n",
    "**Mathematical Principles:**\n",
    "- **Retrieval:** The similarity between a query \\(q\\) and a document \\(d\\) is often computed using cosine similarity:\n",
    "  \\[ S(d, q) = \\frac{d \\cdot q}{\\|d\\| \\|q\\|} \\]\n",
    "- **Generation:** The probability of generating a word \\(w_t\\) given the context \\(C\\) and previous words \\(w_{<t}\\) is modeled as:\n",
    "  \\[ P(w_t | w_{<t}, C) = \\text{softmax}(W_h h_t) \\]\n",
    "\n",
    "### Large Language Models (LLM)\n",
    "\n",
    "**Mathematical Principles:**\n",
    "- **Self-Attention:** The self-attention mechanism's computation is defined as:\n",
    "  \\[ \\text{Attention}(Q, K, V) = \\text{softmax}\\left(\\frac{QK^T}{\\sqrt{d_k}}\\right)V \\]\n",
    "\n",
    "### LangChain\n",
    "\n",
    "**Core Concepts:**\n",
    "LangChain, developed as an open-source toolkit, simplifies the creation of applications leveraging LLMs by facilitating integration with external computation and data sources. Its components include:\n",
    "\n",
    "- **Schema:** Defines core data structures like Text, ChatMessages, Examples, and Document, essential for interacting with language models.\n",
    "- **Models:** Categorizes into Language Models, Chat Models, and Text Embedding Models, offering interfaces for seamless integration with LLMs.\n",
    "- **Prompts:** Crafting prompts is vital for directing LLMs. LangChain introduces PromptTemplates for constructing prompts dynamically.\n",
    "- **Indexes:** Serve as bridges between documents/data and LLMs, crucial for enriching models with context-specific information.\n",
    "- **Memory:** Facilitates storing and retrieving chat history or conversational context, enhancing the model's ability to produce coherent and context-aware responses.\n",
    "- **Chains:** Enable the sequencing of multiple components, such as data retrieval, prompt generation, and response parsing, into a cohesive workflow.\n",
    "- **Agents:** Utilize LLMs for selecting and sequencing actions, embodying the decision-making prowess of LLMs in application scenarios.\n",
    "\n",
    "**Innovations in LangChain:**\n",
    "LangChain's modular abstractions for these components significantly lower the barrier to integrating complex LLM functionalities into applications. By abstracting the complexities involved in handling language models, data retrieval, and processing, LangChain empowers developers to build more sophisticated, context-aware applications with ease.\n",
    "\n",
    "**Mathematical Extensions:**\n",
    "While LangChain primarily focuses on the architectural and integration aspects of using LLMs, the underlying mathematical principles of its components (especially Models and Indexes) are grounded in the computations of neural networks, vector space models, and embeddings. For instance, the Text Embedding Models convert textual data into numerical vectors, capturing semantic meanings in a high-dimensional space, which can be mathematically represented as:\n",
    "\\[ \\text{Embedding}(text) = V \\]\n",
    "where \\(V\\) is a vector representing the text in a semantic vector space.\n",
    "\n",
    "### Annoy (Approximate Nearest Neighbors Oh Yeah)\n",
    "\n",
    "**Mathematical Principles:**\n",
    "- **Tree Construction:** Annoy uses random projection trees for partitioning data, optimizing for both speed and memory efficiency.\n",
    "- **Approximate Search:** The search in Annoy is approximated to quickly retrieve near neighbors without exhaustive search, significantly reducing query time.\n",
    "\n",
    "### NOTE\n",
    "\n",
    "This comprehensive overview, enriched with details from the LangChain components guide and mathematical principles, offers a deeper understanding of the technologies and methodologies driving today's AI applications. LangChain, by abstracting the complexity of integrating LLMs with external data and computational resources, stands out as a pivotal framework for developers aiming to leverage the power of language models in their applications."
   ]
  },
  {
   "cell_type": "markdown",
   "id": "c7a73509e88c59e",
   "metadata": {
    "collapsed": false
   },
   "source": [
    "## Mock Data Generation\n",
    "\n",
    "The provided Python function `generate_retail_mock_data` is designed to create mock retail product descriptions. It's a versatile tool for generating a dataset that could be used in various retail or e-commerce data analysis projects, machine learning models, or simply for testing and demonstration purposes. Here's a detailed breakdown of how this function works and its components:\n",
    "\n",
    "### Function Definition and Parameters\n",
    "- **Function Name:** `generate_retail_mock_data`\n",
    "- **Parameters:**\n",
    "  - `categories`: A list of strings representing product categories. Default categories are 'shoes', 'apparel', and 'jackets'.\n",
    "  - `num_items_per_category`: An integer that defines how many items to generate per category. The default is 500.\n",
    "  - `seed`: An integer used to initialize the random number generator, ensuring reproducibility of the generated descriptions. The default is 42.\n",
    "  - `enhance_description`: A boolean flag to indicate whether to enhance a subset of product descriptions using the GPT-2 model. The default is `False`.\n",
    "  - `enhanced_samples`: An integer indicating how many product descriptions to enhance with additional creative sentences. The default is 100.\n",
    "\n",
    "### Core Functionality\n",
    "1. **Initializing the Random Seed:** Ensures reproducibility by initializing the random number generator with a specified seed.\n",
    "\n",
    "2. **Base Description Generation:** Iterates over each category to generate product descriptions, including a unique identifier and a combination of three randomly selected features (e.g., 'lightweight', 'durable').\n",
    "\n",
    "3. **Optional Description Enhancement:** For a limited number of products (defined by `enhanced_samples`), the function uses the GPT-2 model to generate and append an additional creative sentence, enhancing the base description.\n",
    "\n",
    "4. **Compilation of Descriptions:** All generated (and optionally enhanced) descriptions are compiled into a list, `product_descriptions`, which is then returned by the function.\n",
    "\n",
    "### Output\n",
    "- Returns a list, `product_descriptions`, containing all generated (and optionally enhanced) product descriptions.\n",
    "\n",
    "### Example Output\n",
    "An example of the function's output, showing a variety of product descriptions, some of which may be enhanced with creative sentences generated by the GPT-2 model:\n",
    "```\n",
    "Shoes 1 with features: durable stylish comfortable in category shoes.\n",
    "Apparel 1 with features: lightweight waterproof durable in category apparel. \"This apparel combines fashion with function.\"\n",
    "Jackets 1 with features: comfortable stylish waterproof in category jackets.\n",
    "...\n",
    "```\n",
    "\n",
    "### Use Cases\n",
    "This mock data generation function is invaluable for:\n",
    "- **Development and Testing:** Providing test data for e-commerce platforms to evaluate search and recommendation systems.\n",
    "- **Data Analysis Projects:** Offering a basis for demonstrations or educational projects focused on retail data analytics.\n",
    "- **Machine Learning Models:** Supplying initial training or testing data for models when actual product data is not available.\n",
    "\n",
    "### Customization and Extension\n",
    "The function offers flexibility for customization:\n",
    "- Adjusting product categories, features, or the number of items to better fit specific needs.\n",
    "- Toggling the description enhancement feature or changing the number of enhanced descriptions.\n",
    "\n",
    "This function demonstrates an effective approach for generating rich, varied, and reproducible mock data for retail-related applications, adaptable to a wide array of use cases in the retail and e-commerce sectors."
   ]
  },
  {
   "cell_type": "code",
   "execution_count": 137,
   "id": "4263dd944f97f76d",
   "metadata": {
    "collapsed": false,
    "ExecuteTime": {
     "end_time": "2024-02-20T12:37:24.504511Z",
     "start_time": "2024-02-20T12:36:28.323265Z"
    }
   },
   "outputs": [
    {
     "name": "stderr",
     "output_type": "stream",
     "text": [
      "Truncation was not explicitly activated but `max_length` is provided a specific value, please use `truncation=True` to explicitly truncate examples to max length. Defaulting to 'longest_first' truncation strategy. If you encode pairs of sequences (GLUE-style) with the tokenizer you can select this strategy more precisely by providing a specific strategy to `truncation`.\n",
      "Setting `pad_token_id` to `eos_token_id`:50256 for open-end generation.\n",
      "Setting `pad_token_id` to `eos_token_id`:50256 for open-end generation.\n",
      "Setting `pad_token_id` to `eos_token_id`:50256 for open-end generation.\n",
      "Setting `pad_token_id` to `eos_token_id`:50256 for open-end generation.\n",
      "Setting `pad_token_id` to `eos_token_id`:50256 for open-end generation.\n",
      "Setting `pad_token_id` to `eos_token_id`:50256 for open-end generation.\n",
      "Setting `pad_token_id` to `eos_token_id`:50256 for open-end generation.\n",
      "Setting `pad_token_id` to `eos_token_id`:50256 for open-end generation.\n",
      "Setting `pad_token_id` to `eos_token_id`:50256 for open-end generation.\n",
      "Setting `pad_token_id` to `eos_token_id`:50256 for open-end generation.\n",
      "Setting `pad_token_id` to `eos_token_id`:50256 for open-end generation.\n",
      "Setting `pad_token_id` to `eos_token_id`:50256 for open-end generation.\n"
     ]
    },
    {
     "name": "stdout",
     "output_type": "stream",
     "text": [
      "Describe Nike Air Zoom Pegasus, a product featuring lightweight, comfortable, waterproof The Pegasus Air Zoom is a compact, lightweight, fully waterproof shoe that is versatile and durable The Pegasus Air Zoom is made by the Nike Team in the USA For more on Nike, contact us Category: Shoes.\n",
      "Describe Nike Air Max 270, a product featuring waterproof, durable, lightweight This is your new top dollar sneaker. You might only have seen these sneakers here once, but in 2014 you couldn't put your money on these sneakers. So you bought an ad campaign saying, Category: Shoes.\n",
      "Describe Nike Revolution 5, a product featuring durable, lightweight, waterproof Nike Revolution 5, the shoe is designed to withstand a massive number of heat and humidity variations. The Nike Revolution 5, according to the Nike website, is built to carry heat resistant shoes with minimal resistance to Category: Shoes.\n",
      "Describe Nike Dri FIT Tee, a product featuring comfortable, lightweight, waterproof The Nike Dri FIT T shirt features a lightweight polyester bodied cotton lining, a black fabric printed with an elastic back see image here , and one black lining on the back and Category: Apparel.\n",
      "Describe Nike Sportswear Club Fleece, a product featuring stylish, lightweight, comfortable The word sport shoes means 'legs' or 'body . As sportswear is more a fashion term and it refers to a combination of the 'leg' like footwear at its core Category: Shoes.\n",
      "Describe Nike Pro Tights, a product featuring lightweight, durable, comfortable Wear a pair of tight fitting T shirt for every day of a working day. Nike Air Max Pro Tights Tentative Length 17 in. Width Category: Apparel.\n",
      "Describe Nike Lightweight Arm Band, a product featuring comfortable, lightweight, waterproof The first Nike Lightweight Arm Wear and a great place to start Features Fabric Made in USA Matching thread includes 1 stitch in the center of most of Category: Apparel.\n",
      "Describe Nike Swoosh Headband, a product featuring durable, stylish, lightweight As an off the shelf, all in one backpack, the Nike Swoosh Nike Headband will provide an all around experience of warmth and comfort, especially in winter on your Category: Accessories.\n",
      "Describe Nike Brasilia Training Backpack, a product featuring stylish, waterproof, lightweight I am interested in our training backpacks, which are designed around the same functionality as Nike Running Shoes. In the comments of this post, we asked them about their training pads, and as they Category: Accessories.\n",
      "Describe Nike Utility Speed Backpack, a product featuring durable, stylish, comfortable The Nike Utility Speed Backpack is a premium product for outdoor and special occasions and can be worn with an ankle rest or on a daily basis. The Nike Utility Speed Backpack includes a protective cover Category: Apparel.\n",
      "Describe Nike Hyperfuel Water Bottle, a product featuring waterproof, durable, lightweight KITECOFF It fits your everyday water bottle too this piece features a waterproof repellable and breathable nylon material. The Nike Hyperfuel Bottle is designed to be durable and Category: Accessories.\n",
      "Describe Nike Yoga Mat, a product featuring waterproof, lightweight, stylish The world's most famous yoga mat is in store for next year, but how is it going to affect your fitness After wearing it for more than a year, could you tell us about its benefits and benefits of Category: Apparel.\n"
     ]
    }
   ],
   "source": [
    "import re\n",
    "from transformers import pipeline\n",
    "import random\n",
    "\n",
    "# Initialize the GPT-2 text generation model for product descriptions\n",
    "model_name = \"gpt2\"\n",
    "text_generator = pipeline('text-generation', model=model_name)\n",
    "\n",
    "# Initialize the zero-shot classification model\n",
    "classifier = pipeline(\"zero-shot-classification\", model=\"facebook/bart-large-mnli\")\n",
    "\n",
    "def clean_description(description):\n",
    "    clean_text = re.sub(r'<[^>]+>', '', description)\n",
    "    clean_text = re.sub(r'http[s]?://\\S+', '', clean_text)\n",
    "    clean_text = re.sub(r'[^A-Za-z0-9.,\\'\\s]+', ' ', clean_text)\n",
    "    clean_text = re.sub(r'\\[.*?\\]', '', clean_text)\n",
    "    clean_text = re.sub(r'\\s+', ' ', clean_text).strip()\n",
    "    return clean_text\n",
    "\n",
    "def infer_category_from_description(description):\n",
    "    candidate_labels = [\"Shoes\", \"Apparel\", \"Accessories\", \"General Merchandise\"]\n",
    "    results = classifier(description, candidate_labels)\n",
    "    inferred_category = results['labels'][0]  # Pick the most likely category\n",
    "    return inferred_category\n",
    "\n",
    "def generate_product_description(product_name, features):\n",
    "    prompt = f\"Describe {product_name}, a product featuring {', '.join(features)}:\"\n",
    "    generated_text = text_generator(prompt, max_length=60, num_return_sequences=1)[0]['generated_text']\n",
    "    cleaned_description = clean_description(generated_text)\n",
    "    # Inferring category from the cleaned product description\n",
    "    category = infer_category_from_description(cleaned_description)\n",
    "    # Append the category to the description\n",
    "    full_description = f\"{cleaned_description} Category: {category}.\"\n",
    "    return full_description\n",
    "\n",
    "def generate_retail_mock_data(product_names, num_items_per_category=10, seed=42):\n",
    "    random.seed(seed)\n",
    "    product_descriptions = []\n",
    "\n",
    "    for category, names in product_names.items():\n",
    "        for product_name in names:\n",
    "            features = random.sample(['lightweight', 'durable', 'waterproof', 'stylish', 'comfortable'], 3)\n",
    "            full_description = generate_product_description(product_name, features)\n",
    "            product_descriptions.append(full_description)\n",
    "\n",
    "    return product_descriptions\n",
    "\n",
    "# All Nike products\n",
    "product_names = {\n",
    "    'Shoes': ['Nike Air Zoom Pegasus', 'Nike Air Max 270', 'Nike Revolution 5'],\n",
    "    'Apparel': ['Nike Dri-FIT Tee', 'Nike Sportswear Club Fleece', 'Nike Pro Tights'],\n",
    "    'Accessories': ['Nike Lightweight Arm Band', 'Nike Swoosh Headband', 'Nike Brasilia Training Backpack'],\n",
    "    'General Merchandise': ['Nike Utility Speed Backpack', 'Nike Hyperfuel Water Bottle', 'Nike Yoga Mat']\n",
    "}\n",
    "\n",
    "mock_retail_product_descriptions = generate_retail_mock_data(product_names)\n",
    "print(\"\\n\".join(mock_retail_product_descriptions))\n"
   ]
  },
  {
   "cell_type": "code",
   "execution_count": 110,
   "id": "a9b3ec1860473171",
   "metadata": {
    "collapsed": false,
    "ExecuteTime": {
     "end_time": "2024-02-20T12:24:06.518781Z",
     "start_time": "2024-02-20T12:24:06.510927Z"
    }
   },
   "outputs": [
    {
     "name": "stdout",
     "output_type": "stream",
     "text": [
      "Annoy index is built with 12 items.\n"
     ]
    }
   ],
   "source": [
    "\n",
    "from annoy import AnnoyIndex\n",
    "import numpy as np\n",
    "\n",
    "vector_length = 100  # Assuming a 100-dimensional vector for each product description\n",
    "annoy_index = AnnoyIndex(vector_length, 'angular')\n",
    "\n",
    "# Mock function to convert descriptions to vectors\n",
    "def description_to_vector(description):\n",
    "    np.random.seed(hash(description) % (2**32 - 1))\n",
    "    return np.random.rand(vector_length)\n",
    "\n",
    "# Adding items to Annoy index\n",
    "for i, description in enumerate(mock_retail_product_descriptions):\n",
    "    vec = description_to_vector(description)\n",
    "    annoy_index.add_item(i, vec)\n",
    "\n",
    "annoy_index.build(10)  # Using 10 trees\n",
    "num_products = len(mock_retail_product_descriptions)\n",
    "print(\"Annoy index is built with\", num_products, \"items.\")\n"
   ]
  },
  {
   "cell_type": "markdown",
   "id": "ce60101a8acb5c7e",
   "metadata": {
    "collapsed": false
   },
   "source": [
    "## Annoy (Approximate Nearest Neighbors Oh Yeah)\n",
    "\n",
    "Annoy is a C++ library with Python bindings designed to efficiently search for points in space that are close to a given query point, emphasizing speed and minimal memory usage while accepting a trade-off in precision. It's particularly useful for implementing recommendation systems, enhancing search engines, and facilitating various machine learning applications where quick nearest neighbor queries are essential.\n",
    "\n",
    "### Key Features:\n",
    "- **Memory-efficient Indexing:** Annoy creates large, read-only, file-based data structures that are memory-mapped, allowing multiple processes to share the same data without duplicating it in memory.\n",
    "- **Incremental Updates:** It supports adding items to the index incrementally without the need to rebuild the index from scratch, making it suitable for dynamic datasets.\n",
    "- **Persistence:** Annoy indexes can be saved to disk and later reloaded, facilitating persistent storage and retrieval of vector data across sessions.\n",
    "\n",
    "### Usage in This Notebook:\n",
    "In the context of this notebook, Annoy is utilized to store and query embeddings of retail product descriptions. Here's how we integrate Annoy for a practical use-case:\n",
    "\n",
    "1. **Embedding Storage:** We generate embeddings for each product description using a mock function that simulates the conversion of textual descriptions into 100-dimensional vectors. These embeddings are stored in an Annoy index.\n",
    "2. **Index Creation:** An AnnoyIndex instance is created with the specified vector length and metric ('angular' for cosine similarity). Each product's embedding vector is added to the index, which is then built with a specified number of trees to optimize query performance.\n",
    "3. **Querying:** For a given query, its embedding is calculated and used to fetch the nearest neighbors from the Annoy index. This process efficiently identifies the most relevant product descriptions based on the similarity of their embeddings to the query.\n",
    "\n",
    "This demonstration showcases the use of Annoy as a vector database for embedding-based retrieval, illustrating its application in scenarios where finding similar items quickly is crucial, such as in retail product recommendation systems.\n"
   ]
  },
  {
   "cell_type": "markdown",
   "id": "5d29016635cb7d53",
   "metadata": {
    "collapsed": false
   },
   "source": [
    "## Integration of LangChain with RAG and Annoy\n",
    "\n",
    "In this demonstration, we explore the integration of LangChain with Retrieval-Augmented Generation (RAG) and Annoy, showcasing a seamless workflow that combines the retrieval capabilities of Annoy with the generative prowess of a Large Language Model (LLM) provided by Hugging Face's `transformers`. This integration exemplifies how to leverage the strengths of both retrieval and generation to enhance the relevance and richness of generated text based on a given query.\n",
    "\n",
    "### Workflow Overview:\n",
    "1. **Query Embedding:** For a given query, we first convert it into an embedding vector using a mock function `description_to_vector`. This function simulates the process of transforming textual data into a numerical representation that can be processed by machine learning models.\n",
    "\n",
    "2. **Retrieval with Annoy:** Using the query's vector representation, we retrieve the nearest neighbor product descriptions from an Annoy index. Annoy efficiently identifies the vectors in the dataset that are closest to the query vector, based on cosine similarity. This step highlights Annoy's utility in quickly fetching relevant data from a large dataset.\n",
    "\n",
    "3. **Context Assembly:** The retrieved product descriptions are concatenated to form a context string. This assembled context is then used to inform the generation process, ensuring that the generated text is relevant to the specifics of the query.\n",
    "\n",
    "4. **Text Generation with LangChain and RAG:** The concatenated context is fed into a generative model from the `transformers` library, specifically `distilgpt2`, alongside the original query. This generative step uses the context to produce a response that is not only contextually aware but also creatively enriched by the language model.\n",
    "\n",
    "5. **HTML Presentation:** The query, retrieved context, and generated response are presented in an HTML format for enhanced readability. This step demonstrates how the integration of these technologies can be used to create user-friendly outputs for applications such as product recommendation systems or automated customer service responses.\n",
    "\n",
    "### Example Usage:\n",
    "In our example, we query for \"Looking for stylish and comfortable shoes.\" The process involves embedding the query, retrieving related product descriptions using Annoy, and generating a response that synthesizes the query intent with the retrieved information. The final output is displayed in a styled HTML block, making it easy to visualize the integration's effectiveness in producing relevant and engaging content.\n",
    "\n",
    "This integration exemplifies a practical application of combining retrieval and generative models to enhance the capabilities of AI-driven systems. By leveraging the specific strengths of Annoy for efficient data retrieval and the generative capabilities of language models like `distilgpt2`, developers can create sophisticated solutions that address complex queries with contextually rich and relevant responses.\n"
   ]
  },
  {
   "cell_type": "code",
   "execution_count": 111,
   "id": "e5a1d6191e5a7116",
   "metadata": {
    "collapsed": false,
    "ExecuteTime": {
     "end_time": "2024-02-20T12:24:07.534186Z",
     "start_time": "2024-02-20T12:24:06.516574Z"
    }
   },
   "outputs": [
    {
     "name": "stderr",
     "output_type": "stream",
     "text": [
      "Setting `pad_token_id` to `eos_token_id`:50256 for open-end generation.\n",
      "/Users/gauravmalhotra/Documents/MyGithub/retail_in_rag/rag_venv/lib/python3.11/site-packages/transformers/generation/utils.py:1141: UserWarning: Input length of input_ids is 100, but `max_length` is set to 100. This can lead to unexpected behavior. You should consider increasing `max_new_tokens`.\n",
      "  warnings.warn(\n"
     ]
    },
    {
     "data": {
      "text/plain": "<IPython.core.display.HTML object>",
      "text/html": "\n    <div style=\"border: 2px solid #2c3e50; border-radius: 10px; padding: 20px;\">\n        <h2>Query</h2>\n        <p>Looking for stylish and comfortable shoes</p>\n        <h2>Retrieved Context</h2>\n        <p>Describe Nike Yoga Mat, a product featuring waterproof, lightweight, stylish With its slim, ultra low slung fit, top shelf athletic bag, and padded foam floor, the Nike Yoga mat is the best in class apparel or accessories choice for your workout. Category: Apparel. Describe Nike Air Max 270, a product featuring waterproof, durable, lightweight The Nike Air Max 270 will be available in black, tan, and pink, although a few colors may vary in color and size. Nike says that after a recent release, it will also offer an ' Category: Shoes. Describe Nike Swoosh Headband, a product featuring durable, stylish, lightweight This iconic blazer will give everyone the feeling of the big time on a daily basis without compromising on style and personality. Its innovative design, designed by artist Dierks Borschinger Category: Apparel. Describe Nike Utility Speed Backpack, a product featuring durable, stylish, comfortable a utility pack equipped with Nike's patented technology. It offers a lightweight backpack, as well as new technologies on a lightweight exterior and a variety of new, exclusive sneakers all with unique, non toxic Category: Apparel. Describe Nike Brasilia Training Backpack, a product featuring stylish, waterproof, lightweight The Nike Brasilia Training Backpack features a durable, breathable jacket, a low profile fleece lining, an ultra light liner and an ultralight back bag. The back compartment in the Back Category: Apparel.</p>\n        <h2>Response</h2>\n        <p style=\"color: #27ae60;\">Query: Looking for stylish and comfortable shoes. Based on: Describe Nike Yoga Mat, a product featuring waterproof, lightweight, stylish With its slim, ultra low slung fit, top shelf athletic bag, and padded foam floor, the Nike Yoga mat is the best in class apparel or accessories choice for your workout. Category: Apparel. Describe Nike Air Max 270, a product featuring waterproof, durable, lightweight The Nike Air Max 270 will be available in black, tan, and pink, although a few colors may vary in color and size. Nike says that after a recent release, it will also offer an ' Category: Shoes. Describe Nike Swoosh Headband, a product featuring durable, stylish, lightweight This iconic blazer will give everyone the feeling of the big time on a daily basis without compromising on style and personality. Its innovative design, designed by artist Dierks Borschinger Category: Apparel. Describe Nike Utility Speed Backpack, a product featuring durable, stylish, comfortable a utility pack equipped with Nike's patented technology. It offers a lightweight backpack, as well as new technologies on a lightweight exterior and a variety of new, exclusive sneakers all with unique, non toxic Category: Apparel. Describe Nike Brasilia Training Backpack, a product featuring stylish, waterproof, lightweight The Nike Brasilia Training Backpack features a durable, breathable jacket, a low profile fleece lining, an ultra light liner and an ultralight back bag. The back compartment in the Back Category: Apparel. it</p>\n    </div>\n    "
     },
     "execution_count": 111,
     "metadata": {},
     "output_type": "execute_result"
    }
   ],
   "source": [
    "from transformers import pipeline\n",
    "from IPython.display import HTML\n",
    "\n",
    "def simple_langchain_integration_v2(query):\n",
    "    generator = pipeline('text-generation', model='distilgpt2')\n",
    "    # Assuming description_to_vector and other necessary parts are defined elsewhere\n",
    "    query_vector = description_to_vector(query)\n",
    "    nearest_ids = annoy_index.get_nns_by_vector(query_vector, 5)  # Assuming annoy_index is defined elsewhere\n",
    "    retrieved_docs = [mock_retail_product_descriptions[i] for i in nearest_ids]  # Assuming mock_retail_product_descriptions is defined elsewhere\n",
    "    retrieved_context = \" \".join(retrieved_docs)\n",
    "    # Added truncation=True to avoid the warning\n",
    "    response = generator(f'Query: {query}. Based on: {retrieved_context}', max_length=100, num_return_sequences=1, truncation=True)\n",
    "    generated_text = response[0]['generated_text']\n",
    "\n",
    "    # Create HTML content with CSS styling for better visual presentation\n",
    "    html_content = f\"\"\"\n",
    "    <div style=\"border: 2px solid #2c3e50; border-radius: 10px; padding: 20px;\">\n",
    "        <h2>Query</h2>\n",
    "        <p>{query}</p>\n",
    "        <h2>Retrieved Context</h2>\n",
    "        <p>{retrieved_context}</p>\n",
    "        <h2>Response</h2>\n",
    "        <p style=\"color: #27ae60;\">{generated_text}</p>\n",
    "    </div>\n",
    "    \"\"\"\n",
    "    return HTML(html_content)\n",
    "\n",
    "# Example use\n",
    "simple_langchain_integration_v2(\"Looking for stylish and comfortable shoes\")\n"
   ]
  },
  {
   "cell_type": "markdown",
   "id": "7266d5d8",
   "metadata": {},
   "source": [
    "\n",
    "## Conclusion\n",
    "\n",
    "This notebook provides a comprehensive demonstration of integrating Retrieval-Augmented Generation (RAG) with a Large Language Model (LLM) from Hugging Face, leveraging Annoy for efficient nearest neighbor searches, all facilitated through the LangChain framework. The primary focus was on a retail context, showcasing how the amalgamation of retrieval systems and generative models can significantly enhance application capabilities in delivering relevant and contextually rich responses to user queries. Here's a summary of the workflow and key takeaways:\n",
    "\n",
    "- **What:** The notebook outlines the process of generating mock retail product descriptions, indexing these descriptions using Annoy for fast retrieval, and then integrating this with a generative model from Hugging Face (distilGPT-2) for text generation, all orchestrated using the LangChain framework.\n",
    "\n",
    "- **Why:** The integration aims to demonstrate the power of combining vector space retrieval with generative AI to improve the relevance and specificity of responses in a simulated retail query scenario. This approach exemplifies how businesses can leverage AI to enhance user experiences through personalized and context-aware interactions.\n",
    "\n",
    "- **How:**\n",
    "  - **Mock Data Generation:** We started by generating a dataset of mock product descriptions to simulate a retail inventory.\n",
    "  - **Annoy Indexing:** The descriptions were then converted into vector embeddings and indexed using Annoy, enabling efficient similarity-based retrieval.\n",
    "  - **LangChain Integration:** We showcased how LangChain can facilitate the integration of Annoy with a generative LLM to process user queries, retrieve contextually relevant product descriptions, and generate informative responses.\n",
    "  - **Text Generation and Display:** Utilizing the Hugging Face `pipeline` for text generation, the notebook demonstrated generating responses based on the context provided by Annoy's nearest neighbor search, with the output presented in an HTML format for enhanced readability.\n",
    "\n",
    "### Key Takeaways:\n",
    "- **Efficiency and Relevance:** The use of Annoy for embedding storage and retrieval showcases an efficient method to add contextual relevance to LLM-generated responses.\n",
    "- **Scalability:** This approach illustrates how scalable solutions can be built for real-world applications, accommodating large datasets typical in retail environments.\n",
    "- **Customizability:** The modular nature of LangChain, combined with the flexibility of Annoy and the generative power of LLMs, underscores the potential for customization according to specific application needs or domains.\n",
    "- **User Experience Enhancement:** The integration exemplifies how AI can be used to significantly enhance user experience, providing a foundation for developing advanced AI-driven retail applications.\n",
    "\n",
    "Through this integration, we've demonstrated a scalable and efficient method to bring context-awareness and relevance to AI-generated text, paving the way for innovative applications in retail and beyond.\n"
   ]
  },
  {
   "cell_type": "markdown",
   "id": "d1d0d60b19d9e54d",
   "metadata": {
    "collapsed": false
   },
   "source": [
    "## Detailed System Architecture Overview\n",
    "\n",
    "This section delves into the architecture of the system implemented in this notebook, leveraging the Mermaid syntax for a comprehensive visual depiction. We intricately integrate Retrieval-Augmented Generation (RAG) with a Large Language Model (LLM) from Hugging Face, employing the Annoy library for efficient similarity searches, all orchestrated within the LangChain framework to enhance retail query processing.\n",
    "\n",
    "### Architecture Diagram\n",
    "\n",
    "![RAG Sequence Diagram](rag_sequence_digram.png)\n",
    "\n",
    "### Architecture Components and Interactions\n",
    "\n",
    "- **User Query:** Initiates the process, where users enter their queries regarding retail products, starting the interaction flow.\n",
    "\n",
    "- **LangChain Framework:** Serves as the central orchestrator, efficiently managing the workflow from user query input to fetching nearest neighbors via Annoy and generating responses through LLM. It ensures seamless integration and communication between different components.\n",
    "\n",
    "- **Annoy Index:** A critical component that stores pre-processed vector embeddings of product descriptions, enabling quick and efficient retrieval of items similar to the user query.\n",
    "\n",
    "- **Retrieve Nearest Neighbors:** This step is crucial for identifying contextually relevant product descriptions based on the user's query, which are then utilized to inform the response generation process.\n",
    "\n",
    "- **LLM (Hugging Face):** At this stage, the system leverages a pre-trained language model to generate detailed and contextually enriched responses by incorporating both the original query and the context provided by the nearest neighbors.\n",
    "\n",
    "- **Generate Response:** The synthesis of input and retrieved context through the LLM culminates in the generation of a response tailored to the user's query, embodying the integration of RAG principles.\n",
    "\n",
    "- **Display Results:** The final step where the system presents the generated response back to the user, completing the cycle and providing a cohesive answer to the query.\n",
    "\n",
    "### Highlighted Features:\n",
    "\n",
    "- **Rapid Context Retrieval:** Utilizes Annoy for the swift retrieval of relevant context, significantly speeding up the response generation process.\n",
    "\n",
    "- **Scalable System Design:** Engineered to accommodate the extensive and growing datasets typical in retail, ensuring the system's scalability.\n",
    "\n",
    "- **Modular and Flexible:** The architecture's modular design promotes flexibility, allowing for the easy replacement or enhancement of individual components, such as swapping the LLM model or modifying the retrieval strategy.\n",
    "\n",
    "- **Enhanced User Engagement:** By delivering precise, context-aware responses, the system significantly improves user interaction and satisfaction, showcasing the potential of AI in transforming retail experiences.\n",
    "\n",
    "\n"
   ]
  },
  {
   "cell_type": "code",
   "execution_count": 111,
   "id": "3bbf53842bc35dc0",
   "metadata": {
    "collapsed": false,
    "ExecuteTime": {
     "end_time": "2024-02-20T12:24:07.538014Z",
     "start_time": "2024-02-20T12:24:07.534151Z"
    }
   },
   "outputs": [],
   "source": []
  },
  {
   "cell_type": "markdown",
   "id": "cbf7700d",
   "metadata": {},
   "source": [
    "# Enhancing E-commerce with NingLab eCeLLM-S\n",
    "\n",
    "The integration of NingLab's eCeLLM-S model into our retail analytics framework signifies a leap forward in applying advanced Large Language Models (LLMs) to the e-commerce domain. This section delves into the technical underpinnings, objectives, and implementation strategy of leveraging eCeLLM-S for enriching e-commerce content and customer interaction.\n",
    "\n",
    "## Background on LLMs and eCeLLM-S\n",
    "\n",
    "Large Language Models (LLMs) like GPT-3 have revolutionized the field of natural language processing (NLP) with their ability to generate coherent and contextually relevant text across a broad spectrum of applications. Building on this foundation, eCeLLM-S is designed to specifically address the nuances and complexities of e-commerce text generation, from product descriptions to customer engagement.\n",
    "\n",
    "### Core Technologies\n",
    "\n",
    "eCeLLM-S employs a transformer-based architecture, renowned for its self-attention mechanism, which allows the model to weigh the importance of different parts of the input text differently. This is crucial for generating text that is not only grammatically correct but also contextually aligned with the subject matter.\n",
    "\n",
    "#### Mathematical Foundation of Transformers\n",
    "\n",
    "The transformer model utilizes several key equations, including the self-attention mechanism:\n",
    "\n",
    "$$\n",
    "\\text{Attention}(Q, K, V) = \\text{softmax}\\left( \\frac{QK^T}{\\sqrt{d_k}} \\right)V\n",
    "$$\n",
    "\n",
    "- $Q$, $K$, and $V$ represent the query, key, and value vectors, respectively.\n",
    "- $d_k$ is the dimensionality of the key vectors, providing a normalization factor.\n",
    "\n",
    "This formula allows the model to dynamically focus on different parts of the input sequence, enhancing the relevance and coherence of the generated text.\n",
    "\n",
    "### Objectives of eCeLLM-S Integration\n",
    "\n",
    "- **Contextual Relevance**: Generate text that reflects the specific context of retail products and customer interactions.\n",
    "- **Enhanced Descriptions**: Create detailed and engaging product descriptions that capture the essence and appeal of products.\n",
    "- **Customer Engagement**: Facilitate improved customer interaction through personalized and informative responses.\n",
    "\n",
    "## Implementation Strategy\n",
    "\n",
    "The effective deployment of eCeLLM-S within our retail analysis ecosystem involves a multi-faceted approach:\n",
    "\n",
    "1. **Data Curation**: Assemble a diverse dataset that encompasses a wide range of our retail products and customer feedback.\n",
    "2. **Model Fine-Tuning**: Adapt eCeLLM-S to our specific retail context to enhance its output's relevance and accuracy.\n",
    "3. **Workflow Integration**: Seamlessly incorporate eCeLLM-S-generated content into our product listings and customer service processes.\n",
    "4. **Iterative Refinement**: Continuously monitor and refine the model's performance based on user feedback and emerging retail trends.\n",
    "\n",
    "\n",
    "**The strategic integration of NingLab's eCeLLM-S model represents a forward-thinking approach to harnessing the power of LLMs in the retail sector. By leveraging its advanced text generation capabilities, we can significantly enhance the quality of our product descriptions and the effectiveness of our customer interactions, setting a new benchmark for AI-driven e-commerce excellence.**\n"
   ]
  },
  {
   "cell_type": "code",
   "execution_count": 112,
   "id": "cdddfc93",
   "metadata": {
    "ExecuteTime": {
     "end_time": "2024-02-20T12:25:13.649043Z",
     "start_time": "2024-02-20T12:24:07.536685Z"
    }
   },
   "outputs": [
    {
     "data": {
      "text/plain": "Loading checkpoint shards:   0%|          | 0/2 [00:00<?, ?it/s]",
      "application/vnd.jupyter.widget-view+json": {
       "version_major": 2,
       "version_minor": 0,
       "model_id": "3e2e507837e747e5a038d1377ed74ef1"
      }
     },
     "metadata": {},
     "output_type": "display_data"
    },
    {
     "name": "stderr",
     "output_type": "stream",
     "text": [
      "Special tokens have been added in the vocabulary, make sure the associated word embeddings are fine-tuned or trained.\n",
      "Truncation was not explicitly activated but `max_length` is provided a specific value, please use `truncation=True` to explicitly truncate examples to max length. Defaulting to 'longest_first' truncation strategy. If you encode pairs of sequences (GLUE-style) with the tokenizer you can select this strategy more precisely by providing a specific strategy to `truncation`.\n",
      "Setting `pad_token_id` to `eos_token_id`:50256 for open-end generation.\n"
     ]
    },
    {
     "name": "stdout",
     "output_type": "stream",
     "text": [
      "Generated product description:\n",
      "Generate a catchy product description for a pair of eco-friendly sneakers.\n",
      "Input: \n",
      "Output: Step into the future with these eco-friendly sneakers. Made from recycled materials and organic cotton, these sneakers are not only stylish and comfortable, but also sustainable and ethical. Whether you're running, walking, or dancing, these sneakers will keep you on your feet and on your mission to save the planet.\n"
     ]
    }
   ],
   "source": [
    "\n",
    "from transformers import pipeline\n",
    "\n",
    "# Initialize the eCeLLM-S pipeline for text generation\n",
    "eCeLLM_S_pipeline = pipeline(\"text-generation\", model=\"NingLab/eCeLLM-S\")\n",
    "\n",
    "# Example usage with a prompt related to retail\n",
    "prompt = \"Generate a catchy product description for a pair of eco-friendly sneakers\"\n",
    "generated_text = eCeLLM_S_pipeline(prompt, max_length=100, num_return_sequences=1)\n",
    "\n",
    "print(\"Generated product description:\")\n",
    "print(generated_text[0]['generated_text'])\n",
    "    "
   ]
  },
  {
   "cell_type": "markdown",
   "id": "33273fd9",
   "metadata": {},
   "source": [
    "\n",
    "### Application in Retail Analysis\n",
    "\n",
    "The above example demonstrates the use of eCeLLM-S in generating a product description. Such capabilities can be extended to various aspects of retail analysis, including but not limited to, generating creative product names, detailed product descriptions, and personalized marketing messages.\n",
    "\n",
    "By integrating eCeLLM-S, we can enhance the customer experience through more engaging and informative content, contributing to improved customer satisfaction and sales.\n",
    "    "
   ]
  },
  {
   "cell_type": "markdown",
   "id": "cb90eee7",
   "metadata": {},
   "source": [
    "\n",
    "## Integration with Lanchain Using Vector RAG\n",
    "\n",
    "To further enhance our retail analytics capabilities, we integrate Lanchain with vector Retrieval-Augmented Generation (RAG) for advanced query understanding and information retrieval. This integration aims to leverage the synergies between Lanchain's blockchain technology and RAG's powerful retrieval capabilities to enhance data veracity and retrieval efficiency in our retail analysis.\n",
    "\n",
    "### Objectives\n",
    "\n",
    "- **Enhance Data Veracity**: Utilize Lanchain to ensure the integrity and veracity of the retail data used in our analysis.\n",
    "- **Improve Retrieval Efficiency**: Leverage vector RAG for efficient retrieval of relevant information from our extensive retail dataset.\n",
    "- **Innovate Retail Analytics**: Combine blockchain technology and state-of-the-art NLP to pioneer innovative retail analytics solutions.\n",
    "\n",
    "Explanation of the below code:\n",
    "\n",
    "- Import required modules:\n",
    "  - `transformers.pipeline`: Importing the pipeline class from the transformers library to easily use pre-trained models.\n",
    "  - `IPython.display.HTML`: Importing the HTML class from the IPython.display module to display HTML content in Jupyter Notebooks or IPython environments.\n",
    "\n",
    "- Define the function `enhanced_langchain_integration(query)`:\n",
    "  - Integrates language model with retail data to generate enhanced responses to queries.\n",
    "  - Uses two different models:\n",
    "    - `eceLLM_generator`: Specifically designed for e-commerce (eCeLLM-S).\n",
    "    - `general_generator`: General-purpose text generation model (DistilGPT-2).\n",
    "  - Converts the input query to a vector representation (assuming a function `description_to_vector` is defined elsewhere).\n",
    "  - Retrieves similar product descriptions based on the query vector using an Annoy index (`annoy_index`).\n",
    "  - Combines retrieved context to provide better context for generation.\n",
    "  - Generates responses using both models based on the query and retrieved context.\n",
    "  - Chooses the final response based on some criteria (e.g., length, relevance).\n",
    "  - Constructs HTML content with CSS styling for visual presentation, including query, retrieved context, and generated response.\n",
    "\n",
    "- Example usage:\n",
    "  - Demonstrates how to use the `enhanced_langchain_integration` function with an example query (\"Looking for stylish and comfortable shoe\").\n",
    "  - Displays the HTML content in the notebook, presenting the query, retrieved context, and generated response with appropriate styling.\n",
    "    "
   ]
  },
  {
   "cell_type": "code",
   "execution_count": 113,
   "id": "8a38f316",
   "metadata": {
    "ExecuteTime": {
     "end_time": "2024-02-20T12:25:30.823064Z",
     "start_time": "2024-02-20T12:25:13.653148Z"
    }
   },
   "outputs": [
    {
     "data": {
      "text/plain": "Loading checkpoint shards:   0%|          | 0/2 [00:00<?, ?it/s]",
      "application/vnd.jupyter.widget-view+json": {
       "version_major": 2,
       "version_minor": 0,
       "model_id": "71f9e8ee2ab74757b02caba6cabdeadd"
      }
     },
     "metadata": {},
     "output_type": "display_data"
    },
    {
     "name": "stderr",
     "output_type": "stream",
     "text": [
      "Special tokens have been added in the vocabulary, make sure the associated word embeddings are fine-tuned or trained.\n",
      "Setting `pad_token_id` to `eos_token_id`:50256 for open-end generation.\n",
      "Setting `pad_token_id` to `eos_token_id`:50256 for open-end generation.\n"
     ]
    },
    {
     "data": {
      "text/plain": "<IPython.core.display.HTML object>",
      "text/html": "\n    <div style=\"border: 2px solid #2c3e50; border-radius: 10px; padding: 20px;\">\n        <h2>Query</h2>\n        <p>Looking for stylish and comfortable shoe</p>\n        <h2>Retrieved Context</h2>\n        <p>Describe Nike Yoga Mat, a product featuring waterproof, lightweight, stylish With its slim, ultra low slung fit, top shelf athletic bag, and padded foam floor, the Nike Yoga mat is the best in class apparel or accessories choice for your workout. Category: Apparel. Describe Nike Brasilia Training Backpack, a product featuring stylish, waterproof, lightweight The Nike Brasilia Training Backpack features a durable, breathable jacket, a low profile fleece lining, an ultra light liner and an ultralight back bag. The back compartment in the Back Category: Apparel. Describe Nike Lightweight Arm Band, a product featuring comfortable, lightweight, waterproof Nike Lightweight Arm Band This lightweight black and white band is designed with the most athletic and supportive fabric possible. It comes paired with a durable woven stretch fiber sleeve that keeps you warm while Category: Accessories. Describe Nike Air Max 270, a product featuring waterproof, durable, lightweight The Nike Air Max 270 will be available in black, tan, and pink, although a few colors may vary in color and size. Nike says that after a recent release, it will also offer an ' Category: Shoes. Describe Nike Air Zoom Pegasus, a product featuring lightweight, comfortable, waterproof As with Nike, my biggest disappointment with the 'Pig' line was the size range. For many a 'pig' has never been more important to me than last year's IOMX, but it Category: Shoes.</p>\n        <h2>Generated Response</h2>\n        <p style=\"color: #27ae60;\">Query: Looking for stylish and comfortable shoe. Context: Describe Nike Yoga Mat, a product featuring waterproof, lightweight, stylish With its slim, ultra low slung fit, top shelf athletic bag, and padded foam floor, the Nike Yoga mat is the best in class apparel or accessories choice for your workout. Category: Apparel. Describe Nike Brasilia Training Backpack, a product featuring stylish, waterproof, lightweight The Nike Brasilia Training Backpack features a durable, breathable jacket, a low profile fleece lining, an ultra light liner and an ultralight back bag. The back compartment in the Back Category: Apparel. Describe Nike Lightweight Arm Band, a product featuring comfortable, lightweight, waterproof Nike Lightweight Arm Band This lightweight black and white band is designed with the most athletic and supportive fabric possible. It comes paired with a durable woven stretch fiber sleeve that keeps you warm while Category: Accessories. Describe Nike Air Max 270, a product featuring waterproof, durable, lightweight The Nike Air Max 270 will be available in black, tan, and pink, although a few colors may vary in color and size. Nike says that after a recent release, it will also offer an ' Category: Shoes. Describe Nike Air Zoom Pegasus, a product featuring lightweight, comfortable, waterproof As with Nike, my biggest disappointment with the 'Pig' line was the size range. For many a 'pig' has never been more important to me than last year's IOMX, but it Category: Shoes. high</p>\n    </div>\n    "
     },
     "execution_count": 113,
     "metadata": {},
     "output_type": "execute_result"
    }
   ],
   "source": [
    "from transformers import pipeline\n",
    "from IPython.display import HTML\n",
    "\n",
    "# Function to integrate language model with retail data\n",
    "def enhanced_langchain_integration(query):\n",
    "    # Using eCeLLM-S for e-commerce specific generation and DistilGPT-2 for general text\n",
    "    eceLLM_generator = pipeline('text-generation', model='NingLab/eCeLLM-S')  # Adjust the model ID as needed\n",
    "    general_generator = pipeline('text-generation', model='distilgpt2')\n",
    "\n",
    "    # Convert query to vector (Assuming this function is defined and works with your data)\n",
    "    query_vector = description_to_vector(query)\n",
    "\n",
    "    # Retrieve similar product descriptions based on the query vector\n",
    "    nearest_ids = annoy_index.get_nns_by_vector(query_vector, 5)  # Assuming annoy_index is properly set up\n",
    "    retrieved_docs = [mock_retail_product_descriptions[i] for i in nearest_ids]  # Assuming this variable holds your mock data\n",
    "\n",
    "    # Combine retrieved context for better generation\n",
    "    retrieved_context = \" \".join(retrieved_docs)\n",
    "\n",
    "    # Generate response with both models and choose based on context\n",
    "    eceLLM_response = eceLLM_generator(f'Query: {query}. Based on: {retrieved_context}', max_length=100, num_return_sequences=1, truncation=True)[0]['generated_text']\n",
    "    general_response = general_generator(f'Query: {query}. Context: {retrieved_context}', max_length=100, num_return_sequences=1, truncation=True)[0]['generated_text']\n",
    "\n",
    "    # Choose response based on some criteria (e.g., length, relevance, etc.) - for simplicity, just using eCeLLM-S here\n",
    "    final_response = eceLLM_response if len(eceLLM_response) > len(general_response) else general_response\n",
    "\n",
    "    # Create HTML content with CSS styling for visual presentation\n",
    "    html_content = f\"\"\"\n",
    "    <div style=\"border: 2px solid #2c3e50; border-radius: 10px; padding: 20px;\">\n",
    "        <h2>Query</h2>\n",
    "        <p>{query}</p>\n",
    "        <h2>Retrieved Context</h2>\n",
    "        <p>{retrieved_context}</p>\n",
    "        <h2>Generated Response</h2>\n",
    "        <p style=\"color: #27ae60;\">{final_response}</p>\n",
    "    </div>\n",
    "    \"\"\"\n",
    "    return HTML(html_content)\n",
    "\n",
    "# Example use\n",
    "enhanced_langchain_integration(\"Looking for stylish and comfortable shoe\")\n"
   ]
  },
  {
   "cell_type": "markdown",
   "source": [
    "\n",
    "### Implementation Considerations\n",
    "\n",
    "Integrating Langchain with vector RAG requires careful planning and execution, including ensuring data security, optimizing retrieval algorithms, and effectively managing blockchain transactions. The combination of Lanchain's blockchain technology with RAG's NLP capabilities offers a unique opportunity to redefine retail analytics, making it more secure, efficient, and insightful.\n",
    "\n",
    "### Conclusion\n",
    "\n",
    "The integration of Lanchain with vector RAG represents a significant advancement in retail analytics, offering unprecedented levels of data integrity, retrieval efficiency, and analytical depth. By harnessing these technologies, we can unlock new insights and value from our retail data, driving innovation and excellence in our business operations.\n",
    "    "
   ],
   "metadata": {
    "collapsed": false
   },
   "id": "e47d7387aeb21df4"
  },
  {
   "cell_type": "markdown",
   "source": [
    "### TF-IDF (Term Frequency-Inverse Document Frequency)\n",
    "\n",
    "TF-IDF is a statistical measure used to evaluate how important a word is to a document in a collection or corpus. It is often used as a weighting factor in searches of information retrieval, text mining, and user modeling. The importance increases proportionally to the number of times a word appears in the document but is offset by the frequency of the word in the corpus.\n",
    "\n",
    "#### **Term Frequency (TF)**\n",
    "\n",
    "Term Frequency measures the frequency of a word in a document. TF is calculated as:\n",
    "\n",
    "$$\n",
    "\\text{TF}(t, d) = \\frac{\\text{Number of times term } t \\text{ appears in a document } d}{\\text{Total number of terms in the document } d}\n",
    "$$\n",
    "\n",
    "#### **Inverse Document Frequency (IDF)**\n",
    "\n",
    "Inverse Document Frequency measures how important a term is within the entire corpus. Words that appear frequently in one document but less frequently in the corpus receive a higher weighting. IDF is calculated as:\n",
    "\n",
    "$$\n",
    "\\text{IDF}(t, D) = \\log \\left( \\frac{\\text{Total number of documents } D}{\\text{Number of documents with term } t \\text{ in it}} + 1 \\right)\n",
    "$$\n",
    "\n",
    "Note: Adding 1 in the denominator prevents division by zero for terms that appear in all documents.\n",
    "\n",
    "#### **TF-IDF Calculation**\n",
    "\n",
    "The TF-IDF value is calculated by multiplying TF and IDF:\n",
    "\n",
    "$$\n",
    "\\text{TF-IDF}(t, d, D) = \\text{TF}(t, d) \\times \\text{IDF}(t, D)\n",
    "$$\n",
    "\n",
    "This results in a matrix where each row represents a document and each column represents a term in the corpus, with values indicating the significance of each term to the document.\n",
    "\n",
    "### t-Distributed Stochastic Neighbor Embedding (t-SNE)\n",
    "\n",
    "t-SNE is a machine learning algorithm for dimensionality reduction well-suited for the visualization of high-dimensional datasets. It converts similarities between data points to joint probabilities and tries to minimize the Kullback-Leibler divergence between the joint probabilities of the low-dimensional embedding and the high-dimensional data.\n",
    "\n",
    "#### **Mathematical Foundation**\n",
    "\n",
    "Given a set of points in a high-dimensional space, t-SNE first computes probabilities \\(p_{ij}\\) that are proportional to the similarity of objects \\(x_i\\) and \\(x_j\\), as follows:\n",
    "\n",
    "$$\n",
    "p_{j|i} = \\frac{\\exp(-||x_i - x_j||^2 / 2\\sigma_i^2)}{\\sum_{k \\neq i} \\exp(-||x_i - x_k||^2 / 2\\sigma_i^2)}\n",
    "$$\n",
    "\n",
    "$$\n",
    "p_{ij} = \\frac{p_{j|i} + p_{i|j}}{2N}\n",
    "$$\n",
    "\n",
    "In the low-dimensional space, t-SNE computes similar probabilities \\(q_{ij}\\) using a Student-t distribution:\n",
    "\n",
    "$$\n",
    "q_{ij} = \\frac{(1 + ||y_i - y_j||^2)^{-1}}{\\sum_{k \\neq l} (1 + ||y_k - y_l||^2)^{-1}}\n",
    "$$\n",
    "\n",
    "The Kullback-Leibler divergence between the distributions \\(P\\) and \\(Q\\) is minimized by gradient descent:\n",
    "\n",
    "$$\n",
    "C = \\text{KL}(P||Q) = \\sum_i \\sum_j p_{ij} \\log \\frac{p_{ij}}{q_{ij}}\n",
    "$$\n",
    "\n",
    "#### **Perplexity**\n",
    "\n",
    "Perplexity is a parameter for t-SNE that suggests how to balance attention between local and global aspects of your data and is defined as:\n",
    "\n",
    "$$\n",
    "\\text{Perplexity} = 2^{H(P_i)}\n",
    "$$\n",
    "\n",
    "where \\(H(P_i)\\) is the Shannon entropy of \\(P_i\\) measured in bits.\n",
    "\n",
    "### Application in the Notebook Context\n",
    "\n",
    "In the context of the notebook, TF-IDF is used to transform mock retail product descriptions into numerical vectors, capturing the importance of terms within descriptions relative to their frequency across all descriptions. These vectors serve as features that represent each product's textual information.\n",
    "\n",
    "t-SNE is then applied to these TF-IDF vectors to reduce the high-dimensional feature space to a 2D space suitable for visualization. The `perplexity` parameter is dynamically adjusted based on the dataset size to ensure meaningful dimensionality reduction.\n",
    "\n",
    "The final visualization with seaborn plots the t-SNE-transformed points, colored by product categories, to illustrate the distribution and clustering of products based on their descriptions. This process highlights the power of combining TF-IDF for feature extraction with t-SNE for visualization, providing insights into the semantic relationships within the dataset.\n",
    "\n",
    "### TF-IDF (Term Frequency-Inverse Document Frequency)\n",
    "\n",
    "TF-IDF is a statistical measure used to evaluate how important a word is to a document in a collection or corpus. It is often used as a weighting factor in searches of information retrieval, text mining, and user modeling. The importance increases proportionally to the number of times a word appears in the document but is offset by the frequency of the word in the corpus.\n",
    "\n",
    "#### **Term Frequency (TF)**\n",
    "\n",
    "Term Frequency measures the frequency of a word in a document. TF is calculated as:\n",
    "\n",
    "$$\n",
    "\\text{TF}(t, d) = \\frac{\\text{Number of times term } t \\text{ appears in a document } d}{\\text{Total number of terms in the document } d}\n",
    "$$\n",
    "\n",
    "#### **Inverse Document Frequency (IDF)**\n",
    "\n",
    "Inverse Document Frequency measures how important a term is within the entire corpus. Words that appear frequently in one document but less frequently in the corpus receive a higher weighting. IDF is calculated as:\n",
    "\n",
    "$$\n",
    "\\text{IDF}(t, D) = \\log \\left( \\frac{\\text{Total number of documents } D}{\\text{Number of documents with term } t \\text{ in it}} + 1 \\right)\n",
    "$$\n",
    "\n",
    "Note: Adding 1 in the denominator prevents division by zero for terms that appear in all documents.\n",
    "\n",
    "#### **TF-IDF Calculation**\n",
    "\n",
    "The TF-IDF value is calculated by multiplying TF and IDF:\n",
    "\n",
    "$$\n",
    "\\text{TF-IDF}(t, d, D) = \\text{TF}(t, d) \\times \\text{IDF}(t, D)\n",
    "$$\n",
    "\n",
    "This results in a matrix where each row represents a document and each column represents a term in the corpus, with values indicating the significance of each term to the document.\n",
    "\n",
    "### t-Distributed Stochastic Neighbor Embedding (t-SNE)\n",
    "\n",
    "t-SNE is a machine learning algorithm for dimensionality reduction well-suited for the visualization of high-dimensional datasets. It converts similarities between data points to joint probabilities and tries to minimize the Kullback-Leibler divergence between the joint probabilities of the low-dimensional embedding and the high-dimensional data.\n",
    "\n",
    "#### **Mathematical Foundation**\n",
    "\n",
    "Given a set of points in a high-dimensional space, t-SNE first computes probabilities \\(p_{ij}\\) that are proportional to the similarity of objects \\(x_i\\) and \\(x_j\\), as follows:\n",
    "\n",
    "$$\n",
    "p_{j|i} = \\frac{\\exp(-||x_i - x_j||^2 / 2\\sigma_i^2)}{\\sum_{k \\neq i} \\exp(-||x_i - x_k||^2 / 2\\sigma_i^2)}\n",
    "$$\n",
    "\n",
    "$$\n",
    "p_{ij} = \\frac{p_{j|i} + p_{i|j}}{2N}\n",
    "$$\n",
    "\n",
    "In the low-dimensional space, t-SNE computes similar probabilities \\(q_{ij}\\) using a Student-t distribution:\n",
    "\n",
    "$$\n",
    "q_{ij} = \\frac{(1 + ||y_i - y_j||^2)^{-1}}{\\sum_{k \\neq l} (1 + ||y_k - y_l||^2)^{-1}}\n",
    "$$\n",
    "\n",
    "The Kullback-Leibler divergence between the distributions \\(P\\) and \\(Q\\) is minimized by gradient descent:\n",
    "\n",
    "$$\n",
    "C = \\text{KL}(P||Q) = \\sum_i \\sum_j p_{ij} \\log \\frac{p_{ij}}{q_{ij}}\n",
    "$$\n",
    "\n",
    "#### **Perplexity**\n",
    "\n",
    "Perplexity is a parameter for t-SNE that suggests how to balance attention between local and global aspects of your data and is defined as:\n",
    "\n",
    "$$\n",
    "\\text{Perplexity} = 2^{H(P_i)}\n",
    "$$\n",
    "\n",
    "where \\(H(P_i)\\) is the Shannon entropy of \\(P_i\\) measured in bits.\n",
    "\n",
    "### Application in the Notebook Context\n",
    "\n",
    "In the context of the notebook, TF-IDF is used to transform mock retail product descriptions into numerical vectors, capturing the importance of terms within descriptions relative to their frequency across all descriptions. These vectors serve as features that represent each product's textual information.\n",
    "\n",
    "t-SNE is then applied to these TF-IDF vectors to reduce the high-dimensional feature space to a 2D space suitable for visualization. The `perplexity` parameter is dynamically adjusted based on the dataset size to ensure meaningful dimensionality reduction.\n",
    "\n",
    "The final visualization with seaborn plots the t-SNE-transformed points, colored by product categories, to illustrate the distribution and clustering of products based on their descriptions. This process highlights the power of combining TF-IDF for feature extraction with t-SNE for visualization, providing insights into the semantic relationships within the dataset."
   ],
   "metadata": {
    "collapsed": false
   },
   "id": "28666c8fb07d81b"
  },
  {
   "cell_type": "code",
   "outputs": [],
   "source": [
    "from sklearn.feature_extraction.text import TfidfVectorizer\n",
    "import numpy as np\n",
    "\n",
    "# Combine the descriptions into a single string per product for TF-IDF\n",
    "descriptions = [desc.split(\" with features: \")[0] for desc in mock_retail_product_descriptions]\n",
    "\n",
    "# Use TF-IDF to simulate embeddings\n",
    "vectorizer = TfidfVectorizer(max_features=100)\n",
    "tfidf_embeddings = vectorizer.fit_transform(descriptions).toarray()\n"
   ],
   "metadata": {
    "collapsed": false,
    "ExecuteTime": {
     "end_time": "2024-02-20T12:25:30.847075Z",
     "start_time": "2024-02-20T12:25:30.826041Z"
    }
   },
   "id": "b329373da4c7b86c",
   "execution_count": 114
  },
  {
   "cell_type": "code",
   "outputs": [
    {
     "data": {
      "text/plain": "array([[-3.9833767e+01, -3.3305214e+01],\n       [ 2.9722586e+01,  3.3945492e+01],\n       [-6.0138531e+00, -1.8026243e+01],\n       [-8.6477652e+00, -5.4936398e+01],\n       [ 5.7567646e+01,  1.2827231e+01],\n       [-3.4226471e+01,  3.6282471e+01],\n       [ 5.4465134e+01, -2.5030104e+01],\n       [-3.8369396e+01,  1.6025563e+00],\n       [ 2.4292631e+01, -3.5019011e+00],\n       [ 5.0735671e-02,  5.2429630e+01],\n       [ 2.3635925e+01, -4.1494305e+01],\n       [-3.3417695e+00,  1.5512805e+01]], dtype=float32)"
     },
     "execution_count": 115,
     "metadata": {},
     "output_type": "execute_result"
    }
   ],
   "source": [
    "from sklearn.manifold import TSNE\n",
    "\n",
    "# Adjust perplexity to be less than the number of samples\n",
    "# Assuming 'tfidf_embeddings' contains your dataset's embeddings\n",
    "n_samples = tfidf_embeddings.shape[0]\n",
    "perplexity_value = min(30, n_samples - 1)  # Ensure perplexity is less than n_samples\n",
    "\n",
    "tsne = TSNE(n_components=2, perplexity=perplexity_value, random_state=42)\n",
    "tsne_results = tsne.fit_transform(tfidf_embeddings)\n",
    "\n",
    "tsne_results\n"
   ],
   "metadata": {
    "collapsed": false,
    "ExecuteTime": {
     "end_time": "2024-02-20T12:25:30.940652Z",
     "start_time": "2024-02-20T12:25:30.833167Z"
    }
   },
   "id": "41bb8e862fade2cf",
   "execution_count": 115
  },
  {
   "cell_type": "code",
   "outputs": [
    {
     "data": {
      "text/plain": "               Metric  \\\n0  Pairwise Distances   \n1   Similarity Matrix   \n2          Perplexity   \n\n                                                                                                                                                                                                                                                                                                                                                                                                                                                                                                                                                                                                                                                                                                                                                                                                                                                                                                                                                                                                                                                                                                                                                                                                                                                                                                                                                                                                                                                                                                                                                                                                                                                                                                                                                                                                                                                                                                                                                                                                                                                                                                                                                                                                                                                                                                                                                                                                                                                                                                                                                                                                                                                                                                  Value  \\\n0  [[0.0, 96.75093078613281, 37.11109924316406, 37.95358657836914, 107.77401733398438, 69.813232421875, 94.66129302978516, 34.938472747802734, 70.71372985839844, 94.55812072753906, 63.99580383300781, 60.94969177246094], [96.75093078613281, 0.0, 63.072608947753906, 96.81050109863281, 34.947509765625, 63.99174499511719, 63.955562591552734, 75.3829116821289, 37.839019775390625, 34.958290100097656, 75.68494415283203, 37.85519027709961], [37.11109924316406, 63.072608947753906, 0.0, 37.00401306152344, 70.67208099365234, 61.19957733154297, 60.883182525634766, 37.84403610229492, 33.60713577270508, 70.71640014648438, 37.813480377197266, 33.645320892333984], [37.95358657836914, 96.81050109863281, 37.00401306152344, 0.0, 94.74381256103516, 94.73728942871094, 69.8399887084961, 63.87510299682617, 61.07844924926758, 107.71781921386719, 34.970367431640625, 70.64873504638672], [107.77401733398438, 34.947509765625, 70.67208099365234, 94.74381256103516, 0.0, 94.74337768554688, 37.9842529296875, 96.5914535522461, 37.06571578979492, 69.83226013183594, 64.04834747314453, 60.96859359741211], [69.813232421875, 63.99174499511719, 61.19957733154297, 94.73728942871094, 94.74337768554688, 0.0, 107.82129669189453, 34.92649459838867, 70.76214599609375, 37.89007568359375, 96.93959045410156, 37.2188606262207], [94.66129302978516, 63.955562591552734, 60.883182525634766, 69.8399887084961, 37.9842529296875, 107.82129669189453, 0.0, 96.57923889160156, 37.065391540527344, 94.6622314453125, 34.95010757446289, 70.60712432861328], [34.938472747802734, 75.3829116821289, 37.84403610229492, 63.87510299682617, 96.5914535522461, 34.92649459838867, 96.57923889160156, 0.0, 62.86958694458008, 63.71419143676758, 75.51158905029297, 37.6885871887207], [70.71372985839844, 37.839019775390625, 33.60713577270508, 61.07844924926758, 37.06571578979492, 70.76214599609375, 37.065391540527344, 62.86958694458008, 0.0, 60.95904541015625, 37.99808120727539, 33.544288635253906], [94.55812072753906, 34.958290100097656, 70.71640014648438, 107.71781921386719, 69.83226013183594, 37.89007568359375, 94.6622314453125, 63.71419143676758, 60.95904541015625, 0.0, 96.83989715576172, 37.0723762512207], [63.99580383300781, 75.68494415283203, 37.813480377197266, 34.970367431640625, 64.04834747314453, 96.93959045410156, 34.95010757446289, 75.51158905029297, 37.99808120727539, 96.83989715576172, 0.0, 63.06827163696289], [60.94969177246094, 37.85519027709961, 33.645320892333984, 70.64873504638672, 60.96859359741211, 37.2188606262207, 70.60712432861328, 37.6885871887207, 33.544288635253906, 37.0723762512207, 63.06827163696289, 0.0]]   \n1                                                                                                                                                                                                                                                                                                                                                                                                                                                                                                                                                                                                                                                                                                                                                                                                                                                                                                                                                                                                                            [[0.0, 0.0, 8.659737239263426e-300, 1.60282392433e-313, 0.0, 0.0, 0.0, 8.492604805624227e-266, 0.0, 0.0, 0.0, 0.0], [0.0, 0.0, 0.0, 0.0, 6.1929734025641976e-266, 0.0, 0.0, 0.0, 1.2315273412887e-311, 4.248692867846774e-266, 0.0, 6.67810027034e-312], [8.659737239263426e-300, 0.0, 0.0, 4.580766689300801e-298, 0.0, 0.0, 0.0, 1.018600539633e-311, 5.563044075408646e-246, 0.0, 3.2359249373547e-311, 1.540525978314167e-246], [1.60282392433e-313, 0.0, 4.580766689300801e-298, 0.0, 0.0, 0.0, 0.0, 0.0, 0.0, 0.0, 2.7852442860186984e-266, 0.0], [0.0, 6.1929734025641976e-266, 0.0, 0.0, 0.0, 0.0, 5.0027306176e-314, 0.0, 4.6613229387967087e-299, 0.0, 0.0, 0.0], [0.0, 0.0, 0.0, 0.0, 0.0, 0.0, 0.0, 1.2905095982701572e-265, 0.0, 1.781812954816e-312, 0.0, 1.5782550439708173e-301], [0.0, 0.0, 0.0, 0.0, 5.0027306176e-314, 0.0, 0.0, 0.0, 4.7176829513162165e-299, 0.0, 5.655480093595146e-266, 0.0], [8.492604805624227e-266, 0.0, 1.018600539633e-311, 0.0, 0.0, 1.2905095982701572e-265, 0.0, 0.0, 0.0, 0.0, 0.0, 3.61102474252547e-309], [0.0, 1.2315273412887e-311, 5.563044075408646e-246, 0.0, 4.6613229387967087e-299, 0.0, 4.7176829513162165e-299, 0.0, 0.0, 0.0, 2.958349415e-314, 4.589163488406509e-245], [0.0, 4.248692867846774e-266, 0.0, 0.0, 0.0, 1.781812954816e-312, 0.0, 0.0, 0.0, 0.0, 0.0, 3.6415242688846763e-299], [0.0, 0.0, 3.2359249373547e-311, 2.7852442860186984e-266, 0.0, 0.0, 5.655480093595146e-266, 0.0, 2.958349415e-314, 0.0, 0.0, 0.0], [0.0, 6.67810027034e-312, 1.540525978314167e-246, 0.0, 0.0, 1.5782550439708173e-301, 0.0, 3.61102474252547e-309, 4.589163488406509e-245, 3.6415242688846763e-299, 0.0, 0.0]]   \n2                                                                                                                                                                                                                                                                                                                                                                                                                                                                                                                                                                                                                                                                                                                                                                                                                                                                                                                                                                                                                                                                                                                                                                                                                                                                                                                                                                                                                                                                                                                                                                                                                                                                                                                                                                                                                                                                                                                                                                                                                                                                                                                                                                                                                                                                                                                                                                                                                                                                                                                                                                                                                                                                                                   1.0   \n\n                                                                                                             Analysis  \n0        Pairwise distances between points in the t-SNE embedding space. High values indicate more dissimilar points.  \n1             Measure of similarity between data points in the embedding space. High values indicate high similarity.  \n2  A measure of how well the probability distribution predicts a sample. Higher values indicate a smoother embedding.  ",
      "text/html": "<div>\n<style scoped>\n    .dataframe tbody tr th:only-of-type {\n        vertical-align: middle;\n    }\n\n    .dataframe tbody tr th {\n        vertical-align: top;\n    }\n\n    .dataframe thead th {\n        text-align: right;\n    }\n</style>\n<table border=\"1\" class=\"dataframe\">\n  <thead>\n    <tr style=\"text-align: right;\">\n      <th></th>\n      <th>Metric</th>\n      <th>Value</th>\n      <th>Analysis</th>\n    </tr>\n  </thead>\n  <tbody>\n    <tr>\n      <th>0</th>\n      <td>Pairwise Distances</td>\n      <td>[[0.0, 96.75093078613281, 37.11109924316406, 37.95358657836914, 107.77401733398438, 69.813232421875, 94.66129302978516, 34.938472747802734, 70.71372985839844, 94.55812072753906, 63.99580383300781, 60.94969177246094], [96.75093078613281, 0.0, 63.072608947753906, 96.81050109863281, 34.947509765625, 63.99174499511719, 63.955562591552734, 75.3829116821289, 37.839019775390625, 34.958290100097656, 75.68494415283203, 37.85519027709961], [37.11109924316406, 63.072608947753906, 0.0, 37.00401306152344, 70.67208099365234, 61.19957733154297, 60.883182525634766, 37.84403610229492, 33.60713577270508, 70.71640014648438, 37.813480377197266, 33.645320892333984], [37.95358657836914, 96.81050109863281, 37.00401306152344, 0.0, 94.74381256103516, 94.73728942871094, 69.8399887084961, 63.87510299682617, 61.07844924926758, 107.71781921386719, 34.970367431640625, 70.64873504638672], [107.77401733398438, 34.947509765625, 70.67208099365234, 94.74381256103516, 0.0, 94.74337768554688, 37.9842529296875, 96.5914535522461, 37.06571578979492, 69.83226013183594, 64.04834747314453, 60.96859359741211], [69.813232421875, 63.99174499511719, 61.19957733154297, 94.73728942871094, 94.74337768554688, 0.0, 107.82129669189453, 34.92649459838867, 70.76214599609375, 37.89007568359375, 96.93959045410156, 37.2188606262207], [94.66129302978516, 63.955562591552734, 60.883182525634766, 69.8399887084961, 37.9842529296875, 107.82129669189453, 0.0, 96.57923889160156, 37.065391540527344, 94.6622314453125, 34.95010757446289, 70.60712432861328], [34.938472747802734, 75.3829116821289, 37.84403610229492, 63.87510299682617, 96.5914535522461, 34.92649459838867, 96.57923889160156, 0.0, 62.86958694458008, 63.71419143676758, 75.51158905029297, 37.6885871887207], [70.71372985839844, 37.839019775390625, 33.60713577270508, 61.07844924926758, 37.06571578979492, 70.76214599609375, 37.065391540527344, 62.86958694458008, 0.0, 60.95904541015625, 37.99808120727539, 33.544288635253906], [94.55812072753906, 34.958290100097656, 70.71640014648438, 107.71781921386719, 69.83226013183594, 37.89007568359375, 94.6622314453125, 63.71419143676758, 60.95904541015625, 0.0, 96.83989715576172, 37.0723762512207], [63.99580383300781, 75.68494415283203, 37.813480377197266, 34.970367431640625, 64.04834747314453, 96.93959045410156, 34.95010757446289, 75.51158905029297, 37.99808120727539, 96.83989715576172, 0.0, 63.06827163696289], [60.94969177246094, 37.85519027709961, 33.645320892333984, 70.64873504638672, 60.96859359741211, 37.2188606262207, 70.60712432861328, 37.6885871887207, 33.544288635253906, 37.0723762512207, 63.06827163696289, 0.0]]</td>\n      <td>Pairwise distances between points in the t-SNE embedding space. High values indicate more dissimilar points.</td>\n    </tr>\n    <tr>\n      <th>1</th>\n      <td>Similarity Matrix</td>\n      <td>[[0.0, 0.0, 8.659737239263426e-300, 1.60282392433e-313, 0.0, 0.0, 0.0, 8.492604805624227e-266, 0.0, 0.0, 0.0, 0.0], [0.0, 0.0, 0.0, 0.0, 6.1929734025641976e-266, 0.0, 0.0, 0.0, 1.2315273412887e-311, 4.248692867846774e-266, 0.0, 6.67810027034e-312], [8.659737239263426e-300, 0.0, 0.0, 4.580766689300801e-298, 0.0, 0.0, 0.0, 1.018600539633e-311, 5.563044075408646e-246, 0.0, 3.2359249373547e-311, 1.540525978314167e-246], [1.60282392433e-313, 0.0, 4.580766689300801e-298, 0.0, 0.0, 0.0, 0.0, 0.0, 0.0, 0.0, 2.7852442860186984e-266, 0.0], [0.0, 6.1929734025641976e-266, 0.0, 0.0, 0.0, 0.0, 5.0027306176e-314, 0.0, 4.6613229387967087e-299, 0.0, 0.0, 0.0], [0.0, 0.0, 0.0, 0.0, 0.0, 0.0, 0.0, 1.2905095982701572e-265, 0.0, 1.781812954816e-312, 0.0, 1.5782550439708173e-301], [0.0, 0.0, 0.0, 0.0, 5.0027306176e-314, 0.0, 0.0, 0.0, 4.7176829513162165e-299, 0.0, 5.655480093595146e-266, 0.0], [8.492604805624227e-266, 0.0, 1.018600539633e-311, 0.0, 0.0, 1.2905095982701572e-265, 0.0, 0.0, 0.0, 0.0, 0.0, 3.61102474252547e-309], [0.0, 1.2315273412887e-311, 5.563044075408646e-246, 0.0, 4.6613229387967087e-299, 0.0, 4.7176829513162165e-299, 0.0, 0.0, 0.0, 2.958349415e-314, 4.589163488406509e-245], [0.0, 4.248692867846774e-266, 0.0, 0.0, 0.0, 1.781812954816e-312, 0.0, 0.0, 0.0, 0.0, 0.0, 3.6415242688846763e-299], [0.0, 0.0, 3.2359249373547e-311, 2.7852442860186984e-266, 0.0, 0.0, 5.655480093595146e-266, 0.0, 2.958349415e-314, 0.0, 0.0, 0.0], [0.0, 6.67810027034e-312, 1.540525978314167e-246, 0.0, 0.0, 1.5782550439708173e-301, 0.0, 3.61102474252547e-309, 4.589163488406509e-245, 3.6415242688846763e-299, 0.0, 0.0]]</td>\n      <td>Measure of similarity between data points in the embedding space. High values indicate high similarity.</td>\n    </tr>\n    <tr>\n      <th>2</th>\n      <td>Perplexity</td>\n      <td>1.0</td>\n      <td>A measure of how well the probability distribution predicts a sample. Higher values indicate a smoother embedding.</td>\n    </tr>\n  </tbody>\n</table>\n</div>"
     },
     "metadata": {},
     "output_type": "display_data"
    }
   ],
   "source": [
    "import numpy as np\n",
    "import pandas as pd\n",
    "from sklearn.feature_extraction.text import TfidfVectorizer\n",
    "from sklearn.manifold import TSNE\n",
    "\n",
    "# Function to compute pairwise distances\n",
    "def compute_pairwise_distances(X):\n",
    "    distances = np.zeros((X.shape[0], X.shape[0]))\n",
    "    for i in range(X.shape[0]):\n",
    "        for j in range(i+1, X.shape[0]):\n",
    "            distances[i, j] = np.linalg.norm(X[i] - X[j])\n",
    "            distances[j, i] = distances[i, j]  # Distance matrix is symmetric\n",
    "    return distances\n",
    "\n",
    "# Function to compute similarity matrix\n",
    "def compute_similarity_matrix(distances, sigma):\n",
    "    similarities = np.exp(-distances**2 / (2 * sigma**2))\n",
    "    np.fill_diagonal(similarities, 0)  # Diagonal elements are set to 0\n",
    "    return similarities\n",
    "\n",
    "# Function to compute perplexity\n",
    "def compute_perplexity(P):\n",
    "    epsilon = 1e-12  # Small epsilon value to avoid numerical issues\n",
    "    P = np.maximum(P, epsilon)  # Replace zero values with epsilon\n",
    "    entropy = -np.sum(P * np.log2(P))\n",
    "    perplexity = 2 ** entropy\n",
    "    return perplexity\n",
    "\n",
    "# Combine the descriptions into a single string per product for TF-IDF\n",
    "descriptions = [desc.split(\" with features: \")[0] for desc in mock_retail_product_descriptions]\n",
    "\n",
    "# Use TF-IDF to simulate embeddings\n",
    "vectorizer = TfidfVectorizer(max_features=100)\n",
    "tfidf_embeddings = vectorizer.fit_transform(descriptions).toarray()\n",
    "\n",
    "# Adjust perplexity to be less than the number of samples\n",
    "n_samples = tfidf_embeddings.shape[0]\n",
    "perplexity_value = min(30, n_samples - 1)  # Ensure perplexity is less than n_samples\n",
    "\n",
    "# Perform t-SNE embedding\n",
    "tsne = TSNE(n_components=2, perplexity=perplexity_value, random_state=42)\n",
    "tsne_results = tsne.fit_transform(tfidf_embeddings)\n",
    "\n",
    "# Compute pairwise distances\n",
    "pairwise_distances = compute_pairwise_distances(tsne_results)\n",
    "\n",
    "# Compute similarity matrix\n",
    "sigma = 1.0  # Adjust sigma according to your data\n",
    "similarity_matrix = compute_similarity_matrix(pairwise_distances, sigma)\n",
    "\n",
    "# Compute perplexity\n",
    "perplexity = compute_perplexity(similarity_matrix)\n",
    "\n",
    "# Create a DataFrame to summarize the computed values and provide analysis\n",
    "data = {\n",
    "    \"Metric\": [\"Pairwise Distances\", \"Similarity Matrix\", \"Perplexity\"],\n",
    "    \"Value\": [pairwise_distances, similarity_matrix, perplexity],\n",
    "    \"Analysis\": [\n",
    "        \"Pairwise distances between points in the t-SNE embedding space. High values indicate more dissimilar points.\",\n",
    "        \"Measure of similarity between data points in the embedding space. High values indicate high similarity.\",\n",
    "        \"A measure of how well the probability distribution predicts a sample. Higher values indicate a smoother embedding.\"\n",
    "    ]\n",
    "}\n",
    "\n",
    "# Create a DataFrame\n",
    "df = pd.DataFrame(data)\n",
    "\n",
    "# Set option to display complete DataFrame content\n",
    "pd.set_option('display.max_colwidth', None)\n",
    "\n",
    "# Print the DataFrame\n",
    "display(df)\n"
   ],
   "metadata": {
    "collapsed": false,
    "ExecuteTime": {
     "end_time": "2024-02-20T12:25:31.056700Z",
     "start_time": "2024-02-20T12:25:30.946804Z"
    }
   },
   "id": "784dc1fb79319453",
   "execution_count": 116
  },
  {
   "cell_type": "code",
   "outputs": [
    {
     "data": {
      "text/plain": "[\"Describe Nike Air Zoom Pegasus, a product featuring lightweight, comfortable, waterproof As with Nike, my biggest disappointment with the 'Pig' line was the size range. For many a 'pig' has never been more important to me than last year's IOMX, but it Category: Shoes.\",\n \"Describe Nike Air Max 270, a product featuring waterproof, durable, lightweight The Nike Air Max 270 will be available in black, tan, and pink, although a few colors may vary in color and size. Nike says that after a recent release, it will also offer an ' Category: Shoes.\",\n 'Describe Nike Revolution 5, a product featuring durable, lightweight, waterproof Fiberglass lined panels, that are 1.5 inches taller than our standard 6 8 range Solid, solid steel panels Easy to use, lightweight construction No external strap Category: Accessories.',\n \"Describe Nike Dri FIT Tee, a product featuring comfortable, lightweight, waterproof As a casual look that's more athletic on the outside, we tried to do just that. With this, the lining gets just a little snug. Category: Accessories.\",\n 'Describe Nike Sportswear Club Fleece, a product featuring stylish, lightweight, comfortable Nike is committed to a range of lightweight sports shoes with one of a kind design features that provide great support for athletes and athletes of all levels of fitness. The Nike Category: Shoes.',\n \"Describe Nike Pro Tights, a product featuring lightweight, durable, comfortable Nike's new high technology Pro Tights are equipped with patented sensors built into their shoes that give rise to a unique visual signature and create unique visual style. These shoes are specially engineered with the potential to Category: Shoes.\",\n 'Describe Nike Lightweight Arm Band, a product featuring comfortable, lightweight, waterproof Nike Lightweight Arm Band This lightweight black and white band is designed with the most athletic and supportive fabric possible. It comes paired with a durable woven stretch fiber sleeve that keeps you warm while Category: Accessories.',\n 'Describe Nike Swoosh Headband, a product featuring durable, stylish, lightweight This iconic blazer will give everyone the feeling of the big time on a daily basis without compromising on style and personality. Its innovative design, designed by artist Dierks Borschinger Category: Apparel.',\n 'Describe Nike Brasilia Training Backpack, a product featuring stylish, waterproof, lightweight The Nike Brasilia Training Backpack features a durable, breathable jacket, a low profile fleece lining, an ultra light liner and an ultralight back bag. The back compartment in the Back Category: Apparel.',\n \"Describe Nike Utility Speed Backpack, a product featuring durable, stylish, comfortable a utility pack equipped with Nike's patented technology. It offers a lightweight backpack, as well as new technologies on a lightweight exterior and a variety of new, exclusive sneakers all with unique, non toxic Category: Apparel.\",\n \"Describe Nike Hyperfuel Water Bottle, a product featuring waterproof, durable, lightweight The Hype is Over. It's time we all realized that true water bottles are all about innovation. We hope this post will provide a simple, affordable way to create those ultimate water bottles Category: Accessories.\",\n 'Describe Nike Yoga Mat, a product featuring waterproof, lightweight, stylish With its slim, ultra low slung fit, top shelf athletic bag, and padded foam floor, the Nike Yoga mat is the best in class apparel or accessories choice for your workout. Category: Apparel.']"
     },
     "metadata": {},
     "output_type": "display_data"
    }
   ],
   "source": [
    "display(mock_retail_product_descriptions)"
   ],
   "metadata": {
    "collapsed": false,
    "ExecuteTime": {
     "end_time": "2024-02-20T12:25:31.067853Z",
     "start_time": "2024-02-20T12:25:31.059704Z"
    }
   },
   "id": "c7459af3d14c02f2",
   "execution_count": 117
  },
  {
   "cell_type": "code",
   "outputs": [
    {
     "data": {
      "text/plain": "<Figure size 1000x600 with 1 Axes>",
      "image/png": "[encoded data removed]"
     },
     "metadata": {},
     "output_type": "display_data"
    }
   ],
   "source": [
    "import numpy as np\n",
    "import re\n",
    "from sklearn.feature_extraction.text import TfidfVectorizer\n",
    "from sklearn.manifold import TSNE\n",
    "import seaborn as sns\n",
    "import matplotlib.pyplot as plt\n",
    "from transformers import pipeline\n",
    "\n",
    "# Assuming mock_retail_product_descriptions is already defined in your session\n",
    "\n",
    "# Initialize the zero-shot classification model (if needed for other tasks)\n",
    "classifier = pipeline(\"zero-shot-classification\", model=\"facebook/bart-large-mnli\")\n",
    "\n",
    "def clean_description(description):\n",
    "    clean_text = re.sub(r'<[^>]+>', '', description)\n",
    "    clean_text = re.sub(r'http[s]?://\\S+', '', clean_text)\n",
    "    clean_text = re.sub(r'[^A-Za-z0-9.,\\'\\s]+', ' ', clean_text)\n",
    "    clean_text = re.sub(r'\\[.*?\\]', '', clean_text)\n",
    "    clean_text = re.sub(r'\\s+', ' ', clean_text).strip()\n",
    "    return clean_text\n",
    "\n",
    "# Extract categories from descriptions and clean the text for TF-IDF\n",
    "categories = [desc.split(\" Category: \")[-1] for desc in mock_retail_product_descriptions]\n",
    "cleaned_descriptions = [clean_description(desc.split(\" Category: \")[0]) for desc in mock_retail_product_descriptions]\n",
    "\n",
    "# Use TF-IDF to simulate embeddings\n",
    "vectorizer = TfidfVectorizer(max_features=100)\n",
    "tfidf_embeddings = vectorizer.fit_transform(cleaned_descriptions).toarray()\n",
    "\n",
    "# Make sure perplexity is less than the number of samples\n",
    "n_samples = len(cleaned_descriptions)\n",
    "perplexity_value = min(30, max(5, n_samples - 1))  # Adjusted perplexity value\n",
    "\n",
    "# Perform t-SNE embedding\n",
    "tsne = TSNE(n_components=2, perplexity=perplexity_value, random_state=42)\n",
    "tsne_results = tsne.fit_transform(tfidf_embeddings)\n",
    "\n",
    "# Plot t-SNE results\n",
    "plt.figure(figsize=(10, 6))\n",
    "palette = sns.color_palette(\"hsv\", len(set(categories)))\n",
    "sns.scatterplot(x=tsne_results[:,0], y=tsne_results[:,1], hue=categories, palette=palette)\n",
    "plt.title('t-SNE Visualization of Nike Product Descriptions')\n",
    "plt.xlabel('t-SNE Dimension 1')\n",
    "plt.ylabel('t-SNE Dimension 2')\n",
    "plt.legend(title='Category', bbox_to_anchor=(1.05, 1), loc='upper left')\n",
    "plt.tight_layout()\n",
    "plt.show()\n"
   ],
   "metadata": {
    "collapsed": false,
    "ExecuteTime": {
     "end_time": "2024-02-20T12:25:34.440967Z",
     "start_time": "2024-02-20T12:25:31.070320Z"
    }
   },
   "id": "aeefac8fb9e9d4ce",
   "execution_count": 118
  },
  {
   "cell_type": "markdown",
   "source": [
    "## Collaborative Query Handling: A Detailed Overview\n",
    "\n",
    "### Introduction to Query Processing\n",
    "\n",
    "The core of collaborative query handling involves interpreting user inputs (queries) and transforming them into actionable search intents. This process is critical in retail environments where queries can be vague or highly specific.\n",
    "\n",
    "### Query Rewriting and Classification\n",
    "\n",
    "1. **Zero-shot Classification**: This method leverages pre-trained models for categorizing text without explicit examples for each category. The mathematical foundation relies on the model's ability to understand the semantic similarity between the input query and predefined categories. Given a query \\(q\\), and a set of candidate categories \\(C = \\{c_1, c_2, \\ldots, c_n\\}\\), the model assigns probabilities \\(P(c|q)\\) for each category, selecting the category with the highest probability as the query's classification.\n",
    "\n",
    "   $$\\text{Predicted Category} = \\underset{c \\in C}{\\mathrm{argmax}}\\ P(c|q)$$\n",
    "\n",
    "2. **Query Rewriting with Generative Models**: The objective is to refine or expand the user's original query to better match retail products or services. Using a model like GPT-2, the rewritten query \\(q'\\) is generated by maximizing the likelihood of the rewritten query given the original query \\(q\\), formalized as:\n",
    "\n",
    "   $$q' = \\underset{q'}{\\mathrm{argmax}}\\ P(q'|q)$$\n",
    "\n",
    "### Vector Representation of Queries and Products\n",
    "\n",
    "For matching queries to products, converting text to vectors allows for computational handling. The transformation \\(f: \\text{text} \\rightarrow \\mathbb{R}^d\\) maps product descriptions and queries into a \\(d\\)-dimensional vector space, facilitating similarity comparisons.\n",
    "\n",
    "### Efficient Similarity Search\n",
    "\n",
    "Using techniques like Approximate Nearest Neighbor (ANN) search, we can efficiently find products similar to a query vector. Given a query vector \\(q_v\\), the goal is to find product vectors \\(p_v\\) that are closest to \\(q_v\\) based on a distance metric \\(D(q_v, p_v)\\). Annoy is a popular library for this purpose, employing trees to facilitate fast and approximate searches.\n",
    "\n",
    "### Mathematical Foundation of ANN\n",
    "\n",
    "ANN leverages tree structures to partition the vector space, allowing for faster queries than exhaustive search. The efficiency comes from limiting the search space to regions of the vector space likely to contain the nearest neighbors. For a given query vector \\(q_v\\), Annoy builds a set of binary trees where each node represents a hyperplane that splits the space into two. The search algorithm traverses these trees, prioritizing paths that lead to closer matches based on the chosen distance metric, typically Euclidean (\\(L_2\\)) or Angular distance.\n",
    "\n",
    "### Collaborative Filtering and Machine Learning\n",
    "\n",
    "In a retail environment, collaborative filtering can be used alongside these techniques to recommend products based on the preferences of similar users. This involves matrix factorization techniques or neural networks to predict user preferences for products they haven't interacted with, based on the observed interactions of a larger user base.\n",
    "\n",
    "Collaborative Query Handling in a retail environment involves sophisticated techniques from natural language processing, machine learning, and information retrieval. By leveraging the capabilities of LLMs for query rewriting and classification, vector space models for product matching, and ANN for efficient similarity search, retailers can significantly enhance the relevance and personalization of product recommendations, leading to improved customer satisfaction and engagement.\n"
   ],
   "metadata": {
    "collapsed": false
   },
   "id": "a3178880ebf1a09f"
  },
  {
   "cell_type": "markdown",
   "source": [
    "### Integrating Zero-Shot Classification for Product Matching\n",
    "\n",
    "This section of the notebook demonstrates how to leverage the `transformers` library to classify user queries into product categories using a zero-shot classification approach and match these queries with relevant products based on their descriptions.\n",
    "\n",
    "### Code Explanation\n",
    "- Initialization: We start by initializing the zero-shot classification pipeline using the facebook/bart-large-mnli model from the Hugging Face transformers library. This model is well-suited for tasks requiring understanding of natural language text.\n",
    "\n",
    "- Product Descriptions Parsing: The product descriptions are parsed to extract categories explicitly mentioned at the end of each description. This information is restructured into a list of dictionaries, each containing the product description and its category.\n",
    "\n",
    "- User Queries Classification: User queries are classified into the extracted categories using the zero-shot classification model. This step assigns the most probable category to each query based on the model's understanding of the query and the description of product categories.\n",
    "\n",
    "- Matching Queries with Products: Based on the predicted categories, user queries are matched with products that fall into the same category. This allows for a dynamic and context-aware recommendation of products corresponding to user interests.\n"
   ],
   "metadata": {
    "collapsed": false
   },
   "id": "e456265f1ef05e97"
  },
  {
   "cell_type": "code",
   "outputs": [
    {
     "data": {
      "text/plain": "   user_id                                  query predicted_category  \\\n0        1           sustainable outdoor clothing            Apparel   \n1        2  eco-friendly water bottles for hiking        Accessories   \n2        3                   durable hiking boots              Shoes   \n\n                                                                                                                                                                                                                                                                                                                                                                                                                                                                                                                                                                                                                                                                                                                                                                                                                                                                                                                                                                                                                                                                                                                                                                                                                                                                                                                                                                                        matched_products  \n0  [{'description': 'Describe Nike Swoosh Headband, a product featuring durable, stylish, lightweight This iconic blazer will give everyone the feeling of the big time on a daily basis without compromising on style and personality. Its innovative design, designed by artist Dierks Borschinger Category: Apparel.', 'category': 'Apparel'}, {'description': 'Describe Nike Brasilia Training Backpack, a product featuring stylish, waterproof, lightweight The Nike Brasilia Training Backpack features a durable, breathable jacket, a low profile fleece lining, an ultra light liner and an ultralight back bag. The back compartment in the Back Category: Apparel.', 'category': 'Apparel'}, {'description': 'Describe Nike Utility Speed Backpack, a product featuring durable, stylish, comfortable a utility pack equipped with Nike's patented technology. It offers a lightweight backpack, as well as new technologies on a lightweight exterior and a variety of new, exclusive sneakers all with unique, non toxic Category: Apparel.', 'category': 'Apparel'}, {'description': 'Describe Nike Yoga Mat, a product featuring waterproof, lightweight, stylish With its slim, ultra low slung fit, top shelf athletic bag, and padded foam floor, the Nike Yoga mat is the best in class apparel or accessories choice for your workout. Category: Apparel.', 'category': 'Apparel'}]  \n1                             [{'description': 'Describe Nike Revolution 5, a product featuring durable, lightweight, waterproof Fiberglass lined panels, that are 1.5 inches taller than our standard 6 8 range Solid, solid steel panels Easy to use, lightweight construction No external strap Category: Accessories.', 'category': 'Accessories'}, {'description': 'Describe Nike Dri FIT Tee, a product featuring comfortable, lightweight, waterproof As a casual look that's more athletic on the outside, we tried to do just that. With this, the lining gets just a little snug. Category: Accessories.', 'category': 'Accessories'}, {'description': 'Describe Nike Lightweight Arm Band, a product featuring comfortable, lightweight, waterproof Nike Lightweight Arm Band This lightweight black and white band is designed with the most athletic and supportive fabric possible. It comes paired with a durable woven stretch fiber sleeve that keeps you warm while Category: Accessories.', 'category': 'Accessories'}, {'description': 'Describe Nike Hyperfuel Water Bottle, a product featuring waterproof, durable, lightweight The Hype is Over. It's time we all realized that true water bottles are all about innovation. We hope this post will provide a simple, affordable way to create those ultimate water bottles Category: Accessories.', 'category': 'Accessories'}]  \n2                           [{'description': 'Describe Nike Air Zoom Pegasus, a product featuring lightweight, comfortable, waterproof As with Nike, my biggest disappointment with the 'Pig' line was the size range. For many a 'pig' has never been more important to me than last year's IOMX, but it Category: Shoes.', 'category': 'Shoes'}, {'description': 'Describe Nike Air Max 270, a product featuring waterproof, durable, lightweight The Nike Air Max 270 will be available in black, tan, and pink, although a few colors may vary in color and size. Nike says that after a recent release, it will also offer an ' Category: Shoes.', 'category': 'Shoes'}, {'description': 'Describe Nike Sportswear Club Fleece, a product featuring stylish, lightweight, comfortable Nike is committed to a range of lightweight sports shoes with one of a kind design features that provide great support for athletes and athletes of all levels of fitness. The Nike Category: Shoes.', 'category': 'Shoes'}, {'description': 'Describe Nike Pro Tights, a product featuring lightweight, durable, comfortable Nike's new high technology Pro Tights are equipped with patented sensors built into their shoes that give rise to a unique visual signature and create unique visual style. These shoes are specially engineered with the potential to Category: Shoes.', 'category': 'Shoes'}]  ",
      "text/html": "<div>\n<style scoped>\n    .dataframe tbody tr th:only-of-type {\n        vertical-align: middle;\n    }\n\n    .dataframe tbody tr th {\n        vertical-align: top;\n    }\n\n    .dataframe thead th {\n        text-align: right;\n    }\n</style>\n<table border=\"1\" class=\"dataframe\">\n  <thead>\n    <tr style=\"text-align: right;\">\n      <th></th>\n      <th>user_id</th>\n      <th>query</th>\n      <th>predicted_category</th>\n      <th>matched_products</th>\n    </tr>\n  </thead>\n  <tbody>\n    <tr>\n      <th>0</th>\n      <td>1</td>\n      <td>sustainable outdoor clothing</td>\n      <td>Apparel</td>\n      <td>[{'description': 'Describe Nike Swoosh Headband, a product featuring durable, stylish, lightweight This iconic blazer will give everyone the feeling of the big time on a daily basis without compromising on style and personality. Its innovative design, designed by artist Dierks Borschinger Category: Apparel.', 'category': 'Apparel'}, {'description': 'Describe Nike Brasilia Training Backpack, a product featuring stylish, waterproof, lightweight The Nike Brasilia Training Backpack features a durable, breathable jacket, a low profile fleece lining, an ultra light liner and an ultralight back bag. The back compartment in the Back Category: Apparel.', 'category': 'Apparel'}, {'description': 'Describe Nike Utility Speed Backpack, a product featuring durable, stylish, comfortable a utility pack equipped with Nike's patented technology. It offers a lightweight backpack, as well as new technologies on a lightweight exterior and a variety of new, exclusive sneakers all with unique, non toxic Category: Apparel.', 'category': 'Apparel'}, {'description': 'Describe Nike Yoga Mat, a product featuring waterproof, lightweight, stylish With its slim, ultra low slung fit, top shelf athletic bag, and padded foam floor, the Nike Yoga mat is the best in class apparel or accessories choice for your workout. Category: Apparel.', 'category': 'Apparel'}]</td>\n    </tr>\n    <tr>\n      <th>1</th>\n      <td>2</td>\n      <td>eco-friendly water bottles for hiking</td>\n      <td>Accessories</td>\n      <td>[{'description': 'Describe Nike Revolution 5, a product featuring durable, lightweight, waterproof Fiberglass lined panels, that are 1.5 inches taller than our standard 6 8 range Solid, solid steel panels Easy to use, lightweight construction No external strap Category: Accessories.', 'category': 'Accessories'}, {'description': 'Describe Nike Dri FIT Tee, a product featuring comfortable, lightweight, waterproof As a casual look that's more athletic on the outside, we tried to do just that. With this, the lining gets just a little snug. Category: Accessories.', 'category': 'Accessories'}, {'description': 'Describe Nike Lightweight Arm Band, a product featuring comfortable, lightweight, waterproof Nike Lightweight Arm Band This lightweight black and white band is designed with the most athletic and supportive fabric possible. It comes paired with a durable woven stretch fiber sleeve that keeps you warm while Category: Accessories.', 'category': 'Accessories'}, {'description': 'Describe Nike Hyperfuel Water Bottle, a product featuring waterproof, durable, lightweight The Hype is Over. It's time we all realized that true water bottles are all about innovation. We hope this post will provide a simple, affordable way to create those ultimate water bottles Category: Accessories.', 'category': 'Accessories'}]</td>\n    </tr>\n    <tr>\n      <th>2</th>\n      <td>3</td>\n      <td>durable hiking boots</td>\n      <td>Shoes</td>\n      <td>[{'description': 'Describe Nike Air Zoom Pegasus, a product featuring lightweight, comfortable, waterproof As with Nike, my biggest disappointment with the 'Pig' line was the size range. For many a 'pig' has never been more important to me than last year's IOMX, but it Category: Shoes.', 'category': 'Shoes'}, {'description': 'Describe Nike Air Max 270, a product featuring waterproof, durable, lightweight The Nike Air Max 270 will be available in black, tan, and pink, although a few colors may vary in color and size. Nike says that after a recent release, it will also offer an ' Category: Shoes.', 'category': 'Shoes'}, {'description': 'Describe Nike Sportswear Club Fleece, a product featuring stylish, lightweight, comfortable Nike is committed to a range of lightweight sports shoes with one of a kind design features that provide great support for athletes and athletes of all levels of fitness. The Nike Category: Shoes.', 'category': 'Shoes'}, {'description': 'Describe Nike Pro Tights, a product featuring lightweight, durable, comfortable Nike's new high technology Pro Tights are equipped with patented sensors built into their shoes that give rise to a unique visual signature and create unique visual style. These shoes are specially engineered with the potential to Category: Shoes.', 'category': 'Shoes'}]</td>\n    </tr>\n  </tbody>\n</table>\n</div>"
     },
     "metadata": {},
     "output_type": "display_data"
    }
   ],
   "source": [
    "from transformers import pipeline\n",
    "import pandas as pd\n",
    "import re\n",
    "\n",
    "# Initialize the zero-shot classification pipeline with a suitable model\n",
    "classifier = pipeline(\"zero-shot-classification\", model=\"facebook/bart-large-mnli\")\n",
    "\n",
    "\n",
    "# Extract category and reformulate mock_retail_product_descriptions as a list of dictionaries\n",
    "product_list = []\n",
    "for desc in mock_retail_product_descriptions:\n",
    "    match = re.search(r\"Category: (\\w+)\", desc)\n",
    "    category = match.group(1) if match else \"Unknown\"\n",
    "    product_list.append({\"description\": desc, \"category\": category})\n",
    "\n",
    "# Define user queries\n",
    "user_queries = [\n",
    "    {\"user_id\": 1, \"query\": \"sustainable outdoor clothing\"},\n",
    "    {\"user_id\": 2, \"query\": \"eco-friendly water bottles for hiking\"},\n",
    "    {\"user_id\": 3, \"query\": \"durable hiking boots\"}\n",
    "]\n",
    "\n",
    "# Extract unique categories from the product list for classification\n",
    "unique_categories = list(set([product[\"category\"] for product in product_list]))\n",
    "\n",
    "# Classify each query and add the predicted category to the query dictionary\n",
    "for query in user_queries:\n",
    "    classification = classifier(query[\"query\"], unique_categories, multi_label=False)\n",
    "    query[\"predicted_category\"] = classification[\"labels\"][0]\n",
    "\n",
    "# Match queries to products\n",
    "for query in user_queries:\n",
    "    matched_products = [product for product in product_list if product[\"category\"] == query[\"predicted_category\"]]\n",
    "    query[\"matched_products\"] = matched_products\n",
    "\n",
    "# Convert the enriched user queries into a pandas DataFrame for display\n",
    "df_queries = pd.DataFrame(user_queries)\n",
    "\n",
    "display(df_queries)\n"
   ],
   "metadata": {
    "collapsed": false,
    "ExecuteTime": {
     "end_time": "2024-02-20T12:25:38.618Z",
     "start_time": "2024-02-20T12:25:34.438912Z"
    }
   },
   "id": "47ae90b4a353096c",
   "execution_count": 119
  },
  {
   "cell_type": "markdown",
   "source": [
    "## Query Processing and Clarification - Enhancing Retail Product Matching with AI\n",
    "\n",
    "In this section, we explore a comprehensive approach to refining retail product searches using advanced AI techniques. Our methodology involves three primary steps:\n",
    "\n",
    "1. **Query Rewriting**: We begin by enhancing user queries for clarity and precision. This step leverages the `distilgpt2` model, known for its effectiveness in generating coherent, contextually enriched text. By rewriting queries, we aim to capture the user's intent more accurately, facilitating a more refined search process.\n",
    "\n",
    "2. **Category Classification**: Once rewritten, queries undergo classification using the zero-shot learning capabilities of the `facebook/bart-large-mnli` model. This step is crucial for understanding the category of products the user is interested in, without requiring explicit prior training on our specific dataset.\n",
    "\n",
    "3. **Product Matching**: With the query categorized, we proceed to match it against our curated product descriptions. This involves filtering products that fall into the predicted category and presenting them in an organized manner. \n",
    "\n",
    "The outcome of this process is displayed using `pandas`, ensuring that the results are not only accurate but also visually appealing. This approach not only streamlines the search experience but also significantly enhances the relevance of product matches, directly contributing to a more satisfying user experience.\n",
    "\n",
    "This documentation outlines the strategy and execution of improving retail search mechanisms through AI, embodying the intersection of natural language processing and user-centric design."
   ],
   "metadata": {
    "collapsed": false
   },
   "id": "5e24ace820461724"
  },
  {
   "cell_type": "code",
   "outputs": [
    {
     "data": {
      "text/plain": "<IPython.core.display.HTML object>",
      "text/html": "\n    <style>\n        .product-container {\n            display: flex;\n            flex-wrap: wrap;\n            justify-content: start;\n            gap: 20px;\n        }\n        .product {\n            border: 2px solid #2c3e50;\n            border-radius: 10px;\n            padding: 20px;\n            width: 200px;\n            text-align: center;\n        }\n        .product img {\n            max-width: 100%;\n            height: auto;\n            margin-bottom: 10px;\n        }\n    </style>\n    <div>\n        <h2>Original Query:</h2>\n        <p>I'm looking for lightweight and durable shoes for running.</p>\n        <h2>Contextually Similar Queries:</h2>\n        <ul>\n    <li>stylish, waterproof, lightweight I am interested in our training backpacks, which are designed around the same functionality as Nike Running Shoes</li><li>durable, lightweight, waterproof Nike Revolution 5, the shoe is designed to withstand a massive number of heat and humidity variations</li><li>durable, stylish, comfortable The Nike Utility Speed Backpack is a premium product for outdoor and special occasions and can be worn with an ankle rest or on a daily basis</li></ul><h2>Similar Products:</h2><div class=\"product-container\">\n            <div class=\"product\">\n                <img src=\"https://upload.wikimedia.org/wikipedia/commons/a/a6/Logo_NIKE.svg\" alt=\"Nike Logo\">\n                <h3>Nike Brasilia Training Backpack</h3>\n                <p>stylish, waterproof, lightweight I am interested in our training backpacks, which are designed around the same functionality as Nike Running Shoes</p>\n                <p><strong>Category:</strong> Accessories</p>\n            </div>\n        \n            <div class=\"product\">\n                <img src=\"https://upload.wikimedia.org/wikipedia/commons/a/a6/Logo_NIKE.svg\" alt=\"Nike Logo\">\n                <h3>Nike Revolution 5</h3>\n                <p>durable, lightweight, waterproof Nike Revolution 5, the shoe is designed to withstand a massive number of heat and humidity variations</p>\n                <p><strong>Category:</strong> Shoes</p>\n            </div>\n        \n            <div class=\"product\">\n                <img src=\"https://upload.wikimedia.org/wikipedia/commons/a/a6/Logo_NIKE.svg\" alt=\"Nike Logo\">\n                <h3>Nike Utility Speed Backpack</h3>\n                <p>durable, stylish, comfortable The Nike Utility Speed Backpack is a premium product for outdoor and special occasions and can be worn with an ankle rest or on a daily basis</p>\n                <p><strong>Category:</strong> Apparel</p>\n            </div>\n        \n            <div class=\"product\">\n                <img src=\"https://upload.wikimedia.org/wikipedia/commons/a/a6/Logo_NIKE.svg\" alt=\"Nike Logo\">\n                <h3>Nike Sportswear Club Fleece</h3>\n                <p>stylish, lightweight, comfortable The word sport shoes means 'legs' or 'body </p>\n                <p><strong>Category:</strong> Shoes</p>\n            </div>\n        \n            <div class=\"product\">\n                <img src=\"https://upload.wikimedia.org/wikipedia/commons/a/a6/Logo_NIKE.svg\" alt=\"Nike Logo\">\n                <h3>Nike Swoosh Headband</h3>\n                <p>durable, stylish, lightweight As an off the shelf, all in one backpack, the Nike Swoosh Nike Headband will provide an all around experience of warmth and comfort, especially in winter on your Category: Accessories</p>\n                <p><strong>Category:</strong> Accessories</p>\n            </div>\n        </div></div>"
     },
     "metadata": {},
     "output_type": "display_data"
    }
   ],
   "source": [
    "from transformers import pipeline\n",
    "from annoy import AnnoyIndex\n",
    "import numpy as np\n",
    "from IPython.display import HTML, display\n",
    "import re\n",
    "from sentence_transformers import SentenceTransformer, util\n",
    "import torch\n",
    "\n",
    "# Initialize the sentence transformer model for embeddings\n",
    "model = SentenceTransformer('all-MiniLM-L6-v2')\n",
    "\n",
    "# Function to extract product details\n",
    "def extract_product_details(descriptions):\n",
    "    products = []\n",
    "    for description in descriptions:\n",
    "        name_match = re.search(r\"Describe ([^,]+),\", description)\n",
    "        features_match = re.search(r\"a product featuring ([^.]+).\", description)\n",
    "        category_match = re.search(r\"Category: (\\w+).$\", description)\n",
    "        if name_match and category_match:\n",
    "            product_name = name_match.group(1)\n",
    "            features = features_match.group(1) if features_match else \"\"\n",
    "            category = category_match.group(1)\n",
    "            products.append({\"name\": product_name, \"features\": features, \"category\": category})\n",
    "    return products\n",
    "\n",
    "parsed_products = extract_product_details(mock_retail_product_descriptions)\n",
    "\n",
    "# Annoy index setup\n",
    "vector_length = 384  # Dimension of sentence embeddings\n",
    "annoy_index = AnnoyIndex(vector_length, 'angular')\n",
    "\n",
    "# Convert descriptions to vectors and add to Annoy index\n",
    "for i, product in enumerate(parsed_products):\n",
    "    vec = model.encode(product['features'])\n",
    "    annoy_index.add_item(i, vec)\n",
    "\n",
    "annoy_index.build(10)  # Using 10 trees for the Annoy index\n",
    "\n",
    "# Function to find similar products based on query using Annoy\n",
    "def find_similar_products(query, num_matches=5):\n",
    "    query_vector = model.encode(query)\n",
    "    similar_items = annoy_index.get_nns_by_vector(query_vector, num_matches, include_distances=False)\n",
    "    return [parsed_products[i] for i in similar_items]\n",
    "\n",
    "# Function to find contextually similar queries\n",
    "def find_similar_queries(query, products, num_matches=3):\n",
    "    query_embedding = model.encode(query, convert_to_tensor=True)\n",
    "    product_features = [product['features'] for product in products]\n",
    "    product_embeddings = model.encode(product_features, convert_to_tensor=True)\n",
    "\n",
    "    # Compute cosine similarities\n",
    "    cos_sim = util.pytorch_cos_sim(query_embedding, product_embeddings)\n",
    "\n",
    "    # Find the top similar product features\n",
    "    top_results = torch.topk(cos_sim, k=num_matches)\n",
    "\n",
    "    similar_queries = []\n",
    "    for idx in top_results[1][0]:\n",
    "        similar_queries.append(products[idx.item()]['features'])\n",
    "\n",
    "    return similar_queries\n",
    "\n",
    "# Enhanced function to display results with visual appeal and contextual similarity\n",
    "def display_results(query):\n",
    "    similar_products = find_similar_products(query)\n",
    "    similar_queries = find_similar_queries(query, parsed_products)\n",
    "    nike_logo_url = \"https://upload.wikimedia.org/wikipedia/commons/a/a6/Logo_NIKE.svg\"\n",
    "\n",
    "    html_content = f\"\"\"\n",
    "    <style>\n",
    "        .product-container {{\n",
    "            display: flex;\n",
    "            flex-wrap: wrap;\n",
    "            justify-content: start;\n",
    "            gap: 20px;\n",
    "        }}\n",
    "        .product {{\n",
    "            border: 2px solid #2c3e50;\n",
    "            border-radius: 10px;\n",
    "            padding: 20px;\n",
    "            width: 200px;\n",
    "            text-align: center;\n",
    "        }}\n",
    "        .product img {{\n",
    "            max-width: 100%;\n",
    "            height: auto;\n",
    "            margin-bottom: 10px;\n",
    "        }}\n",
    "    </style>\n",
    "    <div>\n",
    "        <h2>Original Query:</h2>\n",
    "        <p>{query}</p>\n",
    "        <h2>Contextually Similar Queries:</h2>\n",
    "        <ul>\n",
    "    \"\"\"\n",
    "    for sq in similar_queries:\n",
    "        html_content += f\"<li>{sq}</li>\"\n",
    "\n",
    "    html_content += \"</ul><h2>Similar Products:</h2><div class=\\\"product-container\\\">\"\n",
    "\n",
    "    for product in similar_products:\n",
    "        html_content += f\"\"\"\n",
    "            <div class=\"product\">\n",
    "                <img src=\"{nike_logo_url}\" alt=\"Nike Logo\">\n",
    "                <h3>{product['name']}</h3>\n",
    "                <p>{product['features']}</p>\n",
    "                <p><strong>Category:</strong> {product['category']}</p>\n",
    "            </div>\n",
    "        \"\"\"\n",
    "    html_content += \"</div></div>\"\n",
    "    display(HTML(html_content))\n",
    "\n",
    "# Example usage\n",
    "query = \"I'm looking for lightweight and durable shoes for running.\"\n",
    "display_results(query)\n"
   ],
   "metadata": {
    "collapsed": false,
    "ExecuteTime": {
     "end_time": "2024-02-20T12:41:13.391706Z",
     "start_time": "2024-02-20T12:41:04.448177Z"
    }
   },
   "id": "d1f5bd4a899a7945",
   "execution_count": 139
  },
  {
   "cell_type": "markdown",
   "source": [
    "## Augmented Search Results Presentation\n",
    "\n",
    "Enhancing search results, as demonstrated in our approach, involves leveraging advanced algorithms and machine learning techniques to transform raw data into insightful, actionable information. By utilizing vector representation for product descriptions and implementing the Annoy Index for fast similarity searches, we're able to significantly refine the process of matching user queries with the most relevant products. This method not only improves the accuracy of search results but also enhances user experience by providing more meaningful, contextually relevant options. This strategy embodies the cutting-edge intersection of natural language processing and user-centric design, paving the way for a more intuitive and efficient search mechanism in digital retail environments."
   ],
   "metadata": {
    "collapsed": false
   },
   "id": "897a34b350434a46"
  },
  {
   "cell_type": "code",
   "outputs": [
    {
     "data": {
      "text/plain": "                                                                                                                                                                                                                                                                                                                                   description  \\\n0                                                                 Describe Nike Air Zoom Pegasus, a product featuring lightweight, comfortable, waterproof As with Nike, my biggest disappointment with the 'Pig' line was the size range. For many a 'pig' has never been more important to me than last year's IOMX, but it Category: Shoes.   \n1                                                            Describe Nike Air Max 270, a product featuring waterproof, durable, lightweight The Nike Air Max 270 will be available in black, tan, and pink, although a few colors may vary in color and size. Nike says that after a recent release, it will also offer an ' Category: Shoes.   \n2                                                                    Describe Nike Revolution 5, a product featuring durable, lightweight, waterproof Fiberglass lined panels, that are 1.5 inches taller than our standard 6 8 range Solid, solid steel panels Easy to use, lightweight construction No external strap Category: Accessories.   \n3                                                                                                    Describe Nike Dri FIT Tee, a product featuring comfortable, lightweight, waterproof As a casual look that's more athletic on the outside, we tried to do just that. With this, the lining gets just a little snug. Category: Accessories.   \n4                                             Describe Nike Sportswear Club Fleece, a product featuring stylish, lightweight, comfortable Nike is committed to a range of lightweight sports shoes with one of a kind design features that provide great support for athletes and athletes of all levels of fitness. The Nike Category: Shoes.   \n5      Describe Nike Pro Tights, a product featuring lightweight, durable, comfortable Nike's new high technology Pro Tights are equipped with patented sensors built into their shoes that give rise to a unique visual signature and create unique visual style. These shoes are specially engineered with the potential to Category: Shoes.   \n6   Describe Nike Lightweight Arm Band, a product featuring comfortable, lightweight, waterproof Nike Lightweight Arm Band This lightweight black and white band is designed with the most athletic and supportive fabric possible. It comes paired with a durable woven stretch fiber sleeve that keeps you warm while Category: Accessories.   \n7                                           Describe Nike Swoosh Headband, a product featuring durable, stylish, lightweight This iconic blazer will give everyone the feeling of the big time on a daily basis without compromising on style and personality. Its innovative design, designed by artist Dierks Borschinger Category: Apparel.   \n8                                  Describe Nike Brasilia Training Backpack, a product featuring stylish, waterproof, lightweight The Nike Brasilia Training Backpack features a durable, breathable jacket, a low profile fleece lining, an ultra light liner and an ultralight back bag. The back compartment in the Back Category: Apparel.   \n9              Describe Nike Utility Speed Backpack, a product featuring durable, stylish, comfortable a utility pack equipped with Nike's patented technology. It offers a lightweight backpack, as well as new technologies on a lightweight exterior and a variety of new, exclusive sneakers all with unique, non toxic Category: Apparel.   \n10                              Describe Nike Hyperfuel Water Bottle, a product featuring waterproof, durable, lightweight The Hype is Over. It's time we all realized that true water bottles are all about innovation. We hope this post will provide a simple, affordable way to create those ultimate water bottles Category: Accessories.   \n11                                                                   Describe Nike Yoga Mat, a product featuring waterproof, lightweight, stylish With its slim, ultra low slung fit, top shelf athletic bag, and padded foam floor, the Nike Yoga mat is the best in class apparel or accessories choice for your workout. Category: Apparel.   \n\n                                                                                                                                                                                                                                                                                                                                                                                                                                                                                                                                                                                                                                                                                                                                                                                                                                                                                                                                                                                                                                                                                                                                                                                                                                                                                                                                                                                         vector  \n0            [0.008772299, 0.01100932, 0.044881117, -0.0045587863, 0.041055154, -0.06264513, 0.038056783, -0.010965665, -0.022756953, 0.04702112, 0.07634858, 0.07463229, -0.069906995, 0.0059925243, -0.024230065, 0.022671297, 0.07673598, 0.02081369, -0.055819493, 0.015864117, 0.03035683, -0.015402875, 0.006110415, 0.12025068, -0.08723436, -0.04475495, -0.020121314, 0.024120431, -0.035387985, -0.1258573, -0.05278881, 0.06465809, 0.018367907, -0.073210105, -0.043637995, -0.0454729, 0.087651625, -0.01163607, -0.055749696, -0.040705174, -0.03233199, -0.12145836, -0.006772517, 0.06688723, 0.008029339, -0.031816624, 0.06303788, -0.038750004, -0.002202862, 0.083048716, -0.062258724, -0.053312596, -0.059905995, -0.09025421, -0.020470353, 0.012285749, -0.107499145, -0.002687478, 0.014566526, -0.119590804, 0.068841845, 0.027353855, -0.050081126, 0.024205912, -0.031009972, -0.020790072, 0.015594565, -0.0402842, 0.039839674, 0.03972434, -0.0039820983, -0.03104611, 0.012434617, 0.031685766, -0.08309922, 0.069936715, 0.021491153, -0.06932186, 0.06441792, 0.07051842, 0.03269988, -0.057948153, -0.016116668, 0.005565699, 0.048663776, -0.025832128, -0.039108623, -0.046220455, -0.037355624, -0.08139848, -0.08727805, -0.05096773, 0.0083845835, 0.0009827528, -0.0029932146, -0.043467097, -0.022161622, -0.043893654, -0.054261178, 0.0345479, ...]  \n1                      [-0.031847134, -0.048729364, -0.01477503, 0.0142866885, 0.107706875, 0.009339454, 0.07443619, 0.0018521964, -0.010231947, 0.04391771, -0.03284777, 0.10448144, -0.03975322, 0.033502303, 0.029988665, 0.045897342, 0.022811748, -0.006975351, -0.048595004, -0.06877102, -0.033992667, 0.010334737, -0.036109637, 0.027651288, -0.14553346, 0.026480703, 0.01625308, -0.0047634803, -0.015598782, -0.050257113, -0.057512674, -0.068441994, 0.05445398, 0.018605454, 0.003578214, -0.10320663, 0.012000181, -0.047929574, -0.06390294, -0.04368174, -0.10398084, -0.07799166, -0.008818963, 0.08548423, -0.0039627, 0.0535963, 0.044348273, 0.0019871811, -0.046059072, 0.10230569, -0.02850061, -0.021174982, 0.016087163, -0.0288259, 0.0024063133, 0.03243753, -0.07441275, -0.021792436, 0.018837914, -0.067217685, 0.031035747, -0.010270947, -0.056631796, 0.011153629, 0.022313012, 0.03577591, 0.004070188, 0.016705692, -0.011192008, 0.06500973, 0.041511055, 0.046615258, 0.061918598, 0.05340374, -0.012007973, 0.10839966, 0.033714645, -0.0019990238, -0.020910786, 0.029126003, -0.001143302, -0.044959918, 0.04189963, -0.03043189, 0.06793134, 0.04700072, -0.06661549, 0.009692256, 0.0038247418, 0.02342611, -0.11839034, 0.06701549, -0.06390184, -0.02891501, -0.05688917, 0.027618289, -0.02065326, -0.04258335, -0.005560645, -0.0035779409, ...]  \n2    [-0.020355616, -0.009576541, 0.005921973, -0.051166467, 0.07591034, -0.010093524, -0.005965083, 0.038621835, -0.0006965384, 0.06301028, -0.011002138, 0.18715875, -0.052783627, 0.0070265383, 0.0155248, -0.026607541, -0.031305756, 0.021340419, -0.07684297, 0.009955888, 0.0647191, -0.07747535, -0.012684389, 0.1022074, -0.048753288, 0.064861655, 0.0036874143, 0.06318931, -0.01261704, -0.031146005, -0.040581547, 0.02830952, -0.04654411, -0.015152667, 0.0017884533, -0.047573335, 0.07544742, -0.0056311027, -0.0757196, -0.011886705, -0.007388859, -0.1673635, -0.031729948, 0.031748127, 0.0420258, 0.00036579976, -0.00040405194, 0.031025138, -0.014916203, 0.022781678, -0.0026136427, -0.0813376, 0.033739105, -0.13702938, 0.011434826, -0.025309164, -0.026519462, -0.013642033, 0.07594189, -0.06908058, 0.13394678, -0.046654522, -0.1275741, -0.0010097158, -0.03266296, 0.0024670362, -0.0042356695, 0.018521007, -0.0030191157, 0.096443966, 0.015655141, -0.036135588, 0.053665016, 0.0014897077, 0.025568707, 0.009429358, -0.039972734, -0.008129389, 0.008113528, 0.012988995, 0.037967548, 0.05183736, 0.02608641, 0.04181721, -0.051433362, 0.03343516, 0.014835457, -0.017775875, 0.014452304, -0.050242506, -0.11185808, 0.028160006, -0.04457286, -0.0014697135, -0.066846766, 0.0013677711, -0.092055336, -0.12141661, -0.051203966, 0.063397795, ...]  \n3   [-0.077654436, 0.066660896, 0.03873126, 0.040330295, 0.098517016, -0.045711704, 0.044514585, 0.035886202, -0.016958933, -0.002613785, -0.023453087, -0.019761566, -0.067280084, 0.020694053, 0.036817815, -0.04084788, -0.033868223, 0.008966399, -0.04712337, -0.027036088, 0.0032420927, -0.016450562, 0.006339696, 0.044503223, -0.1012114, 0.040873297, 0.09358988, 0.03723997, -0.05611139, -0.063219756, -0.075734876, 0.016949236, 0.012311063, 0.008761528, -0.00094859337, -0.039470762, 0.08689422, 0.017524693, -0.058551695, 0.023801567, 0.048801653, -0.040014517, -0.022642635, -0.012557198, -0.018863017, -0.026938716, -0.04279711, 0.12299102, -0.00063175027, 0.07903359, -0.003032124, -0.024310676, 0.04056285, -0.002061976, -0.0028700908, 0.009570937, 0.009095795, -0.012896502, -0.0745487, -0.13168983, 0.088459015, -0.02477195, -0.061472997, -0.013393828, 0.015237113, 0.012812513, -0.0209697, 0.08152696, 0.058198053, 0.065832004, -0.0035140112, 0.014166156, -0.028035942, 0.03257439, -0.018609172, 0.014310919, 0.011684834, 0.018677155, 0.00059579714, 0.064404644, -0.019977458, 0.043485373, 0.10075202, 0.04215834, 0.010398275, 0.0604248, 0.032943994, -0.13964938, 0.050748702, -0.04368745, -0.10312507, 0.00087264075, -0.057597797, -0.000105386345, 0.022879807, 0.036471527, -0.0055491976, 0.0049188384, 0.008034677, 0.03269657, ...]  \n4     [-0.05803381, -0.007887643, 0.010031014, 0.021145448, 0.13153084, 0.03955841, 0.022798631, 0.00010261738, 0.025687603, 0.051755566, -0.022193216, -0.004842259, -0.029437693, -0.042901415, 0.059919562, -0.017466247, -0.033465516, 0.044647887, -0.048715357, 0.010604454, -0.019639218, -0.040263373, -0.042246446, 0.05995753, -0.114267915, 0.040362265, 0.02926354, 0.040952876, -0.049640793, -0.005140729, -0.06435704, -0.02853798, 0.03619493, 0.11407526, -0.019141061, 0.0107924035, 0.044399854, 0.031240223, -0.08982127, 0.04140324, -0.004351998, -0.08821211, -0.08474129, 0.031671695, -0.05419536, 0.04311492, -0.024247708, 0.026247796, -0.038181182, 0.08086945, -0.043436505, -0.04510753, -0.055616904, -0.034394473, 0.008698343, 0.05050737, -0.0056101936, -0.007893653, -0.04944648, -0.034584288, 0.13007218, -0.061254516, 0.010382719, -0.0015891087, 0.014469034, -0.033725895, -0.012658903, 0.07402032, 0.025143797, -0.023455944, 0.032658074, 0.0075621833, -0.018928934, 0.062690414, -0.05464845, 0.06592047, 0.057374727, 0.019592648, 0.04840356, -0.017090634, -0.021845456, -0.022370063, 0.007847675, 0.0019289183, 0.0023720528, -0.071371116, -0.016986484, -0.08157171, 0.01526607, 0.013569601, -0.07202441, -0.035499156, -0.02039143, -0.029518796, -0.045132052, 0.06607664, -0.02323612, -0.008498654, -0.037019573, 0.012104989, ...]  \n5       [-0.07725544, -0.015373322, 0.027922055, -0.05278639, 0.10708888, -0.0089507485, 0.0902949, 0.03560102, 0.014877357, 0.056484118, 0.005749714, 0.0732665, -0.0051563997, -0.078940675, 0.010845997, 0.00416526, 0.019830339, 0.048144367, -0.097712256, -0.03395637, 0.0012229249, -0.069811985, 0.040492415, 0.05122283, -0.103837326, 0.035661694, 0.065568715, 0.051004376, -0.03951648, -0.0005940208, -0.086245894, -0.079804875, -0.04895408, 0.019445924, 0.021090165, -0.031866815, -0.017336646, 0.031798813, -0.100793764, 0.028330702, 0.0035259223, -0.10846335, -0.050669663, 0.049585547, -0.046914726, 0.09177423, 0.0070759514, 0.04202715, -0.10393836, 0.047502548, -0.054806218, -0.023123018, 0.044288464, -0.05010168, -0.035569377, 0.05731611, 0.0396392, -0.01319831, -0.029816624, -0.029660877, 0.1682085, -0.062099352, -0.06396169, 0.007203006, 0.0096135205, 0.061582394, 0.032713078, 0.065501355, 0.032874465, 0.0007991615, 0.008774743, 0.046747286, -0.0023136223, 0.05721058, 0.009016495, -0.011243754, -0.032110106, -0.06243553, -0.010290331, 0.0047973227, 0.033701032, -0.0145847965, -0.01040199, -0.007481944, 0.05400883, -0.045310494, 0.04510431, -0.052471574, 0.0028891484, -0.07613051, -0.102647096, -0.14112104, -0.023490772, -0.048877575, -0.055771492, -0.0019068721, -0.03909988, -0.030998617, -0.05322423, 0.016552538, ...]  \n6                          [-0.03446207, 0.05657315, 0.019191451, 0.03538375, 0.097556256, 0.017184962, 0.13229136, 0.021891473, 0.054491747, 0.022095669, -0.037855905, 0.04402419, -0.008799075, -0.027936103, 0.069757044, 0.000655874, 0.010269528, 0.041718464, -0.044217136, 0.00035418972, 0.0072275517, -0.021534832, -0.052034948, 0.014214198, -0.069458514, 0.022154756, 0.06603336, 0.0011708651, -0.008589548, -0.024283068, -0.06531119, -0.016580524, -0.028198108, 0.0019014075, -0.042237308, 0.005959184, 0.052497398, -0.052994926, -0.11697166, 0.04579798, 0.024049805, -0.062236093, 0.0021113956, 0.0391353, -0.06518792, 0.08631275, 0.01894102, 0.04372951, -0.096565284, 0.057157245, 0.021746304, -0.081359774, 0.043871135, -0.065556884, 0.011479416, 0.03788246, -0.02864994, 0.0046227477, -0.0732667, -0.0035003405, 0.1127522, -0.049242046, -0.08067334, -0.019481009, 0.04877575, 0.013203876, 0.03318014, 0.076169, 0.009931625, 0.013579554, 0.032974325, 0.012142494, 0.031625275, 0.019802012, -0.024877632, 0.057809435, 0.0371437, -0.013224067, 0.044426512, 0.017193563, -0.038268995, -0.0295204, 0.0069653746, 7.4894015e-05, 0.008859743, 0.06094002, 0.037764337, -0.05431706, -0.05344131, 0.008054028, -0.06066252, 0.012704643, -0.017247131, -0.04267974, -0.01046838, 0.06009241, -0.0027370825, -0.0203182, -0.09021421, 0.041431446, ...]  \n7        [-0.013991837, 0.051052775, -0.04138371, -0.04811809, 0.09704995, -0.016656565, 0.081015654, 0.015854413, 0.009218353, 0.0074902438, -0.002888477, 0.030396596, -0.02695578, -0.07124455, 0.06922762, 0.010256828, 0.008391829, -0.012540378, 0.018059665, -0.058385182, 0.012806344, -0.034082934, -0.006176163, 0.07055657, -0.11158218, -0.007681978, -0.0069126952, 0.037399903, -0.03308412, -0.07449313, 0.056294654, 0.005539583, -0.047916915, 0.034654845, -0.057403367, -0.018838411, 0.08303133, 0.009007633, -0.046732422, 0.14780764, -0.038184162, -0.06559331, -0.07593294, -0.011005869, -0.025417186, 0.020423848, 0.0072493465, 0.017285338, -0.07938762, 0.08938025, 0.031004395, -0.13554706, 0.04603959, -0.065757535, 0.023656595, 0.04936261, -0.027495952, 0.070094034, -0.03336904, -0.0026193487, 0.051469445, -0.03879096, 0.04320617, -0.021576876, 0.0049554375, -0.067673504, -0.008037997, 0.027389906, 0.030168798, 0.05485008, 0.014497258, -0.040573724, 0.010533529, -0.0039687166, -0.06335974, -0.034418635, 0.061446644, 0.034301493, 0.0889751, 0.011951687, -0.026560705, -0.055455986, 0.018533733, -0.022538353, 0.036965784, 0.007223096, -0.01785088, -0.066310816, -0.016152337, 0.0007230964, -0.12277222, -0.050716892, 0.005716673, -0.06775903, -0.026391424, 0.035262913, -0.037959952, -0.01745927, -0.008216777, 0.035502076, ...]  \n8                     [-0.035532754, 0.0031112318, -0.026414305, 0.0722248, 0.11293091, 0.025338745, 0.024614641, -0.010612857, 0.010529132, 0.027371762, 0.04843854, 0.026354397, -0.03411961, 0.026512552, 0.03795185, -0.048113357, -0.004385453, 0.02547149, -0.0073693767, -0.044189055, 0.025327502, -0.045541428, 0.004660074, 0.12044914, -0.10279754, 0.07879009, 0.06449484, -0.009312859, -0.056608748, -0.062631726, -0.096095644, -0.032666497, 0.023019755, 0.04642297, -0.03761018, 0.0535533, 0.052483045, -0.032922465, -0.03782093, 0.01575019, -0.024279485, -0.077572405, -0.073822595, 0.025122471, -0.036464952, -0.0061558858, 0.053421967, 0.067520425, -0.025907798, 0.038818017, -0.0044640796, -0.026823381, -0.07078049, -0.040445168, 0.011564347, 0.018682767, 0.006656331, 0.023686072, -0.062364962, 0.014988314, 0.07477729, -0.009422357, -0.057663187, -0.013826527, -0.01569406, -0.039108492, -0.05107236, 0.067852266, 0.030389382, 0.021162994, 0.011245745, 0.03917403, 0.017377697, 0.02427565, -0.04607055, 0.0660733, 0.021226978, 0.06296229, 0.05553836, -0.01659494, -0.007542353, -0.0021049364, 0.04571102, 0.02411936, 0.015378824, -0.0345203, 0.022725364, -0.066349775, -0.01429747, -0.021684889, 0.0055978294, -0.021191629, 0.002724472, 0.017666874, -0.08681991, 0.07251249, 0.0012743898, 0.012369455, -0.012374519, -0.0223639, ...]  \n9       [-0.025913412, 0.017073516, -0.008309517, 0.027396904, 0.104396224, -0.025664864, 0.040001336, -0.01899058, 0.047131103, -2.1011701e-05, 0.086760424, 0.09855439, -0.04108695, 0.015037703, 0.04103558, -0.029661017, 0.041000884, 0.06721896, -0.046705946, -0.011192674, 0.011938993, -0.057812784, 0.029796856, 0.09307943, -0.09539781, 0.058491442, -0.016078347, 0.026735324, -0.023518313, -0.038553815, -0.068006404, -0.06864926, 0.0056304475, 0.04252017, -0.0033011434, 0.013443371, 0.036455233, -0.01460981, -0.010238287, -0.03264281, -0.040373698, -0.15213154, -0.07714359, 0.014414187, -0.050649904, -0.017904006, 0.009349704, 0.028680662, -0.0459369, 0.02515762, -0.0008604552, -0.027233593, -0.035421204, -0.117826134, 0.069611534, 0.043417577, -0.0151155675, 0.053626306, 0.009091287, -0.07183717, 0.09169093, -0.051932625, -0.036120377, 0.0296972, 0.011310702, 0.015853435, -0.003842804, 0.061672393, 0.029001227, 0.037048686, 0.03110656, 0.0022223338, 0.02980969, 0.04193372, -0.011739122, 0.019700885, 0.0053235004, 0.054942835, 0.047785945, -0.0023987684, 0.012046278, 0.016993206, 0.018178424, -0.01938264, 0.022960318, -0.07179527, -0.018926127, -0.043274075, -0.031015323, -0.06278593, -0.031257365, -0.041301295, 0.03531813, -0.030302364, -0.054794416, 0.056316525, -0.03925263, -0.07244001, -0.066603474, 0.006203762, ...]  \n10                    [-0.054833375, -0.029162923, 0.0041630534, -0.026275184, 0.0903925, -0.009404968, 0.05122409, 0.004339657, -0.042003233, -0.023337685, 0.028011244, 0.043277737, -0.062041793, 0.033288125, 0.0258849, -0.021986106, -0.009014763, -0.0008425937, -0.070409104, -0.05378487, 0.07156217, -0.06325098, 0.02694226, 0.09671027, -0.0907387, 0.10829152, 0.0009268307, 0.0040051225, -0.00802811, -0.050582256, -0.02801415, -0.030976022, -0.011129711, -0.058346447, 0.012338401, -0.005589292, 0.0054439045, -0.0206093, -0.0077609173, -0.03994553, -0.041310385, -0.14149635, -0.072186455, 0.11671197, -0.02142801, 0.04737036, 0.07958059, 0.031454474, -0.047303192, 0.062409885, -0.024975447, -0.06614371, 0.07635055, -0.10287285, 0.017080162, 0.022717882, -0.0057449336, -0.043329697, -0.012096186, 0.031580664, 0.10052315, 0.025952516, -0.03836362, -0.0055013425, 0.012265473, 0.020569723, -0.052719794, 0.10062911, 0.016575329, 0.06786147, 0.014305883, 0.011282271, 0.009398808, 0.06926908, -0.02955177, -0.00939106, 0.032407213, -0.02596565, 0.08046388, 0.13752638, 0.0442591, -0.049131777, 0.050993346, -0.040877324, 0.042364802, -0.022523575, 0.0036535165, -0.06804971, -0.03549475, -0.06741963, -0.11443342, -0.026407594, 0.031012772, -0.05718568, -0.002398368, 0.04210515, -0.06149399, -0.04569263, 0.021479432, -0.04940558, ...]  \n11             [-0.010585436, -0.01621665, -0.003199804, -0.031885076, 0.102192834, 0.026434647, 0.082170956, -0.025266161, 0.039185744, 0.08469799, 0.049902067, 0.13985007, -0.01998159, 0.012675192, 0.07236268, 0.0022222241, 0.009116113, 0.051226687, -0.039328426, 0.020569678, 0.045490354, -0.02205, 0.038549356, 0.030463647, -0.0422793, 0.0984599, 0.07424673, -0.0282608, -0.011445914, -0.0040194304, -0.025856538, -0.023965342, 0.03390398, 0.026701536, -0.012533295, 0.01577247, 0.030727213, -0.041750163, -0.07784716, 0.027206322, -0.043611113, -0.028396102, -0.0027768055, 0.020109039, -0.0048445757, 0.029881472, 0.09177007, -0.07085062, -0.021702683, 0.06255869, 0.020073347, -0.045946915, 0.058116723, -0.06059601, -0.04701602, -0.038101174, 0.0031703853, 0.032252666, -0.022663515, -0.0037617802, 0.077883705, -0.045524083, 0.0016631256, -0.016012605, -0.010858878, -0.010089199, -0.0077637834, 0.07609003, -0.012689767, 0.042435337, -0.058133546, 0.055559628, 0.04658254, 0.08796416, -0.060216516, -0.024748309, 0.056503322, -0.03820115, 0.032665767, 0.06599979, 0.006099484, 0.016599162, 0.043213062, -0.008688243, 0.016553588, 0.005532586, 0.02803973, 0.023141196, 0.054073054, -0.10217994, -0.06958841, 0.004136028, -0.061259493, 0.0076384284, -0.054130223, 0.019408757, -0.06203065, 0.018904386, -0.027839914, 0.0011561627, ...]  ",
      "text/html": "<div>\n<style scoped>\n    .dataframe tbody tr th:only-of-type {\n        vertical-align: middle;\n    }\n\n    .dataframe tbody tr th {\n        vertical-align: top;\n    }\n\n    .dataframe thead th {\n        text-align: right;\n    }\n</style>\n<table border=\"1\" class=\"dataframe\">\n  <thead>\n    <tr style=\"text-align: right;\">\n      <th></th>\n      <th>description</th>\n      <th>vector</th>\n    </tr>\n  </thead>\n  <tbody>\n    <tr>\n      <th>0</th>\n      <td>Describe Nike Air Zoom Pegasus, a product featuring lightweight, comfortable, waterproof As with Nike, my biggest disappointment with the 'Pig' line was the size range. For many a 'pig' has never been more important to me than last year's IOMX, but it Category: Shoes.</td>\n      <td>[0.008772299, 0.01100932, 0.044881117, -0.0045587863, 0.041055154, -0.06264513, 0.038056783, -0.010965665, -0.022756953, 0.04702112, 0.07634858, 0.07463229, -0.069906995, 0.0059925243, -0.024230065, 0.022671297, 0.07673598, 0.02081369, -0.055819493, 0.015864117, 0.03035683, -0.015402875, 0.006110415, 0.12025068, -0.08723436, -0.04475495, -0.020121314, 0.024120431, -0.035387985, -0.1258573, -0.05278881, 0.06465809, 0.018367907, -0.073210105, -0.043637995, -0.0454729, 0.087651625, -0.01163607, -0.055749696, -0.040705174, -0.03233199, -0.12145836, -0.006772517, 0.06688723, 0.008029339, -0.031816624, 0.06303788, -0.038750004, -0.002202862, 0.083048716, -0.062258724, -0.053312596, -0.059905995, -0.09025421, -0.020470353, 0.012285749, -0.107499145, -0.002687478, 0.014566526, -0.119590804, 0.068841845, 0.027353855, -0.050081126, 0.024205912, -0.031009972, -0.020790072, 0.015594565, -0.0402842, 0.039839674, 0.03972434, -0.0039820983, -0.03104611, 0.012434617, 0.031685766, -0.08309922, 0.069936715, 0.021491153, -0.06932186, 0.06441792, 0.07051842, 0.03269988, -0.057948153, -0.016116668, 0.005565699, 0.048663776, -0.025832128, -0.039108623, -0.046220455, -0.037355624, -0.08139848, -0.08727805, -0.05096773, 0.0083845835, 0.0009827528, -0.0029932146, -0.043467097, -0.022161622, -0.043893654, -0.054261178, 0.0345479, ...]</td>\n    </tr>\n    <tr>\n      <th>1</th>\n      <td>Describe Nike Air Max 270, a product featuring waterproof, durable, lightweight The Nike Air Max 270 will be available in black, tan, and pink, although a few colors may vary in color and size. Nike says that after a recent release, it will also offer an ' Category: Shoes.</td>\n      <td>[-0.031847134, -0.048729364, -0.01477503, 0.0142866885, 0.107706875, 0.009339454, 0.07443619, 0.0018521964, -0.010231947, 0.04391771, -0.03284777, 0.10448144, -0.03975322, 0.033502303, 0.029988665, 0.045897342, 0.022811748, -0.006975351, -0.048595004, -0.06877102, -0.033992667, 0.010334737, -0.036109637, 0.027651288, -0.14553346, 0.026480703, 0.01625308, -0.0047634803, -0.015598782, -0.050257113, -0.057512674, -0.068441994, 0.05445398, 0.018605454, 0.003578214, -0.10320663, 0.012000181, -0.047929574, -0.06390294, -0.04368174, -0.10398084, -0.07799166, -0.008818963, 0.08548423, -0.0039627, 0.0535963, 0.044348273, 0.0019871811, -0.046059072, 0.10230569, -0.02850061, -0.021174982, 0.016087163, -0.0288259, 0.0024063133, 0.03243753, -0.07441275, -0.021792436, 0.018837914, -0.067217685, 0.031035747, -0.010270947, -0.056631796, 0.011153629, 0.022313012, 0.03577591, 0.004070188, 0.016705692, -0.011192008, 0.06500973, 0.041511055, 0.046615258, 0.061918598, 0.05340374, -0.012007973, 0.10839966, 0.033714645, -0.0019990238, -0.020910786, 0.029126003, -0.001143302, -0.044959918, 0.04189963, -0.03043189, 0.06793134, 0.04700072, -0.06661549, 0.009692256, 0.0038247418, 0.02342611, -0.11839034, 0.06701549, -0.06390184, -0.02891501, -0.05688917, 0.027618289, -0.02065326, -0.04258335, -0.005560645, -0.0035779409, ...]</td>\n    </tr>\n    <tr>\n      <th>2</th>\n      <td>Describe Nike Revolution 5, a product featuring durable, lightweight, waterproof Fiberglass lined panels, that are 1.5 inches taller than our standard 6 8 range Solid, solid steel panels Easy to use, lightweight construction No external strap Category: Accessories.</td>\n      <td>[-0.020355616, -0.009576541, 0.005921973, -0.051166467, 0.07591034, -0.010093524, -0.005965083, 0.038621835, -0.0006965384, 0.06301028, -0.011002138, 0.18715875, -0.052783627, 0.0070265383, 0.0155248, -0.026607541, -0.031305756, 0.021340419, -0.07684297, 0.009955888, 0.0647191, -0.07747535, -0.012684389, 0.1022074, -0.048753288, 0.064861655, 0.0036874143, 0.06318931, -0.01261704, -0.031146005, -0.040581547, 0.02830952, -0.04654411, -0.015152667, 0.0017884533, -0.047573335, 0.07544742, -0.0056311027, -0.0757196, -0.011886705, -0.007388859, -0.1673635, -0.031729948, 0.031748127, 0.0420258, 0.00036579976, -0.00040405194, 0.031025138, -0.014916203, 0.022781678, -0.0026136427, -0.0813376, 0.033739105, -0.13702938, 0.011434826, -0.025309164, -0.026519462, -0.013642033, 0.07594189, -0.06908058, 0.13394678, -0.046654522, -0.1275741, -0.0010097158, -0.03266296, 0.0024670362, -0.0042356695, 0.018521007, -0.0030191157, 0.096443966, 0.015655141, -0.036135588, 0.053665016, 0.0014897077, 0.025568707, 0.009429358, -0.039972734, -0.008129389, 0.008113528, 0.012988995, 0.037967548, 0.05183736, 0.02608641, 0.04181721, -0.051433362, 0.03343516, 0.014835457, -0.017775875, 0.014452304, -0.050242506, -0.11185808, 0.028160006, -0.04457286, -0.0014697135, -0.066846766, 0.0013677711, -0.092055336, -0.12141661, -0.051203966, 0.063397795, ...]</td>\n    </tr>\n    <tr>\n      <th>3</th>\n      <td>Describe Nike Dri FIT Tee, a product featuring comfortable, lightweight, waterproof As a casual look that's more athletic on the outside, we tried to do just that. With this, the lining gets just a little snug. Category: Accessories.</td>\n      <td>[-0.077654436, 0.066660896, 0.03873126, 0.040330295, 0.098517016, -0.045711704, 0.044514585, 0.035886202, -0.016958933, -0.002613785, -0.023453087, -0.019761566, -0.067280084, 0.020694053, 0.036817815, -0.04084788, -0.033868223, 0.008966399, -0.04712337, -0.027036088, 0.0032420927, -0.016450562, 0.006339696, 0.044503223, -0.1012114, 0.040873297, 0.09358988, 0.03723997, -0.05611139, -0.063219756, -0.075734876, 0.016949236, 0.012311063, 0.008761528, -0.00094859337, -0.039470762, 0.08689422, 0.017524693, -0.058551695, 0.023801567, 0.048801653, -0.040014517, -0.022642635, -0.012557198, -0.018863017, -0.026938716, -0.04279711, 0.12299102, -0.00063175027, 0.07903359, -0.003032124, -0.024310676, 0.04056285, -0.002061976, -0.0028700908, 0.009570937, 0.009095795, -0.012896502, -0.0745487, -0.13168983, 0.088459015, -0.02477195, -0.061472997, -0.013393828, 0.015237113, 0.012812513, -0.0209697, 0.08152696, 0.058198053, 0.065832004, -0.0035140112, 0.014166156, -0.028035942, 0.03257439, -0.018609172, 0.014310919, 0.011684834, 0.018677155, 0.00059579714, 0.064404644, -0.019977458, 0.043485373, 0.10075202, 0.04215834, 0.010398275, 0.0604248, 0.032943994, -0.13964938, 0.050748702, -0.04368745, -0.10312507, 0.00087264075, -0.057597797, -0.000105386345, 0.022879807, 0.036471527, -0.0055491976, 0.0049188384, 0.008034677, 0.03269657, ...]</td>\n    </tr>\n    <tr>\n      <th>4</th>\n      <td>Describe Nike Sportswear Club Fleece, a product featuring stylish, lightweight, comfortable Nike is committed to a range of lightweight sports shoes with one of a kind design features that provide great support for athletes and athletes of all levels of fitness. The Nike Category: Shoes.</td>\n      <td>[-0.05803381, -0.007887643, 0.010031014, 0.021145448, 0.13153084, 0.03955841, 0.022798631, 0.00010261738, 0.025687603, 0.051755566, -0.022193216, -0.004842259, -0.029437693, -0.042901415, 0.059919562, -0.017466247, -0.033465516, 0.044647887, -0.048715357, 0.010604454, -0.019639218, -0.040263373, -0.042246446, 0.05995753, -0.114267915, 0.040362265, 0.02926354, 0.040952876, -0.049640793, -0.005140729, -0.06435704, -0.02853798, 0.03619493, 0.11407526, -0.019141061, 0.0107924035, 0.044399854, 0.031240223, -0.08982127, 0.04140324, -0.004351998, -0.08821211, -0.08474129, 0.031671695, -0.05419536, 0.04311492, -0.024247708, 0.026247796, -0.038181182, 0.08086945, -0.043436505, -0.04510753, -0.055616904, -0.034394473, 0.008698343, 0.05050737, -0.0056101936, -0.007893653, -0.04944648, -0.034584288, 0.13007218, -0.061254516, 0.010382719, -0.0015891087, 0.014469034, -0.033725895, -0.012658903, 0.07402032, 0.025143797, -0.023455944, 0.032658074, 0.0075621833, -0.018928934, 0.062690414, -0.05464845, 0.06592047, 0.057374727, 0.019592648, 0.04840356, -0.017090634, -0.021845456, -0.022370063, 0.007847675, 0.0019289183, 0.0023720528, -0.071371116, -0.016986484, -0.08157171, 0.01526607, 0.013569601, -0.07202441, -0.035499156, -0.02039143, -0.029518796, -0.045132052, 0.06607664, -0.02323612, -0.008498654, -0.037019573, 0.012104989, ...]</td>\n    </tr>\n    <tr>\n      <th>5</th>\n      <td>Describe Nike Pro Tights, a product featuring lightweight, durable, comfortable Nike's new high technology Pro Tights are equipped with patented sensors built into their shoes that give rise to a unique visual signature and create unique visual style. These shoes are specially engineered with the potential to Category: Shoes.</td>\n      <td>[-0.07725544, -0.015373322, 0.027922055, -0.05278639, 0.10708888, -0.0089507485, 0.0902949, 0.03560102, 0.014877357, 0.056484118, 0.005749714, 0.0732665, -0.0051563997, -0.078940675, 0.010845997, 0.00416526, 0.019830339, 0.048144367, -0.097712256, -0.03395637, 0.0012229249, -0.069811985, 0.040492415, 0.05122283, -0.103837326, 0.035661694, 0.065568715, 0.051004376, -0.03951648, -0.0005940208, -0.086245894, -0.079804875, -0.04895408, 0.019445924, 0.021090165, -0.031866815, -0.017336646, 0.031798813, -0.100793764, 0.028330702, 0.0035259223, -0.10846335, -0.050669663, 0.049585547, -0.046914726, 0.09177423, 0.0070759514, 0.04202715, -0.10393836, 0.047502548, -0.054806218, -0.023123018, 0.044288464, -0.05010168, -0.035569377, 0.05731611, 0.0396392, -0.01319831, -0.029816624, -0.029660877, 0.1682085, -0.062099352, -0.06396169, 0.007203006, 0.0096135205, 0.061582394, 0.032713078, 0.065501355, 0.032874465, 0.0007991615, 0.008774743, 0.046747286, -0.0023136223, 0.05721058, 0.009016495, -0.011243754, -0.032110106, -0.06243553, -0.010290331, 0.0047973227, 0.033701032, -0.0145847965, -0.01040199, -0.007481944, 0.05400883, -0.045310494, 0.04510431, -0.052471574, 0.0028891484, -0.07613051, -0.102647096, -0.14112104, -0.023490772, -0.048877575, -0.055771492, -0.0019068721, -0.03909988, -0.030998617, -0.05322423, 0.016552538, ...]</td>\n    </tr>\n    <tr>\n      <th>6</th>\n      <td>Describe Nike Lightweight Arm Band, a product featuring comfortable, lightweight, waterproof Nike Lightweight Arm Band This lightweight black and white band is designed with the most athletic and supportive fabric possible. It comes paired with a durable woven stretch fiber sleeve that keeps you warm while Category: Accessories.</td>\n      <td>[-0.03446207, 0.05657315, 0.019191451, 0.03538375, 0.097556256, 0.017184962, 0.13229136, 0.021891473, 0.054491747, 0.022095669, -0.037855905, 0.04402419, -0.008799075, -0.027936103, 0.069757044, 0.000655874, 0.010269528, 0.041718464, -0.044217136, 0.00035418972, 0.0072275517, -0.021534832, -0.052034948, 0.014214198, -0.069458514, 0.022154756, 0.06603336, 0.0011708651, -0.008589548, -0.024283068, -0.06531119, -0.016580524, -0.028198108, 0.0019014075, -0.042237308, 0.005959184, 0.052497398, -0.052994926, -0.11697166, 0.04579798, 0.024049805, -0.062236093, 0.0021113956, 0.0391353, -0.06518792, 0.08631275, 0.01894102, 0.04372951, -0.096565284, 0.057157245, 0.021746304, -0.081359774, 0.043871135, -0.065556884, 0.011479416, 0.03788246, -0.02864994, 0.0046227477, -0.0732667, -0.0035003405, 0.1127522, -0.049242046, -0.08067334, -0.019481009, 0.04877575, 0.013203876, 0.03318014, 0.076169, 0.009931625, 0.013579554, 0.032974325, 0.012142494, 0.031625275, 0.019802012, -0.024877632, 0.057809435, 0.0371437, -0.013224067, 0.044426512, 0.017193563, -0.038268995, -0.0295204, 0.0069653746, 7.4894015e-05, 0.008859743, 0.06094002, 0.037764337, -0.05431706, -0.05344131, 0.008054028, -0.06066252, 0.012704643, -0.017247131, -0.04267974, -0.01046838, 0.06009241, -0.0027370825, -0.0203182, -0.09021421, 0.041431446, ...]</td>\n    </tr>\n    <tr>\n      <th>7</th>\n      <td>Describe Nike Swoosh Headband, a product featuring durable, stylish, lightweight This iconic blazer will give everyone the feeling of the big time on a daily basis without compromising on style and personality. Its innovative design, designed by artist Dierks Borschinger Category: Apparel.</td>\n      <td>[-0.013991837, 0.051052775, -0.04138371, -0.04811809, 0.09704995, -0.016656565, 0.081015654, 0.015854413, 0.009218353, 0.0074902438, -0.002888477, 0.030396596, -0.02695578, -0.07124455, 0.06922762, 0.010256828, 0.008391829, -0.012540378, 0.018059665, -0.058385182, 0.012806344, -0.034082934, -0.006176163, 0.07055657, -0.11158218, -0.007681978, -0.0069126952, 0.037399903, -0.03308412, -0.07449313, 0.056294654, 0.005539583, -0.047916915, 0.034654845, -0.057403367, -0.018838411, 0.08303133, 0.009007633, -0.046732422, 0.14780764, -0.038184162, -0.06559331, -0.07593294, -0.011005869, -0.025417186, 0.020423848, 0.0072493465, 0.017285338, -0.07938762, 0.08938025, 0.031004395, -0.13554706, 0.04603959, -0.065757535, 0.023656595, 0.04936261, -0.027495952, 0.070094034, -0.03336904, -0.0026193487, 0.051469445, -0.03879096, 0.04320617, -0.021576876, 0.0049554375, -0.067673504, -0.008037997, 0.027389906, 0.030168798, 0.05485008, 0.014497258, -0.040573724, 0.010533529, -0.0039687166, -0.06335974, -0.034418635, 0.061446644, 0.034301493, 0.0889751, 0.011951687, -0.026560705, -0.055455986, 0.018533733, -0.022538353, 0.036965784, 0.007223096, -0.01785088, -0.066310816, -0.016152337, 0.0007230964, -0.12277222, -0.050716892, 0.005716673, -0.06775903, -0.026391424, 0.035262913, -0.037959952, -0.01745927, -0.008216777, 0.035502076, ...]</td>\n    </tr>\n    <tr>\n      <th>8</th>\n      <td>Describe Nike Brasilia Training Backpack, a product featuring stylish, waterproof, lightweight The Nike Brasilia Training Backpack features a durable, breathable jacket, a low profile fleece lining, an ultra light liner and an ultralight back bag. The back compartment in the Back Category: Apparel.</td>\n      <td>[-0.035532754, 0.0031112318, -0.026414305, 0.0722248, 0.11293091, 0.025338745, 0.024614641, -0.010612857, 0.010529132, 0.027371762, 0.04843854, 0.026354397, -0.03411961, 0.026512552, 0.03795185, -0.048113357, -0.004385453, 0.02547149, -0.0073693767, -0.044189055, 0.025327502, -0.045541428, 0.004660074, 0.12044914, -0.10279754, 0.07879009, 0.06449484, -0.009312859, -0.056608748, -0.062631726, -0.096095644, -0.032666497, 0.023019755, 0.04642297, -0.03761018, 0.0535533, 0.052483045, -0.032922465, -0.03782093, 0.01575019, -0.024279485, -0.077572405, -0.073822595, 0.025122471, -0.036464952, -0.0061558858, 0.053421967, 0.067520425, -0.025907798, 0.038818017, -0.0044640796, -0.026823381, -0.07078049, -0.040445168, 0.011564347, 0.018682767, 0.006656331, 0.023686072, -0.062364962, 0.014988314, 0.07477729, -0.009422357, -0.057663187, -0.013826527, -0.01569406, -0.039108492, -0.05107236, 0.067852266, 0.030389382, 0.021162994, 0.011245745, 0.03917403, 0.017377697, 0.02427565, -0.04607055, 0.0660733, 0.021226978, 0.06296229, 0.05553836, -0.01659494, -0.007542353, -0.0021049364, 0.04571102, 0.02411936, 0.015378824, -0.0345203, 0.022725364, -0.066349775, -0.01429747, -0.021684889, 0.0055978294, -0.021191629, 0.002724472, 0.017666874, -0.08681991, 0.07251249, 0.0012743898, 0.012369455, -0.012374519, -0.0223639, ...]</td>\n    </tr>\n    <tr>\n      <th>9</th>\n      <td>Describe Nike Utility Speed Backpack, a product featuring durable, stylish, comfortable a utility pack equipped with Nike's patented technology. It offers a lightweight backpack, as well as new technologies on a lightweight exterior and a variety of new, exclusive sneakers all with unique, non toxic Category: Apparel.</td>\n      <td>[-0.025913412, 0.017073516, -0.008309517, 0.027396904, 0.104396224, -0.025664864, 0.040001336, -0.01899058, 0.047131103, -2.1011701e-05, 0.086760424, 0.09855439, -0.04108695, 0.015037703, 0.04103558, -0.029661017, 0.041000884, 0.06721896, -0.046705946, -0.011192674, 0.011938993, -0.057812784, 0.029796856, 0.09307943, -0.09539781, 0.058491442, -0.016078347, 0.026735324, -0.023518313, -0.038553815, -0.068006404, -0.06864926, 0.0056304475, 0.04252017, -0.0033011434, 0.013443371, 0.036455233, -0.01460981, -0.010238287, -0.03264281, -0.040373698, -0.15213154, -0.07714359, 0.014414187, -0.050649904, -0.017904006, 0.009349704, 0.028680662, -0.0459369, 0.02515762, -0.0008604552, -0.027233593, -0.035421204, -0.117826134, 0.069611534, 0.043417577, -0.0151155675, 0.053626306, 0.009091287, -0.07183717, 0.09169093, -0.051932625, -0.036120377, 0.0296972, 0.011310702, 0.015853435, -0.003842804, 0.061672393, 0.029001227, 0.037048686, 0.03110656, 0.0022223338, 0.02980969, 0.04193372, -0.011739122, 0.019700885, 0.0053235004, 0.054942835, 0.047785945, -0.0023987684, 0.012046278, 0.016993206, 0.018178424, -0.01938264, 0.022960318, -0.07179527, -0.018926127, -0.043274075, -0.031015323, -0.06278593, -0.031257365, -0.041301295, 0.03531813, -0.030302364, -0.054794416, 0.056316525, -0.03925263, -0.07244001, -0.066603474, 0.006203762, ...]</td>\n    </tr>\n    <tr>\n      <th>10</th>\n      <td>Describe Nike Hyperfuel Water Bottle, a product featuring waterproof, durable, lightweight The Hype is Over. It's time we all realized that true water bottles are all about innovation. We hope this post will provide a simple, affordable way to create those ultimate water bottles Category: Accessories.</td>\n      <td>[-0.054833375, -0.029162923, 0.0041630534, -0.026275184, 0.0903925, -0.009404968, 0.05122409, 0.004339657, -0.042003233, -0.023337685, 0.028011244, 0.043277737, -0.062041793, 0.033288125, 0.0258849, -0.021986106, -0.009014763, -0.0008425937, -0.070409104, -0.05378487, 0.07156217, -0.06325098, 0.02694226, 0.09671027, -0.0907387, 0.10829152, 0.0009268307, 0.0040051225, -0.00802811, -0.050582256, -0.02801415, -0.030976022, -0.011129711, -0.058346447, 0.012338401, -0.005589292, 0.0054439045, -0.0206093, -0.0077609173, -0.03994553, -0.041310385, -0.14149635, -0.072186455, 0.11671197, -0.02142801, 0.04737036, 0.07958059, 0.031454474, -0.047303192, 0.062409885, -0.024975447, -0.06614371, 0.07635055, -0.10287285, 0.017080162, 0.022717882, -0.0057449336, -0.043329697, -0.012096186, 0.031580664, 0.10052315, 0.025952516, -0.03836362, -0.0055013425, 0.012265473, 0.020569723, -0.052719794, 0.10062911, 0.016575329, 0.06786147, 0.014305883, 0.011282271, 0.009398808, 0.06926908, -0.02955177, -0.00939106, 0.032407213, -0.02596565, 0.08046388, 0.13752638, 0.0442591, -0.049131777, 0.050993346, -0.040877324, 0.042364802, -0.022523575, 0.0036535165, -0.06804971, -0.03549475, -0.06741963, -0.11443342, -0.026407594, 0.031012772, -0.05718568, -0.002398368, 0.04210515, -0.06149399, -0.04569263, 0.021479432, -0.04940558, ...]</td>\n    </tr>\n    <tr>\n      <th>11</th>\n      <td>Describe Nike Yoga Mat, a product featuring waterproof, lightweight, stylish With its slim, ultra low slung fit, top shelf athletic bag, and padded foam floor, the Nike Yoga mat is the best in class apparel or accessories choice for your workout. Category: Apparel.</td>\n      <td>[-0.010585436, -0.01621665, -0.003199804, -0.031885076, 0.102192834, 0.026434647, 0.082170956, -0.025266161, 0.039185744, 0.08469799, 0.049902067, 0.13985007, -0.01998159, 0.012675192, 0.07236268, 0.0022222241, 0.009116113, 0.051226687, -0.039328426, 0.020569678, 0.045490354, -0.02205, 0.038549356, 0.030463647, -0.0422793, 0.0984599, 0.07424673, -0.0282608, -0.011445914, -0.0040194304, -0.025856538, -0.023965342, 0.03390398, 0.026701536, -0.012533295, 0.01577247, 0.030727213, -0.041750163, -0.07784716, 0.027206322, -0.043611113, -0.028396102, -0.0027768055, 0.020109039, -0.0048445757, 0.029881472, 0.09177007, -0.07085062, -0.021702683, 0.06255869, 0.020073347, -0.045946915, 0.058116723, -0.06059601, -0.04701602, -0.038101174, 0.0031703853, 0.032252666, -0.022663515, -0.0037617802, 0.077883705, -0.045524083, 0.0016631256, -0.016012605, -0.010858878, -0.010089199, -0.0077637834, 0.07609003, -0.012689767, 0.042435337, -0.058133546, 0.055559628, 0.04658254, 0.08796416, -0.060216516, -0.024748309, 0.056503322, -0.03820115, 0.032665767, 0.06599979, 0.006099484, 0.016599162, 0.043213062, -0.008688243, 0.016553588, 0.005532586, 0.02803973, 0.023141196, 0.054073054, -0.10217994, -0.06958841, 0.004136028, -0.061259493, 0.0076384284, -0.054130223, 0.019408757, -0.06203065, 0.018904386, -0.027839914, 0.0011561627, ...]</td>\n    </tr>\n  </tbody>\n</table>\n</div>"
     },
     "execution_count": 125,
     "metadata": {},
     "output_type": "execute_result"
    }
   ],
   "source": [
    "# Assuming mock_retail_product_descriptions is a list of descriptions\n",
    "import numpy as np\n",
    "import pandas as pd\n",
    "\n",
    "# Convert descriptions to vectors\n",
    "product_vectors = [description_to_vector(desc) for desc in mock_retail_product_descriptions]\n",
    "\n",
    "# Create a DataFrame\n",
    "df_products = pd.DataFrame({\n",
    "    'description': mock_retail_product_descriptions,\n",
    "    'vector': product_vectors\n",
    "})\n",
    "\n",
    "df_products\n"
   ],
   "metadata": {
    "collapsed": false,
    "ExecuteTime": {
     "end_time": "2024-02-20T12:30:05.892014Z",
     "start_time": "2024-02-20T12:30:04.692040Z"
    }
   },
   "id": "7b542ca4bf822659",
   "execution_count": 125
  },
  {
   "cell_type": "code",
   "outputs": [
    {
     "name": "stdout",
     "output_type": "stream",
     "text": [
      "Similar Products for Query: 'Eco-friendly water bottle'\n",
      "----------------------------------\n",
      "1. Describe Nike Dri FIT Tee, a product featuring comfortable, lightweight, waterproof As a casual look that's more athletic on the outside, we tried to do just that. With this, the lining gets just a little snug. Category: Accessories.\n",
      "2. Describe Nike Pro Tights, a product featuring lightweight, durable, comfortable Nike's new high technology Pro Tights are equipped with patented sensors built into their shoes that give rise to a unique visual signature and create unique visual style. These shoes are specially engineered with the potential to Category: Shoes.\n"
     ]
    }
   ],
   "source": [
    "from annoy import AnnoyIndex\n",
    "import numpy as np\n",
    "import pandas as pd\n",
    "\n",
    "# Step 1: Initialize Annoy Index\n",
    "# Assuming we have a DataFrame 'df_products' with product vectors in a column named \"vector\"\n",
    "vector_dimension = len(df_products[\"vector\"].iloc[0])  # Dimension of the product vectors\n",
    "annoy_index = AnnoyIndex(vector_dimension, 'angular')  # Using 'angular' distance metric\n",
    "\n",
    "# Step 2: Populate Annoy Index with Product Vectors\n",
    "for product_id, vector in enumerate(df_products[\"vector\"]):\n",
    "    annoy_index.add_item(product_id, vector)\n",
    "\n",
    "annoy_index.build(10)  # Building the index with 10 trees for efficient querying\n",
    "\n",
    "# Step 3: Define Function to Convert Search Queries to Vectors\n",
    "# This is a placeholder function. In practice, use a model to generate vectors similar to product vectors.\n",
    "def query_to_vector(query):\n",
    "    # Example: Random vector generation (Replace with actual vectorization logic)\n",
    "    return np.random.rand(vector_dimension)\n",
    "\n",
    "# Step 4: Define Function to Find Similar Products Using Annoy\n",
    "def find_similar_products_annoy(query_vector, num_results=2):\n",
    "    # Fetch indices of similar products from the Annoy index\n",
    "    similar_product_ids = annoy_index.get_nns_by_vector(query_vector, num_results, include_distances=False)\n",
    "    # Return DataFrame rows corresponding to similar products\n",
    "    return df_products.iloc[similar_product_ids]\n",
    "\n",
    "# Step 5: Augment Search Results with Additional Logic\n",
    "def augment_search_results_with_annoy(query):\n",
    "    # Convert the query to a vector (adapt this to use actual query vectorization)\n",
    "    query_vector = query_to_vector(query)\n",
    "    # Find similar products based on the query vector\n",
    "    similar_products = find_similar_products_annoy(query_vector)\n",
    "    # Return the descriptions of similar products (customize this as needed)\n",
    "    return similar_products[\"description\"].tolist()\n",
    "\n",
    "# Demonstration of Usage\n",
    "query = \"Eco-friendly water bottle\"\n",
    "augmented_results = augment_search_results_with_annoy(query)\n",
    "\n",
    "# Print the descriptions of similar products\n",
    "print(\"Similar Products for Query: '{}'\".format(query))\n",
    "print(\"----------------------------------\")\n",
    "for idx, description in enumerate(augmented_results, 1):\n",
    "    print(\"{}. {}\".format(idx, description))\n"
   ],
   "metadata": {
    "collapsed": false,
    "ExecuteTime": {
     "end_time": "2024-02-20T12:30:05.900451Z",
     "start_time": "2024-02-20T12:30:05.895895Z"
    }
   },
   "id": "c1ddb6880d10ee52",
   "execution_count": 126
  },
  {
   "cell_type": "code",
   "outputs": [
    {
     "data": {
      "text/plain": "<IPython.core.display.HTML object>",
      "text/html": "\n    <div style=\"display: flex; justify-content: space-between;\">\n        <div style=\"border: 2px solid #2c3e50; border-radius: 10px; padding: 20px;\">\n            <h2>Query:</h2>\n            <p>Eco-friendly water shoes</p>\n        </div>\n        <div style=\"border: 2px solid #2c3e50; border-radius: 10px; padding: 20px;\">\n            <h2>Similar Products:</h2>\n            <ul>\n    <li>1. Describe Nike Air Zoom Pegasus, a product featuring lightweight, comfortable, waterproof As with Nike, my biggest disappointment with the 'Pig' line was the size range. For many a 'pig' has never been more important to me than last year's IOMX, but it Category: Shoes.</li><li>2. Describe Nike Lightweight Arm Band, a product featuring comfortable, lightweight, waterproof Nike Lightweight Arm Band This lightweight black and white band is designed with the most athletic and supportive fabric possible. It comes paired with a durable woven stretch fiber sleeve that keeps you warm while Category: Accessories.</li>\n            </ul>\n        </div>\n    </div>\n    "
     },
     "execution_count": 127,
     "metadata": {},
     "output_type": "execute_result"
    }
   ],
   "source": [
    "from annoy import AnnoyIndex\n",
    "import numpy as np\n",
    "import pandas as pd\n",
    "from IPython.display import HTML\n",
    "\n",
    "# Step 1: Initialize Annoy Index\n",
    "# Assuming we have a DataFrame 'df_products' with product vectors in a column named \"vector\"\n",
    "vector_dimension = len(df_products[\"vector\"].iloc[0])  # Dimension of the product vectors\n",
    "annoy_index = AnnoyIndex(vector_dimension, 'angular')  # Using 'angular' distance metric\n",
    "\n",
    "# Step 2: Populate Annoy Index with Product Vectors\n",
    "for product_id, vector in enumerate(df_products[\"vector\"]):\n",
    "    annoy_index.add_item(product_id, vector)\n",
    "\n",
    "annoy_index.build(10)  # Building the index with 10 trees for efficient querying\n",
    "\n",
    "# Step 3: Define Function to Convert Search Queries to Vectors\n",
    "# This is a placeholder function. In practice, use a model to generate vectors similar to product vectors.\n",
    "def query_to_vector(query):\n",
    "    # Example: Random vector generation (Replace with actual vectorization logic)\n",
    "    return np.random.rand(vector_dimension)\n",
    "\n",
    "# Step 4: Define Function to Find Similar Products Using Annoy\n",
    "def find_similar_products_annoy(query_vector, num_results=2):\n",
    "    # Fetch indices of similar products from the Annoy index\n",
    "    similar_product_ids = annoy_index.get_nns_by_vector(query_vector, num_results, include_distances=False)\n",
    "    # Return DataFrame rows corresponding to similar products\n",
    "    return df_products.iloc[similar_product_ids]\n",
    "\n",
    "# Step 5: Augment Search Results with Additional Logic\n",
    "def augment_search_results_with_annoy(query):\n",
    "    # Convert the query to a vector (adapt this to use actual query vectorization)\n",
    "    query_vector = query_to_vector(query)\n",
    "    # Find similar products based on the query vector\n",
    "    similar_products = find_similar_products_annoy(query_vector)\n",
    "    # Return the descriptions of similar products (customize this as needed)\n",
    "    return similar_products[\"description\"].tolist()\n",
    "\n",
    "# Function to create visually appealing output\n",
    "def create_visual_output(query, augmented_results):\n",
    "    html_content = f\"\"\"\n",
    "    <div style=\"display: flex; justify-content: space-between;\">\n",
    "        <div style=\"border: 2px solid #2c3e50; border-radius: 10px; padding: 20px;\">\n",
    "            <h2>Query:</h2>\n",
    "            <p>{query}</p>\n",
    "        </div>\n",
    "        <div style=\"border: 2px solid #2c3e50; border-radius: 10px; padding: 20px;\">\n",
    "            <h2>Similar Products:</h2>\n",
    "            <ul>\n",
    "    \"\"\"\n",
    "    for idx, description in enumerate(augmented_results, 1):\n",
    "        html_content += f\"<li>{idx}. {description}</li>\"\n",
    "    html_content += \"\"\"\n",
    "            </ul>\n",
    "        </div>\n",
    "    </div>\n",
    "    \"\"\"\n",
    "    return HTML(html_content)\n",
    "\n",
    "# Demonstration of Usage\n",
    "query = \"Eco-friendly water shoes\"\n",
    "augmented_results = augment_search_results_with_annoy(query)\n",
    "\n",
    "# Create visually appealing output\n",
    "create_visual_output(query, augmented_results)\n"
   ],
   "metadata": {
    "collapsed": false,
    "ExecuteTime": {
     "end_time": "2024-02-20T12:30:05.910866Z",
     "start_time": "2024-02-20T12:30:05.899829Z"
    }
   },
   "id": "db51d9ddec02df13",
   "execution_count": 127
  },
  {
   "cell_type": "code",
   "outputs": [
    {
     "data": {
      "text/plain": "<IPython.core.display.HTML object>",
      "text/html": "\n    <div style=\"display: flex; flex-wrap: wrap; justify-content: start; gap: 20px;\">\n        <div style=\"flex-basis: 100%;\">\n            <h2>Query:</h2>\n            <p>Eco-friendly water shoes</p>\n        </div>\n    \n            <div style=\"border: 2px solid #2c3e50; border-radius: 10px; padding: 20px; width: 200px; text-align: center;\">\n                <img src=\"https://upload.wikimedia.org/wikipedia/commons/a/a6/Logo_NIKE.svg\" alt=\"Nike Logo\" style=\"max-width: 100%; height: auto; margin-bottom: 10px;\">\n                <p>Describe Nike Lightweight Arm Band, a product featuring comfortable, lightweight, waterproof Nike Lightweight Arm Band This lightweight black and white band is designed with the most athletic and supportive fabric possible. It comes paired with a durable woven stretch fiber sleeve that keeps you warm while Category: Accessories.</p>\n            </div>\n        \n            <div style=\"border: 2px solid #2c3e50; border-radius: 10px; padding: 20px; width: 200px; text-align: center;\">\n                <img src=\"https://upload.wikimedia.org/wikipedia/commons/a/a6/Logo_NIKE.svg\" alt=\"Nike Logo\" style=\"max-width: 100%; height: auto; margin-bottom: 10px;\">\n                <p>Describe Nike Brasilia Training Backpack, a product featuring stylish, waterproof, lightweight The Nike Brasilia Training Backpack features a durable, breathable jacket, a low profile fleece lining, an ultra light liner and an ultralight back bag. The back compartment in the Back Category: Apparel.</p>\n            </div>\n        </div>"
     },
     "metadata": {},
     "output_type": "display_data"
    }
   ],
   "source": [
    "from IPython.display import HTML, display\n",
    "\n",
    "# Updated Function to Include Nike Logo Display\n",
    "def create_visual_output(query, augmented_results):\n",
    "    # URL of a freely usable Nike logo\n",
    "    nike_logo_url = \"https://upload.wikimedia.org/wikipedia/commons/a/a6/Logo_NIKE.svg\"\n",
    "\n",
    "    html_content = f\"\"\"\n",
    "    <div style=\"display: flex; flex-wrap: wrap; justify-content: start; gap: 20px;\">\n",
    "        <div style=\"flex-basis: 100%;\">\n",
    "            <h2>Query:</h2>\n",
    "            <p>{query}</p>\n",
    "        </div>\n",
    "    \"\"\"\n",
    "    for description in augmented_results:\n",
    "        html_content += f\"\"\"\n",
    "            <div style=\"border: 2px solid #2c3e50; border-radius: 10px; padding: 20px; width: 200px; text-align: center;\">\n",
    "                <img src=\"{nike_logo_url}\" alt=\"Nike Logo\" style=\"max-width: 100%; height: auto; margin-bottom: 10px;\">\n",
    "                <p>{description}</p>\n",
    "            </div>\n",
    "        \"\"\"\n",
    "    html_content += \"</div>\"\n",
    "    return HTML(html_content)\n",
    "\n",
    "# Demonstration of Usage\n",
    "query = \"Eco-friendly water shoes\"\n",
    "augmented_results = augment_search_results_with_annoy(query)  # No change here\n",
    "\n",
    "# Create visually appealing output with Nike logo images\n",
    "visual_output = create_visual_output(query, augmented_results)\n",
    "display(visual_output)\n"
   ],
   "metadata": {
    "collapsed": false,
    "ExecuteTime": {
     "end_time": "2024-02-20T12:30:05.931457Z",
     "start_time": "2024-02-20T12:30:05.913682Z"
    }
   },
   "id": "bc3d89f122b3d551",
   "execution_count": 128
  },
  {
   "cell_type": "code",
   "outputs": [
    {
     "data": {
      "text/plain": "[\"Describe Nike Air Zoom Pegasus, a product featuring lightweight, comfortable, waterproof As with Nike, my biggest disappointment with the 'Pig' line was the size range. For many a 'pig' has never been more important to me than last year's IOMX, but it Category: Shoes.\",\n \"Describe Nike Air Max 270, a product featuring waterproof, durable, lightweight The Nike Air Max 270 will be available in black, tan, and pink, although a few colors may vary in color and size. Nike says that after a recent release, it will also offer an ' Category: Shoes.\",\n 'Describe Nike Revolution 5, a product featuring durable, lightweight, waterproof Fiberglass lined panels, that are 1.5 inches taller than our standard 6 8 range Solid, solid steel panels Easy to use, lightweight construction No external strap Category: Accessories.',\n \"Describe Nike Dri FIT Tee, a product featuring comfortable, lightweight, waterproof As a casual look that's more athletic on the outside, we tried to do just that. With this, the lining gets just a little snug. Category: Accessories.\",\n 'Describe Nike Sportswear Club Fleece, a product featuring stylish, lightweight, comfortable Nike is committed to a range of lightweight sports shoes with one of a kind design features that provide great support for athletes and athletes of all levels of fitness. The Nike Category: Shoes.',\n \"Describe Nike Pro Tights, a product featuring lightweight, durable, comfortable Nike's new high technology Pro Tights are equipped with patented sensors built into their shoes that give rise to a unique visual signature and create unique visual style. These shoes are specially engineered with the potential to Category: Shoes.\",\n 'Describe Nike Lightweight Arm Band, a product featuring comfortable, lightweight, waterproof Nike Lightweight Arm Band This lightweight black and white band is designed with the most athletic and supportive fabric possible. It comes paired with a durable woven stretch fiber sleeve that keeps you warm while Category: Accessories.',\n 'Describe Nike Swoosh Headband, a product featuring durable, stylish, lightweight This iconic blazer will give everyone the feeling of the big time on a daily basis without compromising on style and personality. Its innovative design, designed by artist Dierks Borschinger Category: Apparel.',\n 'Describe Nike Brasilia Training Backpack, a product featuring stylish, waterproof, lightweight The Nike Brasilia Training Backpack features a durable, breathable jacket, a low profile fleece lining, an ultra light liner and an ultralight back bag. The back compartment in the Back Category: Apparel.',\n \"Describe Nike Utility Speed Backpack, a product featuring durable, stylish, comfortable a utility pack equipped with Nike's patented technology. It offers a lightweight backpack, as well as new technologies on a lightweight exterior and a variety of new, exclusive sneakers all with unique, non toxic Category: Apparel.\",\n \"Describe Nike Hyperfuel Water Bottle, a product featuring waterproof, durable, lightweight The Hype is Over. It's time we all realized that true water bottles are all about innovation. We hope this post will provide a simple, affordable way to create those ultimate water bottles Category: Accessories.\",\n 'Describe Nike Yoga Mat, a product featuring waterproof, lightweight, stylish With its slim, ultra low slung fit, top shelf athletic bag, and padded foam floor, the Nike Yoga mat is the best in class apparel or accessories choice for your workout. Category: Apparel.']"
     },
     "execution_count": 129,
     "metadata": {},
     "output_type": "execute_result"
    }
   ],
   "source": [
    "mock_retail_product_descriptions"
   ],
   "metadata": {
    "collapsed": false,
    "ExecuteTime": {
     "end_time": "2024-02-20T12:30:14.027759Z",
     "start_time": "2024-02-20T12:30:14.018299Z"
    }
   },
   "id": "90a60b0fe3235bc9",
   "execution_count": 129
  },
  {
   "cell_type": "code",
   "outputs": [],
   "source": [],
   "metadata": {
    "collapsed": false
   },
   "id": "dfadca76a9b57380"
  }
 ],
 "metadata": {
  "kernelspec": {
   "display_name": "Python 3 (ipykernel)",
   "language": "python",
   "name": "python3"
  }
 },
 "nbformat": 4,
 "nbformat_minor": 5
}
