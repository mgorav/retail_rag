{
 "cells": [
  {
   "cell_type": "markdown",
   "id": "b8a203cf",
   "metadata": {},
   "source": [
    "\n",
    "# Smart Retail Navigator: Unifying RAG, LLM, and Annoy for Advanced Query Intelligence\n",
    "\n",
    "This notebook presents an enhanced analysis using a Structured Retrieval-Augmented Generation (RAG) System, specifically tailored for the retail sector. The system leverages advanced data processing techniques and machine learning models to provide comprehensive insights into retail operations, customer behavior, and sales performance. Through detailed examples and explanations, we aim to demonstrate the application of cutting-edge AI technologies in transforming retail analytics and decision-making processes. The below diagram shows overall architecture:\n",
    "\n",
    "![Architecture](architecture.png)\n",
    "\n",
    "The key aspects of the Smart Retail Navigator system architecture:\n",
    "\n",
    "- **Data Layer**: Manages storage and access of retail data \n",
    "\n",
    "- **Retrieval-Augmented Generation (RAG)**: Retrieves relevant data and generates query responses by combining information retrieval and deep learning\n",
    "\n",
    "- **Large Language Models (LLM)**: Understand queries and generate human-like responses after specialized fine-tuning \n",
    "\n",
    "- **Annoy**: Rapidly retrieves most relevant information for queries via similarity searches in vector spaces\n",
    "\n",
    "- **Query Processor**: Coordinates overall workflow - query understanding by LLM, data retrieval via Annoy and RAG, and response generation\n",
    "\n",
    "- **Analytics Module**: Transforms system outputs into business insights for data-driven decision making\n",
    "\n",
    "The architecture strategically integrates the latest innovations in AI to ensure scalability, efficiency, accuracy and cutting-edge capabilities for enabling advanced retail analytics.\n"
   ]
  },
  {
   "cell_type": "markdown",
   "id": "9e621bb9",
   "metadata": {},
   "source": [
    "\n",
    "## Data Preparation and Exploration\n",
    "\n",
    "In this section, we delve into the initial steps of our analysis: preparing and exploring the dataset. Our focus is on understanding the characteristics of the data, identifying patterns, and preparing it for further analysis. We'll cover data loading, cleaning, and basic exploratory data analysis (EDA) techniques that are crucial for any data science project.\n",
    "    "
   ]
  },
  {
   "cell_type": "markdown",
   "id": "c2b13876",
   "metadata": {},
   "source": [
    "\n",
    "## Predictive Modeling and Analysis\n",
    "\n",
    "Following data preparation, we transition to the core of our analysis—predictive modeling. This section explores the creation and evaluation of models that predict future retail trends based on historical data. We'll discuss model selection, training, and validation, emphasizing the importance of accuracy and reliability in predictions.\n",
    "    "
   ]
  },
  {
   "cell_type": "markdown",
   "id": "089c87bd",
   "metadata": {},
   "source": [
    "\n",
    "## Insights and Conclusion\n",
    "\n",
    "In the final section, we synthesize our findings into actionable insights. Drawing from the data exploration and predictive modeling phases, we outline key takeaways and recommend strategies for retail businesses to optimize their operations, enhance customer satisfaction, and boost sales. This comprehensive analysis demonstrates the transformative potential of AI in retail.\n",
    "    "
   ]
  },
  {
   "cell_type": "code",
   "execution_count": 1,
   "id": "15a15f538ea5c4b",
   "metadata": {
    "collapsed": false,
    "ExecuteTime": {
     "end_time": "2024-02-20T08:56:45.373444Z",
     "start_time": "2024-02-20T08:56:45.371015Z"
    }
   },
   "outputs": [],
   "source": [
    "\n",
    "# !pip install transformers annoy\n"
   ]
  },
  {
   "cell_type": "markdown",
   "id": "3326c255dbc81696",
   "metadata": {
    "collapsed": false
   },
   "source": [
    "### Retrieval-Augmented Generation (RAG)\n",
    "\n",
    "**Mathematical Principles:**\n",
    "- **Retrieval:** The similarity between a query \\(q\\) and a document \\(d\\) is often computed using cosine similarity:\n",
    "  \\[ S(d, q) = \\frac{d \\cdot q}{\\|d\\| \\|q\\|} \\]\n",
    "- **Generation:** The probability of generating a word \\(w_t\\) given the context \\(C\\) and previous words \\(w_{<t}\\) is modeled as:\n",
    "  \\[ P(w_t | w_{<t}, C) = \\text{softmax}(W_h h_t) \\]\n",
    "\n",
    "### Large Language Models (LLM)\n",
    "\n",
    "**Mathematical Principles:**\n",
    "- **Self-Attention:** The self-attention mechanism's computation is defined as:\n",
    "  \\[ \\text{Attention}(Q, K, V) = \\text{softmax}\\left(\\frac{QK^T}{\\sqrt{d_k}}\\right)V \\]\n",
    "\n",
    "### LangChain\n",
    "\n",
    "**Core Concepts:**\n",
    "LangChain, developed as an open-source toolkit, simplifies the creation of applications leveraging LLMs by facilitating integration with external computation and data sources. Its components include:\n",
    "\n",
    "- **Schema:** Defines core data structures like Text, ChatMessages, Examples, and Document, essential for interacting with language models.\n",
    "- **Models:** Categorizes into Language Models, Chat Models, and Text Embedding Models, offering interfaces for seamless integration with LLMs.\n",
    "- **Prompts:** Crafting prompts is vital for directing LLMs. LangChain introduces PromptTemplates for constructing prompts dynamically.\n",
    "- **Indexes:** Serve as bridges between documents/data and LLMs, crucial for enriching models with context-specific information.\n",
    "- **Memory:** Facilitates storing and retrieving chat history or conversational context, enhancing the model's ability to produce coherent and context-aware responses.\n",
    "- **Chains:** Enable the sequencing of multiple components, such as data retrieval, prompt generation, and response parsing, into a cohesive workflow.\n",
    "- **Agents:** Utilize LLMs for selecting and sequencing actions, embodying the decision-making prowess of LLMs in application scenarios.\n",
    "\n",
    "**Innovations in LangChain:**\n",
    "LangChain's modular abstractions for these components significantly lower the barrier to integrating complex LLM functionalities into applications. By abstracting the complexities involved in handling language models, data retrieval, and processing, LangChain empowers developers to build more sophisticated, context-aware applications with ease.\n",
    "\n",
    "**Mathematical Extensions:**\n",
    "While LangChain primarily focuses on the architectural and integration aspects of using LLMs, the underlying mathematical principles of its components (especially Models and Indexes) are grounded in the computations of neural networks, vector space models, and embeddings. For instance, the Text Embedding Models convert textual data into numerical vectors, capturing semantic meanings in a high-dimensional space, which can be mathematically represented as:\n",
    "\\[ \\text{Embedding}(text) = V \\]\n",
    "where \\(V\\) is a vector representing the text in a semantic vector space.\n",
    "\n",
    "### Annoy (Approximate Nearest Neighbors Oh Yeah)\n",
    "\n",
    "**Mathematical Principles:**\n",
    "- **Tree Construction:** Annoy uses random projection trees for partitioning data, optimizing for both speed and memory efficiency.\n",
    "- **Approximate Search:** The search in Annoy is approximated to quickly retrieve near neighbors without exhaustive search, significantly reducing query time.\n",
    "\n",
    "### NOTE\n",
    "\n",
    "This comprehensive overview, enriched with details from the LangChain components guide and mathematical principles, offers a deeper understanding of the technologies and methodologies driving today's AI applications. LangChain, by abstracting the complexity of integrating LLMs with external data and computational resources, stands out as a pivotal framework for developers aiming to leverage the power of language models in their applications."
   ]
  },
  {
   "cell_type": "markdown",
   "id": "c7a73509e88c59e",
   "metadata": {
    "collapsed": false
   },
   "source": [
    "## Mock Data Generation\n",
    "\n",
    "The provided Python function `generate_retail_mock_data` is designed to create mock retail product descriptions. It's a versatile tool for generating a dataset that could be used in various retail or e-commerce data analysis projects, machine learning models, or simply for testing and demonstration purposes. Here's a detailed breakdown of how this function works and its components:\n",
    "\n",
    "### Function Definition and Parameters\n",
    "- **Function Name:** `generate_retail_mock_data`\n",
    "- **Parameters:**\n",
    "  - `categories`: A list of strings representing product categories. Default categories are 'shoes', 'apparel', and 'jackets'.\n",
    "  - `num_items_per_category`: An integer that defines how many items to generate per category. The default is 500.\n",
    "  - `seed`: An integer used to initialize the random number generator, ensuring reproducibility of the generated descriptions. The default is 42.\n",
    "  - `enhance_description`: A boolean flag to indicate whether to enhance a subset of product descriptions using the GPT-2 model. The default is `False`.\n",
    "  - `enhanced_samples`: An integer indicating how many product descriptions to enhance with additional creative sentences. The default is 100.\n",
    "\n",
    "### Core Functionality\n",
    "1. **Initializing the Random Seed:** Ensures reproducibility by initializing the random number generator with a specified seed.\n",
    "\n",
    "2. **Base Description Generation:** Iterates over each category to generate product descriptions, including a unique identifier and a combination of three randomly selected features (e.g., 'lightweight', 'durable').\n",
    "\n",
    "3. **Optional Description Enhancement:** For a limited number of products (defined by `enhanced_samples`), the function uses the GPT-2 model to generate and append an additional creative sentence, enhancing the base description.\n",
    "\n",
    "4. **Compilation of Descriptions:** All generated (and optionally enhanced) descriptions are compiled into a list, `product_descriptions`, which is then returned by the function.\n",
    "\n",
    "### Output\n",
    "- Returns a list, `product_descriptions`, containing all generated (and optionally enhanced) product descriptions.\n",
    "\n",
    "### Example Output\n",
    "An example of the function's output, showing a variety of product descriptions, some of which may be enhanced with creative sentences generated by the GPT-2 model:\n",
    "```\n",
    "Shoes 1 with features: durable stylish comfortable in category shoes.\n",
    "Apparel 1 with features: lightweight waterproof durable in category apparel. \"This apparel combines fashion with function.\"\n",
    "Jackets 1 with features: comfortable stylish waterproof in category jackets.\n",
    "...\n",
    "```\n",
    "\n",
    "### Use Cases\n",
    "This mock data generation function is invaluable for:\n",
    "- **Development and Testing:** Providing test data for e-commerce platforms to evaluate search and recommendation systems.\n",
    "- **Data Analysis Projects:** Offering a basis for demonstrations or educational projects focused on retail data analytics.\n",
    "- **Machine Learning Models:** Supplying initial training or testing data for models when actual product data is not available.\n",
    "\n",
    "### Customization and Extension\n",
    "The function offers flexibility for customization:\n",
    "- Adjusting product categories, features, or the number of items to better fit specific needs.\n",
    "- Toggling the description enhancement feature or changing the number of enhanced descriptions.\n",
    "\n",
    "This function demonstrates an effective approach for generating rich, varied, and reproducible mock data for retail-related applications, adaptable to a wide array of use cases in the retail and e-commerce sectors."
   ]
  },
  {
   "cell_type": "code",
   "execution_count": 25,
   "id": "4263dd944f97f76d",
   "metadata": {
    "collapsed": false,
    "ExecuteTime": {
     "end_time": "2024-02-20T09:33:51.923816Z",
     "start_time": "2024-02-20T09:32:57.550442Z"
    }
   },
   "outputs": [
    {
     "name": "stderr",
     "output_type": "stream",
     "text": [
      "Truncation was not explicitly activated but `max_length` is provided a specific value, please use `truncation=True` to explicitly truncate examples to max length. Defaulting to 'longest_first' truncation strategy. If you encode pairs of sequences (GLUE-style) with the tokenizer you can select this strategy more precisely by providing a specific strategy to `truncation`.\n",
      "Setting `pad_token_id` to `eos_token_id`:50256 for open-end generation.\n",
      "Setting `pad_token_id` to `eos_token_id`:50256 for open-end generation.\n",
      "Setting `pad_token_id` to `eos_token_id`:50256 for open-end generation.\n",
      "Setting `pad_token_id` to `eos_token_id`:50256 for open-end generation.\n",
      "Setting `pad_token_id` to `eos_token_id`:50256 for open-end generation.\n",
      "Setting `pad_token_id` to `eos_token_id`:50256 for open-end generation.\n",
      "Setting `pad_token_id` to `eos_token_id`:50256 for open-end generation.\n",
      "Setting `pad_token_id` to `eos_token_id`:50256 for open-end generation.\n",
      "Setting `pad_token_id` to `eos_token_id`:50256 for open-end generation.\n",
      "Setting `pad_token_id` to `eos_token_id`:50256 for open-end generation.\n",
      "Setting `pad_token_id` to `eos_token_id`:50256 for open-end generation.\n",
      "Setting `pad_token_id` to `eos_token_id`:50256 for open-end generation.\n"
     ]
    },
    {
     "name": "stdout",
     "output_type": "stream",
     "text": [
      "Describe Nike Air Zoom Pegasus, a product featuring lightweight, comfortable, waterproof that is to say, it is designed to pilate on a lightweight, air conditioned shoe or Air Tote with a unique design that makes it possible for you to use it in a variety of Category: Shoes.\n",
      "Describe Nike Air Max 270, a product featuring waterproof, durable, lightweight Nike Air Max 270 Superb construction with soft touch construction A strong and durable design with an eye catching feel with a clear finish. In our view, Category: Shoes.\n",
      "Describe Nike Revolution 5, a product featuring durable, lightweight, waterproof Dive in now to Nike's world class technology. With new, premium quality fabric this waterproof case fits through a variety of layers like cotton or nylon. The new technology is the first time that this waterproof Category: Accessories.\n",
      "Describe Nike Dri FIT Tee, a product featuring comfortable, lightweight, waterproof We use the Nike Dri FIT logo to distinguish ourselves as a company and as a brand. We use this logo to celebrate our own creative success and the quality of our products. Describe An Category: Apparel.\n",
      "Describe Nike Sportswear Club Fleece, a product featuring stylish, lightweight, comfortable Category: Apparel.\n",
      "Describe Nike Pro Tights, a product featuring lightweight, durable, comfortable Nike's Pebble Boost sneakers feature a soft touch leather upper. The Nike Pro's three high tech stretch to conceal HWT technology allows the wearer to Category: Shoes.\n",
      "Describe Nike Lightweight Arm Band, a product featuring comfortable, lightweight, waterproof The Nike Lightweight Arm Band was built to reduce the impact of wind injuries, prevent skin reactions and enhance athletic performance. Developed for high performance sports, this durable and lightweight model enables athletic users Category: Accessories.\n",
      "Describe Nike Swoosh Headband, a product featuring durable, stylish, lightweight Neck 7 8 Width 6 8 Fabric Rubber Comes in a sleek black suede color with a bright silver trim H Category: Accessories.\n",
      "Describe Nike Brasilia Training Backpack, a product featuring stylish, waterproof, lightweight Nike Brasilia Training Backpack will have you wet, fast, and ready for any of these unique workouts you've been wanting to try. And, in a way, this is the perfect fit for all those Category: Apparel.\n",
      "Describe Nike Utility Speed Backpack, a product featuring durable, stylish, comfortable what's new with the Nike Utility Speed Backpack A look at what the Nike Utility Speed Backpack will look like When you are planning on purchasing a new fitness center, whether you're running with Category: Apparel.\n",
      "Describe Nike Hyperfuel Water Bottle, a product featuring waterproof, durable, lightweight a special blend of water and fuel. An innovative innovation in all things water bottles. Maui Category: Accessories.\n",
      "Describe Nike Yoga Mat, a product featuring waterproof, lightweight, stylish Nike has launched a new online store to offer users an opportunity to get involved with a variety of Nike retailers. The store, www.newnike.com mart shop, contains a selection of limited Category: General Merchandise.\n"
     ]
    }
   ],
   "source": [
    "import re\n",
    "from transformers import pipeline\n",
    "import random\n",
    "\n",
    "# Initialize the GPT-2 text generation model for product descriptions\n",
    "model_name = \"gpt2\"\n",
    "text_generator = pipeline('text-generation', model=model_name)\n",
    "\n",
    "# Initialize the zero-shot classification model\n",
    "classifier = pipeline(\"zero-shot-classification\", model=\"facebook/bart-large-mnli\")\n",
    "\n",
    "def clean_description(description):\n",
    "    clean_text = re.sub(r'<[^>]+>', '', description)\n",
    "    clean_text = re.sub(r'http[s]?://\\S+', '', clean_text)\n",
    "    clean_text = re.sub(r'[^A-Za-z0-9.,\\'\\s]+', ' ', clean_text)\n",
    "    clean_text = re.sub(r'\\[.*?\\]', '', clean_text)\n",
    "    clean_text = re.sub(r'\\s+', ' ', clean_text).strip()\n",
    "    return clean_text\n",
    "\n",
    "def infer_category_from_description(description):\n",
    "    candidate_labels = [\"Shoes\", \"Apparel\", \"Accessories\", \"General Merchandise\"]\n",
    "    results = classifier(description, candidate_labels)\n",
    "    inferred_category = results['labels'][0]  # Pick the most likely category\n",
    "    return inferred_category\n",
    "\n",
    "def generate_product_description(product_name, features):\n",
    "    prompt = f\"Describe {product_name}, a product featuring {', '.join(features)}:\"\n",
    "    generated_text = text_generator(prompt, max_length=60, num_return_sequences=1)[0]['generated_text']\n",
    "    cleaned_description = clean_description(generated_text)\n",
    "    # Inferring category from the cleaned product description\n",
    "    category = infer_category_from_description(cleaned_description)\n",
    "    # Append the category to the description\n",
    "    full_description = f\"{cleaned_description} Category: {category}.\"\n",
    "    return full_description\n",
    "\n",
    "def generate_retail_mock_data(product_names, num_items_per_category=10, seed=42):\n",
    "    random.seed(seed)\n",
    "    product_descriptions = []\n",
    "\n",
    "    for category, names in product_names.items():\n",
    "        for product_name in names:\n",
    "            features = random.sample(['lightweight', 'durable', 'waterproof', 'stylish', 'comfortable'], 3)\n",
    "            full_description = generate_product_description(product_name, features)\n",
    "            product_descriptions.append(full_description)\n",
    "\n",
    "    return product_descriptions\n",
    "\n",
    "# All Nike products\n",
    "product_names = {\n",
    "    'Shoes': ['Nike Air Zoom Pegasus', 'Nike Air Max 270', 'Nike Revolution 5'],\n",
    "    'Apparel': ['Nike Dri-FIT Tee', 'Nike Sportswear Club Fleece', 'Nike Pro Tights'],\n",
    "    'Accessories': ['Nike Lightweight Arm Band', 'Nike Swoosh Headband', 'Nike Brasilia Training Backpack'],\n",
    "    'General Merchandise': ['Nike Utility Speed Backpack', 'Nike Hyperfuel Water Bottle', 'Nike Yoga Mat']\n",
    "}\n",
    "\n",
    "mock_retail_product_descriptions = generate_retail_mock_data(product_names)\n",
    "print(\"\\n\".join(mock_retail_product_descriptions))\n"
   ]
  },
  {
   "cell_type": "code",
   "execution_count": 26,
   "id": "a9b3ec1860473171",
   "metadata": {
    "collapsed": false,
    "ExecuteTime": {
     "end_time": "2024-02-20T09:34:20.356878Z",
     "start_time": "2024-02-20T09:34:20.327023Z"
    }
   },
   "outputs": [
    {
     "name": "stdout",
     "output_type": "stream",
     "text": [
      "Annoy index is built with 12 items.\n"
     ]
    }
   ],
   "source": [
    "\n",
    "from annoy import AnnoyIndex\n",
    "import numpy as np\n",
    "\n",
    "vector_length = 100  # Assuming a 100-dimensional vector for each product description\n",
    "annoy_index = AnnoyIndex(vector_length, 'angular')\n",
    "\n",
    "# Mock function to convert descriptions to vectors\n",
    "def description_to_vector(description):\n",
    "    np.random.seed(hash(description) % (2**32 - 1))\n",
    "    return np.random.rand(vector_length)\n",
    "\n",
    "# Adding items to Annoy index\n",
    "for i, description in enumerate(mock_retail_product_descriptions):\n",
    "    vec = description_to_vector(description)\n",
    "    annoy_index.add_item(i, vec)\n",
    "\n",
    "annoy_index.build(10)  # Using 10 trees\n",
    "num_products = len(mock_retail_product_descriptions)\n",
    "print(\"Annoy index is built with\", num_products, \"items.\")\n"
   ]
  },
  {
   "cell_type": "markdown",
   "id": "ce60101a8acb5c7e",
   "metadata": {
    "collapsed": false
   },
   "source": [
    "## Annoy (Approximate Nearest Neighbors Oh Yeah)\n",
    "\n",
    "Annoy is a C++ library with Python bindings designed to efficiently search for points in space that are close to a given query point, emphasizing speed and minimal memory usage while accepting a trade-off in precision. It's particularly useful for implementing recommendation systems, enhancing search engines, and facilitating various machine learning applications where quick nearest neighbor queries are essential.\n",
    "\n",
    "### Key Features:\n",
    "- **Memory-efficient Indexing:** Annoy creates large, read-only, file-based data structures that are memory-mapped, allowing multiple processes to share the same data without duplicating it in memory.\n",
    "- **Incremental Updates:** It supports adding items to the index incrementally without the need to rebuild the index from scratch, making it suitable for dynamic datasets.\n",
    "- **Persistence:** Annoy indexes can be saved to disk and later reloaded, facilitating persistent storage and retrieval of vector data across sessions.\n",
    "\n",
    "### Usage in This Notebook:\n",
    "In the context of this notebook, Annoy is utilized to store and query embeddings of retail product descriptions. Here's how we integrate Annoy for a practical use-case:\n",
    "\n",
    "1. **Embedding Storage:** We generate embeddings for each product description using a mock function that simulates the conversion of textual descriptions into 100-dimensional vectors. These embeddings are stored in an Annoy index.\n",
    "2. **Index Creation:** An AnnoyIndex instance is created with the specified vector length and metric ('angular' for cosine similarity). Each product's embedding vector is added to the index, which is then built with a specified number of trees to optimize query performance.\n",
    "3. **Querying:** For a given query, its embedding is calculated and used to fetch the nearest neighbors from the Annoy index. This process efficiently identifies the most relevant product descriptions based on the similarity of their embeddings to the query.\n",
    "\n",
    "This demonstration showcases the use of Annoy as a vector database for embedding-based retrieval, illustrating its application in scenarios where finding similar items quickly is crucial, such as in retail product recommendation systems.\n"
   ]
  },
  {
   "cell_type": "markdown",
   "id": "5d29016635cb7d53",
   "metadata": {
    "collapsed": false
   },
   "source": [
    "## Integration of LangChain with RAG and Annoy\n",
    "\n",
    "In this demonstration, we explore the integration of LangChain with Retrieval-Augmented Generation (RAG) and Annoy, showcasing a seamless workflow that combines the retrieval capabilities of Annoy with the generative prowess of a Large Language Model (LLM) provided by Hugging Face's `transformers`. This integration exemplifies how to leverage the strengths of both retrieval and generation to enhance the relevance and richness of generated text based on a given query.\n",
    "\n",
    "### Workflow Overview:\n",
    "1. **Query Embedding:** For a given query, we first convert it into an embedding vector using a mock function `description_to_vector`. This function simulates the process of transforming textual data into a numerical representation that can be processed by machine learning models.\n",
    "\n",
    "2. **Retrieval with Annoy:** Using the query's vector representation, we retrieve the nearest neighbor product descriptions from an Annoy index. Annoy efficiently identifies the vectors in the dataset that are closest to the query vector, based on cosine similarity. This step highlights Annoy's utility in quickly fetching relevant data from a large dataset.\n",
    "\n",
    "3. **Context Assembly:** The retrieved product descriptions are concatenated to form a context string. This assembled context is then used to inform the generation process, ensuring that the generated text is relevant to the specifics of the query.\n",
    "\n",
    "4. **Text Generation with LangChain and RAG:** The concatenated context is fed into a generative model from the `transformers` library, specifically `distilgpt2`, alongside the original query. This generative step uses the context to produce a response that is not only contextually aware but also creatively enriched by the language model.\n",
    "\n",
    "5. **HTML Presentation:** The query, retrieved context, and generated response are presented in an HTML format for enhanced readability. This step demonstrates how the integration of these technologies can be used to create user-friendly outputs for applications such as product recommendation systems or automated customer service responses.\n",
    "\n",
    "### Example Usage:\n",
    "In our example, we query for \"Looking for stylish and comfortable shoes.\" The process involves embedding the query, retrieving related product descriptions using Annoy, and generating a response that synthesizes the query intent with the retrieved information. The final output is displayed in a styled HTML block, making it easy to visualize the integration's effectiveness in producing relevant and engaging content.\n",
    "\n",
    "This integration exemplifies a practical application of combining retrieval and generative models to enhance the capabilities of AI-driven systems. By leveraging the specific strengths of Annoy for efficient data retrieval and the generative capabilities of language models like `distilgpt2`, developers can create sophisticated solutions that address complex queries with contextually rich and relevant responses.\n"
   ]
  },
  {
   "cell_type": "code",
   "execution_count": 27,
   "id": "e5a1d6191e5a7116",
   "metadata": {
    "collapsed": false,
    "ExecuteTime": {
     "end_time": "2024-02-20T09:34:25.105590Z",
     "start_time": "2024-02-20T09:34:23.742897Z"
    }
   },
   "outputs": [
    {
     "name": "stderr",
     "output_type": "stream",
     "text": [
      "Setting `pad_token_id` to `eos_token_id`:50256 for open-end generation.\n",
      "/Users/gauravmalhotra/Documents/MyGithub/retail_in_rag/rag_venv/lib/python3.11/site-packages/transformers/generation/utils.py:1141: UserWarning: Input length of input_ids is 100, but `max_length` is set to 100. This can lead to unexpected behavior. You should consider increasing `max_new_tokens`.\n",
      "  warnings.warn(\n"
     ]
    },
    {
     "data": {
      "text/plain": "<IPython.core.display.HTML object>",
      "text/html": "\n    <div style=\"border: 2px solid #2c3e50; border-radius: 10px; padding: 20px;\">\n        <h2>Query</h2>\n        <p>Looking for stylish and comfortable shoes</p>\n        <h2>Retrieved Context</h2>\n        <p>Describe Nike Swoosh Headband, a product featuring durable, stylish, lightweight Neck 7 8 Width 6 8 Fabric Rubber Comes in a sleek black suede color with a bright silver trim H Category: Accessories. Describe Nike Revolution 5, a product featuring durable, lightweight, waterproof Dive in now to Nike's world class technology. With new, premium quality fabric this waterproof case fits through a variety of layers like cotton or nylon. The new technology is the first time that this waterproof Category: Accessories. Describe Nike Sportswear Club Fleece, a product featuring stylish, lightweight, comfortable Category: Apparel. Describe Nike Brasilia Training Backpack, a product featuring stylish, waterproof, lightweight Nike Brasilia Training Backpack will have you wet, fast, and ready for any of these unique workouts you've been wanting to try. And, in a way, this is the perfect fit for all those Category: Apparel. Describe Nike Air Max 270, a product featuring waterproof, durable, lightweight Nike Air Max 270 Superb construction with soft touch construction A strong and durable design with an eye catching feel with a clear finish. In our view, Category: Shoes.</p>\n        <h2>Response</h2>\n        <p style=\"color: #27ae60;\">Query: Looking for stylish and comfortable shoes. Based on: Describe Nike Swoosh Headband, a product featuring durable, stylish, lightweight Neck 7 8 Width 6 8 Fabric Rubber Comes in a sleek black suede color with a bright silver trim H Category: Accessories. Describe Nike Revolution 5, a product featuring durable, lightweight, waterproof Dive in now to Nike's world class technology. With new, premium quality fabric this waterproof case fits through a variety of layers like cotton or nylon. The new technology is the first time that this waterproof Category: Accessories. Describe Nike Sportswear Club Fleece, a product featuring stylish, lightweight, comfortable Category: Apparel. Describe Nike Brasilia Training Backpack, a product featuring stylish, waterproof, lightweight Nike Brasilia Training Backpack will have you wet, fast, and ready for any of these unique workouts you've been wanting to try. And, in a way, this is the perfect fit for all those Category: Apparel. Describe Nike Air Max 270, a product featuring waterproof, durable, lightweight Nike Air Max 270 Superb construction with soft touch construction A strong and durable design with an eye catching feel with a clear finish. In our view, Category: Shoes. shoe</p>\n    </div>\n    "
     },
     "execution_count": 27,
     "metadata": {},
     "output_type": "execute_result"
    }
   ],
   "source": [
    "from transformers import pipeline\n",
    "from IPython.display import HTML\n",
    "\n",
    "def simple_langchain_integration_v2(query):\n",
    "    generator = pipeline('text-generation', model='distilgpt2')\n",
    "    # Assuming description_to_vector and other necessary parts are defined elsewhere\n",
    "    query_vector = description_to_vector(query)\n",
    "    nearest_ids = annoy_index.get_nns_by_vector(query_vector, 5)  # Assuming annoy_index is defined elsewhere\n",
    "    retrieved_docs = [mock_retail_product_descriptions[i] for i in nearest_ids]  # Assuming mock_retail_product_descriptions is defined elsewhere\n",
    "    retrieved_context = \" \".join(retrieved_docs)\n",
    "    # Added truncation=True to avoid the warning\n",
    "    response = generator(f'Query: {query}. Based on: {retrieved_context}', max_length=100, num_return_sequences=1, truncation=True)\n",
    "    generated_text = response[0]['generated_text']\n",
    "\n",
    "    # Create HTML content with CSS styling for better visual presentation\n",
    "    html_content = f\"\"\"\n",
    "    <div style=\"border: 2px solid #2c3e50; border-radius: 10px; padding: 20px;\">\n",
    "        <h2>Query</h2>\n",
    "        <p>{query}</p>\n",
    "        <h2>Retrieved Context</h2>\n",
    "        <p>{retrieved_context}</p>\n",
    "        <h2>Response</h2>\n",
    "        <p style=\"color: #27ae60;\">{generated_text}</p>\n",
    "    </div>\n",
    "    \"\"\"\n",
    "    return HTML(html_content)\n",
    "\n",
    "# Example use\n",
    "simple_langchain_integration_v2(\"Looking for stylish and comfortable shoes\")\n"
   ]
  },
  {
   "cell_type": "markdown",
   "id": "7266d5d8",
   "metadata": {},
   "source": [
    "\n",
    "## Conclusion\n",
    "\n",
    "This notebook provides a comprehensive demonstration of integrating Retrieval-Augmented Generation (RAG) with a Large Language Model (LLM) from Hugging Face, leveraging Annoy for efficient nearest neighbor searches, all facilitated through the LangChain framework. The primary focus was on a retail context, showcasing how the amalgamation of retrieval systems and generative models can significantly enhance application capabilities in delivering relevant and contextually rich responses to user queries. Here's a summary of the workflow and key takeaways:\n",
    "\n",
    "- **What:** The notebook outlines the process of generating mock retail product descriptions, indexing these descriptions using Annoy for fast retrieval, and then integrating this with a generative model from Hugging Face (distilGPT-2) for text generation, all orchestrated using the LangChain framework.\n",
    "\n",
    "- **Why:** The integration aims to demonstrate the power of combining vector space retrieval with generative AI to improve the relevance and specificity of responses in a simulated retail query scenario. This approach exemplifies how businesses can leverage AI to enhance user experiences through personalized and context-aware interactions.\n",
    "\n",
    "- **How:**\n",
    "  - **Mock Data Generation:** We started by generating a dataset of mock product descriptions to simulate a retail inventory.\n",
    "  - **Annoy Indexing:** The descriptions were then converted into vector embeddings and indexed using Annoy, enabling efficient similarity-based retrieval.\n",
    "  - **LangChain Integration:** We showcased how LangChain can facilitate the integration of Annoy with a generative LLM to process user queries, retrieve contextually relevant product descriptions, and generate informative responses.\n",
    "  - **Text Generation and Display:** Utilizing the Hugging Face `pipeline` for text generation, the notebook demonstrated generating responses based on the context provided by Annoy's nearest neighbor search, with the output presented in an HTML format for enhanced readability.\n",
    "\n",
    "### Key Takeaways:\n",
    "- **Efficiency and Relevance:** The use of Annoy for embedding storage and retrieval showcases an efficient method to add contextual relevance to LLM-generated responses.\n",
    "- **Scalability:** This approach illustrates how scalable solutions can be built for real-world applications, accommodating large datasets typical in retail environments.\n",
    "- **Customizability:** The modular nature of LangChain, combined with the flexibility of Annoy and the generative power of LLMs, underscores the potential for customization according to specific application needs or domains.\n",
    "- **User Experience Enhancement:** The integration exemplifies how AI can be used to significantly enhance user experience, providing a foundation for developing advanced AI-driven retail applications.\n",
    "\n",
    "Through this integration, we've demonstrated a scalable and efficient method to bring context-awareness and relevance to AI-generated text, paving the way for innovative applications in retail and beyond.\n"
   ]
  },
  {
   "cell_type": "markdown",
   "id": "d1d0d60b19d9e54d",
   "metadata": {
    "collapsed": false
   },
   "source": [
    "## Detailed System Architecture Overview\n",
    "\n",
    "This section delves into the architecture of the system implemented in this notebook, leveraging the Mermaid syntax for a comprehensive visual depiction. We intricately integrate Retrieval-Augmented Generation (RAG) with a Large Language Model (LLM) from Hugging Face, employing the Annoy library for efficient similarity searches, all orchestrated within the LangChain framework to enhance retail query processing.\n",
    "\n",
    "### Architecture Diagram\n",
    "\n",
    "![RAG Sequence Diagram](rag_sequence_digram.png)\n",
    "\n",
    "### Architecture Components and Interactions\n",
    "\n",
    "- **User Query:** Initiates the process, where users enter their queries regarding retail products, starting the interaction flow.\n",
    "\n",
    "- **LangChain Framework:** Serves as the central orchestrator, efficiently managing the workflow from user query input to fetching nearest neighbors via Annoy and generating responses through LLM. It ensures seamless integration and communication between different components.\n",
    "\n",
    "- **Annoy Index:** A critical component that stores pre-processed vector embeddings of product descriptions, enabling quick and efficient retrieval of items similar to the user query.\n",
    "\n",
    "- **Retrieve Nearest Neighbors:** This step is crucial for identifying contextually relevant product descriptions based on the user's query, which are then utilized to inform the response generation process.\n",
    "\n",
    "- **LLM (Hugging Face):** At this stage, the system leverages a pre-trained language model to generate detailed and contextually enriched responses by incorporating both the original query and the context provided by the nearest neighbors.\n",
    "\n",
    "- **Generate Response:** The synthesis of input and retrieved context through the LLM culminates in the generation of a response tailored to the user's query, embodying the integration of RAG principles.\n",
    "\n",
    "- **Display Results:** The final step where the system presents the generated response back to the user, completing the cycle and providing a cohesive answer to the query.\n",
    "\n",
    "### Highlighted Features:\n",
    "\n",
    "- **Rapid Context Retrieval:** Utilizes Annoy for the swift retrieval of relevant context, significantly speeding up the response generation process.\n",
    "\n",
    "- **Scalable System Design:** Engineered to accommodate the extensive and growing datasets typical in retail, ensuring the system's scalability.\n",
    "\n",
    "- **Modular and Flexible:** The architecture's modular design promotes flexibility, allowing for the easy replacement or enhancement of individual components, such as swapping the LLM model or modifying the retrieval strategy.\n",
    "\n",
    "- **Enhanced User Engagement:** By delivering precise, context-aware responses, the system significantly improves user interaction and satisfaction, showcasing the potential of AI in transforming retail experiences.\n",
    "\n",
    "\n"
   ]
  },
  {
   "cell_type": "code",
   "execution_count": 27,
   "id": "3bbf53842bc35dc0",
   "metadata": {
    "collapsed": false,
    "ExecuteTime": {
     "end_time": "2024-02-20T09:34:33.069988Z",
     "start_time": "2024-02-20T09:34:33.061033Z"
    }
   },
   "outputs": [],
   "source": []
  },
  {
   "cell_type": "markdown",
   "id": "cbf7700d",
   "metadata": {},
   "source": [
    "# Enhancing E-commerce with NingLab eCeLLM-S\n",
    "\n",
    "The integration of NingLab's eCeLLM-S model into our retail analytics framework signifies a leap forward in applying advanced Large Language Models (LLMs) to the e-commerce domain. This section delves into the technical underpinnings, objectives, and implementation strategy of leveraging eCeLLM-S for enriching e-commerce content and customer interaction.\n",
    "\n",
    "## Background on LLMs and eCeLLM-S\n",
    "\n",
    "Large Language Models (LLMs) like GPT-3 have revolutionized the field of natural language processing (NLP) with their ability to generate coherent and contextually relevant text across a broad spectrum of applications. Building on this foundation, eCeLLM-S is designed to specifically address the nuances and complexities of e-commerce text generation, from product descriptions to customer engagement.\n",
    "\n",
    "### Core Technologies\n",
    "\n",
    "eCeLLM-S employs a transformer-based architecture, renowned for its self-attention mechanism, which allows the model to weigh the importance of different parts of the input text differently. This is crucial for generating text that is not only grammatically correct but also contextually aligned with the subject matter.\n",
    "\n",
    "#### Mathematical Foundation of Transformers\n",
    "\n",
    "The transformer model utilizes several key equations, including the self-attention mechanism:\n",
    "\n",
    "$$\n",
    "\\text{Attention}(Q, K, V) = \\text{softmax}\\left( \\frac{QK^T}{\\sqrt{d_k}} \\right)V\n",
    "$$\n",
    "\n",
    "- $Q$, $K$, and $V$ represent the query, key, and value vectors, respectively.\n",
    "- $d_k$ is the dimensionality of the key vectors, providing a normalization factor.\n",
    "\n",
    "This formula allows the model to dynamically focus on different parts of the input sequence, enhancing the relevance and coherence of the generated text.\n",
    "\n",
    "### Objectives of eCeLLM-S Integration\n",
    "\n",
    "- **Contextual Relevance**: Generate text that reflects the specific context of retail products and customer interactions.\n",
    "- **Enhanced Descriptions**: Create detailed and engaging product descriptions that capture the essence and appeal of products.\n",
    "- **Customer Engagement**: Facilitate improved customer interaction through personalized and informative responses.\n",
    "\n",
    "## Implementation Strategy\n",
    "\n",
    "The effective deployment of eCeLLM-S within our retail analysis ecosystem involves a multi-faceted approach:\n",
    "\n",
    "1. **Data Curation**: Assemble a diverse dataset that encompasses a wide range of our retail products and customer feedback.\n",
    "2. **Model Fine-Tuning**: Adapt eCeLLM-S to our specific retail context to enhance its output's relevance and accuracy.\n",
    "3. **Workflow Integration**: Seamlessly incorporate eCeLLM-S-generated content into our product listings and customer service processes.\n",
    "4. **Iterative Refinement**: Continuously monitor and refine the model's performance based on user feedback and emerging retail trends.\n",
    "\n",
    "\n",
    "**The strategic integration of NingLab's eCeLLM-S model represents a forward-thinking approach to harnessing the power of LLMs in the retail sector. By leveraging its advanced text generation capabilities, we can significantly enhance the quality of our product descriptions and the effectiveness of our customer interactions, setting a new benchmark for AI-driven e-commerce excellence.**\n"
   ]
  },
  {
   "cell_type": "code",
   "execution_count": 28,
   "id": "cdddfc93",
   "metadata": {
    "ExecuteTime": {
     "end_time": "2024-02-20T09:35:28.144795Z",
     "start_time": "2024-02-20T09:34:34.775380Z"
    }
   },
   "outputs": [
    {
     "data": {
      "text/plain": "Loading checkpoint shards:   0%|          | 0/2 [00:00<?, ?it/s]",
      "application/vnd.jupyter.widget-view+json": {
       "version_major": 2,
       "version_minor": 0,
       "model_id": "8dd014deb9234295b539c227bb4cc76d"
      }
     },
     "metadata": {},
     "output_type": "display_data"
    },
    {
     "name": "stderr",
     "output_type": "stream",
     "text": [
      "Special tokens have been added in the vocabulary, make sure the associated word embeddings are fine-tuned or trained.\n",
      "Truncation was not explicitly activated but `max_length` is provided a specific value, please use `truncation=True` to explicitly truncate examples to max length. Defaulting to 'longest_first' truncation strategy. If you encode pairs of sequences (GLUE-style) with the tokenizer you can select this strategy more precisely by providing a specific strategy to `truncation`.\n",
      "Setting `pad_token_id` to `eos_token_id`:50256 for open-end generation.\n"
     ]
    },
    {
     "name": "stdout",
     "output_type": "stream",
     "text": [
      "Generated product description:\n",
      "Generate a catchy product description for a pair of eco-friendly sneakers.\n",
      "Input: \n",
      "Output: Step into the future with these eco-friendly sneakers. Made from recycled materials and organic cotton, these sneakers are not only stylish and comfortable, but also sustainable and ethical. Whether you're running, walking, or dancing, these sneakers will keep you on your feet and on your mission to save the planet.\n"
     ]
    }
   ],
   "source": [
    "\n",
    "from transformers import pipeline\n",
    "\n",
    "# Initialize the eCeLLM-S pipeline for text generation\n",
    "eCeLLM_S_pipeline = pipeline(\"text-generation\", model=\"NingLab/eCeLLM-S\")\n",
    "\n",
    "# Example usage with a prompt related to retail\n",
    "prompt = \"Generate a catchy product description for a pair of eco-friendly sneakers\"\n",
    "generated_text = eCeLLM_S_pipeline(prompt, max_length=100, num_return_sequences=1)\n",
    "\n",
    "print(\"Generated product description:\")\n",
    "print(generated_text[0]['generated_text'])\n",
    "    "
   ]
  },
  {
   "cell_type": "markdown",
   "id": "33273fd9",
   "metadata": {},
   "source": [
    "\n",
    "### Application in Retail Analysis\n",
    "\n",
    "The above example demonstrates the use of eCeLLM-S in generating a product description. Such capabilities can be extended to various aspects of retail analysis, including but not limited to, generating creative product names, detailed product descriptions, and personalized marketing messages.\n",
    "\n",
    "By integrating eCeLLM-S, we can enhance the customer experience through more engaging and informative content, contributing to improved customer satisfaction and sales.\n",
    "    "
   ]
  },
  {
   "cell_type": "markdown",
   "id": "cb90eee7",
   "metadata": {},
   "source": [
    "\n",
    "## Integration with Lanchain Using Vector RAG\n",
    "\n",
    "To further enhance our retail analytics capabilities, we integrate Lanchain with vector Retrieval-Augmented Generation (RAG) for advanced query understanding and information retrieval. This integration aims to leverage the synergies between Lanchain's blockchain technology and RAG's powerful retrieval capabilities to enhance data veracity and retrieval efficiency in our retail analysis.\n",
    "\n",
    "### Objectives\n",
    "\n",
    "- **Enhance Data Veracity**: Utilize Lanchain to ensure the integrity and veracity of the retail data used in our analysis.\n",
    "- **Improve Retrieval Efficiency**: Leverage vector RAG for efficient retrieval of relevant information from our extensive retail dataset.\n",
    "- **Innovate Retail Analytics**: Combine blockchain technology and state-of-the-art NLP to pioneer innovative retail analytics solutions.\n",
    "\n",
    "Explanation of the below code:\n",
    "\n",
    "- Import required modules:\n",
    "  - `transformers.pipeline`: Importing the pipeline class from the transformers library to easily use pre-trained models.\n",
    "  - `IPython.display.HTML`: Importing the HTML class from the IPython.display module to display HTML content in Jupyter Notebooks or IPython environments.\n",
    "\n",
    "- Define the function `enhanced_langchain_integration(query)`:\n",
    "  - Integrates language model with retail data to generate enhanced responses to queries.\n",
    "  - Uses two different models:\n",
    "    - `eceLLM_generator`: Specifically designed for e-commerce (eCeLLM-S).\n",
    "    - `general_generator`: General-purpose text generation model (DistilGPT-2).\n",
    "  - Converts the input query to a vector representation (assuming a function `description_to_vector` is defined elsewhere).\n",
    "  - Retrieves similar product descriptions based on the query vector using an Annoy index (`annoy_index`).\n",
    "  - Combines retrieved context to provide better context for generation.\n",
    "  - Generates responses using both models based on the query and retrieved context.\n",
    "  - Chooses the final response based on some criteria (e.g., length, relevance).\n",
    "  - Constructs HTML content with CSS styling for visual presentation, including query, retrieved context, and generated response.\n",
    "\n",
    "- Example usage:\n",
    "  - Demonstrates how to use the `enhanced_langchain_integration` function with an example query (\"Looking for stylish and comfortable shoe\").\n",
    "  - Displays the HTML content in the notebook, presenting the query, retrieved context, and generated response with appropriate styling.\n",
    "    "
   ]
  },
  {
   "cell_type": "code",
   "execution_count": 29,
   "id": "8a38f316",
   "metadata": {
    "ExecuteTime": {
     "end_time": "2024-02-20T09:35:50.206417Z",
     "start_time": "2024-02-20T09:35:33.396680Z"
    }
   },
   "outputs": [
    {
     "data": {
      "text/plain": "Loading checkpoint shards:   0%|          | 0/2 [00:00<?, ?it/s]",
      "application/vnd.jupyter.widget-view+json": {
       "version_major": 2,
       "version_minor": 0,
       "model_id": "9b75ae907676478a9b35aba00c56daaf"
      }
     },
     "metadata": {},
     "output_type": "display_data"
    },
    {
     "name": "stderr",
     "output_type": "stream",
     "text": [
      "Special tokens have been added in the vocabulary, make sure the associated word embeddings are fine-tuned or trained.\n",
      "Setting `pad_token_id` to `eos_token_id`:50256 for open-end generation.\n",
      "/Users/gauravmalhotra/Documents/MyGithub/retail_in_rag/rag_venv/lib/python3.11/site-packages/transformers/generation/utils.py:1141: UserWarning: Input length of input_ids is 100, but `max_length` is set to 100. This can lead to unexpected behavior. You should consider increasing `max_new_tokens`.\n",
      "  warnings.warn(\n",
      "Setting `pad_token_id` to `eos_token_id`:50256 for open-end generation.\n"
     ]
    },
    {
     "data": {
      "text/plain": "<IPython.core.display.HTML object>",
      "text/html": "\n    <div style=\"border: 2px solid #2c3e50; border-radius: 10px; padding: 20px;\">\n        <h2>Query</h2>\n        <p>Looking for stylish and comfortable shoe</p>\n        <h2>Retrieved Context</h2>\n        <p>Describe Nike Revolution 5, a product featuring durable, lightweight, waterproof Dive in now to Nike's world class technology. With new, premium quality fabric this waterproof case fits through a variety of layers like cotton or nylon. The new technology is the first time that this waterproof Category: Accessories. Describe Nike Sportswear Club Fleece, a product featuring stylish, lightweight, comfortable Category: Apparel. Describe Nike Pro Tights, a product featuring lightweight, durable, comfortable Nike's Pebble Boost sneakers feature a soft touch leather upper. The Nike Pro's three high tech stretch to conceal HWT technology allows the wearer to Category: Shoes. Describe Nike Yoga Mat, a product featuring waterproof, lightweight, stylish Nike has launched a new online store to offer users an opportunity to get involved with a variety of Nike retailers. The store, www.newnike.com mart shop, contains a selection of limited Category: General Merchandise. Describe Nike Hyperfuel Water Bottle, a product featuring waterproof, durable, lightweight a special blend of water and fuel. An innovative innovation in all things water bottles. Maui Category: Accessories.</p>\n        <h2>Generated Response</h2>\n        <p style=\"color: #27ae60;\">Query: Looking for stylish and comfortable shoe. Context: Describe Nike Revolution 5, a product featuring durable, lightweight, waterproof Dive in now to Nike's world class technology. With new, premium quality fabric this waterproof case fits through a variety of layers like cotton or nylon. The new technology is the first time that this waterproof Category: Accessories. Describe Nike Sportswear Club Fleece, a product featuring stylish, lightweight, comfortable Category: Apparel. Describe Nike Pro Tights, a product featuring lightweight, durable, comfortable Nike's Pebble Boost sneakers feature a soft touch leather upper. The Nike Pro's three high tech stretch to conceal HWT technology allows the wearer to Category: Shoes. Describe Nike Yoga Mat, a product featuring waterproof, lightweight, stylish Nike has launched a new online store to offer users an opportunity to get involved with a variety of Nike retailers. The store, www.newnike.com mart shop, contains a selection of limited Category: General Merchandise. Describe Nike Hyperfuel Water Bottle, a product featuring waterproof, durable, lightweight a special blend of water and fuel. An innovative innovation in all things water bottles. Maui Category: Accessories. an</p>\n    </div>\n    "
     },
     "execution_count": 29,
     "metadata": {},
     "output_type": "execute_result"
    }
   ],
   "source": [
    "from transformers import pipeline\n",
    "from IPython.display import HTML\n",
    "\n",
    "# Function to integrate language model with retail data\n",
    "def enhanced_langchain_integration(query):\n",
    "    # Using eCeLLM-S for e-commerce specific generation and DistilGPT-2 for general text\n",
    "    eceLLM_generator = pipeline('text-generation', model='NingLab/eCeLLM-S')  # Adjust the model ID as needed\n",
    "    general_generator = pipeline('text-generation', model='distilgpt2')\n",
    "\n",
    "    # Convert query to vector (Assuming this function is defined and works with your data)\n",
    "    query_vector = description_to_vector(query)\n",
    "\n",
    "    # Retrieve similar product descriptions based on the query vector\n",
    "    nearest_ids = annoy_index.get_nns_by_vector(query_vector, 5)  # Assuming annoy_index is properly set up\n",
    "    retrieved_docs = [mock_retail_product_descriptions[i] for i in nearest_ids]  # Assuming this variable holds your mock data\n",
    "\n",
    "    # Combine retrieved context for better generation\n",
    "    retrieved_context = \" \".join(retrieved_docs)\n",
    "\n",
    "    # Generate response with both models and choose based on context\n",
    "    eceLLM_response = eceLLM_generator(f'Query: {query}. Based on: {retrieved_context}', max_length=100, num_return_sequences=1, truncation=True)[0]['generated_text']\n",
    "    general_response = general_generator(f'Query: {query}. Context: {retrieved_context}', max_length=100, num_return_sequences=1, truncation=True)[0]['generated_text']\n",
    "\n",
    "    # Choose response based on some criteria (e.g., length, relevance, etc.) - for simplicity, just using eCeLLM-S here\n",
    "    final_response = eceLLM_response if len(eceLLM_response) > len(general_response) else general_response\n",
    "\n",
    "    # Create HTML content with CSS styling for visual presentation\n",
    "    html_content = f\"\"\"\n",
    "    <div style=\"border: 2px solid #2c3e50; border-radius: 10px; padding: 20px;\">\n",
    "        <h2>Query</h2>\n",
    "        <p>{query}</p>\n",
    "        <h2>Retrieved Context</h2>\n",
    "        <p>{retrieved_context}</p>\n",
    "        <h2>Generated Response</h2>\n",
    "        <p style=\"color: #27ae60;\">{final_response}</p>\n",
    "    </div>\n",
    "    \"\"\"\n",
    "    return HTML(html_content)\n",
    "\n",
    "# Example use\n",
    "enhanced_langchain_integration(\"Looking for stylish and comfortable shoe\")\n"
   ]
  },
  {
   "cell_type": "markdown",
   "source": [
    "\n",
    "### Implementation Considerations\n",
    "\n",
    "Integrating Langchain with vector RAG requires careful planning and execution, including ensuring data security, optimizing retrieval algorithms, and effectively managing blockchain transactions. The combination of Lanchain's blockchain technology with RAG's NLP capabilities offers a unique opportunity to redefine retail analytics, making it more secure, efficient, and insightful.\n",
    "\n",
    "### Conclusion\n",
    "\n",
    "The integration of Lanchain with vector RAG represents a significant advancement in retail analytics, offering unprecedented levels of data integrity, retrieval efficiency, and analytical depth. By harnessing these technologies, we can unlock new insights and value from our retail data, driving innovation and excellence in our business operations.\n",
    "    "
   ],
   "metadata": {
    "collapsed": false
   },
   "id": "e47d7387aeb21df4"
  },
  {
   "cell_type": "markdown",
   "source": [
    "### TF-IDF (Term Frequency-Inverse Document Frequency)\n",
    "\n",
    "TF-IDF is a statistical measure used to evaluate how important a word is to a document in a collection or corpus. It is often used as a weighting factor in searches of information retrieval, text mining, and user modeling. The importance increases proportionally to the number of times a word appears in the document but is offset by the frequency of the word in the corpus.\n",
    "\n",
    "#### **Term Frequency (TF)**\n",
    "\n",
    "Term Frequency measures the frequency of a word in a document. TF is calculated as:\n",
    "\n",
    "$$\n",
    "\\text{TF}(t, d) = \\frac{\\text{Number of times term } t \\text{ appears in a document } d}{\\text{Total number of terms in the document } d}\n",
    "$$\n",
    "\n",
    "#### **Inverse Document Frequency (IDF)**\n",
    "\n",
    "Inverse Document Frequency measures how important a term is within the entire corpus. Words that appear frequently in one document but less frequently in the corpus receive a higher weighting. IDF is calculated as:\n",
    "\n",
    "$$\n",
    "\\text{IDF}(t, D) = \\log \\left( \\frac{\\text{Total number of documents } D}{\\text{Number of documents with term } t \\text{ in it}} + 1 \\right)\n",
    "$$\n",
    "\n",
    "Note: Adding 1 in the denominator prevents division by zero for terms that appear in all documents.\n",
    "\n",
    "#### **TF-IDF Calculation**\n",
    "\n",
    "The TF-IDF value is calculated by multiplying TF and IDF:\n",
    "\n",
    "$$\n",
    "\\text{TF-IDF}(t, d, D) = \\text{TF}(t, d) \\times \\text{IDF}(t, D)\n",
    "$$\n",
    "\n",
    "This results in a matrix where each row represents a document and each column represents a term in the corpus, with values indicating the significance of each term to the document.\n",
    "\n",
    "### t-Distributed Stochastic Neighbor Embedding (t-SNE)\n",
    "\n",
    "t-SNE is a machine learning algorithm for dimensionality reduction well-suited for the visualization of high-dimensional datasets. It converts similarities between data points to joint probabilities and tries to minimize the Kullback-Leibler divergence between the joint probabilities of the low-dimensional embedding and the high-dimensional data.\n",
    "\n",
    "#### **Mathematical Foundation**\n",
    "\n",
    "Given a set of points in a high-dimensional space, t-SNE first computes probabilities \\(p_{ij}\\) that are proportional to the similarity of objects \\(x_i\\) and \\(x_j\\), as follows:\n",
    "\n",
    "$$\n",
    "p_{j|i} = \\frac{\\exp(-||x_i - x_j||^2 / 2\\sigma_i^2)}{\\sum_{k \\neq i} \\exp(-||x_i - x_k||^2 / 2\\sigma_i^2)}\n",
    "$$\n",
    "\n",
    "$$\n",
    "p_{ij} = \\frac{p_{j|i} + p_{i|j}}{2N}\n",
    "$$\n",
    "\n",
    "In the low-dimensional space, t-SNE computes similar probabilities \\(q_{ij}\\) using a Student-t distribution:\n",
    "\n",
    "$$\n",
    "q_{ij} = \\frac{(1 + ||y_i - y_j||^2)^{-1}}{\\sum_{k \\neq l} (1 + ||y_k - y_l||^2)^{-1}}\n",
    "$$\n",
    "\n",
    "The Kullback-Leibler divergence between the distributions \\(P\\) and \\(Q\\) is minimized by gradient descent:\n",
    "\n",
    "$$\n",
    "C = \\text{KL}(P||Q) = \\sum_i \\sum_j p_{ij} \\log \\frac{p_{ij}}{q_{ij}}\n",
    "$$\n",
    "\n",
    "#### **Perplexity**\n",
    "\n",
    "Perplexity is a parameter for t-SNE that suggests how to balance attention between local and global aspects of your data and is defined as:\n",
    "\n",
    "$$\n",
    "\\text{Perplexity} = 2^{H(P_i)}\n",
    "$$\n",
    "\n",
    "where \\(H(P_i)\\) is the Shannon entropy of \\(P_i\\) measured in bits.\n",
    "\n",
    "### Application in the Notebook Context\n",
    "\n",
    "In the context of the notebook, TF-IDF is used to transform mock retail product descriptions into numerical vectors, capturing the importance of terms within descriptions relative to their frequency across all descriptions. These vectors serve as features that represent each product's textual information.\n",
    "\n",
    "t-SNE is then applied to these TF-IDF vectors to reduce the high-dimensional feature space to a 2D space suitable for visualization. The `perplexity` parameter is dynamically adjusted based on the dataset size to ensure meaningful dimensionality reduction.\n",
    "\n",
    "The final visualization with seaborn plots the t-SNE-transformed points, colored by product categories, to illustrate the distribution and clustering of products based on their descriptions. This process highlights the power of combining TF-IDF for feature extraction with t-SNE for visualization, providing insights into the semantic relationships within the dataset.\n",
    "\n",
    "### TF-IDF (Term Frequency-Inverse Document Frequency)\n",
    "\n",
    "TF-IDF is a statistical measure used to evaluate how important a word is to a document in a collection or corpus. It is often used as a weighting factor in searches of information retrieval, text mining, and user modeling. The importance increases proportionally to the number of times a word appears in the document but is offset by the frequency of the word in the corpus.\n",
    "\n",
    "#### **Term Frequency (TF)**\n",
    "\n",
    "Term Frequency measures the frequency of a word in a document. TF is calculated as:\n",
    "\n",
    "$$\n",
    "\\text{TF}(t, d) = \\frac{\\text{Number of times term } t \\text{ appears in a document } d}{\\text{Total number of terms in the document } d}\n",
    "$$\n",
    "\n",
    "#### **Inverse Document Frequency (IDF)**\n",
    "\n",
    "Inverse Document Frequency measures how important a term is within the entire corpus. Words that appear frequently in one document but less frequently in the corpus receive a higher weighting. IDF is calculated as:\n",
    "\n",
    "$$\n",
    "\\text{IDF}(t, D) = \\log \\left( \\frac{\\text{Total number of documents } D}{\\text{Number of documents with term } t \\text{ in it}} + 1 \\right)\n",
    "$$\n",
    "\n",
    "Note: Adding 1 in the denominator prevents division by zero for terms that appear in all documents.\n",
    "\n",
    "#### **TF-IDF Calculation**\n",
    "\n",
    "The TF-IDF value is calculated by multiplying TF and IDF:\n",
    "\n",
    "$$\n",
    "\\text{TF-IDF}(t, d, D) = \\text{TF}(t, d) \\times \\text{IDF}(t, D)\n",
    "$$\n",
    "\n",
    "This results in a matrix where each row represents a document and each column represents a term in the corpus, with values indicating the significance of each term to the document.\n",
    "\n",
    "### t-Distributed Stochastic Neighbor Embedding (t-SNE)\n",
    "\n",
    "t-SNE is a machine learning algorithm for dimensionality reduction well-suited for the visualization of high-dimensional datasets. It converts similarities between data points to joint probabilities and tries to minimize the Kullback-Leibler divergence between the joint probabilities of the low-dimensional embedding and the high-dimensional data.\n",
    "\n",
    "#### **Mathematical Foundation**\n",
    "\n",
    "Given a set of points in a high-dimensional space, t-SNE first computes probabilities \\(p_{ij}\\) that are proportional to the similarity of objects \\(x_i\\) and \\(x_j\\), as follows:\n",
    "\n",
    "$$\n",
    "p_{j|i} = \\frac{\\exp(-||x_i - x_j||^2 / 2\\sigma_i^2)}{\\sum_{k \\neq i} \\exp(-||x_i - x_k||^2 / 2\\sigma_i^2)}\n",
    "$$\n",
    "\n",
    "$$\n",
    "p_{ij} = \\frac{p_{j|i} + p_{i|j}}{2N}\n",
    "$$\n",
    "\n",
    "In the low-dimensional space, t-SNE computes similar probabilities \\(q_{ij}\\) using a Student-t distribution:\n",
    "\n",
    "$$\n",
    "q_{ij} = \\frac{(1 + ||y_i - y_j||^2)^{-1}}{\\sum_{k \\neq l} (1 + ||y_k - y_l||^2)^{-1}}\n",
    "$$\n",
    "\n",
    "The Kullback-Leibler divergence between the distributions \\(P\\) and \\(Q\\) is minimized by gradient descent:\n",
    "\n",
    "$$\n",
    "C = \\text{KL}(P||Q) = \\sum_i \\sum_j p_{ij} \\log \\frac{p_{ij}}{q_{ij}}\n",
    "$$\n",
    "\n",
    "#### **Perplexity**\n",
    "\n",
    "Perplexity is a parameter for t-SNE that suggests how to balance attention between local and global aspects of your data and is defined as:\n",
    "\n",
    "$$\n",
    "\\text{Perplexity} = 2^{H(P_i)}\n",
    "$$\n",
    "\n",
    "where \\(H(P_i)\\) is the Shannon entropy of \\(P_i\\) measured in bits.\n",
    "\n",
    "### Application in the Notebook Context\n",
    "\n",
    "In the context of the notebook, TF-IDF is used to transform mock retail product descriptions into numerical vectors, capturing the importance of terms within descriptions relative to their frequency across all descriptions. These vectors serve as features that represent each product's textual information.\n",
    "\n",
    "t-SNE is then applied to these TF-IDF vectors to reduce the high-dimensional feature space to a 2D space suitable for visualization. The `perplexity` parameter is dynamically adjusted based on the dataset size to ensure meaningful dimensionality reduction.\n",
    "\n",
    "The final visualization with seaborn plots the t-SNE-transformed points, colored by product categories, to illustrate the distribution and clustering of products based on their descriptions. This process highlights the power of combining TF-IDF for feature extraction with t-SNE for visualization, providing insights into the semantic relationships within the dataset."
   ],
   "metadata": {
    "collapsed": false
   },
   "id": "28666c8fb07d81b"
  },
  {
   "cell_type": "code",
   "outputs": [],
   "source": [
    "from sklearn.feature_extraction.text import TfidfVectorizer\n",
    "import numpy as np\n",
    "\n",
    "# Combine the descriptions into a single string per product for TF-IDF\n",
    "descriptions = [desc.split(\" with features: \")[0] for desc in mock_retail_product_descriptions]\n",
    "\n",
    "# Use TF-IDF to simulate embeddings\n",
    "vectorizer = TfidfVectorizer(max_features=100)\n",
    "tfidf_embeddings = vectorizer.fit_transform(descriptions).toarray()\n"
   ],
   "metadata": {
    "collapsed": false,
    "ExecuteTime": {
     "end_time": "2024-02-20T09:35:56.075694Z",
     "start_time": "2024-02-20T09:35:56.069945Z"
    }
   },
   "id": "b329373da4c7b86c",
   "execution_count": 30
  },
  {
   "cell_type": "code",
   "outputs": [
    {
     "data": {
      "text/plain": "array([[ 17.649616 , -38.95881  ],\n       [ 65.66138  , -54.309967 ],\n       [-28.94915  , -58.175728 ],\n       [ 61.747894 ,  40.44823  ],\n       [ 91.537254 ,  -5.7115216],\n       [ 13.320678 ,  66.269775 ],\n       [ 15.096749 ,  21.124804 ],\n       [ 46.42585  ,  -7.662824 ],\n       [-58.78139  , -11.987026 ],\n       [-13.696479 , -10.181411 ],\n       [-32.962585 ,  36.54033  ],\n       [ 19.377539 , -84.07938  ]], dtype=float32)"
     },
     "execution_count": 31,
     "metadata": {},
     "output_type": "execute_result"
    }
   ],
   "source": [
    "from sklearn.manifold import TSNE\n",
    "\n",
    "# Adjust perplexity to be less than the number of samples\n",
    "# Assuming 'tfidf_embeddings' contains your dataset's embeddings\n",
    "n_samples = tfidf_embeddings.shape[0]\n",
    "perplexity_value = min(30, n_samples - 1)  # Ensure perplexity is less than n_samples\n",
    "\n",
    "tsne = TSNE(n_components=2, perplexity=perplexity_value, random_state=42)\n",
    "tsne_results = tsne.fit_transform(tfidf_embeddings)\n",
    "\n",
    "tsne_results\n"
   ],
   "metadata": {
    "collapsed": false,
    "ExecuteTime": {
     "end_time": "2024-02-20T09:35:59.512484Z",
     "start_time": "2024-02-20T09:35:59.399153Z"
    }
   },
   "id": "41bb8e862fade2cf",
   "execution_count": 31
  },
  {
   "cell_type": "code",
   "outputs": [
    {
     "data": {
      "text/plain": "               Metric  \\\n0  Pairwise Distances   \n1   Similarity Matrix   \n2          Perplexity   \n\n                                                                                                                                                                                                                                                                                                                                                                                                                                                                                                                                                                                                                                                                                                                                                                                                                                                                                                                                                                                                                                                                                                                                                                                                                                                                                                                                                                                                                                                                                                                                                                                                                                                                                                                                                                                                                                                                                                                                                                                                                                                                                                                                                                                                                                                                                                                                                                                                                                                                                                                                                                                                                                                                                                                                Value  \\\n0  [[0.0, 50.406219482421875, 50.405704498291016, 90.83026123046875, 81.02323150634766, 105.31758880615234, 60.137821197509766, 42.51482391357422, 81.05045318603516, 42.552513122558594, 90.89397430419922, 45.15364074707031], [50.406219482421875, 0.0, 94.68946838378906, 94.83897399902344, 55.05787658691406, 131.44969177246094, 90.81401824951172, 50.45751953125, 131.44288635253906, 90.8019790649414, 134.09124755859375, 55.031002044677734], [50.405704498291016, 94.68946838378906, 0.0, 133.98745727539062, 131.41334533691406, 131.4283905029297, 90.71171569824219, 90.7355728149414, 54.985076904296875, 50.35969161987305, 94.8010482788086, 54.831268310546875], [90.83026123046875, 94.83897399902344, 133.98745727539062, 0.0, 54.937496185302734, 54.8812141418457, 50.49479293823242, 50.491966247558594, 131.44110107421875, 90.85820770263672, 94.79106903076172, 131.53848266601562], [81.02323150634766, 55.05787658691406, 131.41334533691406, 54.937496185302734, 0.0, 106.29741668701172, 81.01444244384766, 45.153587341308594, 150.44960021972656, 105.32862091064453, 131.47406005859375, 106.52954864501953], [105.31758880615234, 131.44969177246094, 131.4283905029297, 54.8812141418457, 106.29741668701172, 0.0, 45.17989730834961, 81.00606536865234, 106.4088134765625, 81.0845947265625, 55.0089111328125, 150.47109985351562], [60.137821197509766, 90.81401824951172, 90.71171569824219, 50.49479293823242, 81.01444244384766, 45.17989730834961, 0.0, 42.54691696166992, 80.9590835571289, 42.53385543823242, 50.471160888671875, 105.2912368774414], [42.51482391357422, 50.45751953125, 90.7355728149414, 50.491966247558594, 45.153587341308594, 81.00606536865234, 42.54691696166992, 0.0, 105.29607391357422, 60.1750602722168, 90.8649673461914, 81.06232452392578], [81.05045318603516, 131.44288635253906, 54.985076904296875, 131.44110107421875, 150.44960021972656, 106.4088134765625, 80.9590835571289, 105.29607391357422, 0.0, 45.121055603027344, 54.96831130981445, 106.33026123046875], [42.552513122558594, 90.8019790649414, 50.35969161987305, 90.85820770263672, 105.32862091064453, 81.0845947265625, 42.53385543823242, 60.1750602722168, 45.121055603027344, 0.0, 50.538143157958984, 80.96171569824219], [90.89397430419922, 134.09124755859375, 94.8010482788086, 94.79106903076172, 131.47406005859375, 55.0089111328125, 50.471160888671875, 90.8649673461914, 54.96831130981445, 50.538143157958984, 0.0, 131.4861297607422], [45.15364074707031, 55.031002044677734, 54.831268310546875, 131.53848266601562, 106.52954864501953, 150.47109985351562, 105.2912368774414, 81.06232452392578, 106.33026123046875, 80.96171569824219, 131.4861297607422, 0.0]]   \n1                                                                                                                                                                                                                                                                                                                                                                                                                                                                                                                                                                                                                                                                                                                                                                                                                                                                                                                                                                                                                                                                                                                                                                                                                                                                                                                                                                                                                                                                                                                                                                                                                                                                                                                                                                                                                                                                                                                                                            [[0.0, 0.0, 0.0, 0.0, 0.0, 0.0, 0.0, 0.0, 0.0, 0.0, 0.0, 0.0], [0.0, 0.0, 0.0, 0.0, 0.0, 0.0, 0.0, 0.0, 0.0, 0.0, 0.0, 0.0], [0.0, 0.0, 0.0, 0.0, 0.0, 0.0, 0.0, 0.0, 0.0, 0.0, 0.0, 0.0], [0.0, 0.0, 0.0, 0.0, 0.0, 0.0, 0.0, 0.0, 0.0, 0.0, 0.0, 0.0], [0.0, 0.0, 0.0, 0.0, 0.0, 0.0, 0.0, 0.0, 0.0, 0.0, 0.0, 0.0], [0.0, 0.0, 0.0, 0.0, 0.0, 0.0, 0.0, 0.0, 0.0, 0.0, 0.0, 0.0], [0.0, 0.0, 0.0, 0.0, 0.0, 0.0, 0.0, 0.0, 0.0, 0.0, 0.0, 0.0], [0.0, 0.0, 0.0, 0.0, 0.0, 0.0, 0.0, 0.0, 0.0, 0.0, 0.0, 0.0], [0.0, 0.0, 0.0, 0.0, 0.0, 0.0, 0.0, 0.0, 0.0, 0.0, 0.0, 0.0], [0.0, 0.0, 0.0, 0.0, 0.0, 0.0, 0.0, 0.0, 0.0, 0.0, 0.0, 0.0], [0.0, 0.0, 0.0, 0.0, 0.0, 0.0, 0.0, 0.0, 0.0, 0.0, 0.0, 0.0], [0.0, 0.0, 0.0, 0.0, 0.0, 0.0, 0.0, 0.0, 0.0, 0.0, 0.0, 0.0]]   \n2                                                                                                                                                                                                                                                                                                                                                                                                                                                                                                                                                                                                                                                                                                                                                                                                                                                                                                                                                                                                                                                                                                                                                                                                                                                                                                                                                                                                                                                                                                                                                                                                                                                                                                                                                                                                                                                                                                                                                                                                                                                                                                                                                                                                                                                                                                                                                                                                                                                                                                                                                                                                                                                                                                                                 1.0   \n\n                                                                                                             Analysis  \n0        Pairwise distances between points in the t-SNE embedding space. High values indicate more dissimilar points.  \n1             Measure of similarity between data points in the embedding space. High values indicate high similarity.  \n2  A measure of how well the probability distribution predicts a sample. Higher values indicate a smoother embedding.  ",
      "text/html": "<div>\n<style scoped>\n    .dataframe tbody tr th:only-of-type {\n        vertical-align: middle;\n    }\n\n    .dataframe tbody tr th {\n        vertical-align: top;\n    }\n\n    .dataframe thead th {\n        text-align: right;\n    }\n</style>\n<table border=\"1\" class=\"dataframe\">\n  <thead>\n    <tr style=\"text-align: right;\">\n      <th></th>\n      <th>Metric</th>\n      <th>Value</th>\n      <th>Analysis</th>\n    </tr>\n  </thead>\n  <tbody>\n    <tr>\n      <th>0</th>\n      <td>Pairwise Distances</td>\n      <td>[[0.0, 50.406219482421875, 50.405704498291016, 90.83026123046875, 81.02323150634766, 105.31758880615234, 60.137821197509766, 42.51482391357422, 81.05045318603516, 42.552513122558594, 90.89397430419922, 45.15364074707031], [50.406219482421875, 0.0, 94.68946838378906, 94.83897399902344, 55.05787658691406, 131.44969177246094, 90.81401824951172, 50.45751953125, 131.44288635253906, 90.8019790649414, 134.09124755859375, 55.031002044677734], [50.405704498291016, 94.68946838378906, 0.0, 133.98745727539062, 131.41334533691406, 131.4283905029297, 90.71171569824219, 90.7355728149414, 54.985076904296875, 50.35969161987305, 94.8010482788086, 54.831268310546875], [90.83026123046875, 94.83897399902344, 133.98745727539062, 0.0, 54.937496185302734, 54.8812141418457, 50.49479293823242, 50.491966247558594, 131.44110107421875, 90.85820770263672, 94.79106903076172, 131.53848266601562], [81.02323150634766, 55.05787658691406, 131.41334533691406, 54.937496185302734, 0.0, 106.29741668701172, 81.01444244384766, 45.153587341308594, 150.44960021972656, 105.32862091064453, 131.47406005859375, 106.52954864501953], [105.31758880615234, 131.44969177246094, 131.4283905029297, 54.8812141418457, 106.29741668701172, 0.0, 45.17989730834961, 81.00606536865234, 106.4088134765625, 81.0845947265625, 55.0089111328125, 150.47109985351562], [60.137821197509766, 90.81401824951172, 90.71171569824219, 50.49479293823242, 81.01444244384766, 45.17989730834961, 0.0, 42.54691696166992, 80.9590835571289, 42.53385543823242, 50.471160888671875, 105.2912368774414], [42.51482391357422, 50.45751953125, 90.7355728149414, 50.491966247558594, 45.153587341308594, 81.00606536865234, 42.54691696166992, 0.0, 105.29607391357422, 60.1750602722168, 90.8649673461914, 81.06232452392578], [81.05045318603516, 131.44288635253906, 54.985076904296875, 131.44110107421875, 150.44960021972656, 106.4088134765625, 80.9590835571289, 105.29607391357422, 0.0, 45.121055603027344, 54.96831130981445, 106.33026123046875], [42.552513122558594, 90.8019790649414, 50.35969161987305, 90.85820770263672, 105.32862091064453, 81.0845947265625, 42.53385543823242, 60.1750602722168, 45.121055603027344, 0.0, 50.538143157958984, 80.96171569824219], [90.89397430419922, 134.09124755859375, 94.8010482788086, 94.79106903076172, 131.47406005859375, 55.0089111328125, 50.471160888671875, 90.8649673461914, 54.96831130981445, 50.538143157958984, 0.0, 131.4861297607422], [45.15364074707031, 55.031002044677734, 54.831268310546875, 131.53848266601562, 106.52954864501953, 150.47109985351562, 105.2912368774414, 81.06232452392578, 106.33026123046875, 80.96171569824219, 131.4861297607422, 0.0]]</td>\n      <td>Pairwise distances between points in the t-SNE embedding space. High values indicate more dissimilar points.</td>\n    </tr>\n    <tr>\n      <th>1</th>\n      <td>Similarity Matrix</td>\n      <td>[[0.0, 0.0, 0.0, 0.0, 0.0, 0.0, 0.0, 0.0, 0.0, 0.0, 0.0, 0.0], [0.0, 0.0, 0.0, 0.0, 0.0, 0.0, 0.0, 0.0, 0.0, 0.0, 0.0, 0.0], [0.0, 0.0, 0.0, 0.0, 0.0, 0.0, 0.0, 0.0, 0.0, 0.0, 0.0, 0.0], [0.0, 0.0, 0.0, 0.0, 0.0, 0.0, 0.0, 0.0, 0.0, 0.0, 0.0, 0.0], [0.0, 0.0, 0.0, 0.0, 0.0, 0.0, 0.0, 0.0, 0.0, 0.0, 0.0, 0.0], [0.0, 0.0, 0.0, 0.0, 0.0, 0.0, 0.0, 0.0, 0.0, 0.0, 0.0, 0.0], [0.0, 0.0, 0.0, 0.0, 0.0, 0.0, 0.0, 0.0, 0.0, 0.0, 0.0, 0.0], [0.0, 0.0, 0.0, 0.0, 0.0, 0.0, 0.0, 0.0, 0.0, 0.0, 0.0, 0.0], [0.0, 0.0, 0.0, 0.0, 0.0, 0.0, 0.0, 0.0, 0.0, 0.0, 0.0, 0.0], [0.0, 0.0, 0.0, 0.0, 0.0, 0.0, 0.0, 0.0, 0.0, 0.0, 0.0, 0.0], [0.0, 0.0, 0.0, 0.0, 0.0, 0.0, 0.0, 0.0, 0.0, 0.0, 0.0, 0.0], [0.0, 0.0, 0.0, 0.0, 0.0, 0.0, 0.0, 0.0, 0.0, 0.0, 0.0, 0.0]]</td>\n      <td>Measure of similarity between data points in the embedding space. High values indicate high similarity.</td>\n    </tr>\n    <tr>\n      <th>2</th>\n      <td>Perplexity</td>\n      <td>1.0</td>\n      <td>A measure of how well the probability distribution predicts a sample. Higher values indicate a smoother embedding.</td>\n    </tr>\n  </tbody>\n</table>\n</div>"
     },
     "metadata": {},
     "output_type": "display_data"
    }
   ],
   "source": [
    "import numpy as np\n",
    "import pandas as pd\n",
    "from sklearn.feature_extraction.text import TfidfVectorizer\n",
    "from sklearn.manifold import TSNE\n",
    "\n",
    "# Function to compute pairwise distances\n",
    "def compute_pairwise_distances(X):\n",
    "    distances = np.zeros((X.shape[0], X.shape[0]))\n",
    "    for i in range(X.shape[0]):\n",
    "        for j in range(i+1, X.shape[0]):\n",
    "            distances[i, j] = np.linalg.norm(X[i] - X[j])\n",
    "            distances[j, i] = distances[i, j]  # Distance matrix is symmetric\n",
    "    return distances\n",
    "\n",
    "# Function to compute similarity matrix\n",
    "def compute_similarity_matrix(distances, sigma):\n",
    "    similarities = np.exp(-distances**2 / (2 * sigma**2))\n",
    "    np.fill_diagonal(similarities, 0)  # Diagonal elements are set to 0\n",
    "    return similarities\n",
    "\n",
    "# Function to compute perplexity\n",
    "def compute_perplexity(P):\n",
    "    epsilon = 1e-12  # Small epsilon value to avoid numerical issues\n",
    "    P = np.maximum(P, epsilon)  # Replace zero values with epsilon\n",
    "    entropy = -np.sum(P * np.log2(P))\n",
    "    perplexity = 2 ** entropy\n",
    "    return perplexity\n",
    "\n",
    "# Combine the descriptions into a single string per product for TF-IDF\n",
    "descriptions = [desc.split(\" with features: \")[0] for desc in mock_retail_product_descriptions]\n",
    "\n",
    "# Use TF-IDF to simulate embeddings\n",
    "vectorizer = TfidfVectorizer(max_features=100)\n",
    "tfidf_embeddings = vectorizer.fit_transform(descriptions).toarray()\n",
    "\n",
    "# Adjust perplexity to be less than the number of samples\n",
    "n_samples = tfidf_embeddings.shape[0]\n",
    "perplexity_value = min(30, n_samples - 1)  # Ensure perplexity is less than n_samples\n",
    "\n",
    "# Perform t-SNE embedding\n",
    "tsne = TSNE(n_components=2, perplexity=perplexity_value, random_state=42)\n",
    "tsne_results = tsne.fit_transform(tfidf_embeddings)\n",
    "\n",
    "# Compute pairwise distances\n",
    "pairwise_distances = compute_pairwise_distances(tsne_results)\n",
    "\n",
    "# Compute similarity matrix\n",
    "sigma = 1.0  # Adjust sigma according to your data\n",
    "similarity_matrix = compute_similarity_matrix(pairwise_distances, sigma)\n",
    "\n",
    "# Compute perplexity\n",
    "perplexity = compute_perplexity(similarity_matrix)\n",
    "\n",
    "# Create a DataFrame to summarize the computed values and provide analysis\n",
    "data = {\n",
    "    \"Metric\": [\"Pairwise Distances\", \"Similarity Matrix\", \"Perplexity\"],\n",
    "    \"Value\": [pairwise_distances, similarity_matrix, perplexity],\n",
    "    \"Analysis\": [\n",
    "        \"Pairwise distances between points in the t-SNE embedding space. High values indicate more dissimilar points.\",\n",
    "        \"Measure of similarity between data points in the embedding space. High values indicate high similarity.\",\n",
    "        \"A measure of how well the probability distribution predicts a sample. Higher values indicate a smoother embedding.\"\n",
    "    ]\n",
    "}\n",
    "\n",
    "# Create a DataFrame\n",
    "df = pd.DataFrame(data)\n",
    "\n",
    "# Set option to display complete DataFrame content\n",
    "pd.set_option('display.max_colwidth', None)\n",
    "\n",
    "# Print the DataFrame\n",
    "display(df)\n"
   ],
   "metadata": {
    "collapsed": false,
    "ExecuteTime": {
     "end_time": "2024-02-20T09:36:01.022732Z",
     "start_time": "2024-02-20T09:36:00.903032Z"
    }
   },
   "id": "784dc1fb79319453",
   "execution_count": 32
  },
  {
   "cell_type": "code",
   "outputs": [
    {
     "data": {
      "text/plain": "['Describe Nike Air Zoom Pegasus, a product featuring lightweight, comfortable, waterproof that is to say, it is designed to pilate on a lightweight, air conditioned shoe or Air Tote with a unique design that makes it possible for you to use it in a variety of Category: Shoes.',\n 'Describe Nike Air Max 270, a product featuring waterproof, durable, lightweight Nike Air Max 270 Superb construction with soft touch construction A strong and durable design with an eye catching feel with a clear finish. In our view, Category: Shoes.',\n \"Describe Nike Revolution 5, a product featuring durable, lightweight, waterproof Dive in now to Nike's world class technology. With new, premium quality fabric this waterproof case fits through a variety of layers like cotton or nylon. The new technology is the first time that this waterproof Category: Accessories.\",\n 'Describe Nike Dri FIT Tee, a product featuring comfortable, lightweight, waterproof We use the Nike Dri FIT logo to distinguish ourselves as a company and as a brand. We use this logo to celebrate our own creative success and the quality of our products. Describe An Category: Apparel.',\n 'Describe Nike Sportswear Club Fleece, a product featuring stylish, lightweight, comfortable Category: Apparel.',\n \"Describe Nike Pro Tights, a product featuring lightweight, durable, comfortable Nike's Pebble Boost sneakers feature a soft touch leather upper. The Nike Pro's three high tech stretch to conceal HWT technology allows the wearer to Category: Shoes.\",\n 'Describe Nike Lightweight Arm Band, a product featuring comfortable, lightweight, waterproof The Nike Lightweight Arm Band was built to reduce the impact of wind injuries, prevent skin reactions and enhance athletic performance. Developed for high performance sports, this durable and lightweight model enables athletic users Category: Accessories.',\n 'Describe Nike Swoosh Headband, a product featuring durable, stylish, lightweight Neck 7 8 Width 6 8 Fabric Rubber Comes in a sleek black suede color with a bright silver trim H Category: Accessories.',\n \"Describe Nike Brasilia Training Backpack, a product featuring stylish, waterproof, lightweight Nike Brasilia Training Backpack will have you wet, fast, and ready for any of these unique workouts you've been wanting to try. And, in a way, this is the perfect fit for all those Category: Apparel.\",\n \"Describe Nike Utility Speed Backpack, a product featuring durable, stylish, comfortable what's new with the Nike Utility Speed Backpack A look at what the Nike Utility Speed Backpack will look like When you are planning on purchasing a new fitness center, whether you're running with Category: Apparel.\",\n 'Describe Nike Hyperfuel Water Bottle, a product featuring waterproof, durable, lightweight a special blend of water and fuel. An innovative innovation in all things water bottles. Maui Category: Accessories.',\n 'Describe Nike Yoga Mat, a product featuring waterproof, lightweight, stylish Nike has launched a new online store to offer users an opportunity to get involved with a variety of Nike retailers. The store, www.newnike.com mart shop, contains a selection of limited Category: General Merchandise.']"
     },
     "metadata": {},
     "output_type": "display_data"
    }
   ],
   "source": [
    "display(mock_retail_product_descriptions)"
   ],
   "metadata": {
    "collapsed": false,
    "ExecuteTime": {
     "end_time": "2024-02-20T09:36:05.951316Z",
     "start_time": "2024-02-20T09:36:05.946371Z"
    }
   },
   "id": "c7459af3d14c02f2",
   "execution_count": 33
  },
  {
   "cell_type": "code",
   "outputs": [
    {
     "data": {
      "text/plain": "<Figure size 1000x600 with 1 Axes>",
      "image/png": "[encoded data removed]"
     },
     "metadata": {},
     "output_type": "display_data"
    }
   ],
   "source": [
    "import numpy as np\n",
    "import re\n",
    "from sklearn.feature_extraction.text import TfidfVectorizer\n",
    "from sklearn.manifold import TSNE\n",
    "import seaborn as sns\n",
    "import matplotlib.pyplot as plt\n",
    "from transformers import pipeline\n",
    "\n",
    "# Assuming mock_retail_product_descriptions is already defined in your session\n",
    "\n",
    "# Initialize the zero-shot classification model (if needed for other tasks)\n",
    "classifier = pipeline(\"zero-shot-classification\", model=\"facebook/bart-large-mnli\")\n",
    "\n",
    "def clean_description(description):\n",
    "    clean_text = re.sub(r'<[^>]+>', '', description)\n",
    "    clean_text = re.sub(r'http[s]?://\\S+', '', clean_text)\n",
    "    clean_text = re.sub(r'[^A-Za-z0-9.,\\'\\s]+', ' ', clean_text)\n",
    "    clean_text = re.sub(r'\\[.*?\\]', '', clean_text)\n",
    "    clean_text = re.sub(r'\\s+', ' ', clean_text).strip()\n",
    "    return clean_text\n",
    "\n",
    "# Extract categories from descriptions and clean the text for TF-IDF\n",
    "categories = [desc.split(\" Category: \")[-1] for desc in mock_retail_product_descriptions]\n",
    "cleaned_descriptions = [clean_description(desc.split(\" Category: \")[0]) for desc in mock_retail_product_descriptions]\n",
    "\n",
    "# Use TF-IDF to simulate embeddings\n",
    "vectorizer = TfidfVectorizer(max_features=100)\n",
    "tfidf_embeddings = vectorizer.fit_transform(cleaned_descriptions).toarray()\n",
    "\n",
    "# Make sure perplexity is less than the number of samples\n",
    "n_samples = len(cleaned_descriptions)\n",
    "perplexity_value = min(30, max(5, n_samples - 1))  # Adjusted perplexity value\n",
    "\n",
    "# Perform t-SNE embedding\n",
    "tsne = TSNE(n_components=2, perplexity=perplexity_value, random_state=42)\n",
    "tsne_results = tsne.fit_transform(tfidf_embeddings)\n",
    "\n",
    "# Plot t-SNE results\n",
    "plt.figure(figsize=(10, 6))\n",
    "palette = sns.color_palette(\"hsv\", len(set(categories)))\n",
    "sns.scatterplot(x=tsne_results[:,0], y=tsne_results[:,1], hue=categories, palette=palette)\n",
    "plt.title('t-SNE Visualization of Nike Product Descriptions')\n",
    "plt.xlabel('t-SNE Dimension 1')\n",
    "plt.ylabel('t-SNE Dimension 2')\n",
    "plt.legend(title='Category', bbox_to_anchor=(1.05, 1), loc='upper left')\n",
    "plt.tight_layout()\n",
    "plt.show()\n"
   ],
   "metadata": {
    "collapsed": false,
    "ExecuteTime": {
     "end_time": "2024-02-20T09:48:36.309567Z",
     "start_time": "2024-02-20T09:48:33.869094Z"
    }
   },
   "id": "aeefac8fb9e9d4ce",
   "execution_count": 38
  },
  {
   "cell_type": "markdown",
   "source": [
    "## Collaborative Query Handling: A Detailed Overview\n",
    "\n",
    "### Introduction to Query Processing\n",
    "\n",
    "The core of collaborative query handling involves interpreting user inputs (queries) and transforming them into actionable search intents. This process is critical in retail environments where queries can be vague or highly specific.\n",
    "\n",
    "### Query Rewriting and Classification\n",
    "\n",
    "1. **Zero-shot Classification**: This method leverages pre-trained models for categorizing text without explicit examples for each category. The mathematical foundation relies on the model's ability to understand the semantic similarity between the input query and predefined categories. Given a query \\(q\\), and a set of candidate categories \\(C = \\{c_1, c_2, \\ldots, c_n\\}\\), the model assigns probabilities \\(P(c|q)\\) for each category, selecting the category with the highest probability as the query's classification.\n",
    "\n",
    "   $$\\text{Predicted Category} = \\underset{c \\in C}{\\mathrm{argmax}}\\ P(c|q)$$\n",
    "\n",
    "2. **Query Rewriting with Generative Models**: The objective is to refine or expand the user's original query to better match retail products or services. Using a model like GPT-2, the rewritten query \\(q'\\) is generated by maximizing the likelihood of the rewritten query given the original query \\(q\\), formalized as:\n",
    "\n",
    "   $$q' = \\underset{q'}{\\mathrm{argmax}}\\ P(q'|q)$$\n",
    "\n",
    "### Vector Representation of Queries and Products\n",
    "\n",
    "For matching queries to products, converting text to vectors allows for computational handling. The transformation \\(f: \\text{text} \\rightarrow \\mathbb{R}^d\\) maps product descriptions and queries into a \\(d\\)-dimensional vector space, facilitating similarity comparisons.\n",
    "\n",
    "### Efficient Similarity Search\n",
    "\n",
    "Using techniques like Approximate Nearest Neighbor (ANN) search, we can efficiently find products similar to a query vector. Given a query vector \\(q_v\\), the goal is to find product vectors \\(p_v\\) that are closest to \\(q_v\\) based on a distance metric \\(D(q_v, p_v)\\). Annoy is a popular library for this purpose, employing trees to facilitate fast and approximate searches.\n",
    "\n",
    "### Mathematical Foundation of ANN\n",
    "\n",
    "ANN leverages tree structures to partition the vector space, allowing for faster queries than exhaustive search. The efficiency comes from limiting the search space to regions of the vector space likely to contain the nearest neighbors. For a given query vector \\(q_v\\), Annoy builds a set of binary trees where each node represents a hyperplane that splits the space into two. The search algorithm traverses these trees, prioritizing paths that lead to closer matches based on the chosen distance metric, typically Euclidean (\\(L_2\\)) or Angular distance.\n",
    "\n",
    "### Collaborative Filtering and Machine Learning\n",
    "\n",
    "In a retail environment, collaborative filtering can be used alongside these techniques to recommend products based on the preferences of similar users. This involves matrix factorization techniques or neural networks to predict user preferences for products they haven't interacted with, based on the observed interactions of a larger user base.\n",
    "\n",
    "Collaborative Query Handling in a retail environment involves sophisticated techniques from natural language processing, machine learning, and information retrieval. By leveraging the capabilities of LLMs for query rewriting and classification, vector space models for product matching, and ANN for efficient similarity search, retailers can significantly enhance the relevance and personalization of product recommendations, leading to improved customer satisfaction and engagement.\n"
   ],
   "metadata": {
    "collapsed": false
   },
   "id": "a3178880ebf1a09f"
  },
  {
   "cell_type": "markdown",
   "source": [
    "### Integrating Zero-Shot Classification for Product Matching\n",
    "\n",
    "This section of the notebook demonstrates how to leverage the `transformers` library to classify user queries into product categories using a zero-shot classification approach and match these queries with relevant products based on their descriptions.\n",
    "\n",
    "### Code Explanation\n",
    "- Initialization: We start by initializing the zero-shot classification pipeline using the facebook/bart-large-mnli model from the Hugging Face transformers library. This model is well-suited for tasks requiring understanding of natural language text.\n",
    "\n",
    "- Product Descriptions Parsing: The product descriptions are parsed to extract categories explicitly mentioned at the end of each description. This information is restructured into a list of dictionaries, each containing the product description and its category.\n",
    "\n",
    "- User Queries Classification: User queries are classified into the extracted categories using the zero-shot classification model. This step assigns the most probable category to each query based on the model's understanding of the query and the description of product categories.\n",
    "\n",
    "- Matching Queries with Products: Based on the predicted categories, user queries are matched with products that fall into the same category. This allows for a dynamic and context-aware recommendation of products corresponding to user interests.\n"
   ],
   "metadata": {
    "collapsed": false
   },
   "id": "e456265f1ef05e97"
  },
  {
   "cell_type": "code",
   "outputs": [
    {
     "data": {
      "text/plain": "   user_id                                  query predicted_category  \\\n0        1           sustainable outdoor clothing            Apparel   \n1        2  eco-friendly water bottles for hiking        Accessories   \n2        3                   durable hiking boots              Shoes   \n\n                                                                                                                                                                                                                                                                                                                                                                                                                                                                                                                                                                                                                                                                                                                                                                                                                                                                                                                                                                                                                                                                                                                                                                                                                                                                                                 matched_products  \n0                                                                                                 [{'description': 'Describe Nike Dri FIT Tee, a product featuring comfortable, lightweight, waterproof We use the Nike Dri FIT logo to distinguish ourselves as a company and as a brand. We use this logo to celebrate our own creative success and the quality of our products. Describe An Category: Apparel.', 'category': 'Apparel'}, {'description': 'Describe Nike Sportswear Club Fleece, a product featuring stylish, lightweight, comfortable Category: Apparel.', 'category': 'Apparel'}, {'description': 'Describe Nike Brasilia Training Backpack, a product featuring stylish, waterproof, lightweight Nike Brasilia Training Backpack will have you wet, fast, and ready for any of these unique workouts you've been wanting to try. And, in a way, this is the perfect fit for all those Category: Apparel.', 'category': 'Apparel'}, {'description': 'Describe Nike Utility Speed Backpack, a product featuring durable, stylish, comfortable what's new with the Nike Utility Speed Backpack A look at what the Nike Utility Speed Backpack will look like When you are planning on purchasing a new fitness center, whether you're running with Category: Apparel.', 'category': 'Apparel'}]  \n1  [{'description': 'Describe Nike Revolution 5, a product featuring durable, lightweight, waterproof Dive in now to Nike's world class technology. With new, premium quality fabric this waterproof case fits through a variety of layers like cotton or nylon. The new technology is the first time that this waterproof Category: Accessories.', 'category': 'Accessories'}, {'description': 'Describe Nike Lightweight Arm Band, a product featuring comfortable, lightweight, waterproof The Nike Lightweight Arm Band was built to reduce the impact of wind injuries, prevent skin reactions and enhance athletic performance. Developed for high performance sports, this durable and lightweight model enables athletic users Category: Accessories.', 'category': 'Accessories'}, {'description': 'Describe Nike Swoosh Headband, a product featuring durable, stylish, lightweight Neck 7 8 Width 6 8 Fabric Rubber Comes in a sleek black suede color with a bright silver trim H Category: Accessories.', 'category': 'Accessories'}, {'description': 'Describe Nike Hyperfuel Water Bottle, a product featuring waterproof, durable, lightweight a special blend of water and fuel. An innovative innovation in all things water bottles. Maui Category: Accessories.', 'category': 'Accessories'}]  \n2                                                                                                                                                                                                                                                                                                                                                                              [{'description': 'Describe Nike Air Zoom Pegasus, a product featuring lightweight, comfortable, waterproof that is to say, it is designed to pilate on a lightweight, air conditioned shoe or Air Tote with a unique design that makes it possible for you to use it in a variety of Category: Shoes.', 'category': 'Shoes'}, {'description': 'Describe Nike Air Max 270, a product featuring waterproof, durable, lightweight Nike Air Max 270 Superb construction with soft touch construction A strong and durable design with an eye catching feel with a clear finish. In our view, Category: Shoes.', 'category': 'Shoes'}, {'description': 'Describe Nike Pro Tights, a product featuring lightweight, durable, comfortable Nike's Pebble Boost sneakers feature a soft touch leather upper. The Nike Pro's three high tech stretch to conceal HWT technology allows the wearer to Category: Shoes.', 'category': 'Shoes'}]  ",
      "text/html": "<div>\n<style scoped>\n    .dataframe tbody tr th:only-of-type {\n        vertical-align: middle;\n    }\n\n    .dataframe tbody tr th {\n        vertical-align: top;\n    }\n\n    .dataframe thead th {\n        text-align: right;\n    }\n</style>\n<table border=\"1\" class=\"dataframe\">\n  <thead>\n    <tr style=\"text-align: right;\">\n      <th></th>\n      <th>user_id</th>\n      <th>query</th>\n      <th>predicted_category</th>\n      <th>matched_products</th>\n    </tr>\n  </thead>\n  <tbody>\n    <tr>\n      <th>0</th>\n      <td>1</td>\n      <td>sustainable outdoor clothing</td>\n      <td>Apparel</td>\n      <td>[{'description': 'Describe Nike Dri FIT Tee, a product featuring comfortable, lightweight, waterproof We use the Nike Dri FIT logo to distinguish ourselves as a company and as a brand. We use this logo to celebrate our own creative success and the quality of our products. Describe An Category: Apparel.', 'category': 'Apparel'}, {'description': 'Describe Nike Sportswear Club Fleece, a product featuring stylish, lightweight, comfortable Category: Apparel.', 'category': 'Apparel'}, {'description': 'Describe Nike Brasilia Training Backpack, a product featuring stylish, waterproof, lightweight Nike Brasilia Training Backpack will have you wet, fast, and ready for any of these unique workouts you've been wanting to try. And, in a way, this is the perfect fit for all those Category: Apparel.', 'category': 'Apparel'}, {'description': 'Describe Nike Utility Speed Backpack, a product featuring durable, stylish, comfortable what's new with the Nike Utility Speed Backpack A look at what the Nike Utility Speed Backpack will look like When you are planning on purchasing a new fitness center, whether you're running with Category: Apparel.', 'category': 'Apparel'}]</td>\n    </tr>\n    <tr>\n      <th>1</th>\n      <td>2</td>\n      <td>eco-friendly water bottles for hiking</td>\n      <td>Accessories</td>\n      <td>[{'description': 'Describe Nike Revolution 5, a product featuring durable, lightweight, waterproof Dive in now to Nike's world class technology. With new, premium quality fabric this waterproof case fits through a variety of layers like cotton or nylon. The new technology is the first time that this waterproof Category: Accessories.', 'category': 'Accessories'}, {'description': 'Describe Nike Lightweight Arm Band, a product featuring comfortable, lightweight, waterproof The Nike Lightweight Arm Band was built to reduce the impact of wind injuries, prevent skin reactions and enhance athletic performance. Developed for high performance sports, this durable and lightweight model enables athletic users Category: Accessories.', 'category': 'Accessories'}, {'description': 'Describe Nike Swoosh Headband, a product featuring durable, stylish, lightweight Neck 7 8 Width 6 8 Fabric Rubber Comes in a sleek black suede color with a bright silver trim H Category: Accessories.', 'category': 'Accessories'}, {'description': 'Describe Nike Hyperfuel Water Bottle, a product featuring waterproof, durable, lightweight a special blend of water and fuel. An innovative innovation in all things water bottles. Maui Category: Accessories.', 'category': 'Accessories'}]</td>\n    </tr>\n    <tr>\n      <th>2</th>\n      <td>3</td>\n      <td>durable hiking boots</td>\n      <td>Shoes</td>\n      <td>[{'description': 'Describe Nike Air Zoom Pegasus, a product featuring lightweight, comfortable, waterproof that is to say, it is designed to pilate on a lightweight, air conditioned shoe or Air Tote with a unique design that makes it possible for you to use it in a variety of Category: Shoes.', 'category': 'Shoes'}, {'description': 'Describe Nike Air Max 270, a product featuring waterproof, durable, lightweight Nike Air Max 270 Superb construction with soft touch construction A strong and durable design with an eye catching feel with a clear finish. In our view, Category: Shoes.', 'category': 'Shoes'}, {'description': 'Describe Nike Pro Tights, a product featuring lightweight, durable, comfortable Nike's Pebble Boost sneakers feature a soft touch leather upper. The Nike Pro's three high tech stretch to conceal HWT technology allows the wearer to Category: Shoes.', 'category': 'Shoes'}]</td>\n    </tr>\n  </tbody>\n</table>\n</div>"
     },
     "metadata": {},
     "output_type": "display_data"
    }
   ],
   "source": [
    "from transformers import pipeline\n",
    "import pandas as pd\n",
    "import re\n",
    "\n",
    "# Initialize the zero-shot classification pipeline with a suitable model\n",
    "classifier = pipeline(\"zero-shot-classification\", model=\"facebook/bart-large-mnli\")\n",
    "\n",
    "\n",
    "# Extract category and reformulate mock_retail_product_descriptions as a list of dictionaries\n",
    "product_list = []\n",
    "for desc in mock_retail_product_descriptions:\n",
    "    match = re.search(r\"Category: (\\w+)\", desc)\n",
    "    category = match.group(1) if match else \"Unknown\"\n",
    "    product_list.append({\"description\": desc, \"category\": category})\n",
    "\n",
    "# Define user queries\n",
    "user_queries = [\n",
    "    {\"user_id\": 1, \"query\": \"sustainable outdoor clothing\"},\n",
    "    {\"user_id\": 2, \"query\": \"eco-friendly water bottles for hiking\"},\n",
    "    {\"user_id\": 3, \"query\": \"durable hiking boots\"}\n",
    "]\n",
    "\n",
    "# Extract unique categories from the product list for classification\n",
    "unique_categories = list(set([product[\"category\"] for product in product_list]))\n",
    "\n",
    "# Classify each query and add the predicted category to the query dictionary\n",
    "for query in user_queries:\n",
    "    classification = classifier(query[\"query\"], unique_categories, multi_label=False)\n",
    "    query[\"predicted_category\"] = classification[\"labels\"][0]\n",
    "\n",
    "# Match queries to products\n",
    "for query in user_queries:\n",
    "    matched_products = [product for product in product_list if product[\"category\"] == query[\"predicted_category\"]]\n",
    "    query[\"matched_products\"] = matched_products\n",
    "\n",
    "# Convert the enriched user queries into a pandas DataFrame for display\n",
    "df_queries = pd.DataFrame(user_queries)\n",
    "\n",
    "display(df_queries)\n"
   ],
   "metadata": {
    "collapsed": false,
    "ExecuteTime": {
     "end_time": "2024-02-20T09:59:45.979924Z",
     "start_time": "2024-02-20T09:59:41.112946Z"
    }
   },
   "id": "47ae90b4a353096c",
   "execution_count": 40
  },
  {
   "cell_type": "markdown",
   "source": [
    "## Query Processing and Clarification - Enhancing Retail Product Matching with AI\n",
    "\n",
    "In this section, we explore a comprehensive approach to refining retail product searches using advanced AI techniques. Our methodology involves three primary steps:\n",
    "\n",
    "1. **Query Rewriting**: We begin by enhancing user queries for clarity and precision. This step leverages the `distilgpt2` model, known for its effectiveness in generating coherent, contextually enriched text. By rewriting queries, we aim to capture the user's intent more accurately, facilitating a more refined search process.\n",
    "\n",
    "2. **Category Classification**: Once rewritten, queries undergo classification using the zero-shot learning capabilities of the `facebook/bart-large-mnli` model. This step is crucial for understanding the category of products the user is interested in, without requiring explicit prior training on our specific dataset.\n",
    "\n",
    "3. **Product Matching**: With the query categorized, we proceed to match it against our curated product descriptions. This involves filtering products that fall into the predicted category and presenting them in an organized manner. \n",
    "\n",
    "The outcome of this process is displayed using `pandas`, ensuring that the results are not only accurate but also visually appealing. This approach not only streamlines the search experience but also significantly enhances the relevance of product matches, directly contributing to a more satisfying user experience.\n",
    "\n",
    "This documentation outlines the strategy and execution of improving retail search mechanisms through AI, embodying the intersection of natural language processing and user-centric design."
   ],
   "metadata": {
    "collapsed": false
   },
   "id": "5e24ace820461724"
  },
  {
   "cell_type": "code",
   "outputs": [
    {
     "name": "stderr",
     "output_type": "stream",
     "text": [
      "Truncation was not explicitly activated but `max_length` is provided a specific value, please use `truncation=True` to explicitly truncate examples to max length. Defaulting to 'longest_first' truncation strategy. If you encode pairs of sequences (GLUE-style) with the tokenizer you can select this strategy more precisely by providing a specific strategy to `truncation`.\n",
      "Setting `pad_token_id` to `eos_token_id`:50256 for open-end generation.\n"
     ]
    },
    {
     "name": "stdout",
     "output_type": "stream",
     "text": [
      "Original Query: best running shoes\n",
      "Rewritten Query: best running shoes? What is your preferred style for your workout?\n",
      "Predicted Category: Shoes\n"
     ]
    },
    {
     "data": {
      "text/plain": "                                                                                                                                                                                                                                                                           description  \\\n0  Describe Nike Air Zoom Pegasus, a product featuring lightweight, comfortable, waterproof that is to say, it is designed to pilate on a lightweight, air conditioned shoe or Air Tote with a unique design that makes it possible for you to use it in a variety of Category: Shoes.   \n1                           Describe Nike Air Max 270, a product featuring waterproof, durable, lightweight Nike Air Max 270 Superb construction with soft touch construction A strong and durable design with an eye catching feel with a clear finish. In our view, Category: Shoes.   \n2                              Describe Nike Pro Tights, a product featuring lightweight, durable, comfortable Nike's Pebble Boost sneakers feature a soft touch leather upper. The Nike Pro's three high tech stretch to conceal HWT technology allows the wearer to Category: Shoes.   \n\n  category  \n0    Shoes  \n1    Shoes  \n2    Shoes  ",
      "text/html": "<div>\n<style scoped>\n    .dataframe tbody tr th:only-of-type {\n        vertical-align: middle;\n    }\n\n    .dataframe tbody tr th {\n        vertical-align: top;\n    }\n\n    .dataframe thead th {\n        text-align: right;\n    }\n</style>\n<table border=\"1\" class=\"dataframe\">\n  <thead>\n    <tr style=\"text-align: right;\">\n      <th></th>\n      <th>description</th>\n      <th>category</th>\n    </tr>\n  </thead>\n  <tbody>\n    <tr>\n      <th>0</th>\n      <td>Describe Nike Air Zoom Pegasus, a product featuring lightweight, comfortable, waterproof that is to say, it is designed to pilate on a lightweight, air conditioned shoe or Air Tote with a unique design that makes it possible for you to use it in a variety of Category: Shoes.</td>\n      <td>Shoes</td>\n    </tr>\n    <tr>\n      <th>1</th>\n      <td>Describe Nike Air Max 270, a product featuring waterproof, durable, lightweight Nike Air Max 270 Superb construction with soft touch construction A strong and durable design with an eye catching feel with a clear finish. In our view, Category: Shoes.</td>\n      <td>Shoes</td>\n    </tr>\n    <tr>\n      <th>2</th>\n      <td>Describe Nike Pro Tights, a product featuring lightweight, durable, comfortable Nike's Pebble Boost sneakers feature a soft touch leather upper. The Nike Pro's three high tech stretch to conceal HWT technology allows the wearer to Category: Shoes.</td>\n      <td>Shoes</td>\n    </tr>\n  </tbody>\n</table>\n</div>"
     },
     "metadata": {},
     "output_type": "display_data"
    }
   ],
   "source": [
    "from transformers import pipeline\n",
    "import pandas as pd\n",
    "import re\n",
    "\n",
    "# Function to rewrite a query using a text-generation model\n",
    "def rewrite_query(query):\n",
    "    generator = pipeline('text-generation', model='distilgpt2')\n",
    "    results = generator(query, max_length=60, num_return_sequences=1)\n",
    "    rewritten = results[0]['generated_text'].strip()\n",
    "    return rewritten\n",
    "\n",
    "\n",
    "# Parsing categories from the product descriptions\n",
    "def parse_categories(product_descriptions):\n",
    "    categories = []\n",
    "    for description in product_descriptions:\n",
    "        match = re.search(r\"Category: (\\w+)\", description)\n",
    "        if match:\n",
    "            category = match.group(1)\n",
    "            categories.append({\"description\": description, \"category\": category})\n",
    "    return categories\n",
    "\n",
    "parsed_product_descriptions = parse_categories(mock_retail_product_descriptions)\n",
    "\n",
    "# Function to classify a query and match products\n",
    "def classify_and_match_products(query, product_descriptions):\n",
    "    classifier = pipeline(\"zero-shot-classification\", model=\"facebook/bart-large-mnli\")\n",
    "    categories = list(set([product[\"category\"] for product in product_descriptions]))\n",
    "    classification = classifier(query, categories, multi_label=False)\n",
    "    predicted_category = classification[\"labels\"][0]\n",
    "    matched_products = [product for product in product_descriptions if product[\"category\"] == predicted_category]\n",
    "    df_matched_products = pd.DataFrame(matched_products)\n",
    "    return predicted_category, df_matched_products\n",
    "\n",
    "# Example usage\n",
    "original_query = \"best running shoes\"\n",
    "rewritten_query = rewrite_query(original_query)\n",
    "predicted_category, df_matched_products = classify_and_match_products(rewritten_query, parsed_product_descriptions)\n",
    "\n",
    "# Display results\n",
    "print(f\"Original Query: {original_query}\")\n",
    "print(f\"Rewritten Query: {rewritten_query}\")\n",
    "print(f\"Predicted Category: {predicted_category}\")\n",
    "display(df_matched_products)\n"
   ],
   "metadata": {
    "collapsed": false,
    "ExecuteTime": {
     "end_time": "2024-02-20T10:11:05.662817Z",
     "start_time": "2024-02-20T10:11:00.112821Z"
    }
   },
   "id": "d1f5bd4a899a7945",
   "execution_count": 44
  },
  {
   "cell_type": "code",
   "outputs": [
    {
     "name": "stderr",
     "output_type": "stream",
     "text": [
      "Truncation was not explicitly activated but `max_length` is provided a specific value, please use `truncation=True` to explicitly truncate examples to max length. Defaulting to 'longest_first' truncation strategy. If you encode pairs of sequences (GLUE-style) with the tokenizer you can select this strategy more precisely by providing a specific strategy to `truncation`.\n",
      "Setting `pad_token_id` to `eos_token_id`:50256 for open-end generation.\n"
     ]
    },
    {
     "data": {
      "text/plain": "<IPython.core.display.HTML object>",
      "text/html": "<div style=\"text-align: center; color: black;\"><img src=\"https://upload.wikimedia.org/wikipedia/commons/a/a6/Logo_NIKE.svg\" alt=\"Nike Logo\" style=\"width: 200px; height: auto;\"></div>"
     },
     "metadata": {},
     "output_type": "display_data"
    },
    {
     "data": {
      "text/plain": "<IPython.core.display.HTML object>",
      "text/html": "<div style=\"padding: 10px; background-color: #f0f0f0; border-radius: 5px; color: black;\"><h3>Original Query:</h3><p>best running shoes</p></div>"
     },
     "metadata": {},
     "output_type": "display_data"
    },
    {
     "data": {
      "text/plain": "<IPython.core.display.HTML object>",
      "text/html": "<div style=\"padding: 10px; background-color: #f0f0f0; border-radius: 5px; color: black;\"><h3>Rewritten Query:</h3><p>best running shoes.\n\n\nThe full details will be published in this issue of The Washington Post on Friday.</p></div>"
     },
     "metadata": {},
     "output_type": "display_data"
    },
    {
     "data": {
      "text/plain": "<IPython.core.display.HTML object>",
      "text/html": "<div style=\"padding: 10px; background-color: #f0f0f0; border-radius: 5px; color: black;\"><h3>Predicted Category:</h3><p>Shoes</p></div>"
     },
     "metadata": {},
     "output_type": "display_data"
    },
    {
     "data": {
      "text/plain": "<IPython.core.display.HTML object>",
      "text/html": "<div style=\"padding: 10px; background-color: #f0f0f0; border-radius: 5px; color: black;\"><h3>Matched Descriptions:</h3><p>Describe Nike Air Zoom Pegasus, a product featuring lightweight, comfortable, waterproof that is to say, it is designed to pilate on a lightweight, air conditioned shoe or Air Tote with a unique design that makes it possible for you to use it in a variety of Category: Shoes.<br>Describe Nike Air Max 270, a product featuring waterproof, durable, lightweight Nike Air Max 270 Superb construction with soft touch construction A strong and durable design with an eye catching feel with a clear finish. In our view, Category: Shoes.<br>Describe Nike Pro Tights, a product featuring lightweight, durable, comfortable Nike's Pebble Boost sneakers feature a soft touch leather upper. The Nike Pro's three high tech stretch to conceal HWT technology allows the wearer to Category: Shoes.</p></div>"
     },
     "metadata": {},
     "output_type": "display_data"
    },
    {
     "data": {
      "text/plain": "<pandas.io.formats.style.Styler at 0x175467a90>",
      "text/html": "<style type=\"text/css\">\n#T_b52ef th {\n  background-color: #f0f0f0;\n}\n</style>\n<table id=\"T_b52ef\">\n  <thead>\n    <tr>\n      <th class=\"blank level0\" >&nbsp;</th>\n      <th id=\"T_b52ef_level0_col0\" class=\"col_heading level0 col0\" >description</th>\n      <th id=\"T_b52ef_level0_col1\" class=\"col_heading level0 col1\" >category</th>\n    </tr>\n  </thead>\n  <tbody>\n    <tr>\n      <th id=\"T_b52ef_level0_row0\" class=\"row_heading level0 row0\" >0</th>\n      <td id=\"T_b52ef_row0_col0\" class=\"data row0 col0\" >Describe Nike Air Zoom Pegasus, a product featuring lightweight, comfortable, waterproof that is to say, it is designed to pilate on a lightweight, air conditioned shoe or Air Tote with a unique design that makes it possible for you to use it in a variety of Category: Shoes.</td>\n      <td id=\"T_b52ef_row0_col1\" class=\"data row0 col1\" >Shoes</td>\n    </tr>\n    <tr>\n      <th id=\"T_b52ef_level0_row1\" class=\"row_heading level0 row1\" >1</th>\n      <td id=\"T_b52ef_row1_col0\" class=\"data row1 col0\" >Describe Nike Air Max 270, a product featuring waterproof, durable, lightweight Nike Air Max 270 Superb construction with soft touch construction A strong and durable design with an eye catching feel with a clear finish. In our view, Category: Shoes.</td>\n      <td id=\"T_b52ef_row1_col1\" class=\"data row1 col1\" >Shoes</td>\n    </tr>\n    <tr>\n      <th id=\"T_b52ef_level0_row2\" class=\"row_heading level0 row2\" >2</th>\n      <td id=\"T_b52ef_row2_col0\" class=\"data row2 col0\" >Describe Nike Pro Tights, a product featuring lightweight, durable, comfortable Nike's Pebble Boost sneakers feature a soft touch leather upper. The Nike Pro's three high tech stretch to conceal HWT technology allows the wearer to Category: Shoes.</td>\n      <td id=\"T_b52ef_row2_col1\" class=\"data row2 col1\" >Shoes</td>\n    </tr>\n  </tbody>\n</table>\n"
     },
     "metadata": {},
     "output_type": "display_data"
    }
   ],
   "source": [
    "from transformers import pipeline\n",
    "import pandas as pd\n",
    "import re\n",
    "\n",
    "# Function to rewrite a query using a text-generation model\n",
    "def rewrite_query(query):\n",
    "    generator = pipeline('text-generation', model='distilgpt2')\n",
    "    results = generator(query, max_length=60, num_return_sequences=1)\n",
    "    rewritten = results[0]['generated_text'].strip()\n",
    "    return rewritten\n",
    "\n",
    "# Parsing categories from the product descriptions\n",
    "def parse_categories(product_descriptions):\n",
    "    categories = []\n",
    "    for description in product_descriptions:\n",
    "        match = re.search(r\"Category: (\\w+)\", description)\n",
    "        if match:\n",
    "            category = match.group(1)\n",
    "            categories.append({\"description\": description, \"category\": category})\n",
    "    return categories\n",
    "\n",
    "parsed_product_descriptions = parse_categories(mock_retail_product_descriptions)\n",
    "\n",
    "# Function to classify a query and match products\n",
    "def classify_and_match_products(query, product_descriptions):\n",
    "    classifier = pipeline(\"zero-shot-classification\", model=\"facebook/bart-large-mnli\")\n",
    "    categories = list(set([product[\"category\"] for product in product_descriptions]))\n",
    "    classification = classifier(query, categories, multi_label=False)\n",
    "    predicted_category = classification[\"labels\"][0]\n",
    "    matched_products = [product for product in product_descriptions if product[\"category\"] == predicted_category]\n",
    "    matched_descriptions = [product[\"description\"] for product in matched_products]  # Extracting only the descriptions\n",
    "    df_matched_products = pd.DataFrame(matched_products)\n",
    "    return predicted_category, df_matched_products, matched_descriptions\n",
    "\n",
    "# Example usage\n",
    "original_query = \"best running shoes\"\n",
    "rewritten_query = rewrite_query(original_query)\n",
    "predicted_category, df_matched_products, matched_descriptions = classify_and_match_products(rewritten_query, parsed_product_descriptions)\n",
    "\n",
    "# Display results with visually appealing HTML formatting\n",
    "from IPython.display import HTML\n",
    "image_url = 'https://upload.wikimedia.org/wikipedia/commons/a/a6/Logo_NIKE.svg'\n",
    "image_html = f'<div style=\"text-align: center; color: black;\"><img src=\"{image_url}\" alt=\"Nike Logo\" style=\"width: 200px; height: auto;\"></div>'\n",
    "query_html = f'<div style=\"padding: 10px; background-color: #f0f0f0; border-radius: 5px; color: black;\"><h3>Original Query:</h3><p>{original_query}</p></div>'\n",
    "rewritten_query_html = f'<div style=\"padding: 10px; background-color: #f0f0f0; border-radius: 5px; color: black;\"><h3>Rewritten Query:</h3><p>{rewritten_query}</p></div>'\n",
    "category_html = f'<div style=\"padding: 10px; background-color: #f0f0f0; border-radius: 5px; color: black;\"><h3>Predicted Category:</h3><p>{predicted_category}</p></div>'\n",
    "matched_descriptions_html = f'<div style=\"padding: 10px; background-color: #f0f0f0; border-radius: 5px; color: black;\"><h3>Matched Descriptions:</h3><p>{\"<br>\".join(matched_descriptions)}</p></div>'  # Join descriptions with line breaks\n",
    "\n",
    "\n",
    "# DataFrame styling for visually appealing display\n",
    "styled_matched_products = df_matched_products.style.set_table_styles([{'selector': 'th', 'props': [('background-color', '#f0f0f0')]}])\n",
    "\n",
    "display(HTML(image_html))\n",
    "display(HTML(query_html))\n",
    "display(HTML(rewritten_query_html))\n",
    "display(HTML(category_html))\n",
    "display(HTML(matched_descriptions_html))  # Display matched descriptions\n",
    "display(styled_matched_products)\n"
   ],
   "metadata": {
    "collapsed": false,
    "ExecuteTime": {
     "end_time": "2024-02-20T10:50:06.653117Z",
     "start_time": "2024-02-20T10:50:01.932040Z"
    }
   },
   "id": "46ae568a7a8bb39e",
   "execution_count": 69
  },
  {
   "cell_type": "markdown",
   "source": [
    "## Augmented Search Results Presentation\n",
    "\n",
    "Enhancing search results, as demonstrated in our approach, involves leveraging advanced algorithms and machine learning techniques to transform raw data into insightful, actionable information. By utilizing vector representation for product descriptions and implementing the Annoy Index for fast similarity searches, we're able to significantly refine the process of matching user queries with the most relevant products. This method not only improves the accuracy of search results but also enhances user experience by providing more meaningful, contextually relevant options. This strategy embodies the cutting-edge intersection of natural language processing and user-centric design, paving the way for a more intuitive and efficient search mechanism in digital retail environments."
   ],
   "metadata": {
    "collapsed": false
   },
   "id": "897a34b350434a46"
  },
  {
   "cell_type": "code",
   "outputs": [
    {
     "data": {
      "text/plain": "                                                                                                                                                                                                                                                                                                                                                     description  \\\n0                                                                            Describe Nike Air Zoom Pegasus, a product featuring lightweight, comfortable, waterproof that is to say, it is designed to pilate on a lightweight, air conditioned shoe or Air Tote with a unique design that makes it possible for you to use it in a variety of Category: Shoes.   \n1                                                                                                     Describe Nike Air Max 270, a product featuring waterproof, durable, lightweight Nike Air Max 270 Superb construction with soft touch construction A strong and durable design with an eye catching feel with a clear finish. In our view, Category: Shoes.   \n2                                   Describe Nike Revolution 5, a product featuring durable, lightweight, waterproof Dive in now to Nike's world class technology. With new, premium quality fabric this waterproof case fits through a variety of layers like cotton or nylon. The new technology is the first time that this waterproof Category: Accessories.   \n3                                                                  Describe Nike Dri FIT Tee, a product featuring comfortable, lightweight, waterproof We use the Nike Dri FIT logo to distinguish ourselves as a company and as a brand. We use this logo to celebrate our own creative success and the quality of our products. Describe An Category: Apparel.   \n4                                                                                                                                                                                                                                                 Describe Nike Sportswear Club Fleece, a product featuring stylish, lightweight, comfortable Category: Apparel.   \n5                                                                                                        Describe Nike Pro Tights, a product featuring lightweight, durable, comfortable Nike's Pebble Boost sneakers feature a soft touch leather upper. The Nike Pro's three high tech stretch to conceal HWT technology allows the wearer to Category: Shoes.   \n6   Describe Nike Lightweight Arm Band, a product featuring comfortable, lightweight, waterproof The Nike Lightweight Arm Band was built to reduce the impact of wind injuries, prevent skin reactions and enhance athletic performance. Developed for high performance sports, this durable and lightweight model enables athletic users Category: Accessories.   \n7                                                                                                                                                        Describe Nike Swoosh Headband, a product featuring durable, stylish, lightweight Neck 7 8 Width 6 8 Fabric Rubber Comes in a sleek black suede color with a bright silver trim H Category: Accessories.   \n8                                                         Describe Nike Brasilia Training Backpack, a product featuring stylish, waterproof, lightweight Nike Brasilia Training Backpack will have you wet, fast, and ready for any of these unique workouts you've been wanting to try. And, in a way, this is the perfect fit for all those Category: Apparel.   \n9                                                 Describe Nike Utility Speed Backpack, a product featuring durable, stylish, comfortable what's new with the Nike Utility Speed Backpack A look at what the Nike Utility Speed Backpack will look like When you are planning on purchasing a new fitness center, whether you're running with Category: Apparel.   \n10                                                                                                                                               Describe Nike Hyperfuel Water Bottle, a product featuring waterproof, durable, lightweight a special blend of water and fuel. An innovative innovation in all things water bottles. Maui Category: Accessories.   \n11                                                        Describe Nike Yoga Mat, a product featuring waterproof, lightweight, stylish Nike has launched a new online store to offer users an opportunity to get involved with a variety of Nike retailers. The store, www.newnike.com mart shop, contains a selection of limited Category: General Merchandise.   \n\n                                                                                                                                                                                                                                                                                                                                                                                                                                                                                                                                                                                                                                                                                                                                                                                                                                                                                                                                                                                                                                                                                                                                                                                                                                                                                                                                                                                                                                                                                                                                                                                                                                                                                                                                                                                                                                                                                                                                                                                                                                                                                                                    vector  \n0   [0.1581977092950283, 0.288122560055073, 0.5880281140262329, 0.17397862385230722, 0.0014983091921891845, 0.011704037159686598, 0.8648230951485087, 0.43066707972821894, 0.0017698942401990214, 0.6612253128029287, 0.3177839554901176, 0.6526571992911566, 0.5524329772846519, 0.020363973094735144, 0.5233409614280864, 0.3019097169017322, 0.20404704857690392, 0.22726588004332116, 0.6933887232104041, 0.9933168228440772, 0.2257932178034353, 0.6432026685256553, 0.2466341037988995, 0.42011612115799024, 0.2590877889889812, 0.993195833365761, 0.9335304853966141, 0.08527340294300578, 0.6381143136729787, 0.29110286098967086, 0.6697436380023284, 0.6506093238294013, 0.18963791371391725, 0.24553200744923198, 0.7785084024033689, 0.691144438257658, 0.11554673512053781, 0.6364198408528882, 0.33905771809294294, 0.034927200635058275, 0.405988874926535, 0.22392628675829784, 0.9494405330675367, 0.6561051374249984, 0.06786295524690966, 0.47707228782982813, 0.7145049094430465, 0.029788301598031475, 0.2210798462441913, 0.1489951611547612, 0.9601653191952038, 0.7363540551989471, 0.5163700338405464, 0.8085473199139177, 0.5768173073353882, 0.76062788763515, 0.4543962457207893, 0.8623234861073326, 0.9127482696116662, 0.6481893009594154, 0.28239097698740456, 0.007316052882095581, 0.7596017394418711, 0.7982364326536167, 0.9047970174069809, 0.39824039840229464, 0.11586403774651999, 0.6117789821651413, 0.02451028821476131, 0.29354201301797456, 0.25724611994148194, 0.31905853574453147, 0.5854682267303322, 0.6544079957464795, 0.5711563431132339, 0.28294123704130714, 0.9366728681329587, 0.09622855634054073, 0.9226585854023566, 0.01964874192962074, 0.471892848468793, 0.6133552311256686, 0.506013995511532, 0.033896445355298344, 0.8959750763008676, 0.3304038328988913, 0.7425152262863017, 0.1703545584934858, 0.7068889052400767, 0.6169236225704314, 0.8739260271384806, 0.7976184625272917, 0.29996526068636187, 0.3311610155193424, 0.31847361009022657, 0.5768391011253646, 0.7226138647527532, 0.22393960955748116, 0.09821270399190984, 0.4670489874786462]  \n1             [0.4266515758753201, 0.06765180682989436, 0.4538040118612321, 0.24609804797842827, 0.5786362696285041, 0.8454685693251366, 0.8797711346420012, 0.6755366709560621, 0.9494655614689992, 0.19701127724066725, 0.7959504826847822, 0.0335516686583458, 0.816376832804607, 0.033111583528741884, 0.919722779355283, 0.5973047919936815, 0.6916419845909761, 0.5175841919560226, 0.45708975624061343, 0.0391634183773808, 0.49765673006039646, 0.9902421447239883, 0.037409490373945475, 0.6145421250927442, 0.9844406158576852, 0.9615954217607845, 0.4900802271525503, 0.6546841908707732, 0.8284465396806991, 0.6386593172864378, 0.782395029838087, 0.7754942168565127, 0.11315572209816394, 0.7939218077048875, 0.10992825687184837, 0.5633019529166475, 0.2287298095709921, 0.9102354023936094, 0.13529223427135362, 0.8912005407124748, 0.808474922471133, 0.18639090778914502, 0.23520972190252198, 0.9238191129572799, 0.4824125199016013, 0.3062625248933344, 0.9972150971199593, 0.8647937177579096, 0.34270473093043186, 0.8414281198473791, 0.001563807303320286, 0.3020104973800368, 0.9437366414157229, 0.4989828980390899, 0.7860203987104849, 0.1367060490967943, 0.5240401301406115, 0.43185679444054925, 0.23831570674675062, 0.5690507315729216, 0.7301957382274584, 0.9732776277553298, 0.9972549694040049, 0.7893553578435483, 0.25649547906015635, 0.28623228172255955, 0.57407043763453, 0.6679507716434314, 0.8100578616153193, 0.04588686538200326, 0.10138728355594884, 0.3663920399764832, 0.8825998105127788, 0.8146972667564989, 0.3657515168810497, 0.4485925175768932, 0.4242220166139461, 0.6587512761130669, 0.18651473179718348, 0.6843750949703584, 0.5575591382965328, 0.6578668214789523, 0.3576193883015034, 0.6064732947318053, 0.05208442040943018, 0.5046287709845215, 0.39816698710795195, 0.6754826188681501, 0.24516376899863968, 0.10629488034573731, 0.29013571894186363, 0.6423911598871925, 0.08058721532724422, 0.04595443734789406, 0.1353698096466457, 0.17650138219212053, 0.8164177237720808, 0.7114683861537361, 0.48929482558719617, 0.05658029761923877]  \n2                  [0.8229975872573755, 0.605170549633173, 0.4453637778515268, 0.35439036596999574, 0.5401613584945348, 0.5222430113426665, 0.6459208598526978, 0.4850355412839261, 0.5031897818697497, 0.7833175884035868, 0.7831733478448196, 0.16662795714445977, 0.3317091253141743, 0.25781223609591386, 0.4356625452524877, 0.19820691131392554, 0.5431977465968028, 0.18116882449323368, 0.19908366112247355, 0.10211060810464334, 0.7221477790533615, 0.44160061416510754, 0.5380988431532701, 0.7307607477872722, 0.6197869594780596, 0.34535201664117643, 0.4311164069989961, 0.37924198792085295, 0.42244986069188684, 0.8577008660956427, 0.4593881156948991, 0.6013029564851616, 0.9923993109878633, 0.8075481254151357, 0.6761129274254927, 0.7859652746553436, 0.9489511023638478, 0.5905606884289946, 0.9585186988641013, 0.6622364076366536, 0.39912862024109286, 0.26854308579070274, 0.9373435864283143, 0.5702167782298482, 0.951303573438704, 0.49435816027952306, 0.024613936120412405, 0.3599233079882044, 0.5330056215153905, 0.6883417552552049, 0.8308817822465688, 0.13771273601442569, 0.9869870857688673, 0.20067751607815199, 0.04904377941530336, 0.9059934551063604, 0.06696509359836855, 0.9875064476370886, 0.9578726105931532, 0.95303445124701, 0.6612860331117707, 0.7699338791109597, 0.5149986223533932, 0.616037534291393, 0.04883994859465868, 0.9738865167727535, 0.9259352413655839, 0.5321856565538104, 0.22655445755368364, 0.8031219131018348, 0.0951272956960475, 0.4407908325045674, 0.9408735325089262, 0.11537542179156157, 0.41309002491541447, 0.6453019422090118, 0.6490508444350258, 0.493473624494711, 0.8292344852739397, 0.9112108201827392, 0.5030650786692001, 0.6868991345882982, 0.934870792423498, 0.8803403187031371, 0.49083697045815167, 0.35402178454080324, 0.7365560349789031, 0.5999728457471905, 0.5224213807237108, 0.20450541124450694, 0.4024353508890395, 0.8226189036721302, 0.36472994880299725, 0.4107648370816569, 0.02468520322536616, 0.5003776344358333, 0.0868423375775903, 0.44490300074826494, 0.723120391529565, 0.09409292346866782]  \n3   [0.6523671924213852, 0.42361885032211954, 0.7051958252189127, 0.08182012626007629, 0.5417152466920316, 0.2890555839582196, 0.9905174244934031, 0.47708072967359116, 0.33776096493330554, 0.029356966409297414, 0.6807639158098725, 0.5439612566373064, 0.5846646101368973, 0.11955933353482162, 0.14801171350804987, 0.45329300403803163, 0.182884446880909, 0.5728724350781874, 0.44754708000400933, 0.1059536063014479, 0.17765845484674914, 0.9853591745104165, 0.8551068466819601, 0.5667377000093452, 0.039738045995777904, 0.5449492104087568, 0.030325277300416786, 0.6334388137993114, 0.7875210423154689, 0.2497577251471933, 0.5318689129808832, 0.9652254690905182, 0.9209065508026839, 0.5476127604833093, 0.5726059695572229, 0.054013709371961593, 0.5615541830629861, 0.09643738541120139, 0.46060535397934166, 0.9829450812673006, 0.469098549842098, 0.7840602745969064, 0.048413821471064655, 0.736939782435946, 0.5603734592813676, 0.32897917029048507, 0.4165950914148796, 0.7384588875301359, 0.26505446791131304, 0.7599548373703663, 0.6431880088900425, 0.941061429608195, 0.14268212951082504, 0.07255271800122576, 0.6950604979370201, 0.8088804635163587, 0.19711581107991294, 0.7610398987915926, 0.5742195612403246, 0.035603476196047534, 0.671538565137308, 0.6482847647533367, 0.0902167326140052, 0.3967387319471546, 0.04385372327681125, 0.823443156583754, 0.027188595791036274, 0.19153595822473013, 0.7820197150313047, 0.7765842134293348, 0.897285645505526, 0.7778366761926416, 0.958764999863012, 0.3718743924013449, 0.15227083309732548, 0.9864387373690124, 0.30623548177570525, 0.49654612238218765, 0.30867003522486447, 0.7647346520056065, 0.31443767161575475, 0.5688270656913398, 0.4860091251646449, 0.32472474327665724, 0.7698888983121466, 0.5701886990853432, 0.046490015561865494, 0.010089471463739508, 0.4815361301181934, 0.9758656785517723, 0.8237715629232188, 0.9384110824143442, 0.3073191371279844, 0.17439897040753571, 0.19212520206726413, 0.14429420376229418, 0.3502866095023289, 0.3573612960197995, 0.07317044684641516, 0.7550302499855833]  \n4            [0.7154704090305319, 0.6053810307716601, 0.8238501015766968, 0.28251480337359625, 0.7615000419334446, 0.5649599290618843, 0.0058074607174049, 0.8415831589023468, 0.44109173730378326, 0.9846107449020863, 0.07722963680450101, 0.16864084914899558, 0.37216546796878414, 0.16758692354913252, 0.7443417242728116, 0.35872410698786505, 0.4784194534026853, 0.4504685020584116, 0.6436881930362605, 0.25687841961803926, 0.10234083406362027, 0.07255230034003313, 0.37489667609060706, 0.924225650515411, 0.8029281027245314, 0.6802840575536988, 0.036103457492841384, 0.8072073013509101, 0.6847240827010184, 0.20694950414603208, 0.7042126242664216, 0.5927715283804271, 0.19204346822212248, 0.794494713917486, 0.6073532209916228, 0.2649585484690018, 0.9248088077552138, 0.40560508365472037, 0.48472690407354224, 0.11704611905302165, 0.36324672376849976, 0.09723572832977523, 0.45014567133727545, 0.3176224683539409, 0.41927608782792003, 0.035758635412286965, 0.8863772297900188, 0.9614865835033233, 0.449225335026462, 0.7773201437272438, 0.5651852045443143, 0.15935931247081592, 0.24727735730325984, 0.4945607587783959, 0.5952242872174638, 0.8010522958809312, 0.8784835473996464, 0.6782452858107528, 0.9790181827303942, 0.6378423779864681, 0.49821195972734034, 0.1654010133389877, 0.8093091593165517, 0.6226857390631155, 0.8383359626969918, 0.7165650770100714, 0.9197791117978298, 0.9484877909781778, 0.8353270983489851, 0.1821617367055235, 0.5751303943605387, 0.5785413376878069, 0.7832610381522231, 0.8519946811843915, 0.15749292220477262, 0.7325740879285313, 0.6956545706124245, 0.06371139874719478, 0.8615065675983523, 0.8133324541289139, 0.0413359242992859, 0.7081968333510249, 0.4448629515747681, 0.22271736827926147, 0.9226816391151667, 0.3879321538259466, 0.33604570767757325, 0.9265252049287908, 0.40515742458447057, 0.8013576397861658, 0.844245787358636, 0.33652227824517045, 0.7750282090309898, 0.8157250222546628, 0.671244997455258, 0.6022425384646595, 0.7316160182493153, 0.11141000727373274, 0.9299155553504562, 0.7400914225512185]  \n5    [0.22962306544617683, 0.8708038703235452, 0.9079107819997715, 0.16146089610808678, 0.20500162688702506, 0.5061698576548246, 0.8416988361810523, 0.8668063169735878, 0.9069684507781637, 0.8987581694990325, 0.794204201297798, 0.06777838890322174, 0.6318688567219972, 0.17495217506329463, 0.31831221674104526, 0.24751211684943997, 0.18840478330745714, 0.5310268731067123, 0.8053397095344481, 0.7102237920423374, 0.6440562507201746, 0.3500853621098108, 0.3250560237812423, 0.7578575193890299, 0.07344140347236938, 0.9081058047801494, 0.9941567883734579, 0.49367249354764287, 0.5170572594608727, 0.0765824605968437, 0.32940442160861605, 0.9164748955726585, 0.9373430724524712, 0.14371585725705893, 0.3897040815965829, 0.5181137641738478, 0.9868622104825491, 0.15332367894634735, 0.5598936224860739, 0.34408979157208974, 0.5066130489132723, 0.025980251738479843, 0.7009298521463979, 0.9391933863986256, 0.09896627636554611, 0.7714626749977126, 0.10907987513662931, 0.26005141293584755, 0.6472214318799919, 0.06251125241443456, 0.9048362766978442, 0.49080904817474613, 0.49603694082628325, 0.8858527068853241, 0.13284643622449954, 0.5403147785521264, 0.6693066280908816, 0.41680852050439243, 0.047273334979674564, 0.8642670757820081, 0.3176773270576161, 0.1350506652895248, 0.8081417309093433, 0.21949477250785443, 0.7854024789370829, 0.7322075967649179, 0.06731744521910432, 0.9842270525340389, 0.22402134288810482, 0.6371534896855532, 0.6096758507527126, 0.15790910804507463, 0.9172883444241899, 0.4571453697742124, 0.42993788745039774, 0.5769429677754275, 0.38839122346496147, 0.6835914730615176, 0.08433535520726487, 0.9465675381070157, 0.8336908732894751, 0.6811061877492781, 0.7037518055893155, 0.6628383902008124, 0.9728167777448377, 0.1378518816167753, 0.3091926764613687, 0.4506394423639303, 0.09611148366204769, 0.672538799681786, 0.5433464719747465, 0.7668977292812488, 0.7146169985797272, 0.06043951293990768, 0.6652967026700337, 0.1563451365263352, 0.027485912637441157, 0.33772131352306145, 0.4737136630526818, 0.18194773459761338]  \n6                     [0.322695363349055, 0.9750577080751762, 0.850639364288576, 0.8023257811352594, 0.8311106077210906, 0.7658033558320452, 0.9065447607021616, 0.760486124791834, 0.5380767327627711, 0.41810189446070467, 0.21885036232611998, 0.6490976650826048, 0.23527745945374312, 0.7051716079417737, 0.2988232048997297, 0.04596891895476862, 0.21271372282137002, 0.3010323235219432, 0.6135949351476168, 0.8847153314787465, 0.947641204577849, 0.5654373604953757, 0.942673789306169, 0.4774137565712504, 0.587659457676621, 0.6334496975438679, 0.5479850181847217, 0.09950939225664324, 0.28075101610744213, 0.3363260537060858, 0.03773352488370152, 0.35863411937646295, 0.9033294741775671, 0.2538464053379391, 0.2970897909229755, 0.8718693147675995, 0.27984787681115353, 0.7070846329018599, 0.5954874840919959, 0.2458414930017757, 0.8688309842442448, 0.3749521524953259, 0.0757894210365414, 0.4556855129383177, 0.538217441967445, 0.12095891420397509, 0.6747158994511226, 0.7442600466117537, 0.20674290663470718, 0.1289396939842219, 0.14463670583138843, 0.21990615547144632, 0.2429363465830775, 0.42697175428854006, 0.5577225463757975, 0.9527248658188556, 0.5954493705376549, 0.25964018689891244, 0.6940816446178804, 0.7600138670668009, 0.9432767982130509, 0.5172656371400562, 0.10451804308492274, 0.7649983094622953, 0.9498333461428946, 0.42697257349632944, 0.32750787877411913, 0.6277057112558576, 0.8506944301158605, 0.6573725305569511, 0.28263926950176343, 0.5742870130473056, 0.07641265686595189, 0.2934716453458306, 0.1151025687312267, 0.6087773373305626, 0.9785173274788698, 0.7502645248311628, 0.5865401861321391, 0.01935831912289343, 0.721077015032537, 0.7279857744724637, 0.5763023176339289, 0.3616091604121069, 0.14576033308705016, 0.24374530187580534, 0.7473319670904766, 0.025814344795053512, 0.9994347919935367, 0.7905478398986152, 0.9590699736678767, 0.2872622397406498, 0.8561600409375688, 0.5911203723941589, 0.5024992612026437, 0.191465245204965, 0.45316355746691706, 0.7919835745851095, 0.31859368548331646, 0.23512684863317768]  \n7         [0.41273129328304325, 0.06373019459045048, 0.8644727157174229, 0.8273633396115418, 0.7827831780911775, 0.6614107562498672, 0.41017105062722736, 0.9235915076154227, 0.38590619021984496, 0.02358880762789961, 0.6729681384156563, 0.3472447372658166, 0.4704603811732888, 0.9966416238343732, 0.44597218470919764, 0.7878285429292661, 0.8216605070910057, 0.8254579956984988, 0.9276827426099823, 0.6036376185094955, 0.5948452519659111, 0.9881085726097828, 0.6272377455388239, 0.6136648534154089, 0.0994140607702918, 0.9778473496393394, 0.8407286425414859, 0.20451640919743808, 0.3493583116089932, 0.21615400437304633, 0.31992038083804253, 0.43976683646962433, 0.8687399252475051, 0.45726656525939247, 0.8478838814938069, 0.8987967322092826, 0.7620539668702394, 0.3123610800914367, 0.1776838966732901, 0.017543956720101006, 0.7825115485784753, 0.4510182714419272, 0.3305587994944268, 0.9119525259338381, 0.6684274379933971, 0.25284873428824095, 0.9328266931350635, 0.4732681761612698, 0.29582954090176894, 0.0360975928636339, 0.07257009894896171, 0.16339631635513896, 0.6480540220780939, 0.3935267707233052, 0.27569317262307147, 0.06684641895163279, 0.9748301257309777, 0.8244495556918197, 0.19700148220216673, 0.665314707490207, 0.985960688853535, 0.6957125057656385, 0.570872741719122, 0.7133373038989648, 0.9532992885290428, 0.561370868578026, 0.8528613701985946, 0.6457895380113958, 0.5353457605812992, 0.7978337257222484, 0.9061811814913109, 0.30273562550385913, 0.14947170663182685, 0.17815429450125386, 0.03344202727799939, 0.7704821329538499, 0.10251383865456964, 0.6411812983932265, 0.8201418678212157, 0.7504504119061131, 0.6185194311411152, 0.09582733938935006, 0.1810787193609159, 0.19285997142583522, 0.4438530588335553, 0.6071077828746688, 0.06899109865796837, 0.2915612822328181, 0.2733252928182044, 0.40020581456243143, 0.8459489916005992, 0.4020770774783501, 0.5320224695868908, 0.060910477071493885, 0.3598178769308189, 0.05784340475158045, 0.008523104275615756, 0.35309479388767506, 0.9091365883010147, 0.19092299031547466]  \n8     [0.17054943920064536, 0.3718845418936515, 0.16606622373166968, 0.26378295564210863, 0.7768116127309044, 0.0624365595646712, 0.012743449820722064, 0.5528515938945764, 0.9173822912782845, 0.5806199837332542, 0.49595710374324686, 0.698165321353201, 0.6620976701052126, 0.8607608125606053, 0.9507450355677359, 0.8145618175666849, 0.07980269625673442, 0.544076904536479, 0.06964409944093297, 0.43214292775814855, 0.10557868008478521, 0.38628963655030557, 0.8122421649009091, 0.33756985613216617, 0.6278685926400872, 0.9897438315036221, 0.4718795690295762, 0.16850688315946305, 0.986561681613829, 0.20677495197966522, 0.16107697192382242, 0.9509948936459399, 0.3230940642586435, 0.2693245655130231, 0.43388055168345907, 0.036956935582397765, 0.19731779980153197, 0.4275962878988948, 0.47432288247893817, 0.5424674316157265, 0.7299534927465299, 0.10419065284174978, 0.3016454038594166, 0.16562229157789343, 0.6674604682752976, 0.3996335706971188, 0.3922294558708527, 0.33651336775501006, 0.6436744751889748, 0.12899443622664986, 0.059270850966870015, 0.7706743148028731, 0.8115319716267037, 0.4623638488703813, 0.664989026087219, 0.7068742928097589, 0.2331497225725876, 0.7779719874550668, 0.5333885345928201, 0.6137975355667792, 0.2616119502985542, 0.18223701635141498, 0.15424888096152034, 0.12287881078576801, 0.13737758480620776, 0.45264986791375517, 0.5873138055636732, 0.6431812840773065, 0.13123018122456176, 0.36955315888614204, 0.33200347453181, 0.7797835531724973, 0.6796047972126545, 0.31196650682327287, 0.2440370602181542, 0.13437924558112269, 0.2510658976625867, 0.5576058415814324, 0.5018037781089395, 0.06967604113694748, 0.2711654084902274, 0.5626127921618341, 0.3884388536266212, 0.3341821740655885, 0.1273618123778819, 0.3803115766934688, 0.4051050854974192, 0.5833957484942722, 0.18519294376741569, 0.3340265580923062, 0.30242915939902437, 0.13980833820311012, 0.9835306143672748, 0.14553805409644527, 0.05642168585302998, 0.4510688002583588, 0.8512655588866115, 0.43249253077700767, 0.6315962804309629, 0.7849546820176463]  \n9                        [0.842287320363607, 0.4368903236955609, 0.07848989409655316, 0.002806809356403983, 0.45783654667680307, 0.35358588211494035, 0.8569655920795604, 0.4711581186224809, 0.4539229632514423, 0.2498607527461033, 0.9298721560548817, 0.06815741635744577, 0.9570385232440868, 0.06330115373204714, 0.7199592706714131, 0.4528379288985167, 0.3009752374911252, 0.38569441111639435, 0.10978138892751488, 0.2516362792166278, 0.27964021666591476, 0.39961373150925894, 0.7200214932803225, 0.5904678620749367, 0.6922127135935671, 0.5348716452959614, 0.2804545499569091, 0.002079495456906666, 0.12588790610639067, 0.9082183720385266, 0.570651473637402, 0.6722079293023198, 0.14485900766080317, 0.10492038195626474, 0.9436006070638961, 0.7572190223333485, 0.5709166916347901, 0.7503241813798387, 0.721219646560102, 0.5253387902990094, 0.6517865691238477, 0.9089189808203355, 0.2535827624675482, 0.43625087299009, 0.401626825485483, 0.40427616358739427, 0.47987775517193487, 0.925904155921449, 0.8908008747930953, 0.206399753143517, 0.14955555856286462, 0.1488548542085808, 0.6002654204944725, 0.0325741918570136, 0.492563854748418, 0.728750252417183, 0.9691767931071659, 0.5229960997933597, 0.3941090479565178, 0.01665419963410042, 0.7610294732912188, 0.578729126975938, 0.1155719306329156, 0.24982975982707512, 0.2982625358307007, 0.16285638884978249, 0.018338633645219593, 0.7038700959674351, 0.8224087494113128, 0.8656230141672538, 0.9996952529759705, 0.7080897676142092, 0.8450175383022673, 0.1485826619158216, 0.5650475496677436, 0.12990928907570876, 0.7321986942447583, 0.9478462453976114, 0.18445220477381208, 0.07849207444967532, 0.4948358350932699, 0.21060043348745716, 0.46319099969655275, 0.46170665276348943, 0.5180866290329484, 0.6878857299551576, 0.868192797873983, 0.23174558271893853, 0.9537249578110997, 0.443586441445047, 0.3585417590999752, 0.5329098800091596, 0.706503215669473, 0.6440729958037104, 0.4621462145153047, 0.1872491758001228, 0.8529903760524873, 0.591544646680626, 0.47479850217016917, 0.4825393773404254]  \n10              [0.1272127000055383, 0.8615882347905685, 0.7603271852075163, 0.744181084361468, 0.5961481767718184, 0.7365824601773721, 0.9591033223182444, 0.9083555861991148, 0.755966055479645, 0.28096772861010144, 0.6169678277191278, 0.3050387250002573, 0.25561275520514704, 0.25157312269703413, 0.00558528407120884, 0.7019641012372314, 0.5216889142402508, 0.638191344770424, 0.5787317596556445, 0.10450182504845185, 0.5676364489680291, 0.7212474156126205, 0.06268733572686647, 0.7701960968060695, 0.3878585071685916, 0.04378883141689216, 0.7634332047721004, 0.891397951564497, 0.8657640133414828, 0.05683951485586347, 0.2580892838448925, 0.8063045634853396, 0.7724960438835273, 0.23186739809528267, 0.0626750338033617, 0.7736763525415798, 0.9570509283573139, 0.23354864011221543, 0.9166133317625567, 0.9247035924948678, 0.8133876433397579, 0.5382979146851163, 0.7798033635634476, 0.8337576757708892, 0.17468170962270757, 0.9150493921003754, 0.4683648015786924, 0.43192005415914836, 0.3973237750008306, 0.7215450513514879, 0.2694564712136227, 0.06426546836458324, 0.8401921986516427, 0.9961289156302036, 0.5411453690373846, 0.7815847780332287, 0.1909139336007616, 0.4232523219462683, 0.6911909925540756, 0.9008660843401506, 0.550655754931322, 0.07089221791122868, 0.6432205929726593, 0.10776871610860395, 0.9288875482906982, 0.6826936252962598, 0.14467573582666193, 0.4984262519322894, 0.8258936706568708, 0.05691354930246684, 0.21277959803978685, 0.1398330253488339, 0.1272138259302399, 0.0833812491683057, 0.07020466295403094, 0.7168322599610639, 0.4687898363243058, 0.023935550013507556, 0.22215749797430284, 0.04049962191375822, 0.5053407765022147, 0.9202892230844877, 0.7461860062845778, 0.37848643814362215, 0.47501308433386225, 0.5042075088274124, 0.5426022632731358, 0.2590139890770511, 0.874257198439194, 0.45722855312603716, 0.08906649940586098, 0.07515100846256162, 0.13259696881740124, 0.24532207088274127, 0.49841181959614644, 0.9176134054856702, 0.7821853127623869, 0.9177081260500473, 0.8715918828807038, 0.03891253126765393]  \n11                       [0.25642412807065507, 0.10573427974170191, 0.7443611023469082, 0.8292339463911802, 0.7239339275834096, 0.6053030009290623, 0.814374120057376, 0.9268441087419206, 0.21952538791280818, 0.01909180236849284, 0.12008713285585682, 0.75739320905869, 0.6749395976827625, 0.7631967554644156, 0.3342799272353544, 0.8492767411415152, 0.7970712995361275, 0.42900670611284175, 0.3421292663591342, 0.3988253579992652, 0.1136285328390535, 0.04989129408470161, 0.3608950949465497, 0.8707343011446419, 0.12767652148058162, 0.8300585853043674, 0.6150895633033524, 0.09014065114652647, 0.6957917255301056, 0.17412445966417722, 0.28243967317177576, 0.15013735499349978, 0.35062949162971924, 0.2854898997313856, 0.212527869903527, 0.8598695778236661, 0.683972020580924, 0.779383456024759, 0.009717020488531403, 0.6197421132684992, 0.9482980440113302, 0.22846047524983593, 0.38853944765174475, 0.9451168594033996, 0.3504845820922319, 0.17642577078384913, 0.3766764844282642, 0.4839797783036389, 0.6993780463724825, 0.5934690578644202, 0.2471170086143879, 0.7655797383748318, 0.5731123878465401, 0.553785921129247, 0.16491357204827517, 0.16205226446255128, 0.835359412774337, 0.3925785394382647, 0.594096441743105, 0.991161067073601, 0.5487821098927226, 0.27291769206499283, 0.2823083994188821, 0.1673730442649165, 0.12082536058973148, 0.9987382532800255, 0.5433261812807401, 0.650065873824956, 0.12187427115610283, 0.8003623925245807, 0.1325801180837476, 0.2968465538065951, 0.07511478337422017, 0.6843774250677965, 0.6196311089817108, 0.739247826221655, 0.2569307391524286, 0.563988676458715, 0.9008903756179825, 0.6176407860036015, 0.21830949027452662, 0.8496169045441403, 0.6911856993059159, 0.01802191274408227, 0.8664066531035558, 0.6724545714541087, 0.4318273853033251, 0.29264518620349234, 0.4002501167830762, 0.023891671480796184, 0.9919978369089586, 0.8576075991013365, 0.5495885254810733, 0.9953067219526404, 0.29067447290580284, 0.07374078939668283, 0.5831599401234712, 0.5239219108975599, 0.7880712051247314, 0.483296062509021]  ",
      "text/html": "<div>\n<style scoped>\n    .dataframe tbody tr th:only-of-type {\n        vertical-align: middle;\n    }\n\n    .dataframe tbody tr th {\n        vertical-align: top;\n    }\n\n    .dataframe thead th {\n        text-align: right;\n    }\n</style>\n<table border=\"1\" class=\"dataframe\">\n  <thead>\n    <tr style=\"text-align: right;\">\n      <th></th>\n      <th>description</th>\n      <th>vector</th>\n    </tr>\n  </thead>\n  <tbody>\n    <tr>\n      <th>0</th>\n      <td>Describe Nike Air Zoom Pegasus, a product featuring lightweight, comfortable, waterproof that is to say, it is designed to pilate on a lightweight, air conditioned shoe or Air Tote with a unique design that makes it possible for you to use it in a variety of Category: Shoes.</td>\n      <td>[0.1581977092950283, 0.288122560055073, 0.5880281140262329, 0.17397862385230722, 0.0014983091921891845, 0.011704037159686598, 0.8648230951485087, 0.43066707972821894, 0.0017698942401990214, 0.6612253128029287, 0.3177839554901176, 0.6526571992911566, 0.5524329772846519, 0.020363973094735144, 0.5233409614280864, 0.3019097169017322, 0.20404704857690392, 0.22726588004332116, 0.6933887232104041, 0.9933168228440772, 0.2257932178034353, 0.6432026685256553, 0.2466341037988995, 0.42011612115799024, 0.2590877889889812, 0.993195833365761, 0.9335304853966141, 0.08527340294300578, 0.6381143136729787, 0.29110286098967086, 0.6697436380023284, 0.6506093238294013, 0.18963791371391725, 0.24553200744923198, 0.7785084024033689, 0.691144438257658, 0.11554673512053781, 0.6364198408528882, 0.33905771809294294, 0.034927200635058275, 0.405988874926535, 0.22392628675829784, 0.9494405330675367, 0.6561051374249984, 0.06786295524690966, 0.47707228782982813, 0.7145049094430465, 0.029788301598031475, 0.2210798462441913, 0.1489951611547612, 0.9601653191952038, 0.7363540551989471, 0.5163700338405464, 0.8085473199139177, 0.5768173073353882, 0.76062788763515, 0.4543962457207893, 0.8623234861073326, 0.9127482696116662, 0.6481893009594154, 0.28239097698740456, 0.007316052882095581, 0.7596017394418711, 0.7982364326536167, 0.9047970174069809, 0.39824039840229464, 0.11586403774651999, 0.6117789821651413, 0.02451028821476131, 0.29354201301797456, 0.25724611994148194, 0.31905853574453147, 0.5854682267303322, 0.6544079957464795, 0.5711563431132339, 0.28294123704130714, 0.9366728681329587, 0.09622855634054073, 0.9226585854023566, 0.01964874192962074, 0.471892848468793, 0.6133552311256686, 0.506013995511532, 0.033896445355298344, 0.8959750763008676, 0.3304038328988913, 0.7425152262863017, 0.1703545584934858, 0.7068889052400767, 0.6169236225704314, 0.8739260271384806, 0.7976184625272917, 0.29996526068636187, 0.3311610155193424, 0.31847361009022657, 0.5768391011253646, 0.7226138647527532, 0.22393960955748116, 0.09821270399190984, 0.4670489874786462]</td>\n    </tr>\n    <tr>\n      <th>1</th>\n      <td>Describe Nike Air Max 270, a product featuring waterproof, durable, lightweight Nike Air Max 270 Superb construction with soft touch construction A strong and durable design with an eye catching feel with a clear finish. In our view, Category: Shoes.</td>\n      <td>[0.4266515758753201, 0.06765180682989436, 0.4538040118612321, 0.24609804797842827, 0.5786362696285041, 0.8454685693251366, 0.8797711346420012, 0.6755366709560621, 0.9494655614689992, 0.19701127724066725, 0.7959504826847822, 0.0335516686583458, 0.816376832804607, 0.033111583528741884, 0.919722779355283, 0.5973047919936815, 0.6916419845909761, 0.5175841919560226, 0.45708975624061343, 0.0391634183773808, 0.49765673006039646, 0.9902421447239883, 0.037409490373945475, 0.6145421250927442, 0.9844406158576852, 0.9615954217607845, 0.4900802271525503, 0.6546841908707732, 0.8284465396806991, 0.6386593172864378, 0.782395029838087, 0.7754942168565127, 0.11315572209816394, 0.7939218077048875, 0.10992825687184837, 0.5633019529166475, 0.2287298095709921, 0.9102354023936094, 0.13529223427135362, 0.8912005407124748, 0.808474922471133, 0.18639090778914502, 0.23520972190252198, 0.9238191129572799, 0.4824125199016013, 0.3062625248933344, 0.9972150971199593, 0.8647937177579096, 0.34270473093043186, 0.8414281198473791, 0.001563807303320286, 0.3020104973800368, 0.9437366414157229, 0.4989828980390899, 0.7860203987104849, 0.1367060490967943, 0.5240401301406115, 0.43185679444054925, 0.23831570674675062, 0.5690507315729216, 0.7301957382274584, 0.9732776277553298, 0.9972549694040049, 0.7893553578435483, 0.25649547906015635, 0.28623228172255955, 0.57407043763453, 0.6679507716434314, 0.8100578616153193, 0.04588686538200326, 0.10138728355594884, 0.3663920399764832, 0.8825998105127788, 0.8146972667564989, 0.3657515168810497, 0.4485925175768932, 0.4242220166139461, 0.6587512761130669, 0.18651473179718348, 0.6843750949703584, 0.5575591382965328, 0.6578668214789523, 0.3576193883015034, 0.6064732947318053, 0.05208442040943018, 0.5046287709845215, 0.39816698710795195, 0.6754826188681501, 0.24516376899863968, 0.10629488034573731, 0.29013571894186363, 0.6423911598871925, 0.08058721532724422, 0.04595443734789406, 0.1353698096466457, 0.17650138219212053, 0.8164177237720808, 0.7114683861537361, 0.48929482558719617, 0.05658029761923877]</td>\n    </tr>\n    <tr>\n      <th>2</th>\n      <td>Describe Nike Revolution 5, a product featuring durable, lightweight, waterproof Dive in now to Nike's world class technology. With new, premium quality fabric this waterproof case fits through a variety of layers like cotton or nylon. The new technology is the first time that this waterproof Category: Accessories.</td>\n      <td>[0.8229975872573755, 0.605170549633173, 0.4453637778515268, 0.35439036596999574, 0.5401613584945348, 0.5222430113426665, 0.6459208598526978, 0.4850355412839261, 0.5031897818697497, 0.7833175884035868, 0.7831733478448196, 0.16662795714445977, 0.3317091253141743, 0.25781223609591386, 0.4356625452524877, 0.19820691131392554, 0.5431977465968028, 0.18116882449323368, 0.19908366112247355, 0.10211060810464334, 0.7221477790533615, 0.44160061416510754, 0.5380988431532701, 0.7307607477872722, 0.6197869594780596, 0.34535201664117643, 0.4311164069989961, 0.37924198792085295, 0.42244986069188684, 0.8577008660956427, 0.4593881156948991, 0.6013029564851616, 0.9923993109878633, 0.8075481254151357, 0.6761129274254927, 0.7859652746553436, 0.9489511023638478, 0.5905606884289946, 0.9585186988641013, 0.6622364076366536, 0.39912862024109286, 0.26854308579070274, 0.9373435864283143, 0.5702167782298482, 0.951303573438704, 0.49435816027952306, 0.024613936120412405, 0.3599233079882044, 0.5330056215153905, 0.6883417552552049, 0.8308817822465688, 0.13771273601442569, 0.9869870857688673, 0.20067751607815199, 0.04904377941530336, 0.9059934551063604, 0.06696509359836855, 0.9875064476370886, 0.9578726105931532, 0.95303445124701, 0.6612860331117707, 0.7699338791109597, 0.5149986223533932, 0.616037534291393, 0.04883994859465868, 0.9738865167727535, 0.9259352413655839, 0.5321856565538104, 0.22655445755368364, 0.8031219131018348, 0.0951272956960475, 0.4407908325045674, 0.9408735325089262, 0.11537542179156157, 0.41309002491541447, 0.6453019422090118, 0.6490508444350258, 0.493473624494711, 0.8292344852739397, 0.9112108201827392, 0.5030650786692001, 0.6868991345882982, 0.934870792423498, 0.8803403187031371, 0.49083697045815167, 0.35402178454080324, 0.7365560349789031, 0.5999728457471905, 0.5224213807237108, 0.20450541124450694, 0.4024353508890395, 0.8226189036721302, 0.36472994880299725, 0.4107648370816569, 0.02468520322536616, 0.5003776344358333, 0.0868423375775903, 0.44490300074826494, 0.723120391529565, 0.09409292346866782]</td>\n    </tr>\n    <tr>\n      <th>3</th>\n      <td>Describe Nike Dri FIT Tee, a product featuring comfortable, lightweight, waterproof We use the Nike Dri FIT logo to distinguish ourselves as a company and as a brand. We use this logo to celebrate our own creative success and the quality of our products. Describe An Category: Apparel.</td>\n      <td>[0.6523671924213852, 0.42361885032211954, 0.7051958252189127, 0.08182012626007629, 0.5417152466920316, 0.2890555839582196, 0.9905174244934031, 0.47708072967359116, 0.33776096493330554, 0.029356966409297414, 0.6807639158098725, 0.5439612566373064, 0.5846646101368973, 0.11955933353482162, 0.14801171350804987, 0.45329300403803163, 0.182884446880909, 0.5728724350781874, 0.44754708000400933, 0.1059536063014479, 0.17765845484674914, 0.9853591745104165, 0.8551068466819601, 0.5667377000093452, 0.039738045995777904, 0.5449492104087568, 0.030325277300416786, 0.6334388137993114, 0.7875210423154689, 0.2497577251471933, 0.5318689129808832, 0.9652254690905182, 0.9209065508026839, 0.5476127604833093, 0.5726059695572229, 0.054013709371961593, 0.5615541830629861, 0.09643738541120139, 0.46060535397934166, 0.9829450812673006, 0.469098549842098, 0.7840602745969064, 0.048413821471064655, 0.736939782435946, 0.5603734592813676, 0.32897917029048507, 0.4165950914148796, 0.7384588875301359, 0.26505446791131304, 0.7599548373703663, 0.6431880088900425, 0.941061429608195, 0.14268212951082504, 0.07255271800122576, 0.6950604979370201, 0.8088804635163587, 0.19711581107991294, 0.7610398987915926, 0.5742195612403246, 0.035603476196047534, 0.671538565137308, 0.6482847647533367, 0.0902167326140052, 0.3967387319471546, 0.04385372327681125, 0.823443156583754, 0.027188595791036274, 0.19153595822473013, 0.7820197150313047, 0.7765842134293348, 0.897285645505526, 0.7778366761926416, 0.958764999863012, 0.3718743924013449, 0.15227083309732548, 0.9864387373690124, 0.30623548177570525, 0.49654612238218765, 0.30867003522486447, 0.7647346520056065, 0.31443767161575475, 0.5688270656913398, 0.4860091251646449, 0.32472474327665724, 0.7698888983121466, 0.5701886990853432, 0.046490015561865494, 0.010089471463739508, 0.4815361301181934, 0.9758656785517723, 0.8237715629232188, 0.9384110824143442, 0.3073191371279844, 0.17439897040753571, 0.19212520206726413, 0.14429420376229418, 0.3502866095023289, 0.3573612960197995, 0.07317044684641516, 0.7550302499855833]</td>\n    </tr>\n    <tr>\n      <th>4</th>\n      <td>Describe Nike Sportswear Club Fleece, a product featuring stylish, lightweight, comfortable Category: Apparel.</td>\n      <td>[0.7154704090305319, 0.6053810307716601, 0.8238501015766968, 0.28251480337359625, 0.7615000419334446, 0.5649599290618843, 0.0058074607174049, 0.8415831589023468, 0.44109173730378326, 0.9846107449020863, 0.07722963680450101, 0.16864084914899558, 0.37216546796878414, 0.16758692354913252, 0.7443417242728116, 0.35872410698786505, 0.4784194534026853, 0.4504685020584116, 0.6436881930362605, 0.25687841961803926, 0.10234083406362027, 0.07255230034003313, 0.37489667609060706, 0.924225650515411, 0.8029281027245314, 0.6802840575536988, 0.036103457492841384, 0.8072073013509101, 0.6847240827010184, 0.20694950414603208, 0.7042126242664216, 0.5927715283804271, 0.19204346822212248, 0.794494713917486, 0.6073532209916228, 0.2649585484690018, 0.9248088077552138, 0.40560508365472037, 0.48472690407354224, 0.11704611905302165, 0.36324672376849976, 0.09723572832977523, 0.45014567133727545, 0.3176224683539409, 0.41927608782792003, 0.035758635412286965, 0.8863772297900188, 0.9614865835033233, 0.449225335026462, 0.7773201437272438, 0.5651852045443143, 0.15935931247081592, 0.24727735730325984, 0.4945607587783959, 0.5952242872174638, 0.8010522958809312, 0.8784835473996464, 0.6782452858107528, 0.9790181827303942, 0.6378423779864681, 0.49821195972734034, 0.1654010133389877, 0.8093091593165517, 0.6226857390631155, 0.8383359626969918, 0.7165650770100714, 0.9197791117978298, 0.9484877909781778, 0.8353270983489851, 0.1821617367055235, 0.5751303943605387, 0.5785413376878069, 0.7832610381522231, 0.8519946811843915, 0.15749292220477262, 0.7325740879285313, 0.6956545706124245, 0.06371139874719478, 0.8615065675983523, 0.8133324541289139, 0.0413359242992859, 0.7081968333510249, 0.4448629515747681, 0.22271736827926147, 0.9226816391151667, 0.3879321538259466, 0.33604570767757325, 0.9265252049287908, 0.40515742458447057, 0.8013576397861658, 0.844245787358636, 0.33652227824517045, 0.7750282090309898, 0.8157250222546628, 0.671244997455258, 0.6022425384646595, 0.7316160182493153, 0.11141000727373274, 0.9299155553504562, 0.7400914225512185]</td>\n    </tr>\n    <tr>\n      <th>5</th>\n      <td>Describe Nike Pro Tights, a product featuring lightweight, durable, comfortable Nike's Pebble Boost sneakers feature a soft touch leather upper. The Nike Pro's three high tech stretch to conceal HWT technology allows the wearer to Category: Shoes.</td>\n      <td>[0.22962306544617683, 0.8708038703235452, 0.9079107819997715, 0.16146089610808678, 0.20500162688702506, 0.5061698576548246, 0.8416988361810523, 0.8668063169735878, 0.9069684507781637, 0.8987581694990325, 0.794204201297798, 0.06777838890322174, 0.6318688567219972, 0.17495217506329463, 0.31831221674104526, 0.24751211684943997, 0.18840478330745714, 0.5310268731067123, 0.8053397095344481, 0.7102237920423374, 0.6440562507201746, 0.3500853621098108, 0.3250560237812423, 0.7578575193890299, 0.07344140347236938, 0.9081058047801494, 0.9941567883734579, 0.49367249354764287, 0.5170572594608727, 0.0765824605968437, 0.32940442160861605, 0.9164748955726585, 0.9373430724524712, 0.14371585725705893, 0.3897040815965829, 0.5181137641738478, 0.9868622104825491, 0.15332367894634735, 0.5598936224860739, 0.34408979157208974, 0.5066130489132723, 0.025980251738479843, 0.7009298521463979, 0.9391933863986256, 0.09896627636554611, 0.7714626749977126, 0.10907987513662931, 0.26005141293584755, 0.6472214318799919, 0.06251125241443456, 0.9048362766978442, 0.49080904817474613, 0.49603694082628325, 0.8858527068853241, 0.13284643622449954, 0.5403147785521264, 0.6693066280908816, 0.41680852050439243, 0.047273334979674564, 0.8642670757820081, 0.3176773270576161, 0.1350506652895248, 0.8081417309093433, 0.21949477250785443, 0.7854024789370829, 0.7322075967649179, 0.06731744521910432, 0.9842270525340389, 0.22402134288810482, 0.6371534896855532, 0.6096758507527126, 0.15790910804507463, 0.9172883444241899, 0.4571453697742124, 0.42993788745039774, 0.5769429677754275, 0.38839122346496147, 0.6835914730615176, 0.08433535520726487, 0.9465675381070157, 0.8336908732894751, 0.6811061877492781, 0.7037518055893155, 0.6628383902008124, 0.9728167777448377, 0.1378518816167753, 0.3091926764613687, 0.4506394423639303, 0.09611148366204769, 0.672538799681786, 0.5433464719747465, 0.7668977292812488, 0.7146169985797272, 0.06043951293990768, 0.6652967026700337, 0.1563451365263352, 0.027485912637441157, 0.33772131352306145, 0.4737136630526818, 0.18194773459761338]</td>\n    </tr>\n    <tr>\n      <th>6</th>\n      <td>Describe Nike Lightweight Arm Band, a product featuring comfortable, lightweight, waterproof The Nike Lightweight Arm Band was built to reduce the impact of wind injuries, prevent skin reactions and enhance athletic performance. Developed for high performance sports, this durable and lightweight model enables athletic users Category: Accessories.</td>\n      <td>[0.322695363349055, 0.9750577080751762, 0.850639364288576, 0.8023257811352594, 0.8311106077210906, 0.7658033558320452, 0.9065447607021616, 0.760486124791834, 0.5380767327627711, 0.41810189446070467, 0.21885036232611998, 0.6490976650826048, 0.23527745945374312, 0.7051716079417737, 0.2988232048997297, 0.04596891895476862, 0.21271372282137002, 0.3010323235219432, 0.6135949351476168, 0.8847153314787465, 0.947641204577849, 0.5654373604953757, 0.942673789306169, 0.4774137565712504, 0.587659457676621, 0.6334496975438679, 0.5479850181847217, 0.09950939225664324, 0.28075101610744213, 0.3363260537060858, 0.03773352488370152, 0.35863411937646295, 0.9033294741775671, 0.2538464053379391, 0.2970897909229755, 0.8718693147675995, 0.27984787681115353, 0.7070846329018599, 0.5954874840919959, 0.2458414930017757, 0.8688309842442448, 0.3749521524953259, 0.0757894210365414, 0.4556855129383177, 0.538217441967445, 0.12095891420397509, 0.6747158994511226, 0.7442600466117537, 0.20674290663470718, 0.1289396939842219, 0.14463670583138843, 0.21990615547144632, 0.2429363465830775, 0.42697175428854006, 0.5577225463757975, 0.9527248658188556, 0.5954493705376549, 0.25964018689891244, 0.6940816446178804, 0.7600138670668009, 0.9432767982130509, 0.5172656371400562, 0.10451804308492274, 0.7649983094622953, 0.9498333461428946, 0.42697257349632944, 0.32750787877411913, 0.6277057112558576, 0.8506944301158605, 0.6573725305569511, 0.28263926950176343, 0.5742870130473056, 0.07641265686595189, 0.2934716453458306, 0.1151025687312267, 0.6087773373305626, 0.9785173274788698, 0.7502645248311628, 0.5865401861321391, 0.01935831912289343, 0.721077015032537, 0.7279857744724637, 0.5763023176339289, 0.3616091604121069, 0.14576033308705016, 0.24374530187580534, 0.7473319670904766, 0.025814344795053512, 0.9994347919935367, 0.7905478398986152, 0.9590699736678767, 0.2872622397406498, 0.8561600409375688, 0.5911203723941589, 0.5024992612026437, 0.191465245204965, 0.45316355746691706, 0.7919835745851095, 0.31859368548331646, 0.23512684863317768]</td>\n    </tr>\n    <tr>\n      <th>7</th>\n      <td>Describe Nike Swoosh Headband, a product featuring durable, stylish, lightweight Neck 7 8 Width 6 8 Fabric Rubber Comes in a sleek black suede color with a bright silver trim H Category: Accessories.</td>\n      <td>[0.41273129328304325, 0.06373019459045048, 0.8644727157174229, 0.8273633396115418, 0.7827831780911775, 0.6614107562498672, 0.41017105062722736, 0.9235915076154227, 0.38590619021984496, 0.02358880762789961, 0.6729681384156563, 0.3472447372658166, 0.4704603811732888, 0.9966416238343732, 0.44597218470919764, 0.7878285429292661, 0.8216605070910057, 0.8254579956984988, 0.9276827426099823, 0.6036376185094955, 0.5948452519659111, 0.9881085726097828, 0.6272377455388239, 0.6136648534154089, 0.0994140607702918, 0.9778473496393394, 0.8407286425414859, 0.20451640919743808, 0.3493583116089932, 0.21615400437304633, 0.31992038083804253, 0.43976683646962433, 0.8687399252475051, 0.45726656525939247, 0.8478838814938069, 0.8987967322092826, 0.7620539668702394, 0.3123610800914367, 0.1776838966732901, 0.017543956720101006, 0.7825115485784753, 0.4510182714419272, 0.3305587994944268, 0.9119525259338381, 0.6684274379933971, 0.25284873428824095, 0.9328266931350635, 0.4732681761612698, 0.29582954090176894, 0.0360975928636339, 0.07257009894896171, 0.16339631635513896, 0.6480540220780939, 0.3935267707233052, 0.27569317262307147, 0.06684641895163279, 0.9748301257309777, 0.8244495556918197, 0.19700148220216673, 0.665314707490207, 0.985960688853535, 0.6957125057656385, 0.570872741719122, 0.7133373038989648, 0.9532992885290428, 0.561370868578026, 0.8528613701985946, 0.6457895380113958, 0.5353457605812992, 0.7978337257222484, 0.9061811814913109, 0.30273562550385913, 0.14947170663182685, 0.17815429450125386, 0.03344202727799939, 0.7704821329538499, 0.10251383865456964, 0.6411812983932265, 0.8201418678212157, 0.7504504119061131, 0.6185194311411152, 0.09582733938935006, 0.1810787193609159, 0.19285997142583522, 0.4438530588335553, 0.6071077828746688, 0.06899109865796837, 0.2915612822328181, 0.2733252928182044, 0.40020581456243143, 0.8459489916005992, 0.4020770774783501, 0.5320224695868908, 0.060910477071493885, 0.3598178769308189, 0.05784340475158045, 0.008523104275615756, 0.35309479388767506, 0.9091365883010147, 0.19092299031547466]</td>\n    </tr>\n    <tr>\n      <th>8</th>\n      <td>Describe Nike Brasilia Training Backpack, a product featuring stylish, waterproof, lightweight Nike Brasilia Training Backpack will have you wet, fast, and ready for any of these unique workouts you've been wanting to try. And, in a way, this is the perfect fit for all those Category: Apparel.</td>\n      <td>[0.17054943920064536, 0.3718845418936515, 0.16606622373166968, 0.26378295564210863, 0.7768116127309044, 0.0624365595646712, 0.012743449820722064, 0.5528515938945764, 0.9173822912782845, 0.5806199837332542, 0.49595710374324686, 0.698165321353201, 0.6620976701052126, 0.8607608125606053, 0.9507450355677359, 0.8145618175666849, 0.07980269625673442, 0.544076904536479, 0.06964409944093297, 0.43214292775814855, 0.10557868008478521, 0.38628963655030557, 0.8122421649009091, 0.33756985613216617, 0.6278685926400872, 0.9897438315036221, 0.4718795690295762, 0.16850688315946305, 0.986561681613829, 0.20677495197966522, 0.16107697192382242, 0.9509948936459399, 0.3230940642586435, 0.2693245655130231, 0.43388055168345907, 0.036956935582397765, 0.19731779980153197, 0.4275962878988948, 0.47432288247893817, 0.5424674316157265, 0.7299534927465299, 0.10419065284174978, 0.3016454038594166, 0.16562229157789343, 0.6674604682752976, 0.3996335706971188, 0.3922294558708527, 0.33651336775501006, 0.6436744751889748, 0.12899443622664986, 0.059270850966870015, 0.7706743148028731, 0.8115319716267037, 0.4623638488703813, 0.664989026087219, 0.7068742928097589, 0.2331497225725876, 0.7779719874550668, 0.5333885345928201, 0.6137975355667792, 0.2616119502985542, 0.18223701635141498, 0.15424888096152034, 0.12287881078576801, 0.13737758480620776, 0.45264986791375517, 0.5873138055636732, 0.6431812840773065, 0.13123018122456176, 0.36955315888614204, 0.33200347453181, 0.7797835531724973, 0.6796047972126545, 0.31196650682327287, 0.2440370602181542, 0.13437924558112269, 0.2510658976625867, 0.5576058415814324, 0.5018037781089395, 0.06967604113694748, 0.2711654084902274, 0.5626127921618341, 0.3884388536266212, 0.3341821740655885, 0.1273618123778819, 0.3803115766934688, 0.4051050854974192, 0.5833957484942722, 0.18519294376741569, 0.3340265580923062, 0.30242915939902437, 0.13980833820311012, 0.9835306143672748, 0.14553805409644527, 0.05642168585302998, 0.4510688002583588, 0.8512655588866115, 0.43249253077700767, 0.6315962804309629, 0.7849546820176463]</td>\n    </tr>\n    <tr>\n      <th>9</th>\n      <td>Describe Nike Utility Speed Backpack, a product featuring durable, stylish, comfortable what's new with the Nike Utility Speed Backpack A look at what the Nike Utility Speed Backpack will look like When you are planning on purchasing a new fitness center, whether you're running with Category: Apparel.</td>\n      <td>[0.842287320363607, 0.4368903236955609, 0.07848989409655316, 0.002806809356403983, 0.45783654667680307, 0.35358588211494035, 0.8569655920795604, 0.4711581186224809, 0.4539229632514423, 0.2498607527461033, 0.9298721560548817, 0.06815741635744577, 0.9570385232440868, 0.06330115373204714, 0.7199592706714131, 0.4528379288985167, 0.3009752374911252, 0.38569441111639435, 0.10978138892751488, 0.2516362792166278, 0.27964021666591476, 0.39961373150925894, 0.7200214932803225, 0.5904678620749367, 0.6922127135935671, 0.5348716452959614, 0.2804545499569091, 0.002079495456906666, 0.12588790610639067, 0.9082183720385266, 0.570651473637402, 0.6722079293023198, 0.14485900766080317, 0.10492038195626474, 0.9436006070638961, 0.7572190223333485, 0.5709166916347901, 0.7503241813798387, 0.721219646560102, 0.5253387902990094, 0.6517865691238477, 0.9089189808203355, 0.2535827624675482, 0.43625087299009, 0.401626825485483, 0.40427616358739427, 0.47987775517193487, 0.925904155921449, 0.8908008747930953, 0.206399753143517, 0.14955555856286462, 0.1488548542085808, 0.6002654204944725, 0.0325741918570136, 0.492563854748418, 0.728750252417183, 0.9691767931071659, 0.5229960997933597, 0.3941090479565178, 0.01665419963410042, 0.7610294732912188, 0.578729126975938, 0.1155719306329156, 0.24982975982707512, 0.2982625358307007, 0.16285638884978249, 0.018338633645219593, 0.7038700959674351, 0.8224087494113128, 0.8656230141672538, 0.9996952529759705, 0.7080897676142092, 0.8450175383022673, 0.1485826619158216, 0.5650475496677436, 0.12990928907570876, 0.7321986942447583, 0.9478462453976114, 0.18445220477381208, 0.07849207444967532, 0.4948358350932699, 0.21060043348745716, 0.46319099969655275, 0.46170665276348943, 0.5180866290329484, 0.6878857299551576, 0.868192797873983, 0.23174558271893853, 0.9537249578110997, 0.443586441445047, 0.3585417590999752, 0.5329098800091596, 0.706503215669473, 0.6440729958037104, 0.4621462145153047, 0.1872491758001228, 0.8529903760524873, 0.591544646680626, 0.47479850217016917, 0.4825393773404254]</td>\n    </tr>\n    <tr>\n      <th>10</th>\n      <td>Describe Nike Hyperfuel Water Bottle, a product featuring waterproof, durable, lightweight a special blend of water and fuel. An innovative innovation in all things water bottles. Maui Category: Accessories.</td>\n      <td>[0.1272127000055383, 0.8615882347905685, 0.7603271852075163, 0.744181084361468, 0.5961481767718184, 0.7365824601773721, 0.9591033223182444, 0.9083555861991148, 0.755966055479645, 0.28096772861010144, 0.6169678277191278, 0.3050387250002573, 0.25561275520514704, 0.25157312269703413, 0.00558528407120884, 0.7019641012372314, 0.5216889142402508, 0.638191344770424, 0.5787317596556445, 0.10450182504845185, 0.5676364489680291, 0.7212474156126205, 0.06268733572686647, 0.7701960968060695, 0.3878585071685916, 0.04378883141689216, 0.7634332047721004, 0.891397951564497, 0.8657640133414828, 0.05683951485586347, 0.2580892838448925, 0.8063045634853396, 0.7724960438835273, 0.23186739809528267, 0.0626750338033617, 0.7736763525415798, 0.9570509283573139, 0.23354864011221543, 0.9166133317625567, 0.9247035924948678, 0.8133876433397579, 0.5382979146851163, 0.7798033635634476, 0.8337576757708892, 0.17468170962270757, 0.9150493921003754, 0.4683648015786924, 0.43192005415914836, 0.3973237750008306, 0.7215450513514879, 0.2694564712136227, 0.06426546836458324, 0.8401921986516427, 0.9961289156302036, 0.5411453690373846, 0.7815847780332287, 0.1909139336007616, 0.4232523219462683, 0.6911909925540756, 0.9008660843401506, 0.550655754931322, 0.07089221791122868, 0.6432205929726593, 0.10776871610860395, 0.9288875482906982, 0.6826936252962598, 0.14467573582666193, 0.4984262519322894, 0.8258936706568708, 0.05691354930246684, 0.21277959803978685, 0.1398330253488339, 0.1272138259302399, 0.0833812491683057, 0.07020466295403094, 0.7168322599610639, 0.4687898363243058, 0.023935550013507556, 0.22215749797430284, 0.04049962191375822, 0.5053407765022147, 0.9202892230844877, 0.7461860062845778, 0.37848643814362215, 0.47501308433386225, 0.5042075088274124, 0.5426022632731358, 0.2590139890770511, 0.874257198439194, 0.45722855312603716, 0.08906649940586098, 0.07515100846256162, 0.13259696881740124, 0.24532207088274127, 0.49841181959614644, 0.9176134054856702, 0.7821853127623869, 0.9177081260500473, 0.8715918828807038, 0.03891253126765393]</td>\n    </tr>\n    <tr>\n      <th>11</th>\n      <td>Describe Nike Yoga Mat, a product featuring waterproof, lightweight, stylish Nike has launched a new online store to offer users an opportunity to get involved with a variety of Nike retailers. The store, www.newnike.com mart shop, contains a selection of limited Category: General Merchandise.</td>\n      <td>[0.25642412807065507, 0.10573427974170191, 0.7443611023469082, 0.8292339463911802, 0.7239339275834096, 0.6053030009290623, 0.814374120057376, 0.9268441087419206, 0.21952538791280818, 0.01909180236849284, 0.12008713285585682, 0.75739320905869, 0.6749395976827625, 0.7631967554644156, 0.3342799272353544, 0.8492767411415152, 0.7970712995361275, 0.42900670611284175, 0.3421292663591342, 0.3988253579992652, 0.1136285328390535, 0.04989129408470161, 0.3608950949465497, 0.8707343011446419, 0.12767652148058162, 0.8300585853043674, 0.6150895633033524, 0.09014065114652647, 0.6957917255301056, 0.17412445966417722, 0.28243967317177576, 0.15013735499349978, 0.35062949162971924, 0.2854898997313856, 0.212527869903527, 0.8598695778236661, 0.683972020580924, 0.779383456024759, 0.009717020488531403, 0.6197421132684992, 0.9482980440113302, 0.22846047524983593, 0.38853944765174475, 0.9451168594033996, 0.3504845820922319, 0.17642577078384913, 0.3766764844282642, 0.4839797783036389, 0.6993780463724825, 0.5934690578644202, 0.2471170086143879, 0.7655797383748318, 0.5731123878465401, 0.553785921129247, 0.16491357204827517, 0.16205226446255128, 0.835359412774337, 0.3925785394382647, 0.594096441743105, 0.991161067073601, 0.5487821098927226, 0.27291769206499283, 0.2823083994188821, 0.1673730442649165, 0.12082536058973148, 0.9987382532800255, 0.5433261812807401, 0.650065873824956, 0.12187427115610283, 0.8003623925245807, 0.1325801180837476, 0.2968465538065951, 0.07511478337422017, 0.6843774250677965, 0.6196311089817108, 0.739247826221655, 0.2569307391524286, 0.563988676458715, 0.9008903756179825, 0.6176407860036015, 0.21830949027452662, 0.8496169045441403, 0.6911856993059159, 0.01802191274408227, 0.8664066531035558, 0.6724545714541087, 0.4318273853033251, 0.29264518620349234, 0.4002501167830762, 0.023891671480796184, 0.9919978369089586, 0.8576075991013365, 0.5495885254810733, 0.9953067219526404, 0.29067447290580284, 0.07374078939668283, 0.5831599401234712, 0.5239219108975599, 0.7880712051247314, 0.483296062509021]</td>\n    </tr>\n  </tbody>\n</table>\n</div>"
     },
     "execution_count": 45,
     "metadata": {},
     "output_type": "execute_result"
    }
   ],
   "source": [
    "# Assuming mock_retail_product_descriptions is a list of descriptions\n",
    "import numpy as np\n",
    "import pandas as pd\n",
    "\n",
    "# Convert descriptions to vectors\n",
    "product_vectors = [description_to_vector(desc) for desc in mock_retail_product_descriptions]\n",
    "\n",
    "# Create a DataFrame\n",
    "df_products = pd.DataFrame({\n",
    "    'description': mock_retail_product_descriptions,\n",
    "    'vector': product_vectors\n",
    "})\n",
    "\n",
    "df_products\n"
   ],
   "metadata": {
    "collapsed": false,
    "ExecuteTime": {
     "end_time": "2024-02-20T10:15:40.089979Z",
     "start_time": "2024-02-20T10:15:40.076055Z"
    }
   },
   "id": "7b542ca4bf822659",
   "execution_count": 45
  },
  {
   "cell_type": "code",
   "outputs": [
    {
     "name": "stdout",
     "output_type": "stream",
     "text": [
      "Similar Products for Query: 'Eco-friendly water bottle'\n",
      "----------------------------------\n",
      "1. Describe Nike Sportswear Club Fleece, a product featuring stylish, lightweight, comfortable Category: Apparel.\n",
      "2. Describe Nike Yoga Mat, a product featuring waterproof, lightweight, stylish Nike has launched a new online store to offer users an opportunity to get involved with a variety of Nike retailers. The store, www.newnike.com mart shop, contains a selection of limited Category: General Merchandise.\n"
     ]
    }
   ],
   "source": [
    "from annoy import AnnoyIndex\n",
    "import numpy as np\n",
    "import pandas as pd\n",
    "\n",
    "# Step 1: Initialize Annoy Index\n",
    "# Assuming we have a DataFrame 'df_products' with product vectors in a column named \"vector\"\n",
    "vector_dimension = len(df_products[\"vector\"].iloc[0])  # Dimension of the product vectors\n",
    "annoy_index = AnnoyIndex(vector_dimension, 'angular')  # Using 'angular' distance metric\n",
    "\n",
    "# Step 2: Populate Annoy Index with Product Vectors\n",
    "for product_id, vector in enumerate(df_products[\"vector\"]):\n",
    "    annoy_index.add_item(product_id, vector)\n",
    "\n",
    "annoy_index.build(10)  # Building the index with 10 trees for efficient querying\n",
    "\n",
    "# Step 3: Define Function to Convert Search Queries to Vectors\n",
    "# This is a placeholder function. In practice, use a model to generate vectors similar to product vectors.\n",
    "def query_to_vector(query):\n",
    "    # Example: Random vector generation (Replace with actual vectorization logic)\n",
    "    return np.random.rand(vector_dimension)\n",
    "\n",
    "# Step 4: Define Function to Find Similar Products Using Annoy\n",
    "def find_similar_products_annoy(query_vector, num_results=2):\n",
    "    # Fetch indices of similar products from the Annoy index\n",
    "    similar_product_ids = annoy_index.get_nns_by_vector(query_vector, num_results, include_distances=False)\n",
    "    # Return DataFrame rows corresponding to similar products\n",
    "    return df_products.iloc[similar_product_ids]\n",
    "\n",
    "# Step 5: Augment Search Results with Additional Logic\n",
    "def augment_search_results_with_annoy(query):\n",
    "    # Convert the query to a vector (adapt this to use actual query vectorization)\n",
    "    query_vector = query_to_vector(query)\n",
    "    # Find similar products based on the query vector\n",
    "    similar_products = find_similar_products_annoy(query_vector)\n",
    "    # Return the descriptions of similar products (customize this as needed)\n",
    "    return similar_products[\"description\"].tolist()\n",
    "\n",
    "# Demonstration of Usage\n",
    "query = \"Eco-friendly water bottle\"\n",
    "augmented_results = augment_search_results_with_annoy(query)\n",
    "\n",
    "# Print the descriptions of similar products\n",
    "print(\"Similar Products for Query: '{}'\".format(query))\n",
    "print(\"----------------------------------\")\n",
    "for idx, description in enumerate(augmented_results, 1):\n",
    "    print(\"{}. {}\".format(idx, description))\n"
   ],
   "metadata": {
    "collapsed": false,
    "ExecuteTime": {
     "end_time": "2024-02-20T10:15:40.430411Z",
     "start_time": "2024-02-20T10:15:40.424771Z"
    }
   },
   "id": "c1ddb6880d10ee52",
   "execution_count": 46
  },
  {
   "cell_type": "code",
   "outputs": [
    {
     "data": {
      "text/plain": "<IPython.core.display.HTML object>",
      "text/html": "\n    <div style=\"display: flex; justify-content: space-between;\">\n        <div style=\"border: 2px solid #2c3e50; border-radius: 10px; padding: 20px;\">\n            <h2>Query:</h2>\n            <p>Eco-friendly water shoes</p>\n        </div>\n        <div style=\"border: 2px solid #2c3e50; border-radius: 10px; padding: 20px;\">\n            <h2>Similar Products:</h2>\n            <ul>\n    <li>1. Describe Nike Revolution 5, a product featuring durable, lightweight, waterproof Dive in now to Nike's world class technology. With new, premium quality fabric this waterproof case fits through a variety of layers like cotton or nylon. The new technology is the first time that this waterproof Category: Accessories.</li><li>2. Describe Nike Brasilia Training Backpack, a product featuring stylish, waterproof, lightweight Nike Brasilia Training Backpack will have you wet, fast, and ready for any of these unique workouts you've been wanting to try. And, in a way, this is the perfect fit for all those Category: Apparel.</li>\n            </ul>\n        </div>\n    </div>\n    "
     },
     "execution_count": 48,
     "metadata": {},
     "output_type": "execute_result"
    }
   ],
   "source": [
    "from annoy import AnnoyIndex\n",
    "import numpy as np\n",
    "import pandas as pd\n",
    "from IPython.display import HTML\n",
    "\n",
    "# Step 1: Initialize Annoy Index\n",
    "# Assuming we have a DataFrame 'df_products' with product vectors in a column named \"vector\"\n",
    "vector_dimension = len(df_products[\"vector\"].iloc[0])  # Dimension of the product vectors\n",
    "annoy_index = AnnoyIndex(vector_dimension, 'angular')  # Using 'angular' distance metric\n",
    "\n",
    "# Step 2: Populate Annoy Index with Product Vectors\n",
    "for product_id, vector in enumerate(df_products[\"vector\"]):\n",
    "    annoy_index.add_item(product_id, vector)\n",
    "\n",
    "annoy_index.build(10)  # Building the index with 10 trees for efficient querying\n",
    "\n",
    "# Step 3: Define Function to Convert Search Queries to Vectors\n",
    "# This is a placeholder function. In practice, use a model to generate vectors similar to product vectors.\n",
    "def query_to_vector(query):\n",
    "    # Example: Random vector generation (Replace with actual vectorization logic)\n",
    "    return np.random.rand(vector_dimension)\n",
    "\n",
    "# Step 4: Define Function to Find Similar Products Using Annoy\n",
    "def find_similar_products_annoy(query_vector, num_results=2):\n",
    "    # Fetch indices of similar products from the Annoy index\n",
    "    similar_product_ids = annoy_index.get_nns_by_vector(query_vector, num_results, include_distances=False)\n",
    "    # Return DataFrame rows corresponding to similar products\n",
    "    return df_products.iloc[similar_product_ids]\n",
    "\n",
    "# Step 5: Augment Search Results with Additional Logic\n",
    "def augment_search_results_with_annoy(query):\n",
    "    # Convert the query to a vector (adapt this to use actual query vectorization)\n",
    "    query_vector = query_to_vector(query)\n",
    "    # Find similar products based on the query vector\n",
    "    similar_products = find_similar_products_annoy(query_vector)\n",
    "    # Return the descriptions of similar products (customize this as needed)\n",
    "    return similar_products[\"description\"].tolist()\n",
    "\n",
    "# Function to create visually appealing output\n",
    "def create_visual_output(query, augmented_results):\n",
    "    html_content = f\"\"\"\n",
    "    <div style=\"display: flex; justify-content: space-between;\">\n",
    "        <div style=\"border: 2px solid #2c3e50; border-radius: 10px; padding: 20px;\">\n",
    "            <h2>Query:</h2>\n",
    "            <p>{query}</p>\n",
    "        </div>\n",
    "        <div style=\"border: 2px solid #2c3e50; border-radius: 10px; padding: 20px;\">\n",
    "            <h2>Similar Products:</h2>\n",
    "            <ul>\n",
    "    \"\"\"\n",
    "    for idx, description in enumerate(augmented_results, 1):\n",
    "        html_content += f\"<li>{idx}. {description}</li>\"\n",
    "    html_content += \"\"\"\n",
    "            </ul>\n",
    "        </div>\n",
    "    </div>\n",
    "    \"\"\"\n",
    "    return HTML(html_content)\n",
    "\n",
    "# Demonstration of Usage\n",
    "query = \"Eco-friendly water shoes\"\n",
    "augmented_results = augment_search_results_with_annoy(query)\n",
    "\n",
    "# Create visually appealing output\n",
    "create_visual_output(query, augmented_results)\n"
   ],
   "metadata": {
    "collapsed": false,
    "ExecuteTime": {
     "end_time": "2024-02-20T10:19:58.307010Z",
     "start_time": "2024-02-20T10:19:58.289776Z"
    }
   },
   "id": "db51d9ddec02df13",
   "execution_count": 48
  },
  {
   "cell_type": "code",
   "outputs": [
    {
     "data": {
      "text/plain": "<IPython.core.display.HTML object>",
      "text/html": "\n    <div style=\"display: flex; flex-wrap: wrap; justify-content: start; gap: 20px;\">\n        <div style=\"flex-basis: 100%;\">\n            <h2>Query:</h2>\n            <p>Eco-friendly water shoes</p>\n        </div>\n    \n            <div style=\"border: 2px solid #2c3e50; border-radius: 10px; padding: 20px; width: 200px; text-align: center;\">\n                <img src=\"https://upload.wikimedia.org/wikipedia/commons/a/a6/Logo_NIKE.svg\" alt=\"Nike Logo\" style=\"max-width: 100%; height: auto; margin-bottom: 10px;\">\n                <p>Describe Nike Pro Tights, a product featuring lightweight, durable, comfortable Nike's Pebble Boost sneakers feature a soft touch leather upper. The Nike Pro's three high tech stretch to conceal HWT technology allows the wearer to Category: Shoes.</p>\n            </div>\n        \n            <div style=\"border: 2px solid #2c3e50; border-radius: 10px; padding: 20px; width: 200px; text-align: center;\">\n                <img src=\"https://upload.wikimedia.org/wikipedia/commons/a/a6/Logo_NIKE.svg\" alt=\"Nike Logo\" style=\"max-width: 100%; height: auto; margin-bottom: 10px;\">\n                <p>Describe Nike Revolution 5, a product featuring durable, lightweight, waterproof Dive in now to Nike's world class technology. With new, premium quality fabric this waterproof case fits through a variety of layers like cotton or nylon. The new technology is the first time that this waterproof Category: Accessories.</p>\n            </div>\n        </div>"
     },
     "metadata": {},
     "output_type": "display_data"
    }
   ],
   "source": [
    "from IPython.display import HTML, display\n",
    "\n",
    "# Updated Function to Include Nike Logo Display\n",
    "def create_visual_output(query, augmented_results):\n",
    "    # URL of a freely usable Nike logo\n",
    "    nike_logo_url = \"https://upload.wikimedia.org/wikipedia/commons/a/a6/Logo_NIKE.svg\"\n",
    "\n",
    "    html_content = f\"\"\"\n",
    "    <div style=\"display: flex; flex-wrap: wrap; justify-content: start; gap: 20px;\">\n",
    "        <div style=\"flex-basis: 100%;\">\n",
    "            <h2>Query:</h2>\n",
    "            <p>{query}</p>\n",
    "        </div>\n",
    "    \"\"\"\n",
    "    for description in augmented_results:\n",
    "        html_content += f\"\"\"\n",
    "            <div style=\"border: 2px solid #2c3e50; border-radius: 10px; padding: 20px; width: 200px; text-align: center;\">\n",
    "                <img src=\"{nike_logo_url}\" alt=\"Nike Logo\" style=\"max-width: 100%; height: auto; margin-bottom: 10px;\">\n",
    "                <p>{description}</p>\n",
    "            </div>\n",
    "        \"\"\"\n",
    "    html_content += \"</div>\"\n",
    "    return HTML(html_content)\n",
    "\n",
    "# Demonstration of Usage\n",
    "query = \"Eco-friendly water shoes\"\n",
    "augmented_results = augment_search_results_with_annoy(query)  # No change here\n",
    "\n",
    "# Create visually appealing output with Nike logo images\n",
    "visual_output = create_visual_output(query, augmented_results)\n",
    "display(visual_output)\n"
   ],
   "metadata": {
    "collapsed": false,
    "ExecuteTime": {
     "end_time": "2024-02-20T10:22:41.733143Z",
     "start_time": "2024-02-20T10:22:41.704759Z"
    }
   },
   "id": "bc3d89f122b3d551",
   "execution_count": 49
  },
  {
   "cell_type": "markdown",
   "source": [
    "\n",
    "### Research Paper - Enhancing Retail Search Experience through Collaborative Agents and Retrieval-Augmented Models\n",
    "\n",
    "### Abstract\n",
    "This paper presents a groundbreaking approach to retail search by combining interactive shop/retail search agents and advanced query intelligence. By leveraging Large Language Models (LLMs), Retrieval-Augmented Generation (RAG), and Approximate Nearest Neighbors (Annoy), we propose a novel framework. This framework, incorporating the ShopSearch Framework and the Smart Retail Navigator, offers a sophisticated solution for enhancing search experiences in dynamic retail settings.\n",
    "\n",
    "### Introduction\n",
    "- Highlighting the necessity for improved search mechanisms within the retail sector.\n",
    "- Discussion on the potential of interactive shop/retail search agents to elevate search experiences.\n",
    "- Presentation of the Smart Retail Navigator, integrating the ShopSearch Framework with RAG, LLM, and Annoy technologies.\n",
    "\n",
    "### Related Work\n",
    "- Examination of scholarly works on LLMs in search contexts, interactive shop/retail search agents, RAG in query processing, and Annoy for data retrieval.\n",
    "- Identification of technological shortcomings and the rationale for the proposed framework.\n",
    "\n",
    "### Methodology\n",
    "- Elaboration on the ShopSearch Framework, detailing its interactive shop/retail search features and integration with communication platforms like Slack.\n",
    "- Examination of the Smart Retail Navigator, emphasizing:\n",
    "    - The utilization of RAG and LLMs for sophisticated query handling and response formulation.\n",
    "    - The application of Annoy for rapid similarity searches in extensive product datasets.\n",
    "\n",
    "### Mathematical Models and Equations\n",
    "\n",
    "#### Query Understanding and Reformulation\n",
    "- **Equation for query vector representation**:\n",
    "\n",
    "\\begin{document}\n",
    "\\begin{align*}\n",
    "Q_v &= \\sum_{i=1}^{n} w_i \\cdot \\text{embed}(q_i) \\\\\n",
    "\\intertext{where}\n",
    "Q_v &\\text{ represents the query vector,} \\\\\n",
    "w_i &\\text{ is the weight of term } i, \\\\\n",
    "q_i &\\text{ is the term, and} \\\\\n",
    "\\text{embed} &\\text{ signifies the embedding function.}\n",
    "\\end{align*}\n",
    "\\end{document}\n",
    "\n",
    "- **Reformulation mechanism**:\n",
    "\\begin{document}\n",
    "\\begin{align*}\n",
    "Q_r &= \\text{RAG}(Q_v, C) \\\\\n",
    "\\intertext{where}\n",
    "Q_r &\\text{ denotes the reformulated query,} \\\\\n",
    "\\text{RAG} &\\text{ symbolizes the retrieval-augmented generation process, and} \\\\\n",
    "C &\\text{ indicates the context.}\n",
    "\\end{align*}\n",
    "\\end{document}\n",
    "\n",
    "#### Search Result Ranking\n",
    "- **Relevance scoring equation**:\n",
    "\\begin{document}\n",
    "\\begin{align*}\n",
    "S_r &= \\alpha \\cdot \\text{cos}(Q_r, D_v) + \\beta \\cdot \\text{Popularity}(D) \\\\\n",
    "\\intertext{where}\n",
    "S_r &\\text{ is the relevance score for a document } D, \\\\\n",
    "D_v &\\text{ its vector representation,} \\\\\n",
    "\\alpha, \\beta &\\text{ are adjustable parameters, and} \\\\\n",
    "\\text{cos} &\\text{ denotes the cosine similarity between vectors.}\n",
    "\\end{align*}\n",
    "\\end{document}\n",
    "\n",
    "\n",
    "#### Annoy Index for Efficient Data Retrieval\n",
    "- **Approximate nearest neighbors equation**:\n",
    "\\begin{document}\n",
    "\\begin{align*}\n",
    "N_n &= \\text{Annoy}(D_v, k) \\\\\n",
    "\\intertext{where}\n",
    "N_n &\\text{ outlines the } k \\text{ nearest neighbors to } D_v \\text{ in a high-dimensional space, as determined by Annoy.}\n",
    "\\end{align*}\n",
    "\\end{document}\n",
    "\n",
    "### Implementation\n",
    "- Detailing the architectural specifics, including interactions among the Slack interface, ShopSearch Framework, and Smart Retail Navigator components.\n",
    "- Providing code excerpts and explanations for pivotal functionalities like query reformulation and search result amalgamation.\n",
    "\n",
    "### Case Study: Smart Retail Navigator\n",
    "- A real-world implementation scenario within retail, showcasing system interaction for product and information discovery.\n",
    "- Evaluation of system efficacy through metrics such as search precision, response timeliness, and user satisfaction.\n",
    "\n",
    "### Discussion\n",
    "- Reflecting on the implications of fusing interactive shop/retail search agents with advanced query intelligence for retail.\n",
    "- Addressing encountered challenges and proposing potential resolutions.\n",
    "\n",
    "### Conclusion\n",
    "- Recapitulating the study's findings and its contributions to the domains of retail search and interactive shop/retail search technologies.\n",
    "- Suggesting avenues for further research and enhancements to the Smart Retail Navigator.\n",
    "\n",
    "### References\n",
    "- Listing all referenced works in a standard citation format.\n",
    "\n",
    "### Design\n",
    "\n",
    "1. **System Architecture**: This diagram would showcase the entire system's architecture, highlighting the interconnections between the Slack interface, the ShopSearch Framework, the RAG module, and the Anoy index.\n",
    "![System Architecture](system_architecture.mermaid)\n",
    "\n",
    "2. **Query Processing Workflow**: This diagram would detail the sequence of steps from receiving a query to generating a response, highlighting the roles of RAG and Annoy in the process.\n",
    "\n",
    "![Query Processing Workflow](query_processing_workflow.png)\n",
    "\n",
    "3. **Data Flow Diagram**: Illustrating the flow of data through the system, from initial user query to the final response.\n",
    "\n",
    "![Data Flow](data_flow.png)\n",
    "\n",
    "4. **Annoy Index Search Process**: Visualizing the inner workings of the Annoy index during a search operation.\n",
    "\n",
    "![Annoy Index Search Process](annoy_query_processing_flow.png)\n",
    "\n",
    "By restructuring the content with the inclusion of mathematical equations and Mermaid diagram descriptions, we ensure a comprehensive and visually engaging presentation of the research findings, methodologies, and the theoretical underpinnings of the Smart Retail Navigator system.\n",
    "\n",
    "\n",
    "### References\n",
    "\n",
    "1. Aliannejadi, M., Kiseleva, J., Chuklin, A., Dalton, J., & Burtsev, M. (2020). ConvAI3: Generating clarifying questions for open-domain dialogue systems (ClariQ). arXiv preprint arXiv:2009.11352.\n",
    "2. Amershi, S., & Morris, M. R. (2008). CoSearch: a system for co-located collaborative web search. In Proceedings of the SIGCHI conference on human factors in computing systems (pp. 1647–1656).\n",
    "3. Avula, S., & Arguello, J. (2020). Wizard of oz interface to study system initiative for conversational search. In Proceedings of the 2020 conference on human information interaction and retrieval (pp. 447–451).\n",
    "4. Avula, S., Arguello, J., Capra, R., Dodson, J., Huang, Y., & Radlinski, F. (2019). Embedding search into a conversational platform to support interactive shop/retail search. In Proceedings of the 2019 Conference on Human Information Interaction and Retrieval (pp. 15–23).\n",
    "5. Avula, S., Chadwick, G., Arguello, J., & Capra, R. (2018). Searchbots: User engagement with chatbots during interactive shop/retail search. In Proceedings of the 2018 conference on human information interaction & retrieval (pp. 52–61).\n",
    "6. Avula, S., Choi, B., & Arguello, J. (2022). The effects of system initiative during conversational interactive shop/retail search. Proceedings of the ACM on Human-Computer Interaction, 6(CSCW1), 1–30.\n",
    "7. Avula, S., Choi, B., & Arguello, J. (2023). Why and When: Understanding System Initiative during Conversational interactive shop/retail search. arXiv preprint arXiv:2303.13484.\n",
    "8. Brown, T., Mann, B., Ryder, N., Subbiah, M., Kaplan, J. D., Dhariwal, P., Neelakantan, A., Shyam, P., Sastry, G., Askell, A., et al. (2020). Language models are few-shot learners. Advances in neural information processing systems, 33, 1877–1901.\n",
    "9. Liu, X., Lai, H., Yu, H., Xu, Y., Zeng, A., Du, Z., Zhang, P., Dong, Y., & Tang, J. (2023). WebGLM: Towards An Efficient Web-Enhanced Question Answering System with Human Preferences. arXiv preprint arXiv:2306.07906.\n"
   ],
   "metadata": {
    "collapsed": false
   },
   "id": "1548c7525a685b15"
  },
  {
   "cell_type": "code",
   "outputs": [],
   "source": [],
   "metadata": {
    "collapsed": false
   },
   "id": "f9aae3d95a1b9e6c"
  }
 ],
 "metadata": {
  "kernelspec": {
   "display_name": "Python 3 (ipykernel)",
   "language": "python",
   "name": "python3"
  }
 },
 "nbformat": 4,
 "nbformat_minor": 5
}
